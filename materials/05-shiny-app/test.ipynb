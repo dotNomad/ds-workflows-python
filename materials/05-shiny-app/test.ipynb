{
 "cells": [
  {
   "cell_type": "code",
   "execution_count": null,
   "metadata": {},
   "outputs": [],
   "source": [
    "import os\n",
    "import ibis\n",
    "import polars as pl\n",
    "\n",
    "from ibis import _"
   ]
  },
  {
   "cell_type": "code",
   "execution_count": null,
   "metadata": {
    "tags": []
   },
   "outputs": [],
   "source": [
    "%load_ext dotenv\n",
    "%dotenv"
   ]
  },
  {
   "cell_type": "code",
   "execution_count": null,
   "metadata": {},
   "outputs": [],
   "source": [
    "con = ibis.postgres.connect(\n",
    "    database=os.environ[\"DATABASE_NAME_PYTHON\"],\n",
    "    host=os.environ[\"DATABASE_HOST\"],\n",
    "    user=os.environ[\"DATABASE_USER_PYTHON\"],\n",
    "    password=os.environ[\"DATABASE_PASSWORD_PYTHON\"],\n",
    "    schema=os.environ[\"DATABASE_SCHEMA\"],\n",
    ")\n",
    "\n",
    "con.list_tables()"
   ]
  },
  {
   "cell_type": "code",
   "execution_count": null,
   "metadata": {},
   "outputs": [],
   "source": [
    "options_list = (\n",
    "    con\n",
    "    .table(\"vessel_history_clean\")\n",
    "    .group_by([\"Departing\", \"Arriving\"])\n",
    "    .aggregate(n = _.Departing.count())\n",
    "    .order_by(_.n.desc())\n",
    "    .to_polars()\n",
    "    .to_dicts()\n",
    ")\n",
    "\n",
    "options_dict = {}\n",
    "\n",
    "for i in options_list:\n",
    "    arriving = i[\"Arriving\"]\n",
    "    departing = i[\"Departing\"]\n",
    "    n_trips = i[\"n\"]\n",
    "    value = f\"{arriving} | {departing}\"\n",
    "    label = f\"{arriving.title()} to {departing.title()} ({n_trips:,} trips)\"\n",
    "    options_dict[value] = label\n",
    "\n",
    "options_dict"
   ]
  },
  {
   "cell_type": "code",
   "execution_count": null,
   "metadata": {},
   "outputs": [],
   "source": [
    "(\n",
    "    con\n",
    "    .table(\"vessel_verbose_clean\")\n",
    "    .select(\"VesselName\")\n",
    "    .to_polars()\n",
    "    .get_column(\"VesselName\")\n",
    "    .to_list()\n",
    ")"
   ]
  },
  {
   "cell_type": "code",
   "execution_count": null,
   "metadata": {
    "tags": []
   },
   "outputs": [],
   "source": [
    "pl.DataFrame(con.table(\"vessel_verbose_clean\").to_pandas())"
   ]
  },
  {
   "cell_type": "code",
   "execution_count": null,
   "metadata": {
    "tags": []
   },
   "outputs": [],
   "source": [
    "con.table(\"terminal_locations_clean\").to_polars()"
   ]
  },
  {
   "cell_type": "code",
   "execution_count": null,
   "metadata": {
    "tags": []
   },
   "outputs": [],
   "source": [
    "con.table(\"vessel_verbose_raw\").to_pandas().head()"
   ]
  },
  {
   "cell_type": "code",
   "execution_count": null,
   "metadata": {
    "tags": []
   },
   "outputs": [],
   "source": [
    "con.table(\"vessel_verbose_clean\").to_pandas().head()"
   ]
  }
 ],
 "metadata": {
  "kernelspec": {
   "display_name": "05-shiny-app",
   "language": "python",
   "name": "05-shiny-app"
  },
  "language_info": {
   "codemirror_mode": {
    "name": "ipython",
    "version": 3
   },
   "file_extension": ".py",
   "mimetype": "text/x-python",
   "name": "python",
   "nbconvert_exporter": "python",
   "pygments_lexer": "ipython3",
   "version": "3.12.4"
  }
 },
 "nbformat": 4,
 "nbformat_minor": 4
}

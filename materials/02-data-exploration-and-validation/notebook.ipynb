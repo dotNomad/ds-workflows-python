{
 "cells": [
  {
   "cell_type": "raw",
   "metadata": {
    "vscode": {
     "languageId": "raw"
    }
   },
   "source": [
    "---\n",
    "author: \"Sam Edwardes\"\n",
    "date: today\n",
    "format: email\n",
    "---"
   ]
  },
  {
   "cell_type": "markdown",
   "metadata": {},
   "source": [
    "# Data exploration and validation\n",
    "\n",
    "In this exercise we will cover how to use Polars and Pandera to explore, tidy, and validate the data."
   ]
  },
  {
   "cell_type": "markdown",
   "metadata": {},
   "source": [
    "## Task 1 - load data from Pin"
   ]
  },
  {
   "cell_type": "markdown",
   "metadata": {},
   "source": [
    "### 🔄 Task"
   ]
  },
  {
   "cell_type": "markdown",
   "metadata": {},
   "source": [
    "- Use `polars` to load the data from Posit Connect into a Polars dataframe."
   ]
  },
  {
   "cell_type": "markdown",
   "metadata": {},
   "source": [
    "### 🧑‍💻 Code"
   ]
  },
  {
   "cell_type": "code",
   "execution_count": 1,
   "metadata": {},
   "outputs": [],
   "source": [
    "import os\n",
    "from pathlib import Path\n",
    "\n",
    "import polars as pl\n",
    "from dotenv import load_dotenv\n",
    "import pins"
   ]
  },
  {
   "cell_type": "code",
   "execution_count": 2,
   "metadata": {},
   "outputs": [],
   "source": [
    "# Get the API key and server URL from an environment variable.\n",
    "if Path(\".env\").exists():\n",
    "    load_dotenv()\n",
    "\n",
    "connect_server = os.environ[\"CONNECT_SERVER\"]\n",
    "connect_api_key = os.environ[\"CONNECT_API_KEY\"]"
   ]
  },
  {
   "cell_type": "code",
   "execution_count": 3,
   "metadata": {},
   "outputs": [
    {
     "data": {
      "text/plain": [
       "<pins.boards.BoardRsConnect at 0x31eb51ee0>"
      ]
     },
     "execution_count": 61,
     "metadata": {},
     "output_type": "execute_result"
    }
   ],
   "source": [
    "# Set up a pins board.\n",
    "board = pins.board_connect(server_url=connect_server, api_key=connect_api_key)\n",
    "board"
   ]
  },
  {
   "cell_type": "code",
   "execution_count": 4,
   "metadata": {},
   "outputs": [],
   "source": [
    "# Update the username with your Posit Connect username.\n",
    "username = \"sam.edwardes\""
   ]
  },
  {
   "cell_type": "markdown",
   "metadata": {},
   "source": [
    "Get the vessel verbose data set."
   ]
  },
  {
   "cell_type": "code",
   "execution_count": 5,
   "metadata": {},
   "outputs": [
    {
     "data": {
      "text/plain": [
       "['/Users/samedwardes/Library/Caches/pins-py/rsc_799142d110b3ee9b1b200cf61cb0e1d90eeee15e49602f4545918457accd2d11/sam.edwardes+vessel_verbose_raw/545349/vessel_verbose_raw.parquet']"
      ]
     },
     "execution_count": 63,
     "metadata": {},
     "output_type": "execute_result"
    }
   ],
   "source": [
    "vessel_verbose_paths = board.pin_download(f\"{username}/vessel_verbose_raw\")\n",
    "vessel_verbose_paths"
   ]
  },
  {
   "cell_type": "code",
   "execution_count": 6,
   "metadata": {},
   "outputs": [
    {
     "data": {
      "text/html": [
       "<div><style>\n",
       ".dataframe > thead > tr,\n",
       ".dataframe > tbody > tr {\n",
       "  text-align: right;\n",
       "  white-space: pre-wrap;\n",
       "}\n",
       "</style>\n",
       "<small>shape: (21, 39)</small><table border=\"1\" class=\"dataframe\"><thead><tr><th>VesselID</th><th>VesselSubjectID</th><th>VesselName</th><th>VesselAbbrev</th><th>Class</th><th>Status</th><th>OwnedByWSF</th><th>CarDeckRestroom</th><th>CarDeckShelter</th><th>Elevator</th><th>ADAAccessible</th><th>MainCabinGalley</th><th>MainCabinRestroom</th><th>PublicWifi</th><th>ADAInfo</th><th>AdditionalInfo</th><th>VesselNameDesc</th><th>VesselHistory</th><th>Beam</th><th>CityBuilt</th><th>SpeedInKnots</th><th>Draft</th><th>EngineCount</th><th>Horsepower</th><th>Length</th><th>MaxPassengerCount</th><th>PassengerOnly</th><th>FastFerry</th><th>PropulsionInfo</th><th>TallDeckClearance</th><th>RegDeckSpace</th><th>TallDeckSpace</th><th>Tonnage</th><th>Displacement</th><th>YearBuilt</th><th>YearRebuilt</th><th>VesselDrawingImg</th><th>SolasCertified</th><th>MaxPassengerCountForInternational</th></tr><tr><td>i64</td><td>i64</td><td>str</td><td>str</td><td>struct[7]</td><td>i64</td><td>bool</td><td>bool</td><td>bool</td><td>bool</td><td>bool</td><td>bool</td><td>bool</td><td>bool</td><td>str</td><td>str</td><td>str</td><td>str</td><td>str</td><td>str</td><td>i64</td><td>str</td><td>i64</td><td>i64</td><td>str</td><td>i64</td><td>bool</td><td>bool</td><td>str</td><td>i64</td><td>i64</td><td>i64</td><td>i64</td><td>i64</td><td>i64</td><td>f64</td><td>null</td><td>bool</td><td>f64</td></tr></thead><tbody><tr><td>1</td><td>1</td><td>&quot;Cathlamet&quot;</td><td>&quot;CAT&quot;</td><td>{10,&quot;Issaquah 130&quot;,310,&quot;https://www.wsdot.wa.gov/ferries/images/pages/boat_drawings/4-issaquah130.gif&quot;,&quot;Issaquah&quot;,&quot;https://www.wsdot.wa.gov/ferries/images/pages/boat_drawings/4-issaquah130-sillouette_sml.gif&quot;,40}</td><td>1</td><td>true</td><td>true</td><td>false</td><td>true</td><td>true</td><td>true</td><td>true</td><td>false</td><td>&quot;The MV Cathlamet has elevator …</td><td>&quot; &quot;</td><td>&quot;From the Kathlamet tribe, the …</td><td>&quot; &quot;</td><td>&quot;78&#x27; 8&quot;&quot;</td><td>&quot;Seattle, WA&quot;</td><td>16</td><td>&quot;16&#x27; 6&quot;&quot;</td><td>2</td><td>5000</td><td>&quot;328&#x27;&quot;</td><td>1200</td><td>false</td><td>false</td><td>&quot;DIESEL&quot;</td><td>186</td><td>124</td><td>26</td><td>2477</td><td>3310</td><td>1981</td><td>1993.0</td><td>null</td><td>false</td><td>null</td></tr><tr><td>2</td><td>2</td><td>&quot;Chelan&quot;</td><td>&quot;CHE&quot;</td><td>{10,&quot;Issaquah 130&quot;,310,&quot;https://www.wsdot.wa.gov/ferries/images/pages/boat_drawings/4-issaquah130.gif&quot;,&quot;Issaquah&quot;,&quot;https://www.wsdot.wa.gov/ferries/images/pages/boat_drawings/4-issaquah130-sillouette_sml.gif&quot;,40}</td><td>1</td><td>true</td><td>true</td><td>false</td><td>true</td><td>true</td><td>true</td><td>true</td><td>false</td><td>&quot;The MV Chelan has elevator acc…</td><td>&quot; &quot;</td><td>&quot;From the Chelan  language: Tsi…</td><td>&quot; &quot;</td><td>&quot;78&#x27; 8&quot;&quot;</td><td>&quot;Seattle, WA&quot;</td><td>16</td><td>&quot;16&#x27; 9&quot;&quot;</td><td>2</td><td>5000</td><td>&quot;328&#x27;&quot;</td><td>1200</td><td>false</td><td>false</td><td>&quot;DIESEL&quot;</td><td>188</td><td>124</td><td>30</td><td>2477</td><td>3405</td><td>1981</td><td>2005.0</td><td>null</td><td>true</td><td>1090.0</td></tr><tr><td>65</td><td>428</td><td>&quot;Chetzemoka&quot;</td><td>&quot;CHZ&quot;</td><td>{162,&quot;Kwa-di Tabil&quot;,427,&quot;https://www.wsdot.wa.gov/ferries/images/pages/boat_drawings/13-kwaditabil.gif&quot;,&quot;Kwa-di Tabil&quot;,&quot;https://www.wsdot.wa.gov/ferries/images/pages/boat_drawings/13-kwaditabil-silouette_sml.gif&quot;,75}</td><td>1</td><td>true</td><td>false</td><td>false</td><td>true</td><td>true</td><td>true</td><td>true</td><td>false</td><td>&quot;MV Chetzemoka has elevator acc…</td><td>null</td><td>&quot;The name honors a friendly Nat…</td><td>null</td><td>&quot;64&#x27;&quot;</td><td>&quot;Seattle&quot;</td><td>15</td><td>&quot;11&#x27;&quot;</td><td>2</td><td>6000</td><td>&quot;273&#x27; 8&quot;&quot;</td><td>748</td><td>false</td><td>false</td><td>&quot;DIESEL&quot;</td><td>192</td><td>64</td><td>9</td><td>4623</td><td>2415</td><td>2010</td><td>null</td><td>null</td><td>false</td><td>null</td></tr><tr><td>74</td><td>487</td><td>&quot;Chimacum&quot;</td><td>&quot;CHM&quot;</td><td>{100,&quot;Olympic&quot;,319,&quot;https://www.wsdot.wa.gov/ferries/images/pages/boat_drawings/8-olympic-2014.gif&quot;,&quot;Olympic&quot;,&quot;https://www.wsdot.wa.gov/ferries/images/pages/boat_drawings/3-issaquah-sillouette_sml.gif&quot;,35}</td><td>1</td><td>true</td><td>true</td><td>true</td><td>true</td><td>true</td><td>true</td><td>true</td><td>false</td><td>&quot;The vessel has two ADA complia…</td><td>null</td><td>&quot;“The Chimacum People who spoke…</td><td>&quot;Chimacum is the third of the 1…</td><td>&quot;83&#x27; 2&quot;&quot;</td><td>&quot;Seattle, WA&quot;</td><td>17</td><td>&quot;18&#x27;&quot;</td><td>2</td><td>6000</td><td>&quot;362&#x27; 3&quot;&quot;</td><td>1500</td><td>false</td><td>false</td><td>&quot;DIESEL&quot;</td><td>192</td><td>144</td><td>34</td><td>3525</td><td>4384</td><td>2017</td><td>null</td><td>null</td><td>false</td><td>null</td></tr><tr><td>15</td><td>15</td><td>&quot;Issaquah&quot;</td><td>&quot;ISS&quot;</td><td>{10,&quot;Issaquah 130&quot;,310,&quot;https://www.wsdot.wa.gov/ferries/images/pages/boat_drawings/4-issaquah130.gif&quot;,&quot;Issaquah&quot;,&quot;https://www.wsdot.wa.gov/ferries/images/pages/boat_drawings/4-issaquah130-sillouette_sml.gif&quot;,40}</td><td>1</td><td>true</td><td>true</td><td>false</td><td>true</td><td>true</td><td>true</td><td>true</td><td>false</td><td>&quot;The MV Issaquah has elevator a…</td><td>&quot; &quot;</td><td>&quot;&quot;Snake.&quot; Native Americans who …</td><td>&quot; &quot;</td><td>&quot;78&#x27; 8&quot;&quot;</td><td>&quot;Seattle, WA&quot;</td><td>16</td><td>&quot;16&#x27; 6&quot;&quot;</td><td>2</td><td>5000</td><td>&quot;328&#x27;&quot;</td><td>1200</td><td>false</td><td>false</td><td>&quot;DIESEL&quot;</td><td>188</td><td>124</td><td>26</td><td>2475</td><td>3310</td><td>1979</td><td>1989.0</td><td>null</td><td>false</td><td>null</td></tr><tr><td>17</td><td>17</td><td>&quot;Kaleetan&quot;</td><td>&quot;KAL&quot;</td><td>{50,&quot;Super&quot;,314,&quot;https://www.wsdot.wa.gov/ferries/images/pages/boat_drawings/2-super.gif&quot;,&quot;Super&quot;,&quot;https://www.wsdot.wa.gov/ferries/images/pages/boat_drawings/2-super-sillouette_sml.gif&quot;,30}</td><td>1</td><td>true</td><td>true</td><td>true</td><td>true</td><td>true</td><td>true</td><td>true</td><td>false</td><td>&quot;The MV Kaleetan has an elevato…</td><td>&quot; &quot;</td><td>&quot;Native American/Chinook: &quot;arro…</td><td>&quot; &quot;</td><td>&quot;73&#x27; 2&quot;&quot;</td><td>&quot;San Diego, CA&quot;</td><td>17</td><td>&quot;18&#x27; 6&quot;&quot;</td><td>4</td><td>8000</td><td>&quot;382&#x27; 2&quot;&quot;</td><td>1868</td><td>false</td><td>false</td><td>&quot;DIESEL-ELECTRIC (DC)&quot;</td><td>173</td><td>144</td><td>30</td><td>2704</td><td>3634</td><td>1967</td><td>1999.0</td><td>null</td><td>false</td><td>null</td></tr><tr><td>52</td><td>52</td><td>&quot;Kennewick&quot;</td><td>&quot;KEN&quot;</td><td>{162,&quot;Kwa-di Tabil&quot;,427,&quot;https://www.wsdot.wa.gov/ferries/images/pages/boat_drawings/13-kwaditabil.gif&quot;,&quot;Kwa-di Tabil&quot;,&quot;https://www.wsdot.wa.gov/ferries/images/pages/boat_drawings/13-kwaditabil-silouette_sml.gif&quot;,75}</td><td>1</td><td>true</td><td>false</td><td>false</td><td>true</td><td>true</td><td>true</td><td>true</td><td>false</td><td>&quot;MV Kennewick has elevator acce…</td><td>null</td><td>&quot;Kennewick –Sah-ap-tin, Plains …</td><td>null</td><td>&quot;64&#x27;&quot;</td><td>&quot;Seattle&quot;</td><td>15</td><td>&quot;11&#x27;&quot;</td><td>2</td><td>6000</td><td>&quot;273&#x27; 8&quot;&quot;</td><td>748</td><td>false</td><td>false</td><td>&quot;DIESEL&quot;</td><td>192</td><td>64</td><td>9</td><td>4623</td><td>2415</td><td>2011</td><td>null</td><td>null</td><td>false</td><td>null</td></tr><tr><td>18</td><td>18</td><td>&quot;Kitsap&quot;</td><td>&quot;KIS&quot;</td><td>{10,&quot;Issaquah 130&quot;,310,&quot;https://www.wsdot.wa.gov/ferries/images/pages/boat_drawings/4-issaquah130.gif&quot;,&quot;Issaquah&quot;,&quot;https://www.wsdot.wa.gov/ferries/images/pages/boat_drawings/4-issaquah130-sillouette_sml.gif&quot;,40}</td><td>1</td><td>true</td><td>true</td><td>false</td><td>true</td><td>true</td><td>true</td><td>true</td><td>false</td><td>&quot;The MV Kitsap has elevator acc…</td><td>&quot; &quot;</td><td>&quot;A Suquamish tribal Chief in th…</td><td>&quot; &quot;</td><td>&quot;78&#x27; 8&quot;&quot;</td><td>&quot;Seattle, WA&quot;</td><td>16</td><td>&quot;16&#x27; 6&quot;&quot;</td><td>2</td><td>5000</td><td>&quot;328&#x27;&quot;</td><td>1200</td><td>false</td><td>false</td><td>&quot;DIESEL&quot;</td><td>186</td><td>124</td><td>26</td><td>2475</td><td>3310</td><td>1980</td><td>1992.0</td><td>null</td><td>false</td><td>null</td></tr><tr><td>19</td><td>19</td><td>&quot;Kittitas&quot;</td><td>&quot;KIT&quot;</td><td>{10,&quot;Issaquah 130&quot;,310,&quot;https://www.wsdot.wa.gov/ferries/images/pages/boat_drawings/4-issaquah130.gif&quot;,&quot;Issaquah&quot;,&quot;https://www.wsdot.wa.gov/ferries/images/pages/boat_drawings/4-issaquah130-sillouette_sml.gif&quot;,40}</td><td>1</td><td>true</td><td>true</td><td>false</td><td>true</td><td>true</td><td>true</td><td>true</td><td>false</td><td>&quot;The MV Kittitas has elevator a…</td><td>&quot; &quot;</td><td>&quot;Tribe of &quot;shoal people&quot; who li…</td><td>&quot; &quot;</td><td>&quot;78&#x27; 8&quot;&quot;</td><td>&quot;Seattle, WA&quot;</td><td>16</td><td>&quot;16&#x27; 6&quot;&quot;</td><td>2</td><td>5000</td><td>&quot;328&#x27;&quot;</td><td>1200</td><td>false</td><td>false</td><td>&quot;DIESEL&quot;</td><td>190</td><td>124</td><td>26</td><td>2475</td><td>3310</td><td>1980</td><td>1990.0</td><td>null</td><td>false</td><td>null</td></tr><tr><td>25</td><td>25</td><td>&quot;Puyallup&quot;</td><td>&quot;PUY&quot;</td><td>{90,&quot;Jumbo Mark II&quot;,318,&quot;https://www.wsdot.wa.gov/ferries/images/pages/boat_drawings/0-mark2.gif&quot;,&quot;Jumbo Mark II&quot;,&quot;https://www.wsdot.wa.gov/ferries/images/pages/boat_drawings/0-mark2-sillouette_sml.gif&quot;,10}</td><td>1</td><td>true</td><td>false</td><td>false</td><td>true</td><td>true</td><td>true</td><td>true</td><td>false</td><td>&quot;The MV Puyallup has elevator a…</td><td>&quot;28 December 1998\r\n",
       "Todd Pacific…</td><td>&quot;From the Puyallup language: &quot;g…</td><td>&quot;Todd Shipyard Delivery Date: 2…</td><td>&quot;90&#x27;&quot;</td><td>&quot;Seattle, WA&quot;</td><td>18</td><td>&quot;17&#x27; 3&quot;&quot;</td><td>4</td><td>16000</td><td>&quot;460&#x27; 2&quot;&quot;</td><td>2499</td><td>false</td><td>false</td><td>&quot;DIESEL-ELECTRIC (AC)&quot;</td><td>186</td><td>202</td><td>60</td><td>4938</td><td>6184</td><td>1999</td><td>null</td><td>null</td><td>false</td><td>null</td></tr><tr><td>66</td><td>429</td><td>&quot;Salish&quot;</td><td>&quot;SAL&quot;</td><td>{162,&quot;Kwa-di Tabil&quot;,427,&quot;https://www.wsdot.wa.gov/ferries/images/pages/boat_drawings/13-kwaditabil.gif&quot;,&quot;Kwa-di Tabil&quot;,&quot;https://www.wsdot.wa.gov/ferries/images/pages/boat_drawings/13-kwaditabil-silouette_sml.gif&quot;,75}</td><td>1</td><td>true</td><td>false</td><td>false</td><td>true</td><td>true</td><td>true</td><td>true</td><td>false</td><td>&quot;MV Salish has elevator access …</td><td>null</td><td>&quot;Salish – From Salishan/ a grou…</td><td>null</td><td>&quot;64&#x27;&quot;</td><td>&quot;Seattle&quot;</td><td>15</td><td>&quot;11&#x27;&quot;</td><td>2</td><td>6000</td><td>&quot;273&#x27; 8&quot;&quot;</td><td>748</td><td>false</td><td>false</td><td>&quot;DIESEL&quot;</td><td>192</td><td>64</td><td>9</td><td>4623</td><td>2415</td><td>2011</td><td>null</td><td>null</td><td>false</td><td>null</td></tr><tr><td>69</td><td>463</td><td>&quot;Samish&quot;</td><td>&quot;SAM&quot;</td><td>{100,&quot;Olympic&quot;,319,&quot;https://www.wsdot.wa.gov/ferries/images/pages/boat_drawings/8-olympic-2014.gif&quot;,&quot;Olympic&quot;,&quot;https://www.wsdot.wa.gov/ferries/images/pages/boat_drawings/3-issaquah-sillouette_sml.gif&quot;,35}</td><td>1</td><td>true</td><td>true</td><td>true</td><td>true</td><td>true</td><td>true</td><td>true</td><td>false</td><td>&quot;The vessel has two ADA complia…</td><td>null</td><td>&quot;From the Samish Nation, &quot;The G…</td><td>&quot;Samish is the second of the 14…</td><td>&quot;83&#x27; 2&quot;&quot;</td><td>&quot;Seattle, WA&quot;</td><td>17</td><td>&quot;18&#x27;&quot;</td><td>2</td><td>6000</td><td>&quot;362&#x27; 3&quot;&quot;</td><td>1500</td><td>false</td><td>false</td><td>&quot;DIESEL&quot;</td><td>192</td><td>144</td><td>34</td><td>3525</td><td>4384</td><td>2015</td><td>null</td><td>null</td><td>false</td><td>null</td></tr><tr><td>28</td><td>28</td><td>&quot;Sealth&quot;</td><td>&quot;SEA&quot;</td><td>{60,&quot;Issaquah&quot;,315,&quot;https://www.wsdot.wa.gov/ferries/images/pages/boat_drawings/3-issaquah.gif&quot;,&quot;Issaquah&quot;,&quot;https://www.wsdot.wa.gov/ferries/images/pages/boat_drawings/3-issaquah-sillouette_sml.gif&quot;,50}</td><td>1</td><td>true</td><td>false</td><td>false</td><td>true</td><td>true</td><td>false</td><td>true</td><td>false</td><td>&quot;The MV Sealth has elevator acc…</td><td>&quot; &quot;</td><td>&quot;The Chief of the Duwamish and …</td><td>&quot; &quot;</td><td>&quot;78&#x27; 8&quot;&quot;</td><td>&quot;Seattle, WA&quot;</td><td>16</td><td>&quot;16&#x27; 6&quot;&quot;</td><td>2</td><td>5000</td><td>&quot;328&#x27;&quot;</td><td>1200</td><td>false</td><td>false</td><td>&quot;DIESEL&quot;</td><td>182</td><td>90</td><td>30</td><td>2477</td><td>3310</td><td>1982</td><td>null</td><td>null</td><td>false</td><td>null</td></tr><tr><td>30</td><td>30</td><td>&quot;Spokane&quot;</td><td>&quot;SPO&quot;</td><td>{70,&quot;Jumbo&quot;,316,&quot;https://www.wsdot.wa.gov/ferries/images/pages/boat_drawings/1-jumbo.gif&quot;,&quot;Jumbo&quot;,&quot;https://www.wsdot.wa.gov/ferries/images/pages/boat_drawings/1-jumbo-sillouette_sml.gif&quot;,20}</td><td>1</td><td>true</td><td>false</td><td>false</td><td>true</td><td>true</td><td>true</td><td>true</td><td>false</td><td>&quot;The MV Spokane has elevator ac…</td><td>&quot; &quot;</td><td>&quot;Eastern Washington Native Amer…</td><td>&quot; &quot;</td><td>&quot;87&#x27;&quot;</td><td>&quot;Seattle, WA&quot;</td><td>18</td><td>&quot;18&#x27;&quot;</td><td>4</td><td>11500</td><td>&quot;440&#x27;&quot;</td><td>2000</td><td>false</td><td>false</td><td>&quot;DIESEL-ELECTRIC (DC)&quot;</td><td>188</td><td>188</td><td>60</td><td>3246</td><td>4859</td><td>1972</td><td>2004.0</td><td>null</td><td>false</td><td>null</td></tr><tr><td>75</td><td>488</td><td>&quot;Suquamish&quot;</td><td>&quot;SUQ&quot;</td><td>{100,&quot;Olympic&quot;,319,&quot;https://www.wsdot.wa.gov/ferries/images/pages/boat_drawings/8-olympic-2014.gif&quot;,&quot;Olympic&quot;,&quot;https://www.wsdot.wa.gov/ferries/images/pages/boat_drawings/3-issaquah-sillouette_sml.gif&quot;,35}</td><td>2</td><td>true</td><td>true</td><td>true</td><td>true</td><td>true</td><td>true</td><td>true</td><td>false</td><td>&quot;The vessel has two ADA complia…</td><td>null</td><td>&quot;The Suquamish are known as the…</td><td>&quot;Suquamish is the fourth of the…</td><td>&quot;83&#x27; 2&quot;&quot;</td><td>&quot;Seattle, EA&quot;</td><td>17</td><td>&quot;18&#x27;&quot;</td><td>2</td><td>6000</td><td>&quot;362&#x27; 3&quot;&quot;</td><td>1500</td><td>false</td><td>false</td><td>&quot;DIESEL&quot;</td><td>192</td><td>144</td><td>34</td><td>3525</td><td>4384</td><td>2018</td><td>null</td><td>null</td><td>false</td><td>null</td></tr><tr><td>32</td><td>32</td><td>&quot;Tacoma&quot;</td><td>&quot;TAC&quot;</td><td>{90,&quot;Jumbo Mark II&quot;,318,&quot;https://www.wsdot.wa.gov/ferries/images/pages/boat_drawings/0-mark2.gif&quot;,&quot;Jumbo Mark II&quot;,&quot;https://www.wsdot.wa.gov/ferries/images/pages/boat_drawings/0-mark2-sillouette_sml.gif&quot;,10}</td><td>1</td><td>true</td><td>false</td><td>false</td><td>true</td><td>true</td><td>true</td><td>true</td><td>false</td><td>&quot;The MV Tacoma has elevator acc…</td><td>&quot;Follow us on Twitter: @WSFerri…</td><td>&quot;From the native word Tah-ho-ma…</td><td>&quot;Todd Shipyard Delivery Date: 1…</td><td>&quot;90&#x27;&quot;</td><td>&quot;Seattle, WA&quot;</td><td>18</td><td>&quot;17&#x27; 3&quot;&quot;</td><td>4</td><td>16000</td><td>&quot;460&#x27; 2&quot;&quot;</td><td>2499</td><td>false</td><td>false</td><td>&quot;DIESEL-ELECTRIC (AC)&quot;</td><td>186</td><td>202</td><td>60</td><td>4938</td><td>6184</td><td>1997</td><td>null</td><td>null</td><td>false</td><td>null</td></tr><tr><td>33</td><td>33</td><td>&quot;Tillikum&quot;</td><td>&quot;TIL&quot;</td><td>{20,&quot;Evergreen State&quot;,311,&quot;https://www.wsdot.wa.gov/ferries/images/pages/boat_drawings/5-evergreenstate.gif&quot;,&quot;Evergreen State&quot;,&quot;https://www.wsdot.wa.gov/ferries/images/pages/boat_drawings/4-issaquah130-sillouette_sml.gif&quot;,60}</td><td>1</td><td>true</td><td>false</td><td>false</td><td>true</td><td>true</td><td>true</td><td>true</td><td>false</td><td>&quot;The MV Tillikum has an elevato…</td><td>&quot; &quot;</td><td>&quot;Chinook Jargon: &quot;friends; rela…</td><td>&quot; &quot;</td><td>&quot;73&#x27; 2&quot;&quot;</td><td>&quot;Seattle, WA&quot;</td><td>13</td><td>&quot;15 6&quot;&quot;</td><td>2</td><td>2500</td><td>&quot;310&#x27; 2&quot;&quot;</td><td>1061</td><td>false</td><td>false</td><td>&quot;DIESEL-ELECTRIC (AC)&quot;</td><td>162</td><td>87</td><td>30</td><td>2070</td><td>2413</td><td>1959</td><td>1994.0</td><td>null</td><td>false</td><td>null</td></tr><tr><td>68</td><td>462</td><td>&quot;Tokitae&quot;</td><td>&quot;TOK&quot;</td><td>{100,&quot;Olympic&quot;,319,&quot;https://www.wsdot.wa.gov/ferries/images/pages/boat_drawings/8-olympic-2014.gif&quot;,&quot;Olympic&quot;,&quot;https://www.wsdot.wa.gov/ferries/images/pages/boat_drawings/3-issaquah-sillouette_sml.gif&quot;,35}</td><td>1</td><td>true</td><td>false</td><td>true</td><td>true</td><td>true</td><td>true</td><td>true</td><td>false</td><td>&quot;The vessel has two ADA complia…</td><td>null</td><td>&quot;Tokitae means &quot;nice day, prett…</td><td>&quot;Tokitae is the first of the 14…</td><td>&quot;83&#x27; 2&quot;&quot;</td><td>&quot;Seattle, WA&quot;</td><td>17</td><td>&quot;18&#x27;&quot;</td><td>2</td><td>6000</td><td>&quot;362&#x27; 3&quot;&quot;</td><td>1500</td><td>false</td><td>false</td><td>&quot;DIESEL&quot;</td><td>192</td><td>144</td><td>34</td><td>3525</td><td>4384</td><td>2014</td><td>null</td><td>null</td><td>false</td><td>null</td></tr><tr><td>36</td><td>36</td><td>&quot;Walla Walla&quot;</td><td>&quot;WAL&quot;</td><td>{70,&quot;Jumbo&quot;,316,&quot;https://www.wsdot.wa.gov/ferries/images/pages/boat_drawings/1-jumbo.gif&quot;,&quot;Jumbo&quot;,&quot;https://www.wsdot.wa.gov/ferries/images/pages/boat_drawings/1-jumbo-sillouette_sml.gif&quot;,20}</td><td>1</td><td>true</td><td>false</td><td>false</td><td>true</td><td>true</td><td>true</td><td>true</td><td>false</td><td>&quot;The MV Walla Walla has elevato…</td><td>&quot; &quot;</td><td>&quot;Nez Perce for &quot;place of many w…</td><td>&quot; &quot;</td><td>&quot;87&#x27;&quot;</td><td>&quot;Seattle&quot;</td><td>18</td><td>&quot;18&#x27;&quot;</td><td>4</td><td>11500</td><td>&quot;440&#x27;&quot;</td><td>2000</td><td>false</td><td>false</td><td>&quot;DIESEL-ELECTRIC (DC)&quot;</td><td>186</td><td>188</td><td>60</td><td>3246</td><td>4860</td><td>1973</td><td>2003.0</td><td>null</td><td>false</td><td>null</td></tr><tr><td>37</td><td>37</td><td>&quot;Wenatchee&quot;</td><td>&quot;WEN&quot;</td><td>{90,&quot;Jumbo Mark II&quot;,318,&quot;https://www.wsdot.wa.gov/ferries/images/pages/boat_drawings/0-mark2.gif&quot;,&quot;Jumbo Mark II&quot;,&quot;https://www.wsdot.wa.gov/ferries/images/pages/boat_drawings/0-mark2-sillouette_sml.gif&quot;,10}</td><td>1</td><td>true</td><td>false</td><td>false</td><td>true</td><td>true</td><td>true</td><td>true</td><td>false</td><td>&quot;The MV Wenatchee has elevator …</td><td>&quot;27 May 1998\r\n",
       "Todd Pacific Ship…</td><td>&quot;From the Yakama language comes…</td><td>&quot;Todd Shipyard Delivery Date: 2…</td><td>&quot;90&#x27;&quot;</td><td>&quot;Seattle, WA&quot;</td><td>18</td><td>&quot;17&#x27; 3&quot;&quot;</td><td>4</td><td>16000</td><td>&quot;460&#x27; 2&quot;&quot;</td><td>2499</td><td>false</td><td>false</td><td>&quot;DIESEL-ELECTRIC (AC)&quot;</td><td>184</td><td>202</td><td>60</td><td>4938</td><td>6184</td><td>1998</td><td>null</td><td>null</td><td>false</td><td>null</td></tr><tr><td>38</td><td>38</td><td>&quot;Yakima&quot;</td><td>&quot;YAK&quot;</td><td>{50,&quot;Super&quot;,314,&quot;https://www.wsdot.wa.gov/ferries/images/pages/boat_drawings/2-super.gif&quot;,&quot;Super&quot;,&quot;https://www.wsdot.wa.gov/ferries/images/pages/boat_drawings/2-super-sillouette_sml.gif&quot;,30}</td><td>1</td><td>true</td><td>true</td><td>true</td><td>true</td><td>true</td><td>false</td><td>true</td><td>false</td><td>&quot;The MV Yakima has elevator acc…</td><td>&quot; &quot;</td><td>&quot;From the Yakama language, &quot;Yak…</td><td>&quot; &quot;</td><td>&quot;73&#x27; 2&quot;&quot;</td><td>&quot;San Diego, CA&quot;</td><td>17</td><td>&quot;18&#x27; 6&quot;&quot;</td><td>4</td><td>8000</td><td>&quot;382&#x27; 2&quot;&quot;</td><td>2000</td><td>false</td><td>false</td><td>&quot;DIESEL-ELECTRIC (DC)&quot;</td><td>186</td><td>144</td><td>30</td><td>2704</td><td>3634</td><td>1967</td><td>2000.0</td><td>null</td><td>false</td><td>null</td></tr></tbody></table></div>"
      ],
      "text/plain": [
       "shape: (21, 39)\n",
       "┌──────────┬───────────┬───────────┬───────────┬───┬───────────┬───────────┬───────────┬───────────┐\n",
       "│ VesselID ┆ VesselSub ┆ VesselNam ┆ VesselAbb ┆ … ┆ YearRebui ┆ VesselDra ┆ SolasCert ┆ MaxPassen │\n",
       "│ ---      ┆ jectID    ┆ e         ┆ rev       ┆   ┆ lt        ┆ wingImg   ┆ ified     ┆ gerCountF │\n",
       "│ i64      ┆ ---       ┆ ---       ┆ ---       ┆   ┆ ---       ┆ ---       ┆ ---       ┆ orInterna │\n",
       "│          ┆ i64       ┆ str       ┆ str       ┆   ┆ f64       ┆ null      ┆ bool      ┆ tio…      │\n",
       "│          ┆           ┆           ┆           ┆   ┆           ┆           ┆           ┆ ---       │\n",
       "│          ┆           ┆           ┆           ┆   ┆           ┆           ┆           ┆ f64       │\n",
       "╞══════════╪═══════════╪═══════════╪═══════════╪═══╪═══════════╪═══════════╪═══════════╪═══════════╡\n",
       "│ 1        ┆ 1         ┆ Cathlamet ┆ CAT       ┆ … ┆ 1993.0    ┆ null      ┆ false     ┆ null      │\n",
       "│ 2        ┆ 2         ┆ Chelan    ┆ CHE       ┆ … ┆ 2005.0    ┆ null      ┆ true      ┆ 1090.0    │\n",
       "│ 65       ┆ 428       ┆ Chetzemok ┆ CHZ       ┆ … ┆ null      ┆ null      ┆ false     ┆ null      │\n",
       "│          ┆           ┆ a         ┆           ┆   ┆           ┆           ┆           ┆           │\n",
       "│ 74       ┆ 487       ┆ Chimacum  ┆ CHM       ┆ … ┆ null      ┆ null      ┆ false     ┆ null      │\n",
       "│ 15       ┆ 15        ┆ Issaquah  ┆ ISS       ┆ … ┆ 1989.0    ┆ null      ┆ false     ┆ null      │\n",
       "│ 17       ┆ 17        ┆ Kaleetan  ┆ KAL       ┆ … ┆ 1999.0    ┆ null      ┆ false     ┆ null      │\n",
       "│ 52       ┆ 52        ┆ Kennewick ┆ KEN       ┆ … ┆ null      ┆ null      ┆ false     ┆ null      │\n",
       "│ 18       ┆ 18        ┆ Kitsap    ┆ KIS       ┆ … ┆ 1992.0    ┆ null      ┆ false     ┆ null      │\n",
       "│ 19       ┆ 19        ┆ Kittitas  ┆ KIT       ┆ … ┆ 1990.0    ┆ null      ┆ false     ┆ null      │\n",
       "│ 25       ┆ 25        ┆ Puyallup  ┆ PUY       ┆ … ┆ null      ┆ null      ┆ false     ┆ null      │\n",
       "│ 66       ┆ 429       ┆ Salish    ┆ SAL       ┆ … ┆ null      ┆ null      ┆ false     ┆ null      │\n",
       "│ 69       ┆ 463       ┆ Samish    ┆ SAM       ┆ … ┆ null      ┆ null      ┆ false     ┆ null      │\n",
       "│ 28       ┆ 28        ┆ Sealth    ┆ SEA       ┆ … ┆ null      ┆ null      ┆ false     ┆ null      │\n",
       "│ 30       ┆ 30        ┆ Spokane   ┆ SPO       ┆ … ┆ 2004.0    ┆ null      ┆ false     ┆ null      │\n",
       "│ 75       ┆ 488       ┆ Suquamish ┆ SUQ       ┆ … ┆ null      ┆ null      ┆ false     ┆ null      │\n",
       "│ 32       ┆ 32        ┆ Tacoma    ┆ TAC       ┆ … ┆ null      ┆ null      ┆ false     ┆ null      │\n",
       "│ 33       ┆ 33        ┆ Tillikum  ┆ TIL       ┆ … ┆ 1994.0    ┆ null      ┆ false     ┆ null      │\n",
       "│ 68       ┆ 462       ┆ Tokitae   ┆ TOK       ┆ … ┆ null      ┆ null      ┆ false     ┆ null      │\n",
       "│ 36       ┆ 36        ┆ Walla     ┆ WAL       ┆ … ┆ 2003.0    ┆ null      ┆ false     ┆ null      │\n",
       "│          ┆           ┆ Walla     ┆           ┆   ┆           ┆           ┆           ┆           │\n",
       "│ 37       ┆ 37        ┆ Wenatchee ┆ WEN       ┆ … ┆ null      ┆ null      ┆ false     ┆ null      │\n",
       "│ 38       ┆ 38        ┆ Yakima    ┆ YAK       ┆ … ┆ 2000.0    ┆ null      ┆ false     ┆ null      │\n",
       "└──────────┴───────────┴───────────┴───────────┴───┴───────────┴───────────┴───────────┴───────────┘"
      ]
     },
     "execution_count": 64,
     "metadata": {},
     "output_type": "execute_result"
    }
   ],
   "source": [
    "vessel_verbose = pl.read_parquet(vessel_verbose_paths)\n",
    "vessel_verbose"
   ]
  },
  {
   "cell_type": "markdown",
   "metadata": {},
   "source": [
    "Get the vessel verbose history data set."
   ]
  },
  {
   "cell_type": "code",
   "execution_count": 7,
   "metadata": {},
   "outputs": [
    {
     "data": {
      "text/plain": [
       "['/Users/samedwardes/Library/Caches/pins-py/rsc_799142d110b3ee9b1b200cf61cb0e1d90eeee15e49602f4545918457accd2d11/sam.edwardes+vessel_history_raw/545350/vessel_history_raw.parquet']"
      ]
     },
     "execution_count": 65,
     "metadata": {},
     "output_type": "execute_result"
    }
   ],
   "source": [
    "vessel_history_paths = board.pin_download(f\"{username}/vessel_history_raw\")\n",
    "vessel_history_paths"
   ]
  },
  {
   "cell_type": "code",
   "execution_count": 8,
   "metadata": {},
   "outputs": [
    {
     "data": {
      "text/html": [
       "<div><style>\n",
       ".dataframe > thead > tr,\n",
       ".dataframe > tbody > tr {\n",
       "  text-align: right;\n",
       "  white-space: pre-wrap;\n",
       "}\n",
       "</style>\n",
       "<small>shape: (584_977, 8)</small><table border=\"1\" class=\"dataframe\"><thead><tr><th>VesselId</th><th>Vessel</th><th>Departing</th><th>Arriving</th><th>ScheduledDepart</th><th>ActualDepart</th><th>EstArrival</th><th>Date</th></tr><tr><td>i64</td><td>str</td><td>str</td><td>str</td><td>str</td><td>str</td><td>str</td><td>str</td></tr></thead><tbody><tr><td>32</td><td>&quot;Cathlamet&quot;</td><td>&quot;Vashon&quot;</td><td>&quot;Fauntleroy&quot;</td><td>&quot;/Date(1577886000000-0800)/&quot;</td><td>&quot;/Date(1577886072000-0800)/&quot;</td><td>&quot;/Date(1577887027000-0800)/&quot;</td><td>&quot;/Date(1577886000000-0800)/&quot;</td></tr><tr><td>32</td><td>&quot;Cathlamet&quot;</td><td>&quot;Fauntleroy&quot;</td><td>&quot;Vashon&quot;</td><td>&quot;/Date(1577887800000-0800)/&quot;</td><td>&quot;/Date(1577887897000-0800)/&quot;</td><td>&quot;/Date(1577888877000-0800)/&quot;</td><td>&quot;/Date(1577887800000-0800)/&quot;</td></tr><tr><td>32</td><td>&quot;Cathlamet&quot;</td><td>&quot;Vashon&quot;</td><td>&quot;Fauntleroy&quot;</td><td>&quot;/Date(1577889300000-0800)/&quot;</td><td>&quot;/Date(1577889457000-0800)/&quot;</td><td>&quot;/Date(1577890159000-0800)/&quot;</td><td>&quot;/Date(1577889300000-0800)/&quot;</td></tr><tr><td>32</td><td>&quot;Cathlamet&quot;</td><td>&quot;Fauntleroy&quot;</td><td>&quot;Vashon&quot;</td><td>&quot;/Date(1577891100000-0800)/&quot;</td><td>&quot;/Date(1577891231000-0800)/&quot;</td><td>&quot;/Date(1577892170000-0800)/&quot;</td><td>&quot;/Date(1577891100000-0800)/&quot;</td></tr><tr><td>32</td><td>&quot;Cathlamet&quot;</td><td>&quot;Vashon&quot;</td><td>&quot;Southworth&quot;</td><td>&quot;/Date(1577892600000-0800)/&quot;</td><td>&quot;/Date(1577892661000-0800)/&quot;</td><td>&quot;/Date(1577893331000-0800)/&quot;</td><td>&quot;/Date(1577892600000-0800)/&quot;</td></tr><tr><td>32</td><td>&quot;Cathlamet&quot;</td><td>&quot;Southworth&quot;</td><td>&quot;Vashon&quot;</td><td>&quot;/Date(1577894100000-0800)/&quot;</td><td>&quot;/Date(1577894171000-0800)/&quot;</td><td>&quot;/Date(1577894921000-0800)/&quot;</td><td>&quot;/Date(1577894100000-0800)/&quot;</td></tr><tr><td>32</td><td>&quot;Cathlamet&quot;</td><td>&quot;Vashon&quot;</td><td>&quot;Fauntleroy&quot;</td><td>&quot;/Date(1577895300000-0800)/&quot;</td><td>&quot;/Date(1577895378000-0800)/&quot;</td><td>&quot;/Date(1577896367000-0800)/&quot;</td><td>&quot;/Date(1577895300000-0800)/&quot;</td></tr><tr><td>32</td><td>&quot;Cathlamet&quot;</td><td>&quot;Fauntleroy&quot;</td><td>&quot;Southworth&quot;</td><td>&quot;/Date(1577897100000-0800)/&quot;</td><td>&quot;/Date(1577897192000-0800)/&quot;</td><td>&quot;/Date(1577898461000-0800)/&quot;</td><td>&quot;/Date(1577897100000-0800)/&quot;</td></tr><tr><td>32</td><td>&quot;Cathlamet&quot;</td><td>&quot;Southworth&quot;</td><td>&quot;Vashon&quot;</td><td>&quot;/Date(1577899200000-0800)/&quot;</td><td>&quot;/Date(1577899200000-0800)/&quot;</td><td>&quot;/Date(1577899992000-0800)/&quot;</td><td>&quot;/Date(1577899200000-0800)/&quot;</td></tr><tr><td>32</td><td>&quot;Cathlamet&quot;</td><td>&quot;Vashon&quot;</td><td>&quot;Fauntleroy&quot;</td><td>&quot;/Date(1577900400000-0800)/&quot;</td><td>&quot;/Date(1577900524000-0800)/&quot;</td><td>&quot;/Date(1577901515000-0800)/&quot;</td><td>&quot;/Date(1577900400000-0800)/&quot;</td></tr><tr><td>32</td><td>&quot;Cathlamet&quot;</td><td>&quot;Fauntleroy&quot;</td><td>&quot;Vashon&quot;</td><td>&quot;/Date(1577902200000-0800)/&quot;</td><td>&quot;/Date(1577902399000-0800)/&quot;</td><td>&quot;/Date(1577903369000-0800)/&quot;</td><td>&quot;/Date(1577902200000-0800)/&quot;</td></tr><tr><td>32</td><td>&quot;Cathlamet&quot;</td><td>&quot;Vashon&quot;</td><td>&quot;Southworth&quot;</td><td>&quot;/Date(1577903700000-0800)/&quot;</td><td>&quot;/Date(1577903980000-0800)/&quot;</td><td>&quot;/Date(1577904749000-0800)/&quot;</td><td>&quot;/Date(1577903700000-0800)/&quot;</td></tr><tr><td>32</td><td>&quot;Cathlamet&quot;</td><td>&quot;Southworth&quot;</td><td>&quot;Vashon&quot;</td><td>&quot;/Date(1577905200000-0800)/&quot;</td><td>&quot;/Date(1577905350000-0800)/&quot;</td><td>&quot;/Date(1577906114000-0800)/&quot;</td><td>&quot;/Date(1577905200000-0800)/&quot;</td></tr><tr><td>32</td><td>&quot;Cathlamet&quot;</td><td>&quot;Vashon&quot;</td><td>&quot;Fauntleroy&quot;</td><td>&quot;/Date(1577906400000-0800)/&quot;</td><td>&quot;/Date(1577906565000-0800)/&quot;</td><td>&quot;/Date(1577907589000-0800)/&quot;</td><td>&quot;/Date(1577906400000-0800)/&quot;</td></tr><tr><td>32</td><td>&quot;Cathlamet&quot;</td><td>&quot;Fauntleroy&quot;</td><td>&quot;Vashon&quot;</td><td>&quot;/Date(1577908200000-0800)/&quot;</td><td>&quot;/Date(1577908344000-0800)/&quot;</td><td>&quot;/Date(1577909273000-0800)/&quot;</td><td>&quot;/Date(1577908200000-0800)/&quot;</td></tr><tr><td>32</td><td>&quot;Cathlamet&quot;</td><td>&quot;Vashon&quot;</td><td>&quot;Fauntleroy&quot;</td><td>&quot;/Date(1577910000000-0800)/&quot;</td><td>&quot;/Date(1577910175000-0800)/&quot;</td><td>&quot;/Date(1577910895000-0800)/&quot;</td><td>&quot;/Date(1577910000000-0800)/&quot;</td></tr><tr><td>32</td><td>&quot;Cathlamet&quot;</td><td>&quot;Fauntleroy&quot;</td><td>&quot;Vashon&quot;</td><td>&quot;/Date(1577911800000-0800)/&quot;</td><td>&quot;/Date(1577911969000-0800)/&quot;</td><td>&quot;/Date(1577912892000-0800)/&quot;</td><td>&quot;/Date(1577911800000-0800)/&quot;</td></tr><tr><td>32</td><td>&quot;Cathlamet&quot;</td><td>&quot;Vashon&quot;</td><td>&quot;Fauntleroy&quot;</td><td>&quot;/Date(1577916900000-0800)/&quot;</td><td>&quot;/Date(1577916994000-0800)/&quot;</td><td>&quot;/Date(1577917726000-0800)/&quot;</td><td>&quot;/Date(1577916900000-0800)/&quot;</td></tr><tr><td>32</td><td>&quot;Cathlamet&quot;</td><td>&quot;Fauntleroy&quot;</td><td>&quot;Vashon&quot;</td><td>&quot;/Date(1577918700000-0800)/&quot;</td><td>&quot;/Date(1577918821000-0800)/&quot;</td><td>&quot;/Date(1577919735000-0800)/&quot;</td><td>&quot;/Date(1577918700000-0800)/&quot;</td></tr><tr><td>32</td><td>&quot;Cathlamet&quot;</td><td>&quot;Vashon&quot;</td><td>&quot;Fauntleroy&quot;</td><td>&quot;/Date(1577921100000-0800)/&quot;</td><td>&quot;/Date(1577921266000-0800)/&quot;</td><td>&quot;/Date(1577922253000-0800)/&quot;</td><td>&quot;/Date(1577921100000-0800)/&quot;</td></tr><tr><td>32</td><td>&quot;Cathlamet&quot;</td><td>&quot;Fauntleroy&quot;</td><td>&quot;Southworth&quot;</td><td>&quot;/Date(1577923800000-0800)/&quot;</td><td>&quot;/Date(1577923914000-0800)/&quot;</td><td>&quot;/Date(1577925071000-0800)/&quot;</td><td>&quot;/Date(1577923800000-0800)/&quot;</td></tr><tr><td>32</td><td>&quot;Cathlamet&quot;</td><td>&quot;Southworth&quot;</td><td>&quot;Vashon&quot;</td><td>&quot;/Date(1577925900000-0800)/&quot;</td><td>&quot;/Date(1577926013000-0800)/&quot;</td><td>&quot;/Date(1577926669000-0800)/&quot;</td><td>&quot;/Date(1577925900000-0800)/&quot;</td></tr><tr><td>32</td><td>&quot;Cathlamet&quot;</td><td>&quot;Vashon&quot;</td><td>&quot;Fauntleroy&quot;</td><td>&quot;/Date(1577927100000-0800)/&quot;</td><td>&quot;/Date(1577927230000-0800)/&quot;</td><td>&quot;/Date(1577927977000-0800)/&quot;</td><td>&quot;/Date(1577927100000-0800)/&quot;</td></tr><tr><td>32</td><td>&quot;Cathlamet&quot;</td><td>&quot;Fauntleroy&quot;</td><td>&quot;Vashon&quot;</td><td>&quot;/Date(1577929200000-0800)/&quot;</td><td>&quot;/Date(1577929325000-0800)/&quot;</td><td>&quot;/Date(1577930186000-0800)/&quot;</td><td>&quot;/Date(1577929200000-0800)/&quot;</td></tr><tr><td>32</td><td>&quot;Cathlamet&quot;</td><td>&quot;Vashon&quot;</td><td>&quot;Southworth&quot;</td><td>&quot;/Date(1577930700000-0800)/&quot;</td><td>&quot;/Date(1577930756000-0800)/&quot;</td><td>&quot;/Date(1577931391000-0800)/&quot;</td><td>&quot;/Date(1577930700000-0800)/&quot;</td></tr><tr><td>32</td><td>&quot;Cathlamet&quot;</td><td>&quot;Southworth&quot;</td><td>&quot;Vashon&quot;</td><td>&quot;/Date(1577931900000-0800)/&quot;</td><td>&quot;/Date(1577931960000-0800)/&quot;</td><td>&quot;/Date(1577932613000-0800)/&quot;</td><td>&quot;/Date(1577931900000-0800)/&quot;</td></tr><tr><td>32</td><td>&quot;Cathlamet&quot;</td><td>&quot;Vashon&quot;</td><td>&quot;Fauntleroy&quot;</td><td>&quot;/Date(1577933100000-0800)/&quot;</td><td>&quot;/Date(1577933181000-0800)/&quot;</td><td>&quot;/Date(1577933928000-0800)/&quot;</td><td>&quot;/Date(1577933100000-0800)/&quot;</td></tr><tr><td>32</td><td>&quot;Cathlamet&quot;</td><td>&quot;Fauntleroy&quot;</td><td>&quot;Vashon&quot;</td><td>&quot;/Date(1577934900000-0800)/&quot;</td><td>&quot;/Date(1577934999000-0800)/&quot;</td><td>&quot;/Date(1577935836000-0800)/&quot;</td><td>&quot;/Date(1577934900000-0800)/&quot;</td></tr><tr><td>32</td><td>&quot;Cathlamet&quot;</td><td>&quot;Vashon&quot;</td><td>&quot;Southworth&quot;</td><td>&quot;/Date(1577936400000-0800)/&quot;</td><td>&quot;/Date(1577936476000-0800)/&quot;</td><td>&quot;/Date(1577937087000-0800)/&quot;</td><td>&quot;/Date(1577936400000-0800)/&quot;</td></tr><tr><td>32</td><td>&quot;Cathlamet&quot;</td><td>&quot;Southworth&quot;</td><td>&quot;Vashon&quot;</td><td>&quot;/Date(1577937600000-0800)/&quot;</td><td>&quot;/Date(1577937697000-0800)/&quot;</td><td>&quot;/Date(1577938465000-0800)/&quot;</td><td>&quot;/Date(1577937600000-0800)/&quot;</td></tr><tr><td>32</td><td>&quot;Cathlamet&quot;</td><td>&quot;Vashon&quot;</td><td>&quot;Fauntleroy&quot;</td><td>&quot;/Date(1577938800000-0800)/&quot;</td><td>&quot;/Date(1577938882000-0800)/&quot;</td><td>&quot;/Date(1577939667000-0800)/&quot;</td><td>&quot;/Date(1577938800000-0800)/&quot;</td></tr><tr><td>32</td><td>&quot;Cathlamet&quot;</td><td>&quot;Fauntleroy&quot;</td><td>&quot;Vashon&quot;</td><td>&quot;/Date(1577940600000-0800)/&quot;</td><td>&quot;/Date(1577940690000-0800)/&quot;</td><td>&quot;/Date(1577941551000-0800)/&quot;</td><td>&quot;/Date(1577940600000-0800)/&quot;</td></tr><tr><td>32</td><td>&quot;Cathlamet&quot;</td><td>&quot;Vashon&quot;</td><td>&quot;Southworth&quot;</td><td>&quot;/Date(1577942100000-0800)/&quot;</td><td>&quot;/Date(1577942190000-0800)/&quot;</td><td>&quot;/Date(1577942825000-0800)/&quot;</td><td>&quot;/Date(1577942100000-0800)/&quot;</td></tr><tr><td>32</td><td>&quot;Cathlamet&quot;</td><td>&quot;Vashon&quot;</td><td>&quot;Fauntleroy&quot;</td><td>&quot;/Date(1577972400000-0800)/&quot;</td><td>&quot;/Date(1577972475000-0800)/&quot;</td><td>&quot;/Date(1577973428000-0800)/&quot;</td><td>&quot;/Date(1577972400000-0800)/&quot;</td></tr><tr><td>32</td><td>&quot;Cathlamet&quot;</td><td>&quot;Fauntleroy&quot;</td><td>&quot;Vashon&quot;</td><td>&quot;/Date(1577974200000-0800)/&quot;</td><td>&quot;/Date(1577974284000-0800)/&quot;</td><td>&quot;/Date(1577975225000-0800)/&quot;</td><td>&quot;/Date(1577974200000-0800)/&quot;</td></tr><tr><td>32</td><td>&quot;Cathlamet&quot;</td><td>&quot;Vashon&quot;</td><td>&quot;Fauntleroy&quot;</td><td>&quot;/Date(1577975700000-0800)/&quot;</td><td>&quot;/Date(1577975781000-0800)/&quot;</td><td>&quot;/Date(1577976538000-0800)/&quot;</td><td>&quot;/Date(1577975700000-0800)/&quot;</td></tr><tr><td>32</td><td>&quot;Cathlamet&quot;</td><td>&quot;Fauntleroy&quot;</td><td>&quot;Vashon&quot;</td><td>&quot;/Date(1577977500000-0800)/&quot;</td><td>&quot;/Date(1577977588000-0800)/&quot;</td><td>&quot;/Date(1577978556000-0800)/&quot;</td><td>&quot;/Date(1577977500000-0800)/&quot;</td></tr><tr><td>32</td><td>&quot;Cathlamet&quot;</td><td>&quot;Vashon&quot;</td><td>&quot;Southworth&quot;</td><td>&quot;/Date(1577979000000-0800)/&quot;</td><td>&quot;/Date(1577979077000-0800)/&quot;</td><td>&quot;/Date(1577979752000-0800)/&quot;</td><td>&quot;/Date(1577979000000-0800)/&quot;</td></tr><tr><td>32</td><td>&quot;Cathlamet&quot;</td><td>&quot;Southworth&quot;</td><td>&quot;Vashon&quot;</td><td>&quot;/Date(1577980500000-0800)/&quot;</td><td>&quot;/Date(1577980564000-0800)/&quot;</td><td>&quot;/Date(1577981205000-0800)/&quot;</td><td>&quot;/Date(1577980500000-0800)/&quot;</td></tr><tr><td>32</td><td>&quot;Cathlamet&quot;</td><td>&quot;Vashon&quot;</td><td>&quot;Fauntleroy&quot;</td><td>&quot;/Date(1577981700000-0800)/&quot;</td><td>&quot;/Date(1577981781000-0800)/&quot;</td><td>&quot;/Date(1577982710000-0800)/&quot;</td><td>&quot;/Date(1577981700000-0800)/&quot;</td></tr><tr><td>32</td><td>&quot;Cathlamet&quot;</td><td>&quot;Fauntleroy&quot;</td><td>&quot;Southworth&quot;</td><td>&quot;/Date(1577983500000-0800)/&quot;</td><td>&quot;/Date(1577983625000-0800)/&quot;</td><td>&quot;/Date(1577984781000-0800)/&quot;</td><td>&quot;/Date(1577983500000-0800)/&quot;</td></tr><tr><td>32</td><td>&quot;Cathlamet&quot;</td><td>&quot;Southworth&quot;</td><td>&quot;Vashon&quot;</td><td>&quot;/Date(1577985600000-0800)/&quot;</td><td>&quot;/Date(1577985713000-0800)/&quot;</td><td>&quot;/Date(1577986341000-0800)/&quot;</td><td>&quot;/Date(1577985600000-0800)/&quot;</td></tr><tr><td>32</td><td>&quot;Cathlamet&quot;</td><td>&quot;Vashon&quot;</td><td>&quot;Fauntleroy&quot;</td><td>&quot;/Date(1577986800000-0800)/&quot;</td><td>&quot;/Date(1577986920000-0800)/&quot;</td><td>&quot;/Date(1577987863000-0800)/&quot;</td><td>&quot;/Date(1577986800000-0800)/&quot;</td></tr><tr><td>32</td><td>&quot;Cathlamet&quot;</td><td>&quot;Fauntleroy&quot;</td><td>&quot;Vashon&quot;</td><td>&quot;/Date(1577988600000-0800)/&quot;</td><td>&quot;/Date(1577988790000-0800)/&quot;</td><td>&quot;/Date(1577989779000-0800)/&quot;</td><td>&quot;/Date(1577988600000-0800)/&quot;</td></tr><tr><td>32</td><td>&quot;Cathlamet&quot;</td><td>&quot;Vashon&quot;</td><td>&quot;Southworth&quot;</td><td>&quot;/Date(1577990100000-0800)/&quot;</td><td>&quot;/Date(1577990178000-0800)/&quot;</td><td>&quot;/Date(1577990859000-0800)/&quot;</td><td>&quot;/Date(1577990100000-0800)/&quot;</td></tr><tr><td>32</td><td>&quot;Cathlamet&quot;</td><td>&quot;Southworth&quot;</td><td>&quot;Vashon&quot;</td><td>&quot;/Date(1577991600000-0800)/&quot;</td><td>&quot;/Date(1577991618000-0800)/&quot;</td><td>&quot;/Date(1577992403000-0800)/&quot;</td><td>&quot;/Date(1577991600000-0800)/&quot;</td></tr><tr><td>32</td><td>&quot;Cathlamet&quot;</td><td>&quot;Vashon&quot;</td><td>&quot;Fauntleroy&quot;</td><td>&quot;/Date(1577992800000-0800)/&quot;</td><td>&quot;/Date(1577993125000-0800)/&quot;</td><td>&quot;/Date(1577994055000-0800)/&quot;</td><td>&quot;/Date(1577992800000-0800)/&quot;</td></tr><tr><td>32</td><td>&quot;Cathlamet&quot;</td><td>&quot;Fauntleroy&quot;</td><td>&quot;Vashon&quot;</td><td>&quot;/Date(1577994600000-0800)/&quot;</td><td>&quot;/Date(1577994800000-0800)/&quot;</td><td>&quot;/Date(1577995730000-0800)/&quot;</td><td>&quot;/Date(1577994600000-0800)/&quot;</td></tr><tr><td>32</td><td>&quot;Cathlamet&quot;</td><td>&quot;Vashon&quot;</td><td>&quot;Fauntleroy&quot;</td><td>&quot;/Date(1577996400000-0800)/&quot;</td><td>&quot;/Date(1577996718000-0800)/&quot;</td><td>&quot;/Date(1577997487000-0800)/&quot;</td><td>&quot;/Date(1577996400000-0800)/&quot;</td></tr><tr><td>32</td><td>&quot;Cathlamet&quot;</td><td>&quot;Fauntleroy&quot;</td><td>&quot;Vashon&quot;</td><td>&quot;/Date(1577998200000-0800)/&quot;</td><td>&quot;/Date(1577998344000-0800)/&quot;</td><td>&quot;/Date(1577999122000-0800)/&quot;</td><td>&quot;/Date(1577998200000-0800)/&quot;</td></tr><tr><td>&hellip;</td><td>&hellip;</td><td>&hellip;</td><td>&hellip;</td><td>&hellip;</td><td>&hellip;</td><td>&hellip;</td><td>&hellip;</td></tr><tr><td>25</td><td>&quot;Yakima&quot;</td><td>&quot;Friday Harbor&quot;</td><td>&quot;Anacortes&quot;</td><td>&quot;/Date(1717304700000-0700)/&quot;</td><td>&quot;/Date(1717304705000-0700)/&quot;</td><td>&quot;/Date(1717309357000-0700)/&quot;</td><td>&quot;/Date(1717304700000-0700)/&quot;</td></tr><tr><td>25</td><td>&quot;Yakima&quot;</td><td>&quot;Anacortes&quot;</td><td>&quot;Friday Harbor&quot;</td><td>&quot;/Date(1717326900000-0700)/&quot;</td><td>&quot;/Date(1717326900000-0700)/&quot;</td><td>&quot;/Date(1717331027000-0700)/&quot;</td><td>&quot;/Date(1717326900000-0700)/&quot;</td></tr><tr><td>25</td><td>&quot;Yakima&quot;</td><td>&quot;Friday Harbor&quot;</td><td>&quot;Lopez&quot;</td><td>&quot;/Date(1717332300000-0700)/&quot;</td><td>&quot;/Date(1717332317000-0700)/&quot;</td><td>&quot;/Date(1717334246000-0700)/&quot;</td><td>&quot;/Date(1717332300000-0700)/&quot;</td></tr><tr><td>25</td><td>&quot;Yakima&quot;</td><td>&quot;Lopez&quot;</td><td>&quot;Anacortes&quot;</td><td>&quot;/Date(1717335000000-0700)/&quot;</td><td>&quot;/Date(1717335000000-0700)/&quot;</td><td>&quot;/Date(1717337570000-0700)/&quot;</td><td>&quot;/Date(1717335000000-0700)/&quot;</td></tr><tr><td>25</td><td>&quot;Yakima&quot;</td><td>&quot;Anacortes&quot;</td><td>&quot;Orcas&quot;</td><td>&quot;/Date(1717338600000-0700)/&quot;</td><td>&quot;/Date(1717338625000-0700)/&quot;</td><td>&quot;/Date(1717341804000-0700)/&quot;</td><td>&quot;/Date(1717338600000-0700)/&quot;</td></tr><tr><td>25</td><td>&quot;Yakima&quot;</td><td>&quot;Orcas&quot;</td><td>&quot;Shaw&quot;</td><td>&quot;/Date(1717343100000-0700)/&quot;</td><td>&quot;/Date(1717343100000-0700)/&quot;</td><td>&quot;/Date(1717343667000-0700)/&quot;</td><td>&quot;/Date(1717343100000-0700)/&quot;</td></tr><tr><td>25</td><td>&quot;Yakima&quot;</td><td>&quot;Shaw&quot;</td><td>&quot;Lopez&quot;</td><td>&quot;/Date(1717344000000-0700)/&quot;</td><td>&quot;/Date(1717344038000-0700)/&quot;</td><td>&quot;/Date(1717345052000-0700)/&quot;</td><td>&quot;/Date(1717344000000-0700)/&quot;</td></tr><tr><td>25</td><td>&quot;Yakima&quot;</td><td>&quot;Lopez&quot;</td><td>&quot;Anacortes&quot;</td><td>&quot;/Date(1717345800000-0700)/&quot;</td><td>&quot;/Date(1717345766000-0700)/&quot;</td><td>&quot;/Date(1717348465000-0700)/&quot;</td><td>&quot;/Date(1717345800000-0700)/&quot;</td></tr><tr><td>25</td><td>&quot;Yakima&quot;</td><td>&quot;Anacortes&quot;</td><td>&quot;Lopez&quot;</td><td>&quot;/Date(1717349700000-0700)/&quot;</td><td>&quot;/Date(1717349797000-0700)/&quot;</td><td>&quot;/Date(1717352403000-0700)/&quot;</td><td>&quot;/Date(1717349700000-0700)/&quot;</td></tr><tr><td>25</td><td>&quot;Yakima&quot;</td><td>&quot;Lopez&quot;</td><td>&quot;Orcas&quot;</td><td>&quot;/Date(1717352700000-0700)/&quot;</td><td>&quot;/Date(1717352792000-0700)/&quot;</td><td>&quot;/Date(1717353802000-0700)/&quot;</td><td>&quot;/Date(1717352700000-0700)/&quot;</td></tr><tr><td>25</td><td>&quot;Yakima&quot;</td><td>&quot;Orcas&quot;</td><td>&quot;Shaw&quot;</td><td>&quot;/Date(1717356300000-0700)/&quot;</td><td>&quot;/Date(1717356450000-0700)/&quot;</td><td>&quot;/Date(1717357031000-0700)/&quot;</td><td>&quot;/Date(1717356300000-0700)/&quot;</td></tr><tr><td>25</td><td>&quot;Yakima&quot;</td><td>&quot;Shaw&quot;</td><td>&quot;Anacortes&quot;</td><td>&quot;/Date(1717357200000-0700)/&quot;</td><td>&quot;/Date(1717357590000-0700)/&quot;</td><td>&quot;/Date(1717360688000-0700)/&quot;</td><td>&quot;/Date(1717357200000-0700)/&quot;</td></tr><tr><td>25</td><td>&quot;Yakima&quot;</td><td>&quot;Anacortes&quot;</td><td>&quot;Orcas&quot;</td><td>&quot;/Date(1717361700000-0700)/&quot;</td><td>&quot;/Date(1717362887000-0700)/&quot;</td><td>&quot;/Date(1717365986000-0700)/&quot;</td><td>&quot;/Date(1717361700000-0700)/&quot;</td></tr><tr><td>25</td><td>&quot;Yakima&quot;</td><td>&quot;Orcas&quot;</td><td>&quot;Anacortes&quot;</td><td>&quot;/Date(1717366500000-0700)/&quot;</td><td>&quot;/Date(1717367952000-0700)/&quot;</td><td>&quot;/Date(1717371486000-0700)/&quot;</td><td>&quot;/Date(1717366500000-0700)/&quot;</td></tr><tr><td>25</td><td>&quot;Yakima&quot;</td><td>&quot;Anacortes&quot;</td><td>&quot;Lopez&quot;</td><td>&quot;/Date(1717371000000-0700)/&quot;</td><td>&quot;/Date(1717372895000-0700)/&quot;</td><td>&quot;/Date(1717375355000-0700)/&quot;</td><td>&quot;/Date(1717371000000-0700)/&quot;</td></tr><tr><td>25</td><td>&quot;Yakima&quot;</td><td>&quot;Lopez&quot;</td><td>&quot;Friday Harbor&quot;</td><td>&quot;/Date(1717374000000-0700)/&quot;</td><td>&quot;/Date(1717375805000-0700)/&quot;</td><td>&quot;/Date(1717377863000-0700)/&quot;</td><td>&quot;/Date(1717374000000-0700)/&quot;</td></tr><tr><td>25</td><td>&quot;Yakima&quot;</td><td>&quot;Friday Harbor&quot;</td><td>&quot;Lopez&quot;</td><td>&quot;/Date(1717377900000-0700)/&quot;</td><td>&quot;/Date(1717378676000-0700)/&quot;</td><td>&quot;/Date(1717380832000-0700)/&quot;</td><td>&quot;/Date(1717377900000-0700)/&quot;</td></tr><tr><td>25</td><td>&quot;Yakima&quot;</td><td>&quot;Lopez&quot;</td><td>&quot;Anacortes&quot;</td><td>&quot;/Date(1717380600000-0700)/&quot;</td><td>&quot;/Date(1717381157000-0700)/&quot;</td><td>&quot;/Date(1717383781000-0700)/&quot;</td><td>&quot;/Date(1717380600000-0700)/&quot;</td></tr><tr><td>25</td><td>&quot;Yakima&quot;</td><td>&quot;Anacortes&quot;</td><td>&quot;Lopez&quot;</td><td>&quot;/Date(1717385100000-0700)/&quot;</td><td>&quot;/Date(1717385100000-0700)/&quot;</td><td>&quot;/Date(1717387622000-0700)/&quot;</td><td>&quot;/Date(1717385100000-0700)/&quot;</td></tr><tr><td>25</td><td>&quot;Yakima&quot;</td><td>&quot;Lopez&quot;</td><td>&quot;Friday Harbor&quot;</td><td>&quot;/Date(1717388100000-0700)/&quot;</td><td>&quot;/Date(1717388082000-0700)/&quot;</td><td>&quot;/Date(1717390071000-0700)/&quot;</td><td>&quot;/Date(1717388100000-0700)/&quot;</td></tr><tr><td>25</td><td>&quot;Yakima&quot;</td><td>&quot;Friday Harbor&quot;</td><td>&quot;Anacortes&quot;</td><td>&quot;/Date(1717391100000-0700)/&quot;</td><td>&quot;/Date(1717391100000-0700)/&quot;</td><td>&quot;/Date(1717395467000-0700)/&quot;</td><td>&quot;/Date(1717391100000-0700)/&quot;</td></tr><tr><td>25</td><td>&quot;Yakima&quot;</td><td>&quot;Anacortes&quot;</td><td>&quot;Friday Harbor&quot;</td><td>&quot;/Date(1717413300000-0700)/&quot;</td><td>&quot;/Date(1717413278000-0700)/&quot;</td><td>&quot;/Date(1717417520000-0700)/&quot;</td><td>&quot;/Date(1717413300000-0700)/&quot;</td></tr><tr><td>25</td><td>&quot;Yakima&quot;</td><td>&quot;Friday Harbor&quot;</td><td>&quot;Lopez&quot;</td><td>&quot;/Date(1717418700000-0700)/&quot;</td><td>&quot;/Date(1717418700000-0700)/&quot;</td><td>&quot;/Date(1717420619000-0700)/&quot;</td><td>&quot;/Date(1717418700000-0700)/&quot;</td></tr><tr><td>25</td><td>&quot;Yakima&quot;</td><td>&quot;Lopez&quot;</td><td>&quot;Anacortes&quot;</td><td>&quot;/Date(1717421400000-0700)/&quot;</td><td>&quot;/Date(1717421378000-0700)/&quot;</td><td>&quot;/Date(1717423975000-0700)/&quot;</td><td>&quot;/Date(1717421400000-0700)/&quot;</td></tr><tr><td>25</td><td>&quot;Yakima&quot;</td><td>&quot;Anacortes&quot;</td><td>&quot;Orcas&quot;</td><td>&quot;/Date(1717425000000-0700)/&quot;</td><td>&quot;/Date(1717425119000-0700)/&quot;</td><td>&quot;/Date(1717428535000-0700)/&quot;</td><td>&quot;/Date(1717425000000-0700)/&quot;</td></tr><tr><td>25</td><td>&quot;Yakima&quot;</td><td>&quot;Orcas&quot;</td><td>&quot;Shaw&quot;</td><td>&quot;/Date(1717429500000-0700)/&quot;</td><td>&quot;/Date(1717430135000-0700)/&quot;</td><td>&quot;/Date(1717430765000-0700)/&quot;</td><td>&quot;/Date(1717429500000-0700)/&quot;</td></tr><tr><td>25</td><td>&quot;Yakima&quot;</td><td>&quot;Shaw&quot;</td><td>&quot;Lopez&quot;</td><td>&quot;/Date(1717430400000-0700)/&quot;</td><td>&quot;/Date(1717431104000-0700)/&quot;</td><td>&quot;/Date(1717432173000-0700)/&quot;</td><td>&quot;/Date(1717430400000-0700)/&quot;</td></tr><tr><td>25</td><td>&quot;Yakima&quot;</td><td>&quot;Lopez&quot;</td><td>&quot;Anacortes&quot;</td><td>&quot;/Date(1717432200000-0700)/&quot;</td><td>&quot;/Date(1717432917000-0700)/&quot;</td><td>&quot;/Date(1717435512000-0700)/&quot;</td><td>&quot;/Date(1717432200000-0700)/&quot;</td></tr><tr><td>25</td><td>&quot;Yakima&quot;</td><td>&quot;Anacortes&quot;</td><td>&quot;Lopez&quot;</td><td>&quot;/Date(1717436100000-0700)/&quot;</td><td>&quot;/Date(1717437162000-0700)/&quot;</td><td>&quot;/Date(1717439856000-0700)/&quot;</td><td>&quot;/Date(1717436100000-0700)/&quot;</td></tr><tr><td>25</td><td>&quot;Yakima&quot;</td><td>&quot;Lopez&quot;</td><td>&quot;Orcas&quot;</td><td>&quot;/Date(1717439100000-0700)/&quot;</td><td>&quot;/Date(1717440425000-0700)/&quot;</td><td>&quot;/Date(1717441457000-0700)/&quot;</td><td>&quot;/Date(1717439100000-0700)/&quot;</td></tr><tr><td>25</td><td>&quot;Yakima&quot;</td><td>&quot;Orcas&quot;</td><td>&quot;Shaw&quot;</td><td>&quot;/Date(1717442700000-0700)/&quot;</td><td>&quot;/Date(1717443647000-0700)/&quot;</td><td>&quot;/Date(1717444268000-0700)/&quot;</td><td>&quot;/Date(1717442700000-0700)/&quot;</td></tr><tr><td>25</td><td>&quot;Yakima&quot;</td><td>&quot;Shaw&quot;</td><td>&quot;Anacortes&quot;</td><td>&quot;/Date(1717443600000-0700)/&quot;</td><td>&quot;/Date(1717444632000-0700)/&quot;</td><td>&quot;/Date(1717447949000-0700)/&quot;</td><td>&quot;/Date(1717443600000-0700)/&quot;</td></tr><tr><td>25</td><td>&quot;Yakima&quot;</td><td>&quot;Anacortes&quot;</td><td>&quot;Lopez&quot;</td><td>&quot;/Date(1717457400000-0700)/&quot;</td><td>&quot;/Date(1717457631000-0700)/&quot;</td><td>&quot;/Date(1717460233000-0700)/&quot;</td><td>&quot;/Date(1717457400000-0700)/&quot;</td></tr><tr><td>25</td><td>&quot;Yakima&quot;</td><td>&quot;Lopez&quot;</td><td>&quot;Friday Harbor&quot;</td><td>&quot;/Date(1717460400000-0700)/&quot;</td><td>&quot;/Date(1717460673000-0700)/&quot;</td><td>&quot;/Date(1717462745000-0700)/&quot;</td><td>&quot;/Date(1717460400000-0700)/&quot;</td></tr><tr><td>25</td><td>&quot;Yakima&quot;</td><td>&quot;Friday Harbor&quot;</td><td>&quot;Lopez&quot;</td><td>&quot;/Date(1717464300000-0700)/&quot;</td><td>&quot;/Date(1717464300000-0700)/&quot;</td><td>&quot;/Date(1717466991000-0700)/&quot;</td><td>&quot;/Date(1717464300000-0700)/&quot;</td></tr><tr><td>25</td><td>&quot;Yakima&quot;</td><td>&quot;Lopez&quot;</td><td>&quot;Anacortes&quot;</td><td>&quot;/Date(1717467000000-0700)/&quot;</td><td>&quot;/Date(1717467366000-0700)/&quot;</td><td>&quot;/Date(1717469978000-0700)/&quot;</td><td>&quot;/Date(1717467000000-0700)/&quot;</td></tr><tr><td>25</td><td>&quot;Yakima&quot;</td><td>&quot;Anacortes&quot;</td><td>&quot;Lopez&quot;</td><td>&quot;/Date(1717471500000-0700)/&quot;</td><td>&quot;/Date(1717471500000-0700)/&quot;</td><td>&quot;/Date(1717473978000-0700)/&quot;</td><td>&quot;/Date(1717471500000-0700)/&quot;</td></tr><tr><td>25</td><td>&quot;Yakima&quot;</td><td>&quot;Lopez&quot;</td><td>&quot;Friday Harbor&quot;</td><td>&quot;/Date(1717474500000-0700)/&quot;</td><td>&quot;/Date(1717474377000-0700)/&quot;</td><td>&quot;/Date(1717476407000-0700)/&quot;</td><td>&quot;/Date(1717474500000-0700)/&quot;</td></tr><tr><td>25</td><td>&quot;Yakima&quot;</td><td>&quot;Friday Harbor&quot;</td><td>&quot;Anacortes&quot;</td><td>&quot;/Date(1717477500000-0700)/&quot;</td><td>&quot;/Date(1717477525000-0700)/&quot;</td><td>&quot;/Date(1717481844000-0700)/&quot;</td><td>&quot;/Date(1717477500000-0700)/&quot;</td></tr><tr><td>25</td><td>&quot;Yakima&quot;</td><td>&quot;Anacortes&quot;</td><td>&quot;Friday Harbor&quot;</td><td>&quot;/Date(1717499700000-0700)/&quot;</td><td>&quot;/Date(1717499711000-0700)/&quot;</td><td>&quot;/Date(1717503875000-0700)/&quot;</td><td>&quot;/Date(1717499700000-0700)/&quot;</td></tr><tr><td>25</td><td>&quot;Yakima&quot;</td><td>&quot;Friday Harbor&quot;</td><td>&quot;Lopez&quot;</td><td>&quot;/Date(1717505100000-0700)/&quot;</td><td>&quot;/Date(1717505100000-0700)/&quot;</td><td>&quot;/Date(1717507211000-0700)/&quot;</td><td>&quot;/Date(1717505100000-0700)/&quot;</td></tr><tr><td>25</td><td>&quot;Yakima&quot;</td><td>&quot;Lopez&quot;</td><td>&quot;Anacortes&quot;</td><td>&quot;/Date(1717507800000-0700)/&quot;</td><td>&quot;/Date(1717508197000-0700)/&quot;</td><td>&quot;/Date(1717511064000-0700)/&quot;</td><td>&quot;/Date(1717507800000-0700)/&quot;</td></tr><tr><td>25</td><td>&quot;Yakima&quot;</td><td>&quot;Anacortes&quot;</td><td>&quot;Orcas&quot;</td><td>&quot;/Date(1717511400000-0700)/&quot;</td><td>&quot;/Date(1717512218000-0700)/&quot;</td><td>&quot;/Date(1717515548000-0700)/&quot;</td><td>&quot;/Date(1717511400000-0700)/&quot;</td></tr><tr><td>25</td><td>&quot;Yakima&quot;</td><td>&quot;Orcas&quot;</td><td>&quot;Shaw&quot;</td><td>&quot;/Date(1717515900000-0700)/&quot;</td><td>&quot;/Date(1717516917000-0700)/&quot;</td><td>&quot;/Date(1717517587000-0700)/&quot;</td><td>&quot;/Date(1717515900000-0700)/&quot;</td></tr><tr><td>25</td><td>&quot;Yakima&quot;</td><td>&quot;Shaw&quot;</td><td>&quot;Lopez&quot;</td><td>&quot;/Date(1717516800000-0700)/&quot;</td><td>&quot;/Date(1717517927000-0700)/&quot;</td><td>&quot;/Date(1717519052000-0700)/&quot;</td><td>&quot;/Date(1717516800000-0700)/&quot;</td></tr><tr><td>25</td><td>&quot;Yakima&quot;</td><td>&quot;Lopez&quot;</td><td>&quot;Anacortes&quot;</td><td>&quot;/Date(1717518600000-0700)/&quot;</td><td>&quot;/Date(1717519739000-0700)/&quot;</td><td>&quot;/Date(1717522589000-0700)/&quot;</td><td>&quot;/Date(1717518600000-0700)/&quot;</td></tr><tr><td>25</td><td>&quot;Yakima&quot;</td><td>&quot;Anacortes&quot;</td><td>&quot;Lopez&quot;</td><td>&quot;/Date(1717522500000-0700)/&quot;</td><td>&quot;/Date(1717524296000-0700)/&quot;</td><td>&quot;/Date(1717526911000-0700)/&quot;</td><td>&quot;/Date(1717522500000-0700)/&quot;</td></tr><tr><td>25</td><td>&quot;Yakima&quot;</td><td>&quot;Lopez&quot;</td><td>&quot;Orcas&quot;</td><td>&quot;/Date(1717525500000-0700)/&quot;</td><td>&quot;/Date(1717527311000-0700)/&quot;</td><td>&quot;/Date(1717528388000-0700)/&quot;</td><td>&quot;/Date(1717525500000-0700)/&quot;</td></tr><tr><td>25</td><td>&quot;Yakima&quot;</td><td>&quot;Orcas&quot;</td><td>&quot;Shaw&quot;</td><td>&quot;/Date(1717529100000-0700)/&quot;</td><td>&quot;/Date(1717530289000-0700)/&quot;</td><td>&quot;/Date(1717530959000-0700)/&quot;</td><td>&quot;/Date(1717529100000-0700)/&quot;</td></tr><tr><td>25</td><td>&quot;Yakima&quot;</td><td>&quot;Shaw&quot;</td><td>&quot;Anacortes&quot;</td><td>&quot;/Date(1717530000000-0700)/&quot;</td><td>&quot;/Date(1717531215000-0700)/&quot;</td><td>&quot;/Date(1717534647000-0700)/&quot;</td><td>&quot;/Date(1717530000000-0700)/&quot;</td></tr></tbody></table></div>"
      ],
      "text/plain": [
       "shape: (584_977, 8)\n",
       "┌──────────┬───────────┬────────────┬────────────┬────────────┬────────────┬───────────┬───────────┐\n",
       "│ VesselId ┆ Vessel    ┆ Departing  ┆ Arriving   ┆ ScheduledD ┆ ActualDepa ┆ EstArriva ┆ Date      │\n",
       "│ ---      ┆ ---       ┆ ---        ┆ ---        ┆ epart      ┆ rt         ┆ l         ┆ ---       │\n",
       "│ i64      ┆ str       ┆ str        ┆ str        ┆ ---        ┆ ---        ┆ ---       ┆ str       │\n",
       "│          ┆           ┆            ┆            ┆ str        ┆ str        ┆ str       ┆           │\n",
       "╞══════════╪═══════════╪════════════╪════════════╪════════════╪════════════╪═══════════╪═══════════╡\n",
       "│ 32       ┆ Cathlamet ┆ Vashon     ┆ Fauntleroy ┆ /Date(1577 ┆ /Date(1577 ┆ /Date(157 ┆ /Date(157 │\n",
       "│          ┆           ┆            ┆            ┆ 886000000- ┆ 886072000- ┆ 788702700 ┆ 788600000 │\n",
       "│          ┆           ┆            ┆            ┆ 0800)/     ┆ 0800)/     ┆ 0-0800)/  ┆ 0-0800)/  │\n",
       "│ 32       ┆ Cathlamet ┆ Fauntleroy ┆ Vashon     ┆ /Date(1577 ┆ /Date(1577 ┆ /Date(157 ┆ /Date(157 │\n",
       "│          ┆           ┆            ┆            ┆ 887800000- ┆ 887897000- ┆ 788887700 ┆ 788780000 │\n",
       "│          ┆           ┆            ┆            ┆ 0800)/     ┆ 0800)/     ┆ 0-0800)/  ┆ 0-0800)/  │\n",
       "│ 32       ┆ Cathlamet ┆ Vashon     ┆ Fauntleroy ┆ /Date(1577 ┆ /Date(1577 ┆ /Date(157 ┆ /Date(157 │\n",
       "│          ┆           ┆            ┆            ┆ 889300000- ┆ 889457000- ┆ 789015900 ┆ 788930000 │\n",
       "│          ┆           ┆            ┆            ┆ 0800)/     ┆ 0800)/     ┆ 0-0800)/  ┆ 0-0800)/  │\n",
       "│ 32       ┆ Cathlamet ┆ Fauntleroy ┆ Vashon     ┆ /Date(1577 ┆ /Date(1577 ┆ /Date(157 ┆ /Date(157 │\n",
       "│          ┆           ┆            ┆            ┆ 891100000- ┆ 891231000- ┆ 789217000 ┆ 789110000 │\n",
       "│          ┆           ┆            ┆            ┆ 0800)/     ┆ 0800)/     ┆ 0-0800)/  ┆ 0-0800)/  │\n",
       "│ 32       ┆ Cathlamet ┆ Vashon     ┆ Southworth ┆ /Date(1577 ┆ /Date(1577 ┆ /Date(157 ┆ /Date(157 │\n",
       "│          ┆           ┆            ┆            ┆ 892600000- ┆ 892661000- ┆ 789333100 ┆ 789260000 │\n",
       "│          ┆           ┆            ┆            ┆ 0800)/     ┆ 0800)/     ┆ 0-0800)/  ┆ 0-0800)/  │\n",
       "│ 32       ┆ Cathlamet ┆ Southworth ┆ Vashon     ┆ /Date(1577 ┆ /Date(1577 ┆ /Date(157 ┆ /Date(157 │\n",
       "│          ┆           ┆            ┆            ┆ 894100000- ┆ 894171000- ┆ 789492100 ┆ 789410000 │\n",
       "│          ┆           ┆            ┆            ┆ 0800)/     ┆ 0800)/     ┆ 0-0800)/  ┆ 0-0800)/  │\n",
       "│ 32       ┆ Cathlamet ┆ Vashon     ┆ Fauntleroy ┆ /Date(1577 ┆ /Date(1577 ┆ /Date(157 ┆ /Date(157 │\n",
       "│          ┆           ┆            ┆            ┆ 895300000- ┆ 895378000- ┆ 789636700 ┆ 789530000 │\n",
       "│          ┆           ┆            ┆            ┆ 0800)/     ┆ 0800)/     ┆ 0-0800)/  ┆ 0-0800)/  │\n",
       "│ 32       ┆ Cathlamet ┆ Fauntleroy ┆ Southworth ┆ /Date(1577 ┆ /Date(1577 ┆ /Date(157 ┆ /Date(157 │\n",
       "│          ┆           ┆            ┆            ┆ 897100000- ┆ 897192000- ┆ 789846100 ┆ 789710000 │\n",
       "│          ┆           ┆            ┆            ┆ 0800)/     ┆ 0800)/     ┆ 0-0800)/  ┆ 0-0800)/  │\n",
       "│ 32       ┆ Cathlamet ┆ Southworth ┆ Vashon     ┆ /Date(1577 ┆ /Date(1577 ┆ /Date(157 ┆ /Date(157 │\n",
       "│          ┆           ┆            ┆            ┆ 899200000- ┆ 899200000- ┆ 789999200 ┆ 789920000 │\n",
       "│          ┆           ┆            ┆            ┆ 0800)/     ┆ 0800)/     ┆ 0-0800)/  ┆ 0-0800)/  │\n",
       "│ 32       ┆ Cathlamet ┆ Vashon     ┆ Fauntleroy ┆ /Date(1577 ┆ /Date(1577 ┆ /Date(157 ┆ /Date(157 │\n",
       "│          ┆           ┆            ┆            ┆ 900400000- ┆ 900524000- ┆ 790151500 ┆ 790040000 │\n",
       "│          ┆           ┆            ┆            ┆ 0800)/     ┆ 0800)/     ┆ 0-0800)/  ┆ 0-0800)/  │\n",
       "│ 32       ┆ Cathlamet ┆ Fauntleroy ┆ Vashon     ┆ /Date(1577 ┆ /Date(1577 ┆ /Date(157 ┆ /Date(157 │\n",
       "│          ┆           ┆            ┆            ┆ 902200000- ┆ 902399000- ┆ 790336900 ┆ 790220000 │\n",
       "│          ┆           ┆            ┆            ┆ 0800)/     ┆ 0800)/     ┆ 0-0800)/  ┆ 0-0800)/  │\n",
       "│ 32       ┆ Cathlamet ┆ Vashon     ┆ Southworth ┆ /Date(1577 ┆ /Date(1577 ┆ /Date(157 ┆ /Date(157 │\n",
       "│          ┆           ┆            ┆            ┆ 903700000- ┆ 903980000- ┆ 790474900 ┆ 790370000 │\n",
       "│          ┆           ┆            ┆            ┆ 0800)/     ┆ 0800)/     ┆ 0-0800)/  ┆ 0-0800)/  │\n",
       "│ 32       ┆ Cathlamet ┆ Southworth ┆ Vashon     ┆ /Date(1577 ┆ /Date(1577 ┆ /Date(157 ┆ /Date(157 │\n",
       "│          ┆           ┆            ┆            ┆ 905200000- ┆ 905350000- ┆ 790611400 ┆ 790520000 │\n",
       "│          ┆           ┆            ┆            ┆ 0800)/     ┆ 0800)/     ┆ 0-0800)/  ┆ 0-0800)/  │\n",
       "│ 32       ┆ Cathlamet ┆ Vashon     ┆ Fauntleroy ┆ /Date(1577 ┆ /Date(1577 ┆ /Date(157 ┆ /Date(157 │\n",
       "│          ┆           ┆            ┆            ┆ 906400000- ┆ 906565000- ┆ 790758900 ┆ 790640000 │\n",
       "│          ┆           ┆            ┆            ┆ 0800)/     ┆ 0800)/     ┆ 0-0800)/  ┆ 0-0800)/  │\n",
       "│ 32       ┆ Cathlamet ┆ Fauntleroy ┆ Vashon     ┆ /Date(1577 ┆ /Date(1577 ┆ /Date(157 ┆ /Date(157 │\n",
       "│          ┆           ┆            ┆            ┆ 908200000- ┆ 908344000- ┆ 790927300 ┆ 790820000 │\n",
       "│          ┆           ┆            ┆            ┆ 0800)/     ┆ 0800)/     ┆ 0-0800)/  ┆ 0-0800)/  │\n",
       "│ 32       ┆ Cathlamet ┆ Vashon     ┆ Fauntleroy ┆ /Date(1577 ┆ /Date(1577 ┆ /Date(157 ┆ /Date(157 │\n",
       "│          ┆           ┆            ┆            ┆ 910000000- ┆ 910175000- ┆ 791089500 ┆ 791000000 │\n",
       "│          ┆           ┆            ┆            ┆ 0800)/     ┆ 0800)/     ┆ 0-0800)/  ┆ 0-0800)/  │\n",
       "│ 32       ┆ Cathlamet ┆ Fauntleroy ┆ Vashon     ┆ /Date(1577 ┆ /Date(1577 ┆ /Date(157 ┆ /Date(157 │\n",
       "│          ┆           ┆            ┆            ┆ 911800000- ┆ 911969000- ┆ 791289200 ┆ 791180000 │\n",
       "│          ┆           ┆            ┆            ┆ 0800)/     ┆ 0800)/     ┆ 0-0800)/  ┆ 0-0800)/  │\n",
       "│ 32       ┆ Cathlamet ┆ Vashon     ┆ Fauntleroy ┆ /Date(1577 ┆ /Date(1577 ┆ /Date(157 ┆ /Date(157 │\n",
       "│          ┆           ┆            ┆            ┆ 916900000- ┆ 916994000- ┆ 791772600 ┆ 791690000 │\n",
       "│          ┆           ┆            ┆            ┆ 0800)/     ┆ 0800)/     ┆ 0-0800)/  ┆ 0-0800)/  │\n",
       "│ 32       ┆ Cathlamet ┆ Fauntleroy ┆ Vashon     ┆ /Date(1577 ┆ /Date(1577 ┆ /Date(157 ┆ /Date(157 │\n",
       "│          ┆           ┆            ┆            ┆ 918700000- ┆ 918821000- ┆ 791973500 ┆ 791870000 │\n",
       "│          ┆           ┆            ┆            ┆ 0800)/     ┆ 0800)/     ┆ 0-0800)/  ┆ 0-0800)/  │\n",
       "│ 32       ┆ Cathlamet ┆ Vashon     ┆ Fauntleroy ┆ /Date(1577 ┆ /Date(1577 ┆ /Date(157 ┆ /Date(157 │\n",
       "│          ┆           ┆            ┆            ┆ 921100000- ┆ 921266000- ┆ 792225300 ┆ 792110000 │\n",
       "│          ┆           ┆            ┆            ┆ 0800)/     ┆ 0800)/     ┆ 0-0800)/  ┆ 0-0800)/  │\n",
       "│ 32       ┆ Cathlamet ┆ Fauntleroy ┆ Southworth ┆ /Date(1577 ┆ /Date(1577 ┆ /Date(157 ┆ /Date(157 │\n",
       "│          ┆           ┆            ┆            ┆ 923800000- ┆ 923914000- ┆ 792507100 ┆ 792380000 │\n",
       "│          ┆           ┆            ┆            ┆ 0800)/     ┆ 0800)/     ┆ 0-0800)/  ┆ 0-0800)/  │\n",
       "│ 32       ┆ Cathlamet ┆ Southworth ┆ Vashon     ┆ /Date(1577 ┆ /Date(1577 ┆ /Date(157 ┆ /Date(157 │\n",
       "│          ┆           ┆            ┆            ┆ 925900000- ┆ 926013000- ┆ 792666900 ┆ 792590000 │\n",
       "│          ┆           ┆            ┆            ┆ 0800)/     ┆ 0800)/     ┆ 0-0800)/  ┆ 0-0800)/  │\n",
       "│ 32       ┆ Cathlamet ┆ Vashon     ┆ Fauntleroy ┆ /Date(1577 ┆ /Date(1577 ┆ /Date(157 ┆ /Date(157 │\n",
       "│          ┆           ┆            ┆            ┆ 927100000- ┆ 927230000- ┆ 792797700 ┆ 792710000 │\n",
       "│          ┆           ┆            ┆            ┆ 0800)/     ┆ 0800)/     ┆ 0-0800)/  ┆ 0-0800)/  │\n",
       "│ 32       ┆ Cathlamet ┆ Fauntleroy ┆ Vashon     ┆ /Date(1577 ┆ /Date(1577 ┆ /Date(157 ┆ /Date(157 │\n",
       "│          ┆           ┆            ┆            ┆ 929200000- ┆ 929325000- ┆ 793018600 ┆ 792920000 │\n",
       "│          ┆           ┆            ┆            ┆ 0800)/     ┆ 0800)/     ┆ 0-0800)/  ┆ 0-0800)/  │\n",
       "│ 32       ┆ Cathlamet ┆ Vashon     ┆ Southworth ┆ /Date(1577 ┆ /Date(1577 ┆ /Date(157 ┆ /Date(157 │\n",
       "│          ┆           ┆            ┆            ┆ 930700000- ┆ 930756000- ┆ 793139100 ┆ 793070000 │\n",
       "│          ┆           ┆            ┆            ┆ 0800)/     ┆ 0800)/     ┆ 0-0800)/  ┆ 0-0800)/  │\n",
       "│ 32       ┆ Cathlamet ┆ Southworth ┆ Vashon     ┆ /Date(1577 ┆ /Date(1577 ┆ /Date(157 ┆ /Date(157 │\n",
       "│          ┆           ┆            ┆            ┆ 931900000- ┆ 931960000- ┆ 793261300 ┆ 793190000 │\n",
       "│          ┆           ┆            ┆            ┆ 0800)/     ┆ 0800)/     ┆ 0-0800)/  ┆ 0-0800)/  │\n",
       "│ 32       ┆ Cathlamet ┆ Vashon     ┆ Fauntleroy ┆ /Date(1577 ┆ /Date(1577 ┆ /Date(157 ┆ /Date(157 │\n",
       "│          ┆           ┆            ┆            ┆ 933100000- ┆ 933181000- ┆ 793392800 ┆ 793310000 │\n",
       "│          ┆           ┆            ┆            ┆ 0800)/     ┆ 0800)/     ┆ 0-0800)/  ┆ 0-0800)/  │\n",
       "│ 32       ┆ Cathlamet ┆ Fauntleroy ┆ Vashon     ┆ /Date(1577 ┆ /Date(1577 ┆ /Date(157 ┆ /Date(157 │\n",
       "│          ┆           ┆            ┆            ┆ 934900000- ┆ 934999000- ┆ 793583600 ┆ 793490000 │\n",
       "│          ┆           ┆            ┆            ┆ 0800)/     ┆ 0800)/     ┆ 0-0800)/  ┆ 0-0800)/  │\n",
       "│ 32       ┆ Cathlamet ┆ Vashon     ┆ Southworth ┆ /Date(1577 ┆ /Date(1577 ┆ /Date(157 ┆ /Date(157 │\n",
       "│          ┆           ┆            ┆            ┆ 936400000- ┆ 936476000- ┆ 793708700 ┆ 793640000 │\n",
       "│          ┆           ┆            ┆            ┆ 0800)/     ┆ 0800)/     ┆ 0-0800)/  ┆ 0-0800)/  │\n",
       "│ 32       ┆ Cathlamet ┆ Southworth ┆ Vashon     ┆ /Date(1577 ┆ /Date(1577 ┆ /Date(157 ┆ /Date(157 │\n",
       "│          ┆           ┆            ┆            ┆ 937600000- ┆ 937697000- ┆ 793846500 ┆ 793760000 │\n",
       "│          ┆           ┆            ┆            ┆ 0800)/     ┆ 0800)/     ┆ 0-0800)/  ┆ 0-0800)/  │\n",
       "│ 32       ┆ Cathlamet ┆ Vashon     ┆ Fauntleroy ┆ /Date(1577 ┆ /Date(1577 ┆ /Date(157 ┆ /Date(157 │\n",
       "│          ┆           ┆            ┆            ┆ 938800000- ┆ 938882000- ┆ 793966700 ┆ 793880000 │\n",
       "│          ┆           ┆            ┆            ┆ 0800)/     ┆ 0800)/     ┆ 0-0800)/  ┆ 0-0800)/  │\n",
       "│ 32       ┆ Cathlamet ┆ Fauntleroy ┆ Vashon     ┆ /Date(1577 ┆ /Date(1577 ┆ /Date(157 ┆ /Date(157 │\n",
       "│          ┆           ┆            ┆            ┆ 940600000- ┆ 940690000- ┆ 794155100 ┆ 794060000 │\n",
       "│          ┆           ┆            ┆            ┆ 0800)/     ┆ 0800)/     ┆ 0-0800)/  ┆ 0-0800)/  │\n",
       "│ 32       ┆ Cathlamet ┆ Vashon     ┆ Southworth ┆ /Date(1577 ┆ /Date(1577 ┆ /Date(157 ┆ /Date(157 │\n",
       "│          ┆           ┆            ┆            ┆ 942100000- ┆ 942190000- ┆ 794282500 ┆ 794210000 │\n",
       "│          ┆           ┆            ┆            ┆ 0800)/     ┆ 0800)/     ┆ 0-0800)/  ┆ 0-0800)/  │\n",
       "│ 32       ┆ Cathlamet ┆ Vashon     ┆ Fauntleroy ┆ /Date(1577 ┆ /Date(1577 ┆ /Date(157 ┆ /Date(157 │\n",
       "│          ┆           ┆            ┆            ┆ 972400000- ┆ 972475000- ┆ 797342800 ┆ 797240000 │\n",
       "│          ┆           ┆            ┆            ┆ 0800)/     ┆ 0800)/     ┆ 0-0800)/  ┆ 0-0800)/  │\n",
       "│ 32       ┆ Cathlamet ┆ Fauntleroy ┆ Vashon     ┆ /Date(1577 ┆ /Date(1577 ┆ /Date(157 ┆ /Date(157 │\n",
       "│          ┆           ┆            ┆            ┆ 974200000- ┆ 974284000- ┆ 797522500 ┆ 797420000 │\n",
       "│          ┆           ┆            ┆            ┆ 0800)/     ┆ 0800)/     ┆ 0-0800)/  ┆ 0-0800)/  │\n",
       "│ 32       ┆ Cathlamet ┆ Vashon     ┆ Fauntleroy ┆ /Date(1577 ┆ /Date(1577 ┆ /Date(157 ┆ /Date(157 │\n",
       "│          ┆           ┆            ┆            ┆ 975700000- ┆ 975781000- ┆ 797653800 ┆ 797570000 │\n",
       "│          ┆           ┆            ┆            ┆ 0800)/     ┆ 0800)/     ┆ 0-0800)/  ┆ 0-0800)/  │\n",
       "│ 32       ┆ Cathlamet ┆ Fauntleroy ┆ Vashon     ┆ /Date(1577 ┆ /Date(1577 ┆ /Date(157 ┆ /Date(157 │\n",
       "│          ┆           ┆            ┆            ┆ 977500000- ┆ 977588000- ┆ 797855600 ┆ 797750000 │\n",
       "│          ┆           ┆            ┆            ┆ 0800)/     ┆ 0800)/     ┆ 0-0800)/  ┆ 0-0800)/  │\n",
       "│ 32       ┆ Cathlamet ┆ Vashon     ┆ Southworth ┆ /Date(1577 ┆ /Date(1577 ┆ /Date(157 ┆ /Date(157 │\n",
       "│          ┆           ┆            ┆            ┆ 979000000- ┆ 979077000- ┆ 797975200 ┆ 797900000 │\n",
       "│          ┆           ┆            ┆            ┆ 0800)/     ┆ 0800)/     ┆ 0-0800)/  ┆ 0-0800)/  │\n",
       "│ 32       ┆ Cathlamet ┆ Southworth ┆ Vashon     ┆ /Date(1577 ┆ /Date(1577 ┆ /Date(157 ┆ /Date(157 │\n",
       "│          ┆           ┆            ┆            ┆ 980500000- ┆ 980564000- ┆ 798120500 ┆ 798050000 │\n",
       "│          ┆           ┆            ┆            ┆ 0800)/     ┆ 0800)/     ┆ 0-0800)/  ┆ 0-0800)/  │\n",
       "│ 32       ┆ Cathlamet ┆ Vashon     ┆ Fauntleroy ┆ /Date(1577 ┆ /Date(1577 ┆ /Date(157 ┆ /Date(157 │\n",
       "│          ┆           ┆            ┆            ┆ 981700000- ┆ 981781000- ┆ 798271000 ┆ 798170000 │\n",
       "│          ┆           ┆            ┆            ┆ 0800)/     ┆ 0800)/     ┆ 0-0800)/  ┆ 0-0800)/  │\n",
       "│ 32       ┆ Cathlamet ┆ Fauntleroy ┆ Southworth ┆ /Date(1577 ┆ /Date(1577 ┆ /Date(157 ┆ /Date(157 │\n",
       "│          ┆           ┆            ┆            ┆ 983500000- ┆ 983625000- ┆ 798478100 ┆ 798350000 │\n",
       "│          ┆           ┆            ┆            ┆ 0800)/     ┆ 0800)/     ┆ 0-0800)/  ┆ 0-0800)/  │\n",
       "│ 32       ┆ Cathlamet ┆ Southworth ┆ Vashon     ┆ /Date(1577 ┆ /Date(1577 ┆ /Date(157 ┆ /Date(157 │\n",
       "│          ┆           ┆            ┆            ┆ 985600000- ┆ 985713000- ┆ 798634100 ┆ 798560000 │\n",
       "│          ┆           ┆            ┆            ┆ 0800)/     ┆ 0800)/     ┆ 0-0800)/  ┆ 0-0800)/  │\n",
       "│ 32       ┆ Cathlamet ┆ Vashon     ┆ Fauntleroy ┆ /Date(1577 ┆ /Date(1577 ┆ /Date(157 ┆ /Date(157 │\n",
       "│          ┆           ┆            ┆            ┆ 986800000- ┆ 986920000- ┆ 798786300 ┆ 798680000 │\n",
       "│          ┆           ┆            ┆            ┆ 0800)/     ┆ 0800)/     ┆ 0-0800)/  ┆ 0-0800)/  │\n",
       "│ 32       ┆ Cathlamet ┆ Fauntleroy ┆ Vashon     ┆ /Date(1577 ┆ /Date(1577 ┆ /Date(157 ┆ /Date(157 │\n",
       "│          ┆           ┆            ┆            ┆ 988600000- ┆ 988790000- ┆ 798977900 ┆ 798860000 │\n",
       "│          ┆           ┆            ┆            ┆ 0800)/     ┆ 0800)/     ┆ 0-0800)/  ┆ 0-0800)/  │\n",
       "│ 32       ┆ Cathlamet ┆ Vashon     ┆ Southworth ┆ /Date(1577 ┆ /Date(1577 ┆ /Date(157 ┆ /Date(157 │\n",
       "│          ┆           ┆            ┆            ┆ 990100000- ┆ 990178000- ┆ 799085900 ┆ 799010000 │\n",
       "│          ┆           ┆            ┆            ┆ 0800)/     ┆ 0800)/     ┆ 0-0800)/  ┆ 0-0800)/  │\n",
       "│ 32       ┆ Cathlamet ┆ Southworth ┆ Vashon     ┆ /Date(1577 ┆ /Date(1577 ┆ /Date(157 ┆ /Date(157 │\n",
       "│          ┆           ┆            ┆            ┆ 991600000- ┆ 991618000- ┆ 799240300 ┆ 799160000 │\n",
       "│          ┆           ┆            ┆            ┆ 0800)/     ┆ 0800)/     ┆ 0-0800)/  ┆ 0-0800)/  │\n",
       "│ 32       ┆ Cathlamet ┆ Vashon     ┆ Fauntleroy ┆ /Date(1577 ┆ /Date(1577 ┆ /Date(157 ┆ /Date(157 │\n",
       "│          ┆           ┆            ┆            ┆ 992800000- ┆ 993125000- ┆ 799405500 ┆ 799280000 │\n",
       "│          ┆           ┆            ┆            ┆ 0800)/     ┆ 0800)/     ┆ 0-0800)/  ┆ 0-0800)/  │\n",
       "│ 32       ┆ Cathlamet ┆ Fauntleroy ┆ Vashon     ┆ /Date(1577 ┆ /Date(1577 ┆ /Date(157 ┆ /Date(157 │\n",
       "│          ┆           ┆            ┆            ┆ 994600000- ┆ 994800000- ┆ 799573000 ┆ 799460000 │\n",
       "│          ┆           ┆            ┆            ┆ 0800)/     ┆ 0800)/     ┆ 0-0800)/  ┆ 0-0800)/  │\n",
       "│ 32       ┆ Cathlamet ┆ Vashon     ┆ Fauntleroy ┆ /Date(1577 ┆ /Date(1577 ┆ /Date(157 ┆ /Date(157 │\n",
       "│          ┆           ┆            ┆            ┆ 996400000- ┆ 996718000- ┆ 799748700 ┆ 799640000 │\n",
       "│          ┆           ┆            ┆            ┆ 0800)/     ┆ 0800)/     ┆ 0-0800)/  ┆ 0-0800)/  │\n",
       "│ 32       ┆ Cathlamet ┆ Fauntleroy ┆ Vashon     ┆ /Date(1577 ┆ /Date(1577 ┆ /Date(157 ┆ /Date(157 │\n",
       "│          ┆           ┆            ┆            ┆ 998200000- ┆ 998344000- ┆ 799912200 ┆ 799820000 │\n",
       "│          ┆           ┆            ┆            ┆ 0800)/     ┆ 0800)/     ┆ 0-0800)/  ┆ 0-0800)/  │\n",
       "│ …        ┆ …         ┆ …          ┆ …          ┆ …          ┆ …          ┆ …         ┆ …         │\n",
       "│ 25       ┆ Yakima    ┆ Friday     ┆ Anacortes  ┆ /Date(1717 ┆ /Date(1717 ┆ /Date(171 ┆ /Date(171 │\n",
       "│          ┆           ┆ Harbor     ┆            ┆ 304700000- ┆ 304705000- ┆ 730935700 ┆ 730470000 │\n",
       "│          ┆           ┆            ┆            ┆ 0700)/     ┆ 0700)/     ┆ 0-0700)/  ┆ 0-0700)/  │\n",
       "│ 25       ┆ Yakima    ┆ Anacortes  ┆ Friday     ┆ /Date(1717 ┆ /Date(1717 ┆ /Date(171 ┆ /Date(171 │\n",
       "│          ┆           ┆            ┆ Harbor     ┆ 326900000- ┆ 326900000- ┆ 733102700 ┆ 732690000 │\n",
       "│          ┆           ┆            ┆            ┆ 0700)/     ┆ 0700)/     ┆ 0-0700)/  ┆ 0-0700)/  │\n",
       "│ 25       ┆ Yakima    ┆ Friday     ┆ Lopez      ┆ /Date(1717 ┆ /Date(1717 ┆ /Date(171 ┆ /Date(171 │\n",
       "│          ┆           ┆ Harbor     ┆            ┆ 332300000- ┆ 332317000- ┆ 733424600 ┆ 733230000 │\n",
       "│          ┆           ┆            ┆            ┆ 0700)/     ┆ 0700)/     ┆ 0-0700)/  ┆ 0-0700)/  │\n",
       "│ 25       ┆ Yakima    ┆ Lopez      ┆ Anacortes  ┆ /Date(1717 ┆ /Date(1717 ┆ /Date(171 ┆ /Date(171 │\n",
       "│          ┆           ┆            ┆            ┆ 335000000- ┆ 335000000- ┆ 733757000 ┆ 733500000 │\n",
       "│          ┆           ┆            ┆            ┆ 0700)/     ┆ 0700)/     ┆ 0-0700)/  ┆ 0-0700)/  │\n",
       "│ 25       ┆ Yakima    ┆ Anacortes  ┆ Orcas      ┆ /Date(1717 ┆ /Date(1717 ┆ /Date(171 ┆ /Date(171 │\n",
       "│          ┆           ┆            ┆            ┆ 338600000- ┆ 338625000- ┆ 734180400 ┆ 733860000 │\n",
       "│          ┆           ┆            ┆            ┆ 0700)/     ┆ 0700)/     ┆ 0-0700)/  ┆ 0-0700)/  │\n",
       "│ 25       ┆ Yakima    ┆ Orcas      ┆ Shaw       ┆ /Date(1717 ┆ /Date(1717 ┆ /Date(171 ┆ /Date(171 │\n",
       "│          ┆           ┆            ┆            ┆ 343100000- ┆ 343100000- ┆ 734366700 ┆ 734310000 │\n",
       "│          ┆           ┆            ┆            ┆ 0700)/     ┆ 0700)/     ┆ 0-0700)/  ┆ 0-0700)/  │\n",
       "│ 25       ┆ Yakima    ┆ Shaw       ┆ Lopez      ┆ /Date(1717 ┆ /Date(1717 ┆ /Date(171 ┆ /Date(171 │\n",
       "│          ┆           ┆            ┆            ┆ 344000000- ┆ 344038000- ┆ 734505200 ┆ 734400000 │\n",
       "│          ┆           ┆            ┆            ┆ 0700)/     ┆ 0700)/     ┆ 0-0700)/  ┆ 0-0700)/  │\n",
       "│ 25       ┆ Yakima    ┆ Lopez      ┆ Anacortes  ┆ /Date(1717 ┆ /Date(1717 ┆ /Date(171 ┆ /Date(171 │\n",
       "│          ┆           ┆            ┆            ┆ 345800000- ┆ 345766000- ┆ 734846500 ┆ 734580000 │\n",
       "│          ┆           ┆            ┆            ┆ 0700)/     ┆ 0700)/     ┆ 0-0700)/  ┆ 0-0700)/  │\n",
       "│ 25       ┆ Yakima    ┆ Anacortes  ┆ Lopez      ┆ /Date(1717 ┆ /Date(1717 ┆ /Date(171 ┆ /Date(171 │\n",
       "│          ┆           ┆            ┆            ┆ 349700000- ┆ 349797000- ┆ 735240300 ┆ 734970000 │\n",
       "│          ┆           ┆            ┆            ┆ 0700)/     ┆ 0700)/     ┆ 0-0700)/  ┆ 0-0700)/  │\n",
       "│ 25       ┆ Yakima    ┆ Lopez      ┆ Orcas      ┆ /Date(1717 ┆ /Date(1717 ┆ /Date(171 ┆ /Date(171 │\n",
       "│          ┆           ┆            ┆            ┆ 352700000- ┆ 352792000- ┆ 735380200 ┆ 735270000 │\n",
       "│          ┆           ┆            ┆            ┆ 0700)/     ┆ 0700)/     ┆ 0-0700)/  ┆ 0-0700)/  │\n",
       "│ 25       ┆ Yakima    ┆ Orcas      ┆ Shaw       ┆ /Date(1717 ┆ /Date(1717 ┆ /Date(171 ┆ /Date(171 │\n",
       "│          ┆           ┆            ┆            ┆ 356300000- ┆ 356450000- ┆ 735703100 ┆ 735630000 │\n",
       "│          ┆           ┆            ┆            ┆ 0700)/     ┆ 0700)/     ┆ 0-0700)/  ┆ 0-0700)/  │\n",
       "│ 25       ┆ Yakima    ┆ Shaw       ┆ Anacortes  ┆ /Date(1717 ┆ /Date(1717 ┆ /Date(171 ┆ /Date(171 │\n",
       "│          ┆           ┆            ┆            ┆ 357200000- ┆ 357590000- ┆ 736068800 ┆ 735720000 │\n",
       "│          ┆           ┆            ┆            ┆ 0700)/     ┆ 0700)/     ┆ 0-0700)/  ┆ 0-0700)/  │\n",
       "│ 25       ┆ Yakima    ┆ Anacortes  ┆ Orcas      ┆ /Date(1717 ┆ /Date(1717 ┆ /Date(171 ┆ /Date(171 │\n",
       "│          ┆           ┆            ┆            ┆ 361700000- ┆ 362887000- ┆ 736598600 ┆ 736170000 │\n",
       "│          ┆           ┆            ┆            ┆ 0700)/     ┆ 0700)/     ┆ 0-0700)/  ┆ 0-0700)/  │\n",
       "│ 25       ┆ Yakima    ┆ Orcas      ┆ Anacortes  ┆ /Date(1717 ┆ /Date(1717 ┆ /Date(171 ┆ /Date(171 │\n",
       "│          ┆           ┆            ┆            ┆ 366500000- ┆ 367952000- ┆ 737148600 ┆ 736650000 │\n",
       "│          ┆           ┆            ┆            ┆ 0700)/     ┆ 0700)/     ┆ 0-0700)/  ┆ 0-0700)/  │\n",
       "│ 25       ┆ Yakima    ┆ Anacortes  ┆ Lopez      ┆ /Date(1717 ┆ /Date(1717 ┆ /Date(171 ┆ /Date(171 │\n",
       "│          ┆           ┆            ┆            ┆ 371000000- ┆ 372895000- ┆ 737535500 ┆ 737100000 │\n",
       "│          ┆           ┆            ┆            ┆ 0700)/     ┆ 0700)/     ┆ 0-0700)/  ┆ 0-0700)/  │\n",
       "│ 25       ┆ Yakima    ┆ Lopez      ┆ Friday     ┆ /Date(1717 ┆ /Date(1717 ┆ /Date(171 ┆ /Date(171 │\n",
       "│          ┆           ┆            ┆ Harbor     ┆ 374000000- ┆ 375805000- ┆ 737786300 ┆ 737400000 │\n",
       "│          ┆           ┆            ┆            ┆ 0700)/     ┆ 0700)/     ┆ 0-0700)/  ┆ 0-0700)/  │\n",
       "│ 25       ┆ Yakima    ┆ Friday     ┆ Lopez      ┆ /Date(1717 ┆ /Date(1717 ┆ /Date(171 ┆ /Date(171 │\n",
       "│          ┆           ┆ Harbor     ┆            ┆ 377900000- ┆ 378676000- ┆ 738083200 ┆ 737790000 │\n",
       "│          ┆           ┆            ┆            ┆ 0700)/     ┆ 0700)/     ┆ 0-0700)/  ┆ 0-0700)/  │\n",
       "│ 25       ┆ Yakima    ┆ Lopez      ┆ Anacortes  ┆ /Date(1717 ┆ /Date(1717 ┆ /Date(171 ┆ /Date(171 │\n",
       "│          ┆           ┆            ┆            ┆ 380600000- ┆ 381157000- ┆ 738378100 ┆ 738060000 │\n",
       "│          ┆           ┆            ┆            ┆ 0700)/     ┆ 0700)/     ┆ 0-0700)/  ┆ 0-0700)/  │\n",
       "│ 25       ┆ Yakima    ┆ Anacortes  ┆ Lopez      ┆ /Date(1717 ┆ /Date(1717 ┆ /Date(171 ┆ /Date(171 │\n",
       "│          ┆           ┆            ┆            ┆ 385100000- ┆ 385100000- ┆ 738762200 ┆ 738510000 │\n",
       "│          ┆           ┆            ┆            ┆ 0700)/     ┆ 0700)/     ┆ 0-0700)/  ┆ 0-0700)/  │\n",
       "│ 25       ┆ Yakima    ┆ Lopez      ┆ Friday     ┆ /Date(1717 ┆ /Date(1717 ┆ /Date(171 ┆ /Date(171 │\n",
       "│          ┆           ┆            ┆ Harbor     ┆ 388100000- ┆ 388082000- ┆ 739007100 ┆ 738810000 │\n",
       "│          ┆           ┆            ┆            ┆ 0700)/     ┆ 0700)/     ┆ 0-0700)/  ┆ 0-0700)/  │\n",
       "│ 25       ┆ Yakima    ┆ Friday     ┆ Anacortes  ┆ /Date(1717 ┆ /Date(1717 ┆ /Date(171 ┆ /Date(171 │\n",
       "│          ┆           ┆ Harbor     ┆            ┆ 391100000- ┆ 391100000- ┆ 739546700 ┆ 739110000 │\n",
       "│          ┆           ┆            ┆            ┆ 0700)/     ┆ 0700)/     ┆ 0-0700)/  ┆ 0-0700)/  │\n",
       "│ 25       ┆ Yakima    ┆ Anacortes  ┆ Friday     ┆ /Date(1717 ┆ /Date(1717 ┆ /Date(171 ┆ /Date(171 │\n",
       "│          ┆           ┆            ┆ Harbor     ┆ 413300000- ┆ 413278000- ┆ 741752000 ┆ 741330000 │\n",
       "│          ┆           ┆            ┆            ┆ 0700)/     ┆ 0700)/     ┆ 0-0700)/  ┆ 0-0700)/  │\n",
       "│ 25       ┆ Yakima    ┆ Friday     ┆ Lopez      ┆ /Date(1717 ┆ /Date(1717 ┆ /Date(171 ┆ /Date(171 │\n",
       "│          ┆           ┆ Harbor     ┆            ┆ 418700000- ┆ 418700000- ┆ 742061900 ┆ 741870000 │\n",
       "│          ┆           ┆            ┆            ┆ 0700)/     ┆ 0700)/     ┆ 0-0700)/  ┆ 0-0700)/  │\n",
       "│ 25       ┆ Yakima    ┆ Lopez      ┆ Anacortes  ┆ /Date(1717 ┆ /Date(1717 ┆ /Date(171 ┆ /Date(171 │\n",
       "│          ┆           ┆            ┆            ┆ 421400000- ┆ 421378000- ┆ 742397500 ┆ 742140000 │\n",
       "│          ┆           ┆            ┆            ┆ 0700)/     ┆ 0700)/     ┆ 0-0700)/  ┆ 0-0700)/  │\n",
       "│ 25       ┆ Yakima    ┆ Anacortes  ┆ Orcas      ┆ /Date(1717 ┆ /Date(1717 ┆ /Date(171 ┆ /Date(171 │\n",
       "│          ┆           ┆            ┆            ┆ 425000000- ┆ 425119000- ┆ 742853500 ┆ 742500000 │\n",
       "│          ┆           ┆            ┆            ┆ 0700)/     ┆ 0700)/     ┆ 0-0700)/  ┆ 0-0700)/  │\n",
       "│ 25       ┆ Yakima    ┆ Orcas      ┆ Shaw       ┆ /Date(1717 ┆ /Date(1717 ┆ /Date(171 ┆ /Date(171 │\n",
       "│          ┆           ┆            ┆            ┆ 429500000- ┆ 430135000- ┆ 743076500 ┆ 742950000 │\n",
       "│          ┆           ┆            ┆            ┆ 0700)/     ┆ 0700)/     ┆ 0-0700)/  ┆ 0-0700)/  │\n",
       "│ 25       ┆ Yakima    ┆ Shaw       ┆ Lopez      ┆ /Date(1717 ┆ /Date(1717 ┆ /Date(171 ┆ /Date(171 │\n",
       "│          ┆           ┆            ┆            ┆ 430400000- ┆ 431104000- ┆ 743217300 ┆ 743040000 │\n",
       "│          ┆           ┆            ┆            ┆ 0700)/     ┆ 0700)/     ┆ 0-0700)/  ┆ 0-0700)/  │\n",
       "│ 25       ┆ Yakima    ┆ Lopez      ┆ Anacortes  ┆ /Date(1717 ┆ /Date(1717 ┆ /Date(171 ┆ /Date(171 │\n",
       "│          ┆           ┆            ┆            ┆ 432200000- ┆ 432917000- ┆ 743551200 ┆ 743220000 │\n",
       "│          ┆           ┆            ┆            ┆ 0700)/     ┆ 0700)/     ┆ 0-0700)/  ┆ 0-0700)/  │\n",
       "│ 25       ┆ Yakima    ┆ Anacortes  ┆ Lopez      ┆ /Date(1717 ┆ /Date(1717 ┆ /Date(171 ┆ /Date(171 │\n",
       "│          ┆           ┆            ┆            ┆ 436100000- ┆ 437162000- ┆ 743985600 ┆ 743610000 │\n",
       "│          ┆           ┆            ┆            ┆ 0700)/     ┆ 0700)/     ┆ 0-0700)/  ┆ 0-0700)/  │\n",
       "│ 25       ┆ Yakima    ┆ Lopez      ┆ Orcas      ┆ /Date(1717 ┆ /Date(1717 ┆ /Date(171 ┆ /Date(171 │\n",
       "│          ┆           ┆            ┆            ┆ 439100000- ┆ 440425000- ┆ 744145700 ┆ 743910000 │\n",
       "│          ┆           ┆            ┆            ┆ 0700)/     ┆ 0700)/     ┆ 0-0700)/  ┆ 0-0700)/  │\n",
       "│ 25       ┆ Yakima    ┆ Orcas      ┆ Shaw       ┆ /Date(1717 ┆ /Date(1717 ┆ /Date(171 ┆ /Date(171 │\n",
       "│          ┆           ┆            ┆            ┆ 442700000- ┆ 443647000- ┆ 744426800 ┆ 744270000 │\n",
       "│          ┆           ┆            ┆            ┆ 0700)/     ┆ 0700)/     ┆ 0-0700)/  ┆ 0-0700)/  │\n",
       "│ 25       ┆ Yakima    ┆ Shaw       ┆ Anacortes  ┆ /Date(1717 ┆ /Date(1717 ┆ /Date(171 ┆ /Date(171 │\n",
       "│          ┆           ┆            ┆            ┆ 443600000- ┆ 444632000- ┆ 744794900 ┆ 744360000 │\n",
       "│          ┆           ┆            ┆            ┆ 0700)/     ┆ 0700)/     ┆ 0-0700)/  ┆ 0-0700)/  │\n",
       "│ 25       ┆ Yakima    ┆ Anacortes  ┆ Lopez      ┆ /Date(1717 ┆ /Date(1717 ┆ /Date(171 ┆ /Date(171 │\n",
       "│          ┆           ┆            ┆            ┆ 457400000- ┆ 457631000- ┆ 746023300 ┆ 745740000 │\n",
       "│          ┆           ┆            ┆            ┆ 0700)/     ┆ 0700)/     ┆ 0-0700)/  ┆ 0-0700)/  │\n",
       "│ 25       ┆ Yakima    ┆ Lopez      ┆ Friday     ┆ /Date(1717 ┆ /Date(1717 ┆ /Date(171 ┆ /Date(171 │\n",
       "│          ┆           ┆            ┆ Harbor     ┆ 460400000- ┆ 460673000- ┆ 746274500 ┆ 746040000 │\n",
       "│          ┆           ┆            ┆            ┆ 0700)/     ┆ 0700)/     ┆ 0-0700)/  ┆ 0-0700)/  │\n",
       "│ 25       ┆ Yakima    ┆ Friday     ┆ Lopez      ┆ /Date(1717 ┆ /Date(1717 ┆ /Date(171 ┆ /Date(171 │\n",
       "│          ┆           ┆ Harbor     ┆            ┆ 464300000- ┆ 464300000- ┆ 746699100 ┆ 746430000 │\n",
       "│          ┆           ┆            ┆            ┆ 0700)/     ┆ 0700)/     ┆ 0-0700)/  ┆ 0-0700)/  │\n",
       "│ 25       ┆ Yakima    ┆ Lopez      ┆ Anacortes  ┆ /Date(1717 ┆ /Date(1717 ┆ /Date(171 ┆ /Date(171 │\n",
       "│          ┆           ┆            ┆            ┆ 467000000- ┆ 467366000- ┆ 746997800 ┆ 746700000 │\n",
       "│          ┆           ┆            ┆            ┆ 0700)/     ┆ 0700)/     ┆ 0-0700)/  ┆ 0-0700)/  │\n",
       "│ 25       ┆ Yakima    ┆ Anacortes  ┆ Lopez      ┆ /Date(1717 ┆ /Date(1717 ┆ /Date(171 ┆ /Date(171 │\n",
       "│          ┆           ┆            ┆            ┆ 471500000- ┆ 471500000- ┆ 747397800 ┆ 747150000 │\n",
       "│          ┆           ┆            ┆            ┆ 0700)/     ┆ 0700)/     ┆ 0-0700)/  ┆ 0-0700)/  │\n",
       "│ 25       ┆ Yakima    ┆ Lopez      ┆ Friday     ┆ /Date(1717 ┆ /Date(1717 ┆ /Date(171 ┆ /Date(171 │\n",
       "│          ┆           ┆            ┆ Harbor     ┆ 474500000- ┆ 474377000- ┆ 747640700 ┆ 747450000 │\n",
       "│          ┆           ┆            ┆            ┆ 0700)/     ┆ 0700)/     ┆ 0-0700)/  ┆ 0-0700)/  │\n",
       "│ 25       ┆ Yakima    ┆ Friday     ┆ Anacortes  ┆ /Date(1717 ┆ /Date(1717 ┆ /Date(171 ┆ /Date(171 │\n",
       "│          ┆           ┆ Harbor     ┆            ┆ 477500000- ┆ 477525000- ┆ 748184400 ┆ 747750000 │\n",
       "│          ┆           ┆            ┆            ┆ 0700)/     ┆ 0700)/     ┆ 0-0700)/  ┆ 0-0700)/  │\n",
       "│ 25       ┆ Yakima    ┆ Anacortes  ┆ Friday     ┆ /Date(1717 ┆ /Date(1717 ┆ /Date(171 ┆ /Date(171 │\n",
       "│          ┆           ┆            ┆ Harbor     ┆ 499700000- ┆ 499711000- ┆ 750387500 ┆ 749970000 │\n",
       "│          ┆           ┆            ┆            ┆ 0700)/     ┆ 0700)/     ┆ 0-0700)/  ┆ 0-0700)/  │\n",
       "│ 25       ┆ Yakima    ┆ Friday     ┆ Lopez      ┆ /Date(1717 ┆ /Date(1717 ┆ /Date(171 ┆ /Date(171 │\n",
       "│          ┆           ┆ Harbor     ┆            ┆ 505100000- ┆ 505100000- ┆ 750721100 ┆ 750510000 │\n",
       "│          ┆           ┆            ┆            ┆ 0700)/     ┆ 0700)/     ┆ 0-0700)/  ┆ 0-0700)/  │\n",
       "│ 25       ┆ Yakima    ┆ Lopez      ┆ Anacortes  ┆ /Date(1717 ┆ /Date(1717 ┆ /Date(171 ┆ /Date(171 │\n",
       "│          ┆           ┆            ┆            ┆ 507800000- ┆ 508197000- ┆ 751106400 ┆ 750780000 │\n",
       "│          ┆           ┆            ┆            ┆ 0700)/     ┆ 0700)/     ┆ 0-0700)/  ┆ 0-0700)/  │\n",
       "│ 25       ┆ Yakima    ┆ Anacortes  ┆ Orcas      ┆ /Date(1717 ┆ /Date(1717 ┆ /Date(171 ┆ /Date(171 │\n",
       "│          ┆           ┆            ┆            ┆ 511400000- ┆ 512218000- ┆ 751554800 ┆ 751140000 │\n",
       "│          ┆           ┆            ┆            ┆ 0700)/     ┆ 0700)/     ┆ 0-0700)/  ┆ 0-0700)/  │\n",
       "│ 25       ┆ Yakima    ┆ Orcas      ┆ Shaw       ┆ /Date(1717 ┆ /Date(1717 ┆ /Date(171 ┆ /Date(171 │\n",
       "│          ┆           ┆            ┆            ┆ 515900000- ┆ 516917000- ┆ 751758700 ┆ 751590000 │\n",
       "│          ┆           ┆            ┆            ┆ 0700)/     ┆ 0700)/     ┆ 0-0700)/  ┆ 0-0700)/  │\n",
       "│ 25       ┆ Yakima    ┆ Shaw       ┆ Lopez      ┆ /Date(1717 ┆ /Date(1717 ┆ /Date(171 ┆ /Date(171 │\n",
       "│          ┆           ┆            ┆            ┆ 516800000- ┆ 517927000- ┆ 751905200 ┆ 751680000 │\n",
       "│          ┆           ┆            ┆            ┆ 0700)/     ┆ 0700)/     ┆ 0-0700)/  ┆ 0-0700)/  │\n",
       "│ 25       ┆ Yakima    ┆ Lopez      ┆ Anacortes  ┆ /Date(1717 ┆ /Date(1717 ┆ /Date(171 ┆ /Date(171 │\n",
       "│          ┆           ┆            ┆            ┆ 518600000- ┆ 519739000- ┆ 752258900 ┆ 751860000 │\n",
       "│          ┆           ┆            ┆            ┆ 0700)/     ┆ 0700)/     ┆ 0-0700)/  ┆ 0-0700)/  │\n",
       "│ 25       ┆ Yakima    ┆ Anacortes  ┆ Lopez      ┆ /Date(1717 ┆ /Date(1717 ┆ /Date(171 ┆ /Date(171 │\n",
       "│          ┆           ┆            ┆            ┆ 522500000- ┆ 524296000- ┆ 752691100 ┆ 752250000 │\n",
       "│          ┆           ┆            ┆            ┆ 0700)/     ┆ 0700)/     ┆ 0-0700)/  ┆ 0-0700)/  │\n",
       "│ 25       ┆ Yakima    ┆ Lopez      ┆ Orcas      ┆ /Date(1717 ┆ /Date(1717 ┆ /Date(171 ┆ /Date(171 │\n",
       "│          ┆           ┆            ┆            ┆ 525500000- ┆ 527311000- ┆ 752838800 ┆ 752550000 │\n",
       "│          ┆           ┆            ┆            ┆ 0700)/     ┆ 0700)/     ┆ 0-0700)/  ┆ 0-0700)/  │\n",
       "│ 25       ┆ Yakima    ┆ Orcas      ┆ Shaw       ┆ /Date(1717 ┆ /Date(1717 ┆ /Date(171 ┆ /Date(171 │\n",
       "│          ┆           ┆            ┆            ┆ 529100000- ┆ 530289000- ┆ 753095900 ┆ 752910000 │\n",
       "│          ┆           ┆            ┆            ┆ 0700)/     ┆ 0700)/     ┆ 0-0700)/  ┆ 0-0700)/  │\n",
       "│ 25       ┆ Yakima    ┆ Shaw       ┆ Anacortes  ┆ /Date(1717 ┆ /Date(1717 ┆ /Date(171 ┆ /Date(171 │\n",
       "│          ┆           ┆            ┆            ┆ 530000000- ┆ 531215000- ┆ 753464700 ┆ 753000000 │\n",
       "│          ┆           ┆            ┆            ┆ 0700)/     ┆ 0700)/     ┆ 0-0700)/  ┆ 0-0700)/  │\n",
       "└──────────┴───────────┴────────────┴────────────┴────────────┴────────────┴───────────┴───────────┘"
      ]
     },
     "execution_count": 66,
     "metadata": {},
     "output_type": "execute_result"
    }
   ],
   "source": [
    "vessel_history = pl.read_parquet(vessel_history_paths)\n",
    "vessel_history"
   ]
  },
  {
   "cell_type": "markdown",
   "metadata": {},
   "source": [
    "## Task 2 - explore the data"
   ]
  },
  {
   "cell_type": "markdown",
   "metadata": {},
   "source": [
    "### 🔄 Task"
   ]
  },
  {
   "cell_type": "markdown",
   "metadata": {},
   "source": [
    "Begin exploring the data. You will want to understand.\n",
    "\n",
    "- What columns exist in the data?\n",
    "- How do the two data sets relate to one another?\n",
    "- What is the type of each column (e.g. string, number, category, date)?\n",
    "- Which columns could be useful for the model.\n",
    "- What is the cardinality of categorical data?\n",
    "- Is all of the data in scope?\n",
    "- What steps will I need to perform to clean the data?\n",
    "\n",
    "**Tips**\n",
    "\n",
    "- Use VS Codes built in data viewer to explore the data.\n",
    "- If you are more comfortable with Pandas, you can convert the polars dataframe into a pandas dataframe (e.g. `df.to_pandas()`).\n",
    "- The polars user guide has great docs on how to use polars: https://docs.pola.rs.\n",
    "\n",
    "🚨 We are not performing feature engineering at this stage. But it is a good time to start thinking about what features you can create from the data.\n",
    "\n",
    "> 💡 We are not using it in this workshop, but `ydata-profiling` (<https://github.com/ydataai/ydata-profiling>) is a good tool for exploring a new dataset."
   ]
  },
  {
   "cell_type": "markdown",
   "metadata": {},
   "source": [
    "### 🧑‍💻 Code"
   ]
  },
  {
   "cell_type": "markdown",
   "metadata": {},
   "source": [
    "#### vessel_history"
   ]
  },
  {
   "cell_type": "code",
   "execution_count": 9,
   "metadata": {},
   "outputs": [
    {
     "data": {
      "text/html": [
       "<div><style>\n",
       ".dataframe > thead > tr,\n",
       ".dataframe > tbody > tr {\n",
       "  text-align: right;\n",
       "  white-space: pre-wrap;\n",
       "}\n",
       "</style>\n",
       "<small>shape: (3, 8)</small><table border=\"1\" class=\"dataframe\"><thead><tr><th>VesselId</th><th>Vessel</th><th>Departing</th><th>Arriving</th><th>ScheduledDepart</th><th>ActualDepart</th><th>EstArrival</th><th>Date</th></tr><tr><td>i64</td><td>str</td><td>str</td><td>str</td><td>str</td><td>str</td><td>str</td><td>str</td></tr></thead><tbody><tr><td>32</td><td>&quot;Cathlamet&quot;</td><td>&quot;Vashon&quot;</td><td>&quot;Fauntleroy&quot;</td><td>&quot;/Date(1577886000000-0800)/&quot;</td><td>&quot;/Date(1577886072000-0800)/&quot;</td><td>&quot;/Date(1577887027000-0800)/&quot;</td><td>&quot;/Date(1577886000000-0800)/&quot;</td></tr><tr><td>32</td><td>&quot;Cathlamet&quot;</td><td>&quot;Fauntleroy&quot;</td><td>&quot;Vashon&quot;</td><td>&quot;/Date(1577887800000-0800)/&quot;</td><td>&quot;/Date(1577887897000-0800)/&quot;</td><td>&quot;/Date(1577888877000-0800)/&quot;</td><td>&quot;/Date(1577887800000-0800)/&quot;</td></tr><tr><td>32</td><td>&quot;Cathlamet&quot;</td><td>&quot;Vashon&quot;</td><td>&quot;Fauntleroy&quot;</td><td>&quot;/Date(1577889300000-0800)/&quot;</td><td>&quot;/Date(1577889457000-0800)/&quot;</td><td>&quot;/Date(1577890159000-0800)/&quot;</td><td>&quot;/Date(1577889300000-0800)/&quot;</td></tr></tbody></table></div>"
      ],
      "text/plain": [
       "shape: (3, 8)\n",
       "┌──────────┬───────────┬────────────┬────────────┬────────────┬────────────┬───────────┬───────────┐\n",
       "│ VesselId ┆ Vessel    ┆ Departing  ┆ Arriving   ┆ ScheduledD ┆ ActualDepa ┆ EstArriva ┆ Date      │\n",
       "│ ---      ┆ ---       ┆ ---        ┆ ---        ┆ epart      ┆ rt         ┆ l         ┆ ---       │\n",
       "│ i64      ┆ str       ┆ str        ┆ str        ┆ ---        ┆ ---        ┆ ---       ┆ str       │\n",
       "│          ┆           ┆            ┆            ┆ str        ┆ str        ┆ str       ┆           │\n",
       "╞══════════╪═══════════╪════════════╪════════════╪════════════╪════════════╪═══════════╪═══════════╡\n",
       "│ 32       ┆ Cathlamet ┆ Vashon     ┆ Fauntleroy ┆ /Date(1577 ┆ /Date(1577 ┆ /Date(157 ┆ /Date(157 │\n",
       "│          ┆           ┆            ┆            ┆ 886000000- ┆ 886072000- ┆ 788702700 ┆ 788600000 │\n",
       "│          ┆           ┆            ┆            ┆ 0800)/     ┆ 0800)/     ┆ 0-0800)/  ┆ 0-0800)/  │\n",
       "│ 32       ┆ Cathlamet ┆ Fauntleroy ┆ Vashon     ┆ /Date(1577 ┆ /Date(1577 ┆ /Date(157 ┆ /Date(157 │\n",
       "│          ┆           ┆            ┆            ┆ 887800000- ┆ 887897000- ┆ 788887700 ┆ 788780000 │\n",
       "│          ┆           ┆            ┆            ┆ 0800)/     ┆ 0800)/     ┆ 0-0800)/  ┆ 0-0800)/  │\n",
       "│ 32       ┆ Cathlamet ┆ Vashon     ┆ Fauntleroy ┆ /Date(1577 ┆ /Date(1577 ┆ /Date(157 ┆ /Date(157 │\n",
       "│          ┆           ┆            ┆            ┆ 889300000- ┆ 889457000- ┆ 789015900 ┆ 788930000 │\n",
       "│          ┆           ┆            ┆            ┆ 0800)/     ┆ 0800)/     ┆ 0-0800)/  ┆ 0-0800)/  │\n",
       "└──────────┴───────────┴────────────┴────────────┴────────────┴────────────┴───────────┴───────────┘"
      ]
     },
     "execution_count": 67,
     "metadata": {},
     "output_type": "execute_result"
    }
   ],
   "source": [
    "(\n",
    "    vessel_history\n",
    "    .head(3)\n",
    ")"
   ]
  },
  {
   "cell_type": "markdown",
   "metadata": {},
   "source": [
    "- The dates and times are not formatted correctly. We can fix this when we tidy the data."
   ]
  },
  {
   "cell_type": "markdown",
   "metadata": {},
   "source": [
    "#### vessel_verbose"
   ]
  },
  {
   "cell_type": "code",
   "execution_count": 10,
   "metadata": {},
   "outputs": [
    {
     "data": {
      "text/html": [
       "<div><style>\n",
       ".dataframe > thead > tr,\n",
       ".dataframe > tbody > tr {\n",
       "  text-align: right;\n",
       "  white-space: pre-wrap;\n",
       "}\n",
       "</style>\n",
       "<small>shape: (2, 39)</small><table border=\"1\" class=\"dataframe\"><thead><tr><th>VesselID</th><th>VesselSubjectID</th><th>VesselName</th><th>VesselAbbrev</th><th>Class</th><th>Status</th><th>OwnedByWSF</th><th>CarDeckRestroom</th><th>CarDeckShelter</th><th>Elevator</th><th>ADAAccessible</th><th>MainCabinGalley</th><th>MainCabinRestroom</th><th>PublicWifi</th><th>ADAInfo</th><th>AdditionalInfo</th><th>VesselNameDesc</th><th>VesselHistory</th><th>Beam</th><th>CityBuilt</th><th>SpeedInKnots</th><th>Draft</th><th>EngineCount</th><th>Horsepower</th><th>Length</th><th>MaxPassengerCount</th><th>PassengerOnly</th><th>FastFerry</th><th>PropulsionInfo</th><th>TallDeckClearance</th><th>RegDeckSpace</th><th>TallDeckSpace</th><th>Tonnage</th><th>Displacement</th><th>YearBuilt</th><th>YearRebuilt</th><th>VesselDrawingImg</th><th>SolasCertified</th><th>MaxPassengerCountForInternational</th></tr><tr><td>i64</td><td>i64</td><td>str</td><td>str</td><td>struct[7]</td><td>i64</td><td>bool</td><td>bool</td><td>bool</td><td>bool</td><td>bool</td><td>bool</td><td>bool</td><td>bool</td><td>str</td><td>str</td><td>str</td><td>str</td><td>str</td><td>str</td><td>i64</td><td>str</td><td>i64</td><td>i64</td><td>str</td><td>i64</td><td>bool</td><td>bool</td><td>str</td><td>i64</td><td>i64</td><td>i64</td><td>i64</td><td>i64</td><td>i64</td><td>f64</td><td>null</td><td>bool</td><td>f64</td></tr></thead><tbody><tr><td>1</td><td>1</td><td>&quot;Cathlamet&quot;</td><td>&quot;CAT&quot;</td><td>{10,&quot;Issaquah 130&quot;,310,&quot;https://www.wsdot.wa.gov/ferries/images/pages/boat_drawings/4-issaquah130.gif&quot;,&quot;Issaquah&quot;,&quot;https://www.wsdot.wa.gov/ferries/images/pages/boat_drawings/4-issaquah130-sillouette_sml.gif&quot;,40}</td><td>1</td><td>true</td><td>true</td><td>false</td><td>true</td><td>true</td><td>true</td><td>true</td><td>false</td><td>&quot;The MV Cathlamet has elevator …</td><td>&quot; &quot;</td><td>&quot;From the Kathlamet tribe, the …</td><td>&quot; &quot;</td><td>&quot;78&#x27; 8&quot;&quot;</td><td>&quot;Seattle, WA&quot;</td><td>16</td><td>&quot;16&#x27; 6&quot;&quot;</td><td>2</td><td>5000</td><td>&quot;328&#x27;&quot;</td><td>1200</td><td>false</td><td>false</td><td>&quot;DIESEL&quot;</td><td>186</td><td>124</td><td>26</td><td>2477</td><td>3310</td><td>1981</td><td>1993.0</td><td>null</td><td>false</td><td>null</td></tr><tr><td>2</td><td>2</td><td>&quot;Chelan&quot;</td><td>&quot;CHE&quot;</td><td>{10,&quot;Issaquah 130&quot;,310,&quot;https://www.wsdot.wa.gov/ferries/images/pages/boat_drawings/4-issaquah130.gif&quot;,&quot;Issaquah&quot;,&quot;https://www.wsdot.wa.gov/ferries/images/pages/boat_drawings/4-issaquah130-sillouette_sml.gif&quot;,40}</td><td>1</td><td>true</td><td>true</td><td>false</td><td>true</td><td>true</td><td>true</td><td>true</td><td>false</td><td>&quot;The MV Chelan has elevator acc…</td><td>&quot; &quot;</td><td>&quot;From the Chelan  language: Tsi…</td><td>&quot; &quot;</td><td>&quot;78&#x27; 8&quot;&quot;</td><td>&quot;Seattle, WA&quot;</td><td>16</td><td>&quot;16&#x27; 9&quot;&quot;</td><td>2</td><td>5000</td><td>&quot;328&#x27;&quot;</td><td>1200</td><td>false</td><td>false</td><td>&quot;DIESEL&quot;</td><td>188</td><td>124</td><td>30</td><td>2477</td><td>3405</td><td>1981</td><td>2005.0</td><td>null</td><td>true</td><td>1090.0</td></tr></tbody></table></div>"
      ],
      "text/plain": [
       "shape: (2, 39)\n",
       "┌──────────┬───────────┬───────────┬───────────┬───┬───────────┬───────────┬───────────┬───────────┐\n",
       "│ VesselID ┆ VesselSub ┆ VesselNam ┆ VesselAbb ┆ … ┆ YearRebui ┆ VesselDra ┆ SolasCert ┆ MaxPassen │\n",
       "│ ---      ┆ jectID    ┆ e         ┆ rev       ┆   ┆ lt        ┆ wingImg   ┆ ified     ┆ gerCountF │\n",
       "│ i64      ┆ ---       ┆ ---       ┆ ---       ┆   ┆ ---       ┆ ---       ┆ ---       ┆ orInterna │\n",
       "│          ┆ i64       ┆ str       ┆ str       ┆   ┆ f64       ┆ null      ┆ bool      ┆ tio…      │\n",
       "│          ┆           ┆           ┆           ┆   ┆           ┆           ┆           ┆ ---       │\n",
       "│          ┆           ┆           ┆           ┆   ┆           ┆           ┆           ┆ f64       │\n",
       "╞══════════╪═══════════╪═══════════╪═══════════╪═══╪═══════════╪═══════════╪═══════════╪═══════════╡\n",
       "│ 1        ┆ 1         ┆ Cathlamet ┆ CAT       ┆ … ┆ 1993.0    ┆ null      ┆ false     ┆ null      │\n",
       "│ 2        ┆ 2         ┆ Chelan    ┆ CHE       ┆ … ┆ 2005.0    ┆ null      ┆ true      ┆ 1090.0    │\n",
       "└──────────┴───────────┴───────────┴───────────┴───┴───────────┴───────────┴───────────┴───────────┘"
      ]
     },
     "execution_count": 68,
     "metadata": {},
     "output_type": "execute_result"
    }
   ],
   "source": [
    "(\n",
    "    vessel_verbose\n",
    "    .head(2)\n",
    ")"
   ]
  },
  {
   "cell_type": "markdown",
   "metadata": {},
   "source": [
    "How many different vessels are in the data?"
   ]
  },
  {
   "cell_type": "code",
   "execution_count": 11,
   "metadata": {},
   "outputs": [
    {
     "data": {
      "text/plain": [
       "polars.config.Config"
      ]
     },
     "execution_count": 69,
     "metadata": {},
     "output_type": "execute_result"
    }
   ],
   "source": [
    "# Print more rows.\n",
    "pl.Config.set_tbl_rows(100)"
   ]
  },
  {
   "cell_type": "code",
   "execution_count": 12,
   "metadata": {},
   "outputs": [
    {
     "data": {
      "text/html": [
       "<div><style>\n",
       ".dataframe > thead > tr,\n",
       ".dataframe > tbody > tr {\n",
       "  text-align: right;\n",
       "  white-space: pre-wrap;\n",
       "}\n",
       "</style>\n",
       "<small>shape: (21, 2)</small><table border=\"1\" class=\"dataframe\"><thead><tr><th>VesselID</th><th>VesselName</th></tr><tr><td>i64</td><td>str</td></tr></thead><tbody><tr><td>1</td><td>&quot;Cathlamet&quot;</td></tr><tr><td>2</td><td>&quot;Chelan&quot;</td></tr><tr><td>65</td><td>&quot;Chetzemoka&quot;</td></tr><tr><td>74</td><td>&quot;Chimacum&quot;</td></tr><tr><td>15</td><td>&quot;Issaquah&quot;</td></tr><tr><td>17</td><td>&quot;Kaleetan&quot;</td></tr><tr><td>52</td><td>&quot;Kennewick&quot;</td></tr><tr><td>18</td><td>&quot;Kitsap&quot;</td></tr><tr><td>19</td><td>&quot;Kittitas&quot;</td></tr><tr><td>25</td><td>&quot;Puyallup&quot;</td></tr><tr><td>66</td><td>&quot;Salish&quot;</td></tr><tr><td>69</td><td>&quot;Samish&quot;</td></tr><tr><td>28</td><td>&quot;Sealth&quot;</td></tr><tr><td>30</td><td>&quot;Spokane&quot;</td></tr><tr><td>75</td><td>&quot;Suquamish&quot;</td></tr><tr><td>32</td><td>&quot;Tacoma&quot;</td></tr><tr><td>33</td><td>&quot;Tillikum&quot;</td></tr><tr><td>68</td><td>&quot;Tokitae&quot;</td></tr><tr><td>36</td><td>&quot;Walla Walla&quot;</td></tr><tr><td>37</td><td>&quot;Wenatchee&quot;</td></tr><tr><td>38</td><td>&quot;Yakima&quot;</td></tr></tbody></table></div>"
      ],
      "text/plain": [
       "shape: (21, 2)\n",
       "┌──────────┬─────────────┐\n",
       "│ VesselID ┆ VesselName  │\n",
       "│ ---      ┆ ---         │\n",
       "│ i64      ┆ str         │\n",
       "╞══════════╪═════════════╡\n",
       "│ 1        ┆ Cathlamet   │\n",
       "│ 2        ┆ Chelan      │\n",
       "│ 65       ┆ Chetzemoka  │\n",
       "│ 74       ┆ Chimacum    │\n",
       "│ 15       ┆ Issaquah    │\n",
       "│ 17       ┆ Kaleetan    │\n",
       "│ 52       ┆ Kennewick   │\n",
       "│ 18       ┆ Kitsap      │\n",
       "│ 19       ┆ Kittitas    │\n",
       "│ 25       ┆ Puyallup    │\n",
       "│ 66       ┆ Salish      │\n",
       "│ 69       ┆ Samish      │\n",
       "│ 28       ┆ Sealth      │\n",
       "│ 30       ┆ Spokane     │\n",
       "│ 75       ┆ Suquamish   │\n",
       "│ 32       ┆ Tacoma      │\n",
       "│ 33       ┆ Tillikum    │\n",
       "│ 68       ┆ Tokitae     │\n",
       "│ 36       ┆ Walla Walla │\n",
       "│ 37       ┆ Wenatchee   │\n",
       "│ 38       ┆ Yakima      │\n",
       "└──────────┴─────────────┘"
      ]
     },
     "execution_count": 70,
     "metadata": {},
     "output_type": "execute_result"
    }
   ],
   "source": [
    "(\n",
    "    vessel_verbose\n",
    "    .select(pl.col('VesselID'), pl.col('VesselName'))\n",
    ")"
   ]
  },
  {
   "cell_type": "code",
   "execution_count": 13,
   "metadata": {},
   "outputs": [
    {
     "data": {
      "text/plain": [
       "21"
      ]
     },
     "execution_count": 71,
     "metadata": {},
     "output_type": "execute_result"
    }
   ],
   "source": [
    "# Verify that each VesselID is unique.\n",
    "(\n",
    "    vessel_verbose\n",
    "    .get_column('VesselID')\n",
    "    .n_unique()\n",
    ")"
   ]
  },
  {
   "cell_type": "markdown",
   "metadata": {},
   "source": [
    "What are all of the numerical columns?"
   ]
  },
  {
   "cell_type": "code",
   "execution_count": 14,
   "metadata": {},
   "outputs": [
    {
     "data": {
      "text/html": [
       "<div><style>\n",
       ".dataframe > thead > tr,\n",
       ".dataframe > tbody > tr {\n",
       "  text-align: right;\n",
       "  white-space: pre-wrap;\n",
       "}\n",
       "</style>\n",
       "<small>shape: (5, 15)</small><table border=\"1\" class=\"dataframe\"><thead><tr><th>VesselID</th><th>VesselSubjectID</th><th>Status</th><th>SpeedInKnots</th><th>EngineCount</th><th>Horsepower</th><th>MaxPassengerCount</th><th>TallDeckClearance</th><th>RegDeckSpace</th><th>TallDeckSpace</th><th>Tonnage</th><th>Displacement</th><th>YearBuilt</th><th>YearRebuilt</th><th>MaxPassengerCountForInternational</th></tr><tr><td>i64</td><td>i64</td><td>i64</td><td>i64</td><td>i64</td><td>i64</td><td>i64</td><td>i64</td><td>i64</td><td>i64</td><td>i64</td><td>i64</td><td>i64</td><td>f64</td><td>f64</td></tr></thead><tbody><tr><td>1</td><td>1</td><td>1</td><td>16</td><td>2</td><td>5000</td><td>1200</td><td>186</td><td>124</td><td>26</td><td>2477</td><td>3310</td><td>1981</td><td>1993.0</td><td>null</td></tr><tr><td>2</td><td>2</td><td>1</td><td>16</td><td>2</td><td>5000</td><td>1200</td><td>188</td><td>124</td><td>30</td><td>2477</td><td>3405</td><td>1981</td><td>2005.0</td><td>1090.0</td></tr><tr><td>65</td><td>428</td><td>1</td><td>15</td><td>2</td><td>6000</td><td>748</td><td>192</td><td>64</td><td>9</td><td>4623</td><td>2415</td><td>2010</td><td>null</td><td>null</td></tr><tr><td>74</td><td>487</td><td>1</td><td>17</td><td>2</td><td>6000</td><td>1500</td><td>192</td><td>144</td><td>34</td><td>3525</td><td>4384</td><td>2017</td><td>null</td><td>null</td></tr><tr><td>15</td><td>15</td><td>1</td><td>16</td><td>2</td><td>5000</td><td>1200</td><td>188</td><td>124</td><td>26</td><td>2475</td><td>3310</td><td>1979</td><td>1989.0</td><td>null</td></tr></tbody></table></div>"
      ],
      "text/plain": [
       "shape: (5, 15)\n",
       "┌──────────┬────────────┬────────┬────────────┬───┬────────────┬───────────┬───────────┬───────────┐\n",
       "│ VesselID ┆ VesselSubj ┆ Status ┆ SpeedInKno ┆ … ┆ Displaceme ┆ YearBuilt ┆ YearRebui ┆ MaxPassen │\n",
       "│ ---      ┆ ectID      ┆ ---    ┆ ts         ┆   ┆ nt         ┆ ---       ┆ lt        ┆ gerCountF │\n",
       "│ i64      ┆ ---        ┆ i64    ┆ ---        ┆   ┆ ---        ┆ i64       ┆ ---       ┆ orInterna │\n",
       "│          ┆ i64        ┆        ┆ i64        ┆   ┆ i64        ┆           ┆ f64       ┆ tio…      │\n",
       "│          ┆            ┆        ┆            ┆   ┆            ┆           ┆           ┆ ---       │\n",
       "│          ┆            ┆        ┆            ┆   ┆            ┆           ┆           ┆ f64       │\n",
       "╞══════════╪════════════╪════════╪════════════╪═══╪════════════╪═══════════╪═══════════╪═══════════╡\n",
       "│ 1        ┆ 1          ┆ 1      ┆ 16         ┆ … ┆ 3310       ┆ 1981      ┆ 1993.0    ┆ null      │\n",
       "│ 2        ┆ 2          ┆ 1      ┆ 16         ┆ … ┆ 3405       ┆ 1981      ┆ 2005.0    ┆ 1090.0    │\n",
       "│ 65       ┆ 428        ┆ 1      ┆ 15         ┆ … ┆ 2415       ┆ 2010      ┆ null      ┆ null      │\n",
       "│ 74       ┆ 487        ┆ 1      ┆ 17         ┆ … ┆ 4384       ┆ 2017      ┆ null      ┆ null      │\n",
       "│ 15       ┆ 15         ┆ 1      ┆ 16         ┆ … ┆ 3310       ┆ 1979      ┆ 1989.0    ┆ null      │\n",
       "└──────────┴────────────┴────────┴────────────┴───┴────────────┴───────────┴───────────┴───────────┘"
      ]
     },
     "execution_count": 72,
     "metadata": {},
     "output_type": "execute_result"
    }
   ],
   "source": [
    "\n",
    "(\n",
    "    vessel_verbose\n",
    "    .select(pl.selectors.numeric())\n",
    "    .head(5)\n",
    ")"
   ]
  },
  {
   "cell_type": "markdown",
   "metadata": {},
   "source": [
    "- Some of the date based columns are integers or floats. During data tidying we could convert them into a proper date type.\n"
   ]
  },
  {
   "cell_type": "markdown",
   "metadata": {},
   "source": [
    "What are all of the string columns?"
   ]
  },
  {
   "cell_type": "code",
   "execution_count": 15,
   "metadata": {},
   "outputs": [
    {
     "data": {
      "text/html": [
       "<div><style>\n",
       ".dataframe > thead > tr,\n",
       ".dataframe > tbody > tr {\n",
       "  text-align: right;\n",
       "  white-space: pre-wrap;\n",
       "}\n",
       "</style>\n",
       "<small>shape: (5, 11)</small><table border=\"1\" class=\"dataframe\"><thead><tr><th>VesselName</th><th>VesselAbbrev</th><th>ADAInfo</th><th>AdditionalInfo</th><th>VesselNameDesc</th><th>VesselHistory</th><th>Beam</th><th>CityBuilt</th><th>Draft</th><th>Length</th><th>PropulsionInfo</th></tr><tr><td>str</td><td>str</td><td>str</td><td>str</td><td>str</td><td>str</td><td>str</td><td>str</td><td>str</td><td>str</td><td>str</td></tr></thead><tbody><tr><td>&quot;Cathlamet&quot;</td><td>&quot;CAT&quot;</td><td>&quot;The MV Cathlamet has elevator …</td><td>&quot; &quot;</td><td>&quot;From the Kathlamet tribe, the …</td><td>&quot; &quot;</td><td>&quot;78&#x27; 8&quot;&quot;</td><td>&quot;Seattle, WA&quot;</td><td>&quot;16&#x27; 6&quot;&quot;</td><td>&quot;328&#x27;&quot;</td><td>&quot;DIESEL&quot;</td></tr><tr><td>&quot;Chelan&quot;</td><td>&quot;CHE&quot;</td><td>&quot;The MV Chelan has elevator acc…</td><td>&quot; &quot;</td><td>&quot;From the Chelan  language: Tsi…</td><td>&quot; &quot;</td><td>&quot;78&#x27; 8&quot;&quot;</td><td>&quot;Seattle, WA&quot;</td><td>&quot;16&#x27; 9&quot;&quot;</td><td>&quot;328&#x27;&quot;</td><td>&quot;DIESEL&quot;</td></tr><tr><td>&quot;Chetzemoka&quot;</td><td>&quot;CHZ&quot;</td><td>&quot;MV Chetzemoka has elevator acc…</td><td>null</td><td>&quot;The name honors a friendly Nat…</td><td>null</td><td>&quot;64&#x27;&quot;</td><td>&quot;Seattle&quot;</td><td>&quot;11&#x27;&quot;</td><td>&quot;273&#x27; 8&quot;&quot;</td><td>&quot;DIESEL&quot;</td></tr><tr><td>&quot;Chimacum&quot;</td><td>&quot;CHM&quot;</td><td>&quot;The vessel has two ADA complia…</td><td>null</td><td>&quot;“The Chimacum People who spoke…</td><td>&quot;Chimacum is the third of the 1…</td><td>&quot;83&#x27; 2&quot;&quot;</td><td>&quot;Seattle, WA&quot;</td><td>&quot;18&#x27;&quot;</td><td>&quot;362&#x27; 3&quot;&quot;</td><td>&quot;DIESEL&quot;</td></tr><tr><td>&quot;Issaquah&quot;</td><td>&quot;ISS&quot;</td><td>&quot;The MV Issaquah has elevator a…</td><td>&quot; &quot;</td><td>&quot;&quot;Snake.&quot; Native Americans who …</td><td>&quot; &quot;</td><td>&quot;78&#x27; 8&quot;&quot;</td><td>&quot;Seattle, WA&quot;</td><td>&quot;16&#x27; 6&quot;&quot;</td><td>&quot;328&#x27;&quot;</td><td>&quot;DIESEL&quot;</td></tr></tbody></table></div>"
      ],
      "text/plain": [
       "shape: (5, 11)\n",
       "┌────────────┬────────────┬────────────┬────────────┬───┬───────────┬────────┬─────────┬───────────┐\n",
       "│ VesselName ┆ VesselAbbr ┆ ADAInfo    ┆ Additional ┆ … ┆ CityBuilt ┆ Draft  ┆ Length  ┆ Propulsio │\n",
       "│ ---        ┆ ev         ┆ ---        ┆ Info       ┆   ┆ ---       ┆ ---    ┆ ---     ┆ nInfo     │\n",
       "│ str        ┆ ---        ┆ str        ┆ ---        ┆   ┆ str       ┆ str    ┆ str     ┆ ---       │\n",
       "│            ┆ str        ┆            ┆ str        ┆   ┆           ┆        ┆         ┆ str       │\n",
       "╞════════════╪════════════╪════════════╪════════════╪═══╪═══════════╪════════╪═════════╪═══════════╡\n",
       "│ Cathlamet  ┆ CAT        ┆ The MV     ┆            ┆ … ┆ Seattle,  ┆ 16' 6\" ┆ 328'    ┆ DIESEL    │\n",
       "│            ┆            ┆ Cathlamet  ┆            ┆   ┆ WA        ┆        ┆         ┆           │\n",
       "│            ┆            ┆ has        ┆            ┆   ┆           ┆        ┆         ┆           │\n",
       "│            ┆            ┆ elevator … ┆            ┆   ┆           ┆        ┆         ┆           │\n",
       "│ Chelan     ┆ CHE        ┆ The MV     ┆            ┆ … ┆ Seattle,  ┆ 16' 9\" ┆ 328'    ┆ DIESEL    │\n",
       "│            ┆            ┆ Chelan has ┆            ┆   ┆ WA        ┆        ┆         ┆           │\n",
       "│            ┆            ┆ elevator   ┆            ┆   ┆           ┆        ┆         ┆           │\n",
       "│            ┆            ┆ acc…       ┆            ┆   ┆           ┆        ┆         ┆           │\n",
       "│ Chetzemoka ┆ CHZ        ┆ MV         ┆ null       ┆ … ┆ Seattle   ┆ 11'    ┆ 273' 8\" ┆ DIESEL    │\n",
       "│            ┆            ┆ Chetzemoka ┆            ┆   ┆           ┆        ┆         ┆           │\n",
       "│            ┆            ┆ has        ┆            ┆   ┆           ┆        ┆         ┆           │\n",
       "│            ┆            ┆ elevator   ┆            ┆   ┆           ┆        ┆         ┆           │\n",
       "│            ┆            ┆ acc…       ┆            ┆   ┆           ┆        ┆         ┆           │\n",
       "│ Chimacum   ┆ CHM        ┆ The vessel ┆ null       ┆ … ┆ Seattle,  ┆ 18'    ┆ 362' 3\" ┆ DIESEL    │\n",
       "│            ┆            ┆ has two    ┆            ┆   ┆ WA        ┆        ┆         ┆           │\n",
       "│            ┆            ┆ ADA        ┆            ┆   ┆           ┆        ┆         ┆           │\n",
       "│            ┆            ┆ complia…   ┆            ┆   ┆           ┆        ┆         ┆           │\n",
       "│ Issaquah   ┆ ISS        ┆ The MV     ┆            ┆ … ┆ Seattle,  ┆ 16' 6\" ┆ 328'    ┆ DIESEL    │\n",
       "│            ┆            ┆ Issaquah   ┆            ┆   ┆ WA        ┆        ┆         ┆           │\n",
       "│            ┆            ┆ has        ┆            ┆   ┆           ┆        ┆         ┆           │\n",
       "│            ┆            ┆ elevator   ┆            ┆   ┆           ┆        ┆         ┆           │\n",
       "│            ┆            ┆ a…         ┆            ┆   ┆           ┆        ┆         ┆           │\n",
       "└────────────┴────────────┴────────────┴────────────┴───┴───────────┴────────┴─────────┴───────────┘"
      ]
     },
     "execution_count": 73,
     "metadata": {},
     "output_type": "execute_result"
    }
   ],
   "source": [
    "(\n",
    "    vessel_verbose\n",
    "    .select(pl.selectors.string())\n",
    "    .head(5)\n",
    ")"
   ]
  },
  {
   "cell_type": "markdown",
   "metadata": {},
   "source": [
    "- It looks like some missing values are represented with an empty string `\"\"` while others have a `null` value. We may want to make this consistent when we tidy the data.\n",
    "- Some string columns are measurements that should be converted into numeric types."
   ]
  },
  {
   "cell_type": "markdown",
   "metadata": {},
   "source": [
    "How much data is missing?"
   ]
  },
  {
   "cell_type": "code",
   "execution_count": 16,
   "metadata": {},
   "outputs": [
    {
     "data": {
      "text/html": [
       "<div><style>\n",
       ".dataframe > thead > tr,\n",
       ".dataframe > tbody > tr {\n",
       "  text-align: right;\n",
       "  white-space: pre-wrap;\n",
       "}\n",
       "</style>\n",
       "<small>shape: (39, 3)</small><table border=\"1\" class=\"dataframe\"><thead><tr><th>Column Name</th><th>Missing Rows</th><th>% Missing</th></tr><tr><td>str</td><td>u32</td><td>f64</td></tr></thead><tbody><tr><td>&quot;VesselDrawingImg&quot;</td><td>21</td><td>100.0</td></tr><tr><td>&quot;MaxPassengerCountForInternatio…</td><td>20</td><td>95.2</td></tr><tr><td>&quot;YearRebuilt&quot;</td><td>11</td><td>52.4</td></tr><tr><td>&quot;AdditionalInfo&quot;</td><td>7</td><td>33.3</td></tr><tr><td>&quot;VesselHistory&quot;</td><td>3</td><td>14.3</td></tr><tr><td>&quot;VesselID&quot;</td><td>0</td><td>0.0</td></tr><tr><td>&quot;VesselSubjectID&quot;</td><td>0</td><td>0.0</td></tr><tr><td>&quot;VesselName&quot;</td><td>0</td><td>0.0</td></tr><tr><td>&quot;VesselAbbrev&quot;</td><td>0</td><td>0.0</td></tr><tr><td>&quot;Class&quot;</td><td>0</td><td>0.0</td></tr><tr><td>&quot;Status&quot;</td><td>0</td><td>0.0</td></tr><tr><td>&quot;OwnedByWSF&quot;</td><td>0</td><td>0.0</td></tr><tr><td>&quot;CarDeckRestroom&quot;</td><td>0</td><td>0.0</td></tr><tr><td>&quot;CarDeckShelter&quot;</td><td>0</td><td>0.0</td></tr><tr><td>&quot;Elevator&quot;</td><td>0</td><td>0.0</td></tr><tr><td>&quot;ADAAccessible&quot;</td><td>0</td><td>0.0</td></tr><tr><td>&quot;MainCabinGalley&quot;</td><td>0</td><td>0.0</td></tr><tr><td>&quot;MainCabinRestroom&quot;</td><td>0</td><td>0.0</td></tr><tr><td>&quot;PublicWifi&quot;</td><td>0</td><td>0.0</td></tr><tr><td>&quot;ADAInfo&quot;</td><td>0</td><td>0.0</td></tr><tr><td>&quot;VesselNameDesc&quot;</td><td>0</td><td>0.0</td></tr><tr><td>&quot;Beam&quot;</td><td>0</td><td>0.0</td></tr><tr><td>&quot;CityBuilt&quot;</td><td>0</td><td>0.0</td></tr><tr><td>&quot;SpeedInKnots&quot;</td><td>0</td><td>0.0</td></tr><tr><td>&quot;Draft&quot;</td><td>0</td><td>0.0</td></tr><tr><td>&quot;EngineCount&quot;</td><td>0</td><td>0.0</td></tr><tr><td>&quot;Horsepower&quot;</td><td>0</td><td>0.0</td></tr><tr><td>&quot;Length&quot;</td><td>0</td><td>0.0</td></tr><tr><td>&quot;MaxPassengerCount&quot;</td><td>0</td><td>0.0</td></tr><tr><td>&quot;PassengerOnly&quot;</td><td>0</td><td>0.0</td></tr><tr><td>&quot;FastFerry&quot;</td><td>0</td><td>0.0</td></tr><tr><td>&quot;PropulsionInfo&quot;</td><td>0</td><td>0.0</td></tr><tr><td>&quot;TallDeckClearance&quot;</td><td>0</td><td>0.0</td></tr><tr><td>&quot;RegDeckSpace&quot;</td><td>0</td><td>0.0</td></tr><tr><td>&quot;TallDeckSpace&quot;</td><td>0</td><td>0.0</td></tr><tr><td>&quot;Tonnage&quot;</td><td>0</td><td>0.0</td></tr><tr><td>&quot;Displacement&quot;</td><td>0</td><td>0.0</td></tr><tr><td>&quot;YearBuilt&quot;</td><td>0</td><td>0.0</td></tr><tr><td>&quot;SolasCertified&quot;</td><td>0</td><td>0.0</td></tr></tbody></table></div>"
      ],
      "text/plain": [
       "shape: (39, 3)\n",
       "┌─────────────────────────────────┬──────────────┬───────────┐\n",
       "│ Column Name                     ┆ Missing Rows ┆ % Missing │\n",
       "│ ---                             ┆ ---          ┆ ---       │\n",
       "│ str                             ┆ u32          ┆ f64       │\n",
       "╞═════════════════════════════════╪══════════════╪═══════════╡\n",
       "│ VesselDrawingImg                ┆ 21           ┆ 100.0     │\n",
       "│ MaxPassengerCountForInternatio… ┆ 20           ┆ 95.2      │\n",
       "│ YearRebuilt                     ┆ 11           ┆ 52.4      │\n",
       "│ AdditionalInfo                  ┆ 7            ┆ 33.3      │\n",
       "│ VesselHistory                   ┆ 3            ┆ 14.3      │\n",
       "│ VesselID                        ┆ 0            ┆ 0.0       │\n",
       "│ VesselSubjectID                 ┆ 0            ┆ 0.0       │\n",
       "│ VesselName                      ┆ 0            ┆ 0.0       │\n",
       "│ VesselAbbrev                    ┆ 0            ┆ 0.0       │\n",
       "│ Class                           ┆ 0            ┆ 0.0       │\n",
       "│ Status                          ┆ 0            ┆ 0.0       │\n",
       "│ OwnedByWSF                      ┆ 0            ┆ 0.0       │\n",
       "│ CarDeckRestroom                 ┆ 0            ┆ 0.0       │\n",
       "│ CarDeckShelter                  ┆ 0            ┆ 0.0       │\n",
       "│ Elevator                        ┆ 0            ┆ 0.0       │\n",
       "│ ADAAccessible                   ┆ 0            ┆ 0.0       │\n",
       "│ MainCabinGalley                 ┆ 0            ┆ 0.0       │\n",
       "│ MainCabinRestroom               ┆ 0            ┆ 0.0       │\n",
       "│ PublicWifi                      ┆ 0            ┆ 0.0       │\n",
       "│ ADAInfo                         ┆ 0            ┆ 0.0       │\n",
       "│ VesselNameDesc                  ┆ 0            ┆ 0.0       │\n",
       "│ Beam                            ┆ 0            ┆ 0.0       │\n",
       "│ CityBuilt                       ┆ 0            ┆ 0.0       │\n",
       "│ SpeedInKnots                    ┆ 0            ┆ 0.0       │\n",
       "│ Draft                           ┆ 0            ┆ 0.0       │\n",
       "│ EngineCount                     ┆ 0            ┆ 0.0       │\n",
       "│ Horsepower                      ┆ 0            ┆ 0.0       │\n",
       "│ Length                          ┆ 0            ┆ 0.0       │\n",
       "│ MaxPassengerCount               ┆ 0            ┆ 0.0       │\n",
       "│ PassengerOnly                   ┆ 0            ┆ 0.0       │\n",
       "│ FastFerry                       ┆ 0            ┆ 0.0       │\n",
       "│ PropulsionInfo                  ┆ 0            ┆ 0.0       │\n",
       "│ TallDeckClearance               ┆ 0            ┆ 0.0       │\n",
       "│ RegDeckSpace                    ┆ 0            ┆ 0.0       │\n",
       "│ TallDeckSpace                   ┆ 0            ┆ 0.0       │\n",
       "│ Tonnage                         ┆ 0            ┆ 0.0       │\n",
       "│ Displacement                    ┆ 0            ┆ 0.0       │\n",
       "│ YearBuilt                       ┆ 0            ┆ 0.0       │\n",
       "│ SolasCertified                  ┆ 0            ┆ 0.0       │\n",
       "└─────────────────────────────────┴──────────────┴───────────┘"
      ]
     },
     "execution_count": 74,
     "metadata": {},
     "output_type": "execute_result"
    }
   ],
   "source": [
    "(\n",
    "    vessel_verbose\n",
    "    .null_count()\n",
    "    .transpose(include_header=True)\n",
    "    .rename({\"column\": \"Column Name\", \"column_0\": \"Missing Rows\"})\n",
    "    .with_columns(((pl.col(\"Missing Rows\") / vessel_verbose.shape[0]) * 100).round(1).alias('% Missing'))\n",
    "    .sort(\"Missing Rows\", descending=True)\n",
    ")"
   ]
  },
  {
   "cell_type": "markdown",
   "metadata": {},
   "source": [
    "Whats in the `Class` column?"
   ]
  },
  {
   "cell_type": "code",
   "execution_count": 17,
   "metadata": {},
   "outputs": [
    {
     "data": {
      "text/html": [
       "<div><style>\n",
       ".dataframe > thead > tr,\n",
       ".dataframe > tbody > tr {\n",
       "  text-align: right;\n",
       "  white-space: pre-wrap;\n",
       "}\n",
       "</style>\n",
       "<small>shape: (2,)</small><table border=\"1\" class=\"dataframe\"><thead><tr><th>Class</th></tr><tr><td>struct[7]</td></tr></thead><tbody><tr><td>{10,&quot;Issaquah 130&quot;,310,&quot;https://www.wsdot.wa.gov/ferries/images/pages/boat_drawings/4-issaquah130.gif&quot;,&quot;Issaquah&quot;,&quot;https://www.wsdot.wa.gov/ferries/images/pages/boat_drawings/4-issaquah130-sillouette_sml.gif&quot;,40}</td></tr><tr><td>{10,&quot;Issaquah 130&quot;,310,&quot;https://www.wsdot.wa.gov/ferries/images/pages/boat_drawings/4-issaquah130.gif&quot;,&quot;Issaquah&quot;,&quot;https://www.wsdot.wa.gov/ferries/images/pages/boat_drawings/4-issaquah130-sillouette_sml.gif&quot;,40}</td></tr></tbody></table></div>"
      ],
      "text/plain": [
       "shape: (2,)\n",
       "Series: 'Class' [struct[7]]\n",
       "[\n",
       "\t{10,\"Issaquah 130\",310,\"https://www.wsdot.wa.gov/ferries/images/pages/boat_drawings/4-issaquah130.gif\",\"Issaquah\",\"https://www.wsdot.wa.gov/ferries/images/pages/boat_drawings/4-issaquah130-sillouette_sml.gif\",40}\n",
       "\t{10,\"Issaquah 130\",310,\"https://www.wsdot.wa.gov/ferries/images/pages/boat_drawings/4-issaquah130.gif\",\"Issaquah\",\"https://www.wsdot.wa.gov/ferries/images/pages/boat_drawings/4-issaquah130-sillouette_sml.gif\",40}\n",
       "]"
      ]
     },
     "execution_count": 75,
     "metadata": {},
     "output_type": "execute_result"
    }
   ],
   "source": [
    "(\n",
    "    vessel_verbose\n",
    "    .get_column(\"Class\")\n",
    "    .head(2)\n",
    ")"
   ]
  },
  {
   "cell_type": "markdown",
   "metadata": {},
   "source": [
    "The class column contains a `struct`: https://docs.pola.rs/user-guide/expressions/structs/\n",
    "\n",
    "> Polars `Structs` are the idiomatic way of working with multiple columns. It is also a free operation i.e. moving columns into Structs does not copy any data!\n",
    "\n",
    "Lets look more closely at the `Class` column for Cathlamet."
   ]
  },
  {
   "cell_type": "code",
   "execution_count": 18,
   "metadata": {},
   "outputs": [
    {
     "data": {
      "text/plain": [
       "[{'ClassID': 10,\n",
       "  'ClassName': 'Issaquah 130',\n",
       "  'ClassSubjectID': 310,\n",
       "  'DrawingImg': 'https://www.wsdot.wa.gov/ferries/images/pages/boat_drawings/4-issaquah130.gif',\n",
       "  'PublicDisplayName': 'Issaquah',\n",
       "  'SilhouetteImg': 'https://www.wsdot.wa.gov/ferries/images/pages/boat_drawings/4-issaquah130-sillouette_sml.gif',\n",
       "  'SortSeq': 40}]"
      ]
     },
     "execution_count": 76,
     "metadata": {},
     "output_type": "execute_result"
    }
   ],
   "source": [
    "(\n",
    "    vessel_verbose\n",
    "    .filter(pl.col(\"VesselName\") == \"Cathlamet\")\n",
    "    .get_column(\"Class\")\n",
    "    .to_list()\n",
    ")"
   ]
  },
  {
   "cell_type": "markdown",
   "metadata": {},
   "source": [
    "It looks like the `Class` column contains a list with a single dictionary. When we tidy this data we can make it easier to work with by unnesting this data and moving it into its own columns."
   ]
  },
  {
   "cell_type": "markdown",
   "metadata": {},
   "source": [
    "## Task 3 - Tidy the Data"
   ]
  },
  {
   "cell_type": "markdown",
   "metadata": {},
   "source": [
    "### 🔄 Task"
   ]
  },
  {
   "cell_type": "markdown",
   "metadata": {},
   "source": [
    "Now that you have a basic understanding of the data, the next step is to tidy the data."
   ]
  },
  {
   "cell_type": "markdown",
   "metadata": {},
   "source": [
    "### 🧑‍💻 Code"
   ]
  },
  {
   "cell_type": "markdown",
   "metadata": {},
   "source": [
    "#### vessel_history"
   ]
  },
  {
   "cell_type": "code",
   "execution_count": 19,
   "metadata": {},
   "outputs": [
    {
     "data": {
      "text/html": [
       "<div><style>\n",
       ".dataframe > thead > tr,\n",
       ".dataframe > tbody > tr {\n",
       "  text-align: right;\n",
       "  white-space: pre-wrap;\n",
       "}\n",
       "</style>\n",
       "<small>shape: (2, 8)</small><table border=\"1\" class=\"dataframe\"><thead><tr><th>VesselId</th><th>Vessel</th><th>Departing</th><th>Arriving</th><th>ScheduledDepart</th><th>ActualDepart</th><th>EstArrival</th><th>Date</th></tr><tr><td>i64</td><td>str</td><td>str</td><td>str</td><td>str</td><td>str</td><td>str</td><td>str</td></tr></thead><tbody><tr><td>32</td><td>&quot;Cathlamet&quot;</td><td>&quot;Vashon&quot;</td><td>&quot;Fauntleroy&quot;</td><td>&quot;/Date(1577886000000-0800)/&quot;</td><td>&quot;/Date(1577886072000-0800)/&quot;</td><td>&quot;/Date(1577887027000-0800)/&quot;</td><td>&quot;/Date(1577886000000-0800)/&quot;</td></tr><tr><td>32</td><td>&quot;Cathlamet&quot;</td><td>&quot;Fauntleroy&quot;</td><td>&quot;Vashon&quot;</td><td>&quot;/Date(1577887800000-0800)/&quot;</td><td>&quot;/Date(1577887897000-0800)/&quot;</td><td>&quot;/Date(1577888877000-0800)/&quot;</td><td>&quot;/Date(1577887800000-0800)/&quot;</td></tr></tbody></table></div>"
      ],
      "text/plain": [
       "shape: (2, 8)\n",
       "┌──────────┬───────────┬────────────┬────────────┬────────────┬────────────┬───────────┬───────────┐\n",
       "│ VesselId ┆ Vessel    ┆ Departing  ┆ Arriving   ┆ ScheduledD ┆ ActualDepa ┆ EstArriva ┆ Date      │\n",
       "│ ---      ┆ ---       ┆ ---        ┆ ---        ┆ epart      ┆ rt         ┆ l         ┆ ---       │\n",
       "│ i64      ┆ str       ┆ str        ┆ str        ┆ ---        ┆ ---        ┆ ---       ┆ str       │\n",
       "│          ┆           ┆            ┆            ┆ str        ┆ str        ┆ str       ┆           │\n",
       "╞══════════╪═══════════╪════════════╪════════════╪════════════╪════════════╪═══════════╪═══════════╡\n",
       "│ 32       ┆ Cathlamet ┆ Vashon     ┆ Fauntleroy ┆ /Date(1577 ┆ /Date(1577 ┆ /Date(157 ┆ /Date(157 │\n",
       "│          ┆           ┆            ┆            ┆ 886000000- ┆ 886072000- ┆ 788702700 ┆ 788600000 │\n",
       "│          ┆           ┆            ┆            ┆ 0800)/     ┆ 0800)/     ┆ 0-0800)/  ┆ 0-0800)/  │\n",
       "│ 32       ┆ Cathlamet ┆ Fauntleroy ┆ Vashon     ┆ /Date(1577 ┆ /Date(1577 ┆ /Date(157 ┆ /Date(157 │\n",
       "│          ┆           ┆            ┆            ┆ 887800000- ┆ 887897000- ┆ 788887700 ┆ 788780000 │\n",
       "│          ┆           ┆            ┆            ┆ 0800)/     ┆ 0800)/     ┆ 0-0800)/  ┆ 0-0800)/  │\n",
       "└──────────┴───────────┴────────────┴────────────┴────────────┴────────────┴───────────┴───────────┘"
      ]
     },
     "execution_count": 77,
     "metadata": {},
     "output_type": "execute_result"
    }
   ],
   "source": [
    "vessel_history.head(2)"
   ]
  },
  {
   "cell_type": "markdown",
   "metadata": {},
   "source": [
    "Convert the datetimes from strings to polars datetime objects. The logic is pretty complex. So we will abstract it into a function that we can apply to all of the required columns."
   ]
  },
  {
   "cell_type": "code",
   "execution_count": 20,
   "metadata": {},
   "outputs": [
    {
     "data": {
      "text/html": [
       "<div><style>\n",
       ".dataframe > thead > tr,\n",
       ".dataframe > tbody > tr {\n",
       "  text-align: right;\n",
       "  white-space: pre-wrap;\n",
       "}\n",
       "</style>\n",
       "<small>shape: (1,)</small><table border=\"1\" class=\"dataframe\"><thead><tr><th></th></tr><tr><td>datetime[μs, UTC]</td></tr></thead><tbody><tr><td>2024-05-01 07:15:00 UTC</td></tr></tbody></table></div>"
      ],
      "text/plain": [
       "shape: (1,)\n",
       "Series: '' [datetime[μs, UTC]]\n",
       "[\n",
       "\t2024-05-01 07:15:00 UTC\n",
       "]"
      ]
     },
     "execution_count": 78,
     "metadata": {},
     "output_type": "execute_result"
    }
   ],
   "source": [
    "def convert_string_to_datetime(series: pl.Series) -> pl.Series:\n",
    "    \"\"\"\n",
    "    Convert the datetime format from wadot into a datetime format that polars\n",
    "    can understand.\n",
    "\n",
    "    >>> convert_string_to_datetime(pl.Series(['/Date(1714547700000-0700)/']))\n",
    "    shape: (1,)\n",
    "    Series: '' [datetime[μs, UTC]]\n",
    "    [\n",
    "        2024-05-01 07:15:00 UTC\n",
    "    ]\n",
    "    \"\"\"\n",
    "    # Extract the unix time stamp. To work with polars we need the time\n",
    "    # the number of seconds since 1970-01-01 00:00 UTC, so divide by\n",
    "    # 1_000.\n",
    "    unix_timestamp = (\n",
    "        (series.str.extract(r\"/Date\\((\\d{13})[-+]\").cast(pl.Int64) / 1_000)\n",
    "        .cast(pl.Int64)\n",
    "        .cast(pl.String)\n",
    "    )\n",
    "    # Extract the timezone.\n",
    "    timezone = series.str.extract(r\"([-+]\\d{4})\")\n",
    "    # Create a new series that has the timestamp and timezone.\n",
    "    clean_timestamp = unix_timestamp + timezone\n",
    "    # Convert into a datetime.\n",
    "    datetime_series = clean_timestamp.str.to_datetime(\"%s%z\")\n",
    "    return datetime_series\n",
    "\n",
    "\n",
    "convert_string_to_datetime(pl.Series(['/Date(1714547700000-0700)/']))"
   ]
  },
  {
   "cell_type": "code",
   "execution_count": 21,
   "metadata": {},
   "outputs": [],
   "source": [
    "vessel_history_clean = (\n",
    "    vessel_history\n",
    "    .with_columns(\n",
    "        (\n",
    "            pl\n",
    "            .col(\"ScheduledDepart\", \"ActualDepart\", \"EstArrival\", \"Date\")\n",
    "            .map_batches(lambda s: convert_string_to_datetime(s))\n",
    "        )\n",
    "    )\n",
    ")"
   ]
  },
  {
   "cell_type": "code",
   "execution_count": 22,
   "metadata": {},
   "outputs": [
    {
     "data": {
      "text/html": [
       "<div><style>\n",
       ".dataframe > thead > tr,\n",
       ".dataframe > tbody > tr {\n",
       "  text-align: right;\n",
       "  white-space: pre-wrap;\n",
       "}\n",
       "</style>\n",
       "<small>shape: (5, 8)</small><table border=\"1\" class=\"dataframe\"><thead><tr><th>VesselId</th><th>Vessel</th><th>Departing</th><th>Arriving</th><th>ScheduledDepart</th><th>ActualDepart</th><th>EstArrival</th><th>Date</th></tr><tr><td>i64</td><td>str</td><td>str</td><td>str</td><td>datetime[μs, UTC]</td><td>datetime[μs, UTC]</td><td>datetime[μs, UTC]</td><td>datetime[μs, UTC]</td></tr></thead><tbody><tr><td>32</td><td>&quot;Cathlamet&quot;</td><td>&quot;Vashon&quot;</td><td>&quot;Fauntleroy&quot;</td><td>2020-01-01 13:40:00 UTC</td><td>2020-01-01 13:41:12 UTC</td><td>2020-01-01 13:57:07 UTC</td><td>2020-01-01 13:40:00 UTC</td></tr><tr><td>32</td><td>&quot;Cathlamet&quot;</td><td>&quot;Fauntleroy&quot;</td><td>&quot;Vashon&quot;</td><td>2020-01-01 14:10:00 UTC</td><td>2020-01-01 14:11:37 UTC</td><td>2020-01-01 14:27:57 UTC</td><td>2020-01-01 14:10:00 UTC</td></tr><tr><td>32</td><td>&quot;Cathlamet&quot;</td><td>&quot;Vashon&quot;</td><td>&quot;Fauntleroy&quot;</td><td>2020-01-01 14:35:00 UTC</td><td>2020-01-01 14:37:37 UTC</td><td>2020-01-01 14:49:19 UTC</td><td>2020-01-01 14:35:00 UTC</td></tr><tr><td>32</td><td>&quot;Cathlamet&quot;</td><td>&quot;Fauntleroy&quot;</td><td>&quot;Vashon&quot;</td><td>2020-01-01 15:05:00 UTC</td><td>2020-01-01 15:07:11 UTC</td><td>2020-01-01 15:22:50 UTC</td><td>2020-01-01 15:05:00 UTC</td></tr><tr><td>32</td><td>&quot;Cathlamet&quot;</td><td>&quot;Vashon&quot;</td><td>&quot;Southworth&quot;</td><td>2020-01-01 15:30:00 UTC</td><td>2020-01-01 15:31:01 UTC</td><td>2020-01-01 15:42:11 UTC</td><td>2020-01-01 15:30:00 UTC</td></tr></tbody></table></div>"
      ],
      "text/plain": [
       "shape: (5, 8)\n",
       "┌──────────┬───────────┬────────────┬────────────┬────────────┬────────────┬───────────┬───────────┐\n",
       "│ VesselId ┆ Vessel    ┆ Departing  ┆ Arriving   ┆ ScheduledD ┆ ActualDepa ┆ EstArriva ┆ Date      │\n",
       "│ ---      ┆ ---       ┆ ---        ┆ ---        ┆ epart      ┆ rt         ┆ l         ┆ ---       │\n",
       "│ i64      ┆ str       ┆ str        ┆ str        ┆ ---        ┆ ---        ┆ ---       ┆ datetime[ │\n",
       "│          ┆           ┆            ┆            ┆ datetime[μ ┆ datetime[μ ┆ datetime[ ┆ μs, UTC]  │\n",
       "│          ┆           ┆            ┆            ┆ s, UTC]    ┆ s, UTC]    ┆ μs, UTC]  ┆           │\n",
       "╞══════════╪═══════════╪════════════╪════════════╪════════════╪════════════╪═══════════╪═══════════╡\n",
       "│ 32       ┆ Cathlamet ┆ Vashon     ┆ Fauntleroy ┆ 2020-01-01 ┆ 2020-01-01 ┆ 2020-01-0 ┆ 2020-01-0 │\n",
       "│          ┆           ┆            ┆            ┆ 13:40:00   ┆ 13:41:12   ┆ 1         ┆ 1         │\n",
       "│          ┆           ┆            ┆            ┆ UTC        ┆ UTC        ┆ 13:57:07  ┆ 13:40:00  │\n",
       "│          ┆           ┆            ┆            ┆            ┆            ┆ UTC       ┆ UTC       │\n",
       "│ 32       ┆ Cathlamet ┆ Fauntleroy ┆ Vashon     ┆ 2020-01-01 ┆ 2020-01-01 ┆ 2020-01-0 ┆ 2020-01-0 │\n",
       "│          ┆           ┆            ┆            ┆ 14:10:00   ┆ 14:11:37   ┆ 1         ┆ 1         │\n",
       "│          ┆           ┆            ┆            ┆ UTC        ┆ UTC        ┆ 14:27:57  ┆ 14:10:00  │\n",
       "│          ┆           ┆            ┆            ┆            ┆            ┆ UTC       ┆ UTC       │\n",
       "│ 32       ┆ Cathlamet ┆ Vashon     ┆ Fauntleroy ┆ 2020-01-01 ┆ 2020-01-01 ┆ 2020-01-0 ┆ 2020-01-0 │\n",
       "│          ┆           ┆            ┆            ┆ 14:35:00   ┆ 14:37:37   ┆ 1         ┆ 1         │\n",
       "│          ┆           ┆            ┆            ┆ UTC        ┆ UTC        ┆ 14:49:19  ┆ 14:35:00  │\n",
       "│          ┆           ┆            ┆            ┆            ┆            ┆ UTC       ┆ UTC       │\n",
       "│ 32       ┆ Cathlamet ┆ Fauntleroy ┆ Vashon     ┆ 2020-01-01 ┆ 2020-01-01 ┆ 2020-01-0 ┆ 2020-01-0 │\n",
       "│          ┆           ┆            ┆            ┆ 15:05:00   ┆ 15:07:11   ┆ 1         ┆ 1         │\n",
       "│          ┆           ┆            ┆            ┆ UTC        ┆ UTC        ┆ 15:22:50  ┆ 15:05:00  │\n",
       "│          ┆           ┆            ┆            ┆            ┆            ┆ UTC       ┆ UTC       │\n",
       "│ 32       ┆ Cathlamet ┆ Vashon     ┆ Southworth ┆ 2020-01-01 ┆ 2020-01-01 ┆ 2020-01-0 ┆ 2020-01-0 │\n",
       "│          ┆           ┆            ┆            ┆ 15:30:00   ┆ 15:31:01   ┆ 1         ┆ 1         │\n",
       "│          ┆           ┆            ┆            ┆ UTC        ┆ UTC        ┆ 15:42:11  ┆ 15:30:00  │\n",
       "│          ┆           ┆            ┆            ┆            ┆            ┆ UTC       ┆ UTC       │\n",
       "└──────────┴───────────┴────────────┴────────────┴────────────┴────────────┴───────────┴───────────┘"
      ]
     },
     "execution_count": 80,
     "metadata": {},
     "output_type": "execute_result"
    }
   ],
   "source": [
    "vessel_history_clean.head(5)"
   ]
  },
  {
   "cell_type": "markdown",
   "metadata": {},
   "source": [
    "Normalize all of the string columns so that they are consistent."
   ]
  },
  {
   "cell_type": "code",
   "execution_count": 23,
   "metadata": {},
   "outputs": [
    {
     "name": "stderr",
     "output_type": "stream",
     "text": [
      "/var/folders/x4/583bns3n4gbddql2dsv7jyc40000gp/T/ipykernel_46013/376613630.py:8: DeprecationWarning: `strip` is deprecated. It has been renamed to `strip_chars`.\n",
      "  .str.strip()\n"
     ]
    }
   ],
   "source": [
    "vessel_history_clean = (\n",
    "    vessel_history_clean\n",
    "    .with_columns(\n",
    "        (\n",
    "            pl\n",
    "            .col(\"Vessel\", \"Departing\", \"Arriving\")\n",
    "            .str.to_lowercase()\n",
    "            .str.strip()\n",
    "        )\n",
    "    )\n",
    ")"
   ]
  },
  {
   "cell_type": "code",
   "execution_count": 24,
   "metadata": {},
   "outputs": [
    {
     "data": {
      "text/html": [
       "<div><style>\n",
       ".dataframe > thead > tr,\n",
       ".dataframe > tbody > tr {\n",
       "  text-align: right;\n",
       "  white-space: pre-wrap;\n",
       "}\n",
       "</style>\n",
       "<small>shape: (5, 8)</small><table border=\"1\" class=\"dataframe\"><thead><tr><th>VesselId</th><th>Vessel</th><th>Departing</th><th>Arriving</th><th>ScheduledDepart</th><th>ActualDepart</th><th>EstArrival</th><th>Date</th></tr><tr><td>i64</td><td>str</td><td>str</td><td>str</td><td>datetime[μs, UTC]</td><td>datetime[μs, UTC]</td><td>datetime[μs, UTC]</td><td>datetime[μs, UTC]</td></tr></thead><tbody><tr><td>32</td><td>&quot;cathlamet&quot;</td><td>&quot;vashon&quot;</td><td>&quot;fauntleroy&quot;</td><td>2020-01-01 13:40:00 UTC</td><td>2020-01-01 13:41:12 UTC</td><td>2020-01-01 13:57:07 UTC</td><td>2020-01-01 13:40:00 UTC</td></tr><tr><td>32</td><td>&quot;cathlamet&quot;</td><td>&quot;fauntleroy&quot;</td><td>&quot;vashon&quot;</td><td>2020-01-01 14:10:00 UTC</td><td>2020-01-01 14:11:37 UTC</td><td>2020-01-01 14:27:57 UTC</td><td>2020-01-01 14:10:00 UTC</td></tr><tr><td>32</td><td>&quot;cathlamet&quot;</td><td>&quot;vashon&quot;</td><td>&quot;fauntleroy&quot;</td><td>2020-01-01 14:35:00 UTC</td><td>2020-01-01 14:37:37 UTC</td><td>2020-01-01 14:49:19 UTC</td><td>2020-01-01 14:35:00 UTC</td></tr><tr><td>32</td><td>&quot;cathlamet&quot;</td><td>&quot;fauntleroy&quot;</td><td>&quot;vashon&quot;</td><td>2020-01-01 15:05:00 UTC</td><td>2020-01-01 15:07:11 UTC</td><td>2020-01-01 15:22:50 UTC</td><td>2020-01-01 15:05:00 UTC</td></tr><tr><td>32</td><td>&quot;cathlamet&quot;</td><td>&quot;vashon&quot;</td><td>&quot;southworth&quot;</td><td>2020-01-01 15:30:00 UTC</td><td>2020-01-01 15:31:01 UTC</td><td>2020-01-01 15:42:11 UTC</td><td>2020-01-01 15:30:00 UTC</td></tr></tbody></table></div>"
      ],
      "text/plain": [
       "shape: (5, 8)\n",
       "┌──────────┬───────────┬────────────┬────────────┬────────────┬────────────┬───────────┬───────────┐\n",
       "│ VesselId ┆ Vessel    ┆ Departing  ┆ Arriving   ┆ ScheduledD ┆ ActualDepa ┆ EstArriva ┆ Date      │\n",
       "│ ---      ┆ ---       ┆ ---        ┆ ---        ┆ epart      ┆ rt         ┆ l         ┆ ---       │\n",
       "│ i64      ┆ str       ┆ str        ┆ str        ┆ ---        ┆ ---        ┆ ---       ┆ datetime[ │\n",
       "│          ┆           ┆            ┆            ┆ datetime[μ ┆ datetime[μ ┆ datetime[ ┆ μs, UTC]  │\n",
       "│          ┆           ┆            ┆            ┆ s, UTC]    ┆ s, UTC]    ┆ μs, UTC]  ┆           │\n",
       "╞══════════╪═══════════╪════════════╪════════════╪════════════╪════════════╪═══════════╪═══════════╡\n",
       "│ 32       ┆ cathlamet ┆ vashon     ┆ fauntleroy ┆ 2020-01-01 ┆ 2020-01-01 ┆ 2020-01-0 ┆ 2020-01-0 │\n",
       "│          ┆           ┆            ┆            ┆ 13:40:00   ┆ 13:41:12   ┆ 1         ┆ 1         │\n",
       "│          ┆           ┆            ┆            ┆ UTC        ┆ UTC        ┆ 13:57:07  ┆ 13:40:00  │\n",
       "│          ┆           ┆            ┆            ┆            ┆            ┆ UTC       ┆ UTC       │\n",
       "│ 32       ┆ cathlamet ┆ fauntleroy ┆ vashon     ┆ 2020-01-01 ┆ 2020-01-01 ┆ 2020-01-0 ┆ 2020-01-0 │\n",
       "│          ┆           ┆            ┆            ┆ 14:10:00   ┆ 14:11:37   ┆ 1         ┆ 1         │\n",
       "│          ┆           ┆            ┆            ┆ UTC        ┆ UTC        ┆ 14:27:57  ┆ 14:10:00  │\n",
       "│          ┆           ┆            ┆            ┆            ┆            ┆ UTC       ┆ UTC       │\n",
       "│ 32       ┆ cathlamet ┆ vashon     ┆ fauntleroy ┆ 2020-01-01 ┆ 2020-01-01 ┆ 2020-01-0 ┆ 2020-01-0 │\n",
       "│          ┆           ┆            ┆            ┆ 14:35:00   ┆ 14:37:37   ┆ 1         ┆ 1         │\n",
       "│          ┆           ┆            ┆            ┆ UTC        ┆ UTC        ┆ 14:49:19  ┆ 14:35:00  │\n",
       "│          ┆           ┆            ┆            ┆            ┆            ┆ UTC       ┆ UTC       │\n",
       "│ 32       ┆ cathlamet ┆ fauntleroy ┆ vashon     ┆ 2020-01-01 ┆ 2020-01-01 ┆ 2020-01-0 ┆ 2020-01-0 │\n",
       "│          ┆           ┆            ┆            ┆ 15:05:00   ┆ 15:07:11   ┆ 1         ┆ 1         │\n",
       "│          ┆           ┆            ┆            ┆ UTC        ┆ UTC        ┆ 15:22:50  ┆ 15:05:00  │\n",
       "│          ┆           ┆            ┆            ┆            ┆            ┆ UTC       ┆ UTC       │\n",
       "│ 32       ┆ cathlamet ┆ vashon     ┆ southworth ┆ 2020-01-01 ┆ 2020-01-01 ┆ 2020-01-0 ┆ 2020-01-0 │\n",
       "│          ┆           ┆            ┆            ┆ 15:30:00   ┆ 15:31:01   ┆ 1         ┆ 1         │\n",
       "│          ┆           ┆            ┆            ┆ UTC        ┆ UTC        ┆ 15:42:11  ┆ 15:30:00  │\n",
       "│          ┆           ┆            ┆            ┆            ┆            ┆ UTC       ┆ UTC       │\n",
       "└──────────┴───────────┴────────────┴────────────┴────────────┴────────────┴───────────┴───────────┘"
      ]
     },
     "execution_count": 82,
     "metadata": {},
     "output_type": "execute_result"
    }
   ],
   "source": [
    "vessel_history_clean.head(5)"
   ]
  },
  {
   "cell_type": "markdown",
   "metadata": {},
   "source": [
    "#### vessel_verbose"
   ]
  },
  {
   "cell_type": "code",
   "execution_count": 25,
   "metadata": {},
   "outputs": [
    {
     "data": {
      "text/html": [
       "<div><style>\n",
       ".dataframe > thead > tr,\n",
       ".dataframe > tbody > tr {\n",
       "  text-align: right;\n",
       "  white-space: pre-wrap;\n",
       "}\n",
       "</style>\n",
       "<small>shape: (3, 39)</small><table border=\"1\" class=\"dataframe\"><thead><tr><th>VesselID</th><th>VesselSubjectID</th><th>VesselName</th><th>VesselAbbrev</th><th>Class</th><th>Status</th><th>OwnedByWSF</th><th>CarDeckRestroom</th><th>CarDeckShelter</th><th>Elevator</th><th>ADAAccessible</th><th>MainCabinGalley</th><th>MainCabinRestroom</th><th>PublicWifi</th><th>ADAInfo</th><th>AdditionalInfo</th><th>VesselNameDesc</th><th>VesselHistory</th><th>Beam</th><th>CityBuilt</th><th>SpeedInKnots</th><th>Draft</th><th>EngineCount</th><th>Horsepower</th><th>Length</th><th>MaxPassengerCount</th><th>PassengerOnly</th><th>FastFerry</th><th>PropulsionInfo</th><th>TallDeckClearance</th><th>RegDeckSpace</th><th>TallDeckSpace</th><th>Tonnage</th><th>Displacement</th><th>YearBuilt</th><th>YearRebuilt</th><th>VesselDrawingImg</th><th>SolasCertified</th><th>MaxPassengerCountForInternational</th></tr><tr><td>i64</td><td>i64</td><td>str</td><td>str</td><td>struct[7]</td><td>i64</td><td>bool</td><td>bool</td><td>bool</td><td>bool</td><td>bool</td><td>bool</td><td>bool</td><td>bool</td><td>str</td><td>str</td><td>str</td><td>str</td><td>str</td><td>str</td><td>i64</td><td>str</td><td>i64</td><td>i64</td><td>str</td><td>i64</td><td>bool</td><td>bool</td><td>str</td><td>i64</td><td>i64</td><td>i64</td><td>i64</td><td>i64</td><td>i64</td><td>f64</td><td>null</td><td>bool</td><td>f64</td></tr></thead><tbody><tr><td>1</td><td>1</td><td>&quot;Cathlamet&quot;</td><td>&quot;CAT&quot;</td><td>{10,&quot;Issaquah 130&quot;,310,&quot;https://www.wsdot.wa.gov/ferries/images/pages/boat_drawings/4-issaquah130.gif&quot;,&quot;Issaquah&quot;,&quot;https://www.wsdot.wa.gov/ferries/images/pages/boat_drawings/4-issaquah130-sillouette_sml.gif&quot;,40}</td><td>1</td><td>true</td><td>true</td><td>false</td><td>true</td><td>true</td><td>true</td><td>true</td><td>false</td><td>&quot;The MV Cathlamet has elevator …</td><td>&quot; &quot;</td><td>&quot;From the Kathlamet tribe, the …</td><td>&quot; &quot;</td><td>&quot;78&#x27; 8&quot;&quot;</td><td>&quot;Seattle, WA&quot;</td><td>16</td><td>&quot;16&#x27; 6&quot;&quot;</td><td>2</td><td>5000</td><td>&quot;328&#x27;&quot;</td><td>1200</td><td>false</td><td>false</td><td>&quot;DIESEL&quot;</td><td>186</td><td>124</td><td>26</td><td>2477</td><td>3310</td><td>1981</td><td>1993.0</td><td>null</td><td>false</td><td>null</td></tr><tr><td>2</td><td>2</td><td>&quot;Chelan&quot;</td><td>&quot;CHE&quot;</td><td>{10,&quot;Issaquah 130&quot;,310,&quot;https://www.wsdot.wa.gov/ferries/images/pages/boat_drawings/4-issaquah130.gif&quot;,&quot;Issaquah&quot;,&quot;https://www.wsdot.wa.gov/ferries/images/pages/boat_drawings/4-issaquah130-sillouette_sml.gif&quot;,40}</td><td>1</td><td>true</td><td>true</td><td>false</td><td>true</td><td>true</td><td>true</td><td>true</td><td>false</td><td>&quot;The MV Chelan has elevator acc…</td><td>&quot; &quot;</td><td>&quot;From the Chelan  language: Tsi…</td><td>&quot; &quot;</td><td>&quot;78&#x27; 8&quot;&quot;</td><td>&quot;Seattle, WA&quot;</td><td>16</td><td>&quot;16&#x27; 9&quot;&quot;</td><td>2</td><td>5000</td><td>&quot;328&#x27;&quot;</td><td>1200</td><td>false</td><td>false</td><td>&quot;DIESEL&quot;</td><td>188</td><td>124</td><td>30</td><td>2477</td><td>3405</td><td>1981</td><td>2005.0</td><td>null</td><td>true</td><td>1090.0</td></tr><tr><td>65</td><td>428</td><td>&quot;Chetzemoka&quot;</td><td>&quot;CHZ&quot;</td><td>{162,&quot;Kwa-di Tabil&quot;,427,&quot;https://www.wsdot.wa.gov/ferries/images/pages/boat_drawings/13-kwaditabil.gif&quot;,&quot;Kwa-di Tabil&quot;,&quot;https://www.wsdot.wa.gov/ferries/images/pages/boat_drawings/13-kwaditabil-silouette_sml.gif&quot;,75}</td><td>1</td><td>true</td><td>false</td><td>false</td><td>true</td><td>true</td><td>true</td><td>true</td><td>false</td><td>&quot;MV Chetzemoka has elevator acc…</td><td>null</td><td>&quot;The name honors a friendly Nat…</td><td>null</td><td>&quot;64&#x27;&quot;</td><td>&quot;Seattle&quot;</td><td>15</td><td>&quot;11&#x27;&quot;</td><td>2</td><td>6000</td><td>&quot;273&#x27; 8&quot;&quot;</td><td>748</td><td>false</td><td>false</td><td>&quot;DIESEL&quot;</td><td>192</td><td>64</td><td>9</td><td>4623</td><td>2415</td><td>2010</td><td>null</td><td>null</td><td>false</td><td>null</td></tr></tbody></table></div>"
      ],
      "text/plain": [
       "shape: (3, 39)\n",
       "┌──────────┬───────────┬───────────┬───────────┬───┬───────────┬───────────┬───────────┬───────────┐\n",
       "│ VesselID ┆ VesselSub ┆ VesselNam ┆ VesselAbb ┆ … ┆ YearRebui ┆ VesselDra ┆ SolasCert ┆ MaxPassen │\n",
       "│ ---      ┆ jectID    ┆ e         ┆ rev       ┆   ┆ lt        ┆ wingImg   ┆ ified     ┆ gerCountF │\n",
       "│ i64      ┆ ---       ┆ ---       ┆ ---       ┆   ┆ ---       ┆ ---       ┆ ---       ┆ orInterna │\n",
       "│          ┆ i64       ┆ str       ┆ str       ┆   ┆ f64       ┆ null      ┆ bool      ┆ tio…      │\n",
       "│          ┆           ┆           ┆           ┆   ┆           ┆           ┆           ┆ ---       │\n",
       "│          ┆           ┆           ┆           ┆   ┆           ┆           ┆           ┆ f64       │\n",
       "╞══════════╪═══════════╪═══════════╪═══════════╪═══╪═══════════╪═══════════╪═══════════╪═══════════╡\n",
       "│ 1        ┆ 1         ┆ Cathlamet ┆ CAT       ┆ … ┆ 1993.0    ┆ null      ┆ false     ┆ null      │\n",
       "│ 2        ┆ 2         ┆ Chelan    ┆ CHE       ┆ … ┆ 2005.0    ┆ null      ┆ true      ┆ 1090.0    │\n",
       "│ 65       ┆ 428       ┆ Chetzemok ┆ CHZ       ┆ … ┆ null      ┆ null      ┆ false     ┆ null      │\n",
       "│          ┆           ┆ a         ┆           ┆   ┆           ┆           ┆           ┆           │\n",
       "└──────────┴───────────┴───────────┴───────────┴───┴───────────┴───────────┴───────────┴───────────┘"
      ]
     },
     "execution_count": 83,
     "metadata": {},
     "output_type": "execute_result"
    }
   ],
   "source": [
    "vessel_verbose.head(3)"
   ]
  },
  {
   "cell_type": "markdown",
   "metadata": {},
   "source": [
    "Convert the length measurements into a numeric value. Again we will use a function to capture this complex logic."
   ]
  },
  {
   "cell_type": "code",
   "execution_count": 26,
   "metadata": {},
   "outputs": [
    {
     "data": {
      "text/html": [
       "<div><style>\n",
       ".dataframe > thead > tr,\n",
       ".dataframe > tbody > tr {\n",
       "  text-align: right;\n",
       "  white-space: pre-wrap;\n",
       "}\n",
       "</style>\n",
       "<small>shape: (3,)</small><table border=\"1\" class=\"dataframe\"><thead><tr><th></th></tr><tr><td>i32</td></tr></thead><tbody><tr><td>944</td></tr><tr><td>768</td></tr><tr><td>1211</td></tr></tbody></table></div>"
      ],
      "text/plain": [
       "shape: (3,)\n",
       "Series: '' [i32]\n",
       "[\n",
       "\t944\n",
       "\t768\n",
       "\t1211\n",
       "]"
      ]
     },
     "execution_count": 84,
     "metadata": {},
     "output_type": "execute_result"
    }
   ],
   "source": [
    "def convert_measurement_string_to_feet(series: pl.Series) -> pl.Series:\n",
    "    \"\"\"\n",
    "    Convert the measurement string into a float.\n",
    "    \"\"\"\n",
    "    feet = series.str.extract(r\"(\\d+)'\").cast(pl.Int32)\n",
    "    inches = series.str.extract(r'(\\d+)\"').cast(pl.Int32).fill_null(0)\n",
    "    total_inches = feet * 12 + inches\n",
    "    return total_inches\n",
    "\n",
    "\n",
    "convert_measurement_string_to_feet(pl.Series(['''78' 8\"''', \"\"\"64'\"\"\", '''100' 11\"''']))"
   ]
  },
  {
   "cell_type": "code",
   "execution_count": 27,
   "metadata": {},
   "outputs": [],
   "source": [
    "vessel_verbose_clean = (\n",
    "    vessel_verbose\n",
    "    .with_columns(\n",
    "        pl.col(\"Beam\", \"Length\", \"Draft\").map_batches(lambda s: convert_measurement_string_to_feet(s)).name.suffix(\"Inches\"),\n",
    "    )\n",
    "    .select(pl.col(\"*\").exclude([\"Beam\", \"Length\", \"Draft\"]))\n",
    ")"
   ]
  },
  {
   "cell_type": "code",
   "execution_count": 28,
   "metadata": {},
   "outputs": [
    {
     "data": {
      "text/html": [
       "<div><style>\n",
       ".dataframe > thead > tr,\n",
       ".dataframe > tbody > tr {\n",
       "  text-align: right;\n",
       "  white-space: pre-wrap;\n",
       "}\n",
       "</style>\n",
       "<small>shape: (5, 39)</small><table border=\"1\" class=\"dataframe\"><thead><tr><th>VesselID</th><th>VesselSubjectID</th><th>VesselName</th><th>VesselAbbrev</th><th>Class</th><th>Status</th><th>OwnedByWSF</th><th>CarDeckRestroom</th><th>CarDeckShelter</th><th>Elevator</th><th>ADAAccessible</th><th>MainCabinGalley</th><th>MainCabinRestroom</th><th>PublicWifi</th><th>ADAInfo</th><th>AdditionalInfo</th><th>VesselNameDesc</th><th>VesselHistory</th><th>CityBuilt</th><th>SpeedInKnots</th><th>EngineCount</th><th>Horsepower</th><th>MaxPassengerCount</th><th>PassengerOnly</th><th>FastFerry</th><th>PropulsionInfo</th><th>TallDeckClearance</th><th>RegDeckSpace</th><th>TallDeckSpace</th><th>Tonnage</th><th>Displacement</th><th>YearBuilt</th><th>YearRebuilt</th><th>VesselDrawingImg</th><th>SolasCertified</th><th>MaxPassengerCountForInternational</th><th>BeamInches</th><th>LengthInches</th><th>DraftInches</th></tr><tr><td>i64</td><td>i64</td><td>str</td><td>str</td><td>struct[7]</td><td>i64</td><td>bool</td><td>bool</td><td>bool</td><td>bool</td><td>bool</td><td>bool</td><td>bool</td><td>bool</td><td>str</td><td>str</td><td>str</td><td>str</td><td>str</td><td>i64</td><td>i64</td><td>i64</td><td>i64</td><td>bool</td><td>bool</td><td>str</td><td>i64</td><td>i64</td><td>i64</td><td>i64</td><td>i64</td><td>i64</td><td>f64</td><td>null</td><td>bool</td><td>f64</td><td>i32</td><td>i32</td><td>i32</td></tr></thead><tbody><tr><td>1</td><td>1</td><td>&quot;Cathlamet&quot;</td><td>&quot;CAT&quot;</td><td>{10,&quot;Issaquah 130&quot;,310,&quot;https://www.wsdot.wa.gov/ferries/images/pages/boat_drawings/4-issaquah130.gif&quot;,&quot;Issaquah&quot;,&quot;https://www.wsdot.wa.gov/ferries/images/pages/boat_drawings/4-issaquah130-sillouette_sml.gif&quot;,40}</td><td>1</td><td>true</td><td>true</td><td>false</td><td>true</td><td>true</td><td>true</td><td>true</td><td>false</td><td>&quot;The MV Cathlamet has elevator …</td><td>&quot; &quot;</td><td>&quot;From the Kathlamet tribe, the …</td><td>&quot; &quot;</td><td>&quot;Seattle, WA&quot;</td><td>16</td><td>2</td><td>5000</td><td>1200</td><td>false</td><td>false</td><td>&quot;DIESEL&quot;</td><td>186</td><td>124</td><td>26</td><td>2477</td><td>3310</td><td>1981</td><td>1993.0</td><td>null</td><td>false</td><td>null</td><td>944</td><td>3936</td><td>198</td></tr><tr><td>2</td><td>2</td><td>&quot;Chelan&quot;</td><td>&quot;CHE&quot;</td><td>{10,&quot;Issaquah 130&quot;,310,&quot;https://www.wsdot.wa.gov/ferries/images/pages/boat_drawings/4-issaquah130.gif&quot;,&quot;Issaquah&quot;,&quot;https://www.wsdot.wa.gov/ferries/images/pages/boat_drawings/4-issaquah130-sillouette_sml.gif&quot;,40}</td><td>1</td><td>true</td><td>true</td><td>false</td><td>true</td><td>true</td><td>true</td><td>true</td><td>false</td><td>&quot;The MV Chelan has elevator acc…</td><td>&quot; &quot;</td><td>&quot;From the Chelan  language: Tsi…</td><td>&quot; &quot;</td><td>&quot;Seattle, WA&quot;</td><td>16</td><td>2</td><td>5000</td><td>1200</td><td>false</td><td>false</td><td>&quot;DIESEL&quot;</td><td>188</td><td>124</td><td>30</td><td>2477</td><td>3405</td><td>1981</td><td>2005.0</td><td>null</td><td>true</td><td>1090.0</td><td>944</td><td>3936</td><td>201</td></tr><tr><td>65</td><td>428</td><td>&quot;Chetzemoka&quot;</td><td>&quot;CHZ&quot;</td><td>{162,&quot;Kwa-di Tabil&quot;,427,&quot;https://www.wsdot.wa.gov/ferries/images/pages/boat_drawings/13-kwaditabil.gif&quot;,&quot;Kwa-di Tabil&quot;,&quot;https://www.wsdot.wa.gov/ferries/images/pages/boat_drawings/13-kwaditabil-silouette_sml.gif&quot;,75}</td><td>1</td><td>true</td><td>false</td><td>false</td><td>true</td><td>true</td><td>true</td><td>true</td><td>false</td><td>&quot;MV Chetzemoka has elevator acc…</td><td>null</td><td>&quot;The name honors a friendly Nat…</td><td>null</td><td>&quot;Seattle&quot;</td><td>15</td><td>2</td><td>6000</td><td>748</td><td>false</td><td>false</td><td>&quot;DIESEL&quot;</td><td>192</td><td>64</td><td>9</td><td>4623</td><td>2415</td><td>2010</td><td>null</td><td>null</td><td>false</td><td>null</td><td>768</td><td>3284</td><td>132</td></tr><tr><td>74</td><td>487</td><td>&quot;Chimacum&quot;</td><td>&quot;CHM&quot;</td><td>{100,&quot;Olympic&quot;,319,&quot;https://www.wsdot.wa.gov/ferries/images/pages/boat_drawings/8-olympic-2014.gif&quot;,&quot;Olympic&quot;,&quot;https://www.wsdot.wa.gov/ferries/images/pages/boat_drawings/3-issaquah-sillouette_sml.gif&quot;,35}</td><td>1</td><td>true</td><td>true</td><td>true</td><td>true</td><td>true</td><td>true</td><td>true</td><td>false</td><td>&quot;The vessel has two ADA complia…</td><td>null</td><td>&quot;“The Chimacum People who spoke…</td><td>&quot;Chimacum is the third of the 1…</td><td>&quot;Seattle, WA&quot;</td><td>17</td><td>2</td><td>6000</td><td>1500</td><td>false</td><td>false</td><td>&quot;DIESEL&quot;</td><td>192</td><td>144</td><td>34</td><td>3525</td><td>4384</td><td>2017</td><td>null</td><td>null</td><td>false</td><td>null</td><td>998</td><td>4347</td><td>216</td></tr><tr><td>15</td><td>15</td><td>&quot;Issaquah&quot;</td><td>&quot;ISS&quot;</td><td>{10,&quot;Issaquah 130&quot;,310,&quot;https://www.wsdot.wa.gov/ferries/images/pages/boat_drawings/4-issaquah130.gif&quot;,&quot;Issaquah&quot;,&quot;https://www.wsdot.wa.gov/ferries/images/pages/boat_drawings/4-issaquah130-sillouette_sml.gif&quot;,40}</td><td>1</td><td>true</td><td>true</td><td>false</td><td>true</td><td>true</td><td>true</td><td>true</td><td>false</td><td>&quot;The MV Issaquah has elevator a…</td><td>&quot; &quot;</td><td>&quot;&quot;Snake.&quot; Native Americans who …</td><td>&quot; &quot;</td><td>&quot;Seattle, WA&quot;</td><td>16</td><td>2</td><td>5000</td><td>1200</td><td>false</td><td>false</td><td>&quot;DIESEL&quot;</td><td>188</td><td>124</td><td>26</td><td>2475</td><td>3310</td><td>1979</td><td>1989.0</td><td>null</td><td>false</td><td>null</td><td>944</td><td>3936</td><td>198</td></tr></tbody></table></div>"
      ],
      "text/plain": [
       "shape: (5, 39)\n",
       "┌──────────┬───────────┬───────────┬───────────┬───┬───────────┬───────────┬───────────┬───────────┐\n",
       "│ VesselID ┆ VesselSub ┆ VesselNam ┆ VesselAbb ┆ … ┆ MaxPassen ┆ BeamInche ┆ LengthInc ┆ DraftInch │\n",
       "│ ---      ┆ jectID    ┆ e         ┆ rev       ┆   ┆ gerCountF ┆ s         ┆ hes       ┆ es        │\n",
       "│ i64      ┆ ---       ┆ ---       ┆ ---       ┆   ┆ orInterna ┆ ---       ┆ ---       ┆ ---       │\n",
       "│          ┆ i64       ┆ str       ┆ str       ┆   ┆ tio…      ┆ i32       ┆ i32       ┆ i32       │\n",
       "│          ┆           ┆           ┆           ┆   ┆ ---       ┆           ┆           ┆           │\n",
       "│          ┆           ┆           ┆           ┆   ┆ f64       ┆           ┆           ┆           │\n",
       "╞══════════╪═══════════╪═══════════╪═══════════╪═══╪═══════════╪═══════════╪═══════════╪═══════════╡\n",
       "│ 1        ┆ 1         ┆ Cathlamet ┆ CAT       ┆ … ┆ null      ┆ 944       ┆ 3936      ┆ 198       │\n",
       "│ 2        ┆ 2         ┆ Chelan    ┆ CHE       ┆ … ┆ 1090.0    ┆ 944       ┆ 3936      ┆ 201       │\n",
       "│ 65       ┆ 428       ┆ Chetzemok ┆ CHZ       ┆ … ┆ null      ┆ 768       ┆ 3284      ┆ 132       │\n",
       "│          ┆           ┆ a         ┆           ┆   ┆           ┆           ┆           ┆           │\n",
       "│ 74       ┆ 487       ┆ Chimacum  ┆ CHM       ┆ … ┆ null      ┆ 998       ┆ 4347      ┆ 216       │\n",
       "│ 15       ┆ 15        ┆ Issaquah  ┆ ISS       ┆ … ┆ null      ┆ 944       ┆ 3936      ┆ 198       │\n",
       "└──────────┴───────────┴───────────┴───────────┴───┴───────────┴───────────┴───────────┴───────────┘"
      ]
     },
     "execution_count": 86,
     "metadata": {},
     "output_type": "execute_result"
    }
   ],
   "source": [
    "vessel_verbose_clean.head(5)"
   ]
  },
  {
   "cell_type": "markdown",
   "metadata": {},
   "source": [
    "Fix the dates."
   ]
  },
  {
   "cell_type": "code",
   "execution_count": 29,
   "metadata": {},
   "outputs": [],
   "source": [
    "vessel_verbose_clean = (\n",
    "    vessel_verbose_clean\n",
    "    .with_columns(\n",
    "        pl.col(\"YearBuilt\").cast(pl.String).str.to_date(\"%Y\"),\n",
    "        pl.col(\"YearRebuilt\").cast(pl.Int32).cast(pl.String).str.to_date(\"%Y\"),\n",
    "    )\n",
    ")"
   ]
  },
  {
   "cell_type": "code",
   "execution_count": 30,
   "metadata": {},
   "outputs": [
    {
     "data": {
      "text/html": [
       "<div><style>\n",
       ".dataframe > thead > tr,\n",
       ".dataframe > tbody > tr {\n",
       "  text-align: right;\n",
       "  white-space: pre-wrap;\n",
       "}\n",
       "</style>\n",
       "<small>shape: (5, 39)</small><table border=\"1\" class=\"dataframe\"><thead><tr><th>VesselID</th><th>VesselSubjectID</th><th>VesselName</th><th>VesselAbbrev</th><th>Class</th><th>Status</th><th>OwnedByWSF</th><th>CarDeckRestroom</th><th>CarDeckShelter</th><th>Elevator</th><th>ADAAccessible</th><th>MainCabinGalley</th><th>MainCabinRestroom</th><th>PublicWifi</th><th>ADAInfo</th><th>AdditionalInfo</th><th>VesselNameDesc</th><th>VesselHistory</th><th>CityBuilt</th><th>SpeedInKnots</th><th>EngineCount</th><th>Horsepower</th><th>MaxPassengerCount</th><th>PassengerOnly</th><th>FastFerry</th><th>PropulsionInfo</th><th>TallDeckClearance</th><th>RegDeckSpace</th><th>TallDeckSpace</th><th>Tonnage</th><th>Displacement</th><th>YearBuilt</th><th>YearRebuilt</th><th>VesselDrawingImg</th><th>SolasCertified</th><th>MaxPassengerCountForInternational</th><th>BeamInches</th><th>LengthInches</th><th>DraftInches</th></tr><tr><td>i64</td><td>i64</td><td>str</td><td>str</td><td>struct[7]</td><td>i64</td><td>bool</td><td>bool</td><td>bool</td><td>bool</td><td>bool</td><td>bool</td><td>bool</td><td>bool</td><td>str</td><td>str</td><td>str</td><td>str</td><td>str</td><td>i64</td><td>i64</td><td>i64</td><td>i64</td><td>bool</td><td>bool</td><td>str</td><td>i64</td><td>i64</td><td>i64</td><td>i64</td><td>i64</td><td>date</td><td>date</td><td>null</td><td>bool</td><td>f64</td><td>i32</td><td>i32</td><td>i32</td></tr></thead><tbody><tr><td>1</td><td>1</td><td>&quot;Cathlamet&quot;</td><td>&quot;CAT&quot;</td><td>{10,&quot;Issaquah 130&quot;,310,&quot;https://www.wsdot.wa.gov/ferries/images/pages/boat_drawings/4-issaquah130.gif&quot;,&quot;Issaquah&quot;,&quot;https://www.wsdot.wa.gov/ferries/images/pages/boat_drawings/4-issaquah130-sillouette_sml.gif&quot;,40}</td><td>1</td><td>true</td><td>true</td><td>false</td><td>true</td><td>true</td><td>true</td><td>true</td><td>false</td><td>&quot;The MV Cathlamet has elevator …</td><td>&quot; &quot;</td><td>&quot;From the Kathlamet tribe, the …</td><td>&quot; &quot;</td><td>&quot;Seattle, WA&quot;</td><td>16</td><td>2</td><td>5000</td><td>1200</td><td>false</td><td>false</td><td>&quot;DIESEL&quot;</td><td>186</td><td>124</td><td>26</td><td>2477</td><td>3310</td><td>1981-01-01</td><td>1993-01-01</td><td>null</td><td>false</td><td>null</td><td>944</td><td>3936</td><td>198</td></tr><tr><td>2</td><td>2</td><td>&quot;Chelan&quot;</td><td>&quot;CHE&quot;</td><td>{10,&quot;Issaquah 130&quot;,310,&quot;https://www.wsdot.wa.gov/ferries/images/pages/boat_drawings/4-issaquah130.gif&quot;,&quot;Issaquah&quot;,&quot;https://www.wsdot.wa.gov/ferries/images/pages/boat_drawings/4-issaquah130-sillouette_sml.gif&quot;,40}</td><td>1</td><td>true</td><td>true</td><td>false</td><td>true</td><td>true</td><td>true</td><td>true</td><td>false</td><td>&quot;The MV Chelan has elevator acc…</td><td>&quot; &quot;</td><td>&quot;From the Chelan  language: Tsi…</td><td>&quot; &quot;</td><td>&quot;Seattle, WA&quot;</td><td>16</td><td>2</td><td>5000</td><td>1200</td><td>false</td><td>false</td><td>&quot;DIESEL&quot;</td><td>188</td><td>124</td><td>30</td><td>2477</td><td>3405</td><td>1981-01-01</td><td>2005-01-01</td><td>null</td><td>true</td><td>1090.0</td><td>944</td><td>3936</td><td>201</td></tr><tr><td>65</td><td>428</td><td>&quot;Chetzemoka&quot;</td><td>&quot;CHZ&quot;</td><td>{162,&quot;Kwa-di Tabil&quot;,427,&quot;https://www.wsdot.wa.gov/ferries/images/pages/boat_drawings/13-kwaditabil.gif&quot;,&quot;Kwa-di Tabil&quot;,&quot;https://www.wsdot.wa.gov/ferries/images/pages/boat_drawings/13-kwaditabil-silouette_sml.gif&quot;,75}</td><td>1</td><td>true</td><td>false</td><td>false</td><td>true</td><td>true</td><td>true</td><td>true</td><td>false</td><td>&quot;MV Chetzemoka has elevator acc…</td><td>null</td><td>&quot;The name honors a friendly Nat…</td><td>null</td><td>&quot;Seattle&quot;</td><td>15</td><td>2</td><td>6000</td><td>748</td><td>false</td><td>false</td><td>&quot;DIESEL&quot;</td><td>192</td><td>64</td><td>9</td><td>4623</td><td>2415</td><td>2010-01-01</td><td>null</td><td>null</td><td>false</td><td>null</td><td>768</td><td>3284</td><td>132</td></tr><tr><td>74</td><td>487</td><td>&quot;Chimacum&quot;</td><td>&quot;CHM&quot;</td><td>{100,&quot;Olympic&quot;,319,&quot;https://www.wsdot.wa.gov/ferries/images/pages/boat_drawings/8-olympic-2014.gif&quot;,&quot;Olympic&quot;,&quot;https://www.wsdot.wa.gov/ferries/images/pages/boat_drawings/3-issaquah-sillouette_sml.gif&quot;,35}</td><td>1</td><td>true</td><td>true</td><td>true</td><td>true</td><td>true</td><td>true</td><td>true</td><td>false</td><td>&quot;The vessel has two ADA complia…</td><td>null</td><td>&quot;“The Chimacum People who spoke…</td><td>&quot;Chimacum is the third of the 1…</td><td>&quot;Seattle, WA&quot;</td><td>17</td><td>2</td><td>6000</td><td>1500</td><td>false</td><td>false</td><td>&quot;DIESEL&quot;</td><td>192</td><td>144</td><td>34</td><td>3525</td><td>4384</td><td>2017-01-01</td><td>null</td><td>null</td><td>false</td><td>null</td><td>998</td><td>4347</td><td>216</td></tr><tr><td>15</td><td>15</td><td>&quot;Issaquah&quot;</td><td>&quot;ISS&quot;</td><td>{10,&quot;Issaquah 130&quot;,310,&quot;https://www.wsdot.wa.gov/ferries/images/pages/boat_drawings/4-issaquah130.gif&quot;,&quot;Issaquah&quot;,&quot;https://www.wsdot.wa.gov/ferries/images/pages/boat_drawings/4-issaquah130-sillouette_sml.gif&quot;,40}</td><td>1</td><td>true</td><td>true</td><td>false</td><td>true</td><td>true</td><td>true</td><td>true</td><td>false</td><td>&quot;The MV Issaquah has elevator a…</td><td>&quot; &quot;</td><td>&quot;&quot;Snake.&quot; Native Americans who …</td><td>&quot; &quot;</td><td>&quot;Seattle, WA&quot;</td><td>16</td><td>2</td><td>5000</td><td>1200</td><td>false</td><td>false</td><td>&quot;DIESEL&quot;</td><td>188</td><td>124</td><td>26</td><td>2475</td><td>3310</td><td>1979-01-01</td><td>1989-01-01</td><td>null</td><td>false</td><td>null</td><td>944</td><td>3936</td><td>198</td></tr></tbody></table></div>"
      ],
      "text/plain": [
       "shape: (5, 39)\n",
       "┌──────────┬───────────┬───────────┬───────────┬───┬───────────┬───────────┬───────────┬───────────┐\n",
       "│ VesselID ┆ VesselSub ┆ VesselNam ┆ VesselAbb ┆ … ┆ MaxPassen ┆ BeamInche ┆ LengthInc ┆ DraftInch │\n",
       "│ ---      ┆ jectID    ┆ e         ┆ rev       ┆   ┆ gerCountF ┆ s         ┆ hes       ┆ es        │\n",
       "│ i64      ┆ ---       ┆ ---       ┆ ---       ┆   ┆ orInterna ┆ ---       ┆ ---       ┆ ---       │\n",
       "│          ┆ i64       ┆ str       ┆ str       ┆   ┆ tio…      ┆ i32       ┆ i32       ┆ i32       │\n",
       "│          ┆           ┆           ┆           ┆   ┆ ---       ┆           ┆           ┆           │\n",
       "│          ┆           ┆           ┆           ┆   ┆ f64       ┆           ┆           ┆           │\n",
       "╞══════════╪═══════════╪═══════════╪═══════════╪═══╪═══════════╪═══════════╪═══════════╪═══════════╡\n",
       "│ 1        ┆ 1         ┆ Cathlamet ┆ CAT       ┆ … ┆ null      ┆ 944       ┆ 3936      ┆ 198       │\n",
       "│ 2        ┆ 2         ┆ Chelan    ┆ CHE       ┆ … ┆ 1090.0    ┆ 944       ┆ 3936      ┆ 201       │\n",
       "│ 65       ┆ 428       ┆ Chetzemok ┆ CHZ       ┆ … ┆ null      ┆ 768       ┆ 3284      ┆ 132       │\n",
       "│          ┆           ┆ a         ┆           ┆   ┆           ┆           ┆           ┆           │\n",
       "│ 74       ┆ 487       ┆ Chimacum  ┆ CHM       ┆ … ┆ null      ┆ 998       ┆ 4347      ┆ 216       │\n",
       "│ 15       ┆ 15        ┆ Issaquah  ┆ ISS       ┆ … ┆ null      ┆ 944       ┆ 3936      ┆ 198       │\n",
       "└──────────┴───────────┴───────────┴───────────┴───┴───────────┴───────────┴───────────┴───────────┘"
      ]
     },
     "execution_count": 88,
     "metadata": {},
     "output_type": "execute_result"
    }
   ],
   "source": [
    "vessel_verbose_clean.head(5)"
   ]
  },
  {
   "cell_type": "markdown",
   "metadata": {},
   "source": [
    "Fix numeric types."
   ]
  },
  {
   "cell_type": "code",
   "execution_count": 31,
   "metadata": {},
   "outputs": [],
   "source": [
    "vessel_verbose_clean = (\n",
    "    vessel_verbose_clean\n",
    "    .with_columns(\n",
    "        pl.col(\"MaxPassengerCountForInternational\").cast(pl.Int32),\n",
    "    )\n",
    ")"
   ]
  },
  {
   "cell_type": "code",
   "execution_count": 32,
   "metadata": {},
   "outputs": [
    {
     "data": {
      "text/html": [
       "<div><style>\n",
       ".dataframe > thead > tr,\n",
       ".dataframe > tbody > tr {\n",
       "  text-align: right;\n",
       "  white-space: pre-wrap;\n",
       "}\n",
       "</style>\n",
       "<small>shape: (5, 39)</small><table border=\"1\" class=\"dataframe\"><thead><tr><th>VesselID</th><th>VesselSubjectID</th><th>VesselName</th><th>VesselAbbrev</th><th>Class</th><th>Status</th><th>OwnedByWSF</th><th>CarDeckRestroom</th><th>CarDeckShelter</th><th>Elevator</th><th>ADAAccessible</th><th>MainCabinGalley</th><th>MainCabinRestroom</th><th>PublicWifi</th><th>ADAInfo</th><th>AdditionalInfo</th><th>VesselNameDesc</th><th>VesselHistory</th><th>CityBuilt</th><th>SpeedInKnots</th><th>EngineCount</th><th>Horsepower</th><th>MaxPassengerCount</th><th>PassengerOnly</th><th>FastFerry</th><th>PropulsionInfo</th><th>TallDeckClearance</th><th>RegDeckSpace</th><th>TallDeckSpace</th><th>Tonnage</th><th>Displacement</th><th>YearBuilt</th><th>YearRebuilt</th><th>VesselDrawingImg</th><th>SolasCertified</th><th>MaxPassengerCountForInternational</th><th>BeamInches</th><th>LengthInches</th><th>DraftInches</th></tr><tr><td>i64</td><td>i64</td><td>str</td><td>str</td><td>struct[7]</td><td>i64</td><td>bool</td><td>bool</td><td>bool</td><td>bool</td><td>bool</td><td>bool</td><td>bool</td><td>bool</td><td>str</td><td>str</td><td>str</td><td>str</td><td>str</td><td>i64</td><td>i64</td><td>i64</td><td>i64</td><td>bool</td><td>bool</td><td>str</td><td>i64</td><td>i64</td><td>i64</td><td>i64</td><td>i64</td><td>date</td><td>date</td><td>null</td><td>bool</td><td>i32</td><td>i32</td><td>i32</td><td>i32</td></tr></thead><tbody><tr><td>1</td><td>1</td><td>&quot;Cathlamet&quot;</td><td>&quot;CAT&quot;</td><td>{10,&quot;Issaquah 130&quot;,310,&quot;https://www.wsdot.wa.gov/ferries/images/pages/boat_drawings/4-issaquah130.gif&quot;,&quot;Issaquah&quot;,&quot;https://www.wsdot.wa.gov/ferries/images/pages/boat_drawings/4-issaquah130-sillouette_sml.gif&quot;,40}</td><td>1</td><td>true</td><td>true</td><td>false</td><td>true</td><td>true</td><td>true</td><td>true</td><td>false</td><td>&quot;The MV Cathlamet has elevator …</td><td>&quot; &quot;</td><td>&quot;From the Kathlamet tribe, the …</td><td>&quot; &quot;</td><td>&quot;Seattle, WA&quot;</td><td>16</td><td>2</td><td>5000</td><td>1200</td><td>false</td><td>false</td><td>&quot;DIESEL&quot;</td><td>186</td><td>124</td><td>26</td><td>2477</td><td>3310</td><td>1981-01-01</td><td>1993-01-01</td><td>null</td><td>false</td><td>null</td><td>944</td><td>3936</td><td>198</td></tr><tr><td>2</td><td>2</td><td>&quot;Chelan&quot;</td><td>&quot;CHE&quot;</td><td>{10,&quot;Issaquah 130&quot;,310,&quot;https://www.wsdot.wa.gov/ferries/images/pages/boat_drawings/4-issaquah130.gif&quot;,&quot;Issaquah&quot;,&quot;https://www.wsdot.wa.gov/ferries/images/pages/boat_drawings/4-issaquah130-sillouette_sml.gif&quot;,40}</td><td>1</td><td>true</td><td>true</td><td>false</td><td>true</td><td>true</td><td>true</td><td>true</td><td>false</td><td>&quot;The MV Chelan has elevator acc…</td><td>&quot; &quot;</td><td>&quot;From the Chelan  language: Tsi…</td><td>&quot; &quot;</td><td>&quot;Seattle, WA&quot;</td><td>16</td><td>2</td><td>5000</td><td>1200</td><td>false</td><td>false</td><td>&quot;DIESEL&quot;</td><td>188</td><td>124</td><td>30</td><td>2477</td><td>3405</td><td>1981-01-01</td><td>2005-01-01</td><td>null</td><td>true</td><td>1090</td><td>944</td><td>3936</td><td>201</td></tr><tr><td>65</td><td>428</td><td>&quot;Chetzemoka&quot;</td><td>&quot;CHZ&quot;</td><td>{162,&quot;Kwa-di Tabil&quot;,427,&quot;https://www.wsdot.wa.gov/ferries/images/pages/boat_drawings/13-kwaditabil.gif&quot;,&quot;Kwa-di Tabil&quot;,&quot;https://www.wsdot.wa.gov/ferries/images/pages/boat_drawings/13-kwaditabil-silouette_sml.gif&quot;,75}</td><td>1</td><td>true</td><td>false</td><td>false</td><td>true</td><td>true</td><td>true</td><td>true</td><td>false</td><td>&quot;MV Chetzemoka has elevator acc…</td><td>null</td><td>&quot;The name honors a friendly Nat…</td><td>null</td><td>&quot;Seattle&quot;</td><td>15</td><td>2</td><td>6000</td><td>748</td><td>false</td><td>false</td><td>&quot;DIESEL&quot;</td><td>192</td><td>64</td><td>9</td><td>4623</td><td>2415</td><td>2010-01-01</td><td>null</td><td>null</td><td>false</td><td>null</td><td>768</td><td>3284</td><td>132</td></tr><tr><td>74</td><td>487</td><td>&quot;Chimacum&quot;</td><td>&quot;CHM&quot;</td><td>{100,&quot;Olympic&quot;,319,&quot;https://www.wsdot.wa.gov/ferries/images/pages/boat_drawings/8-olympic-2014.gif&quot;,&quot;Olympic&quot;,&quot;https://www.wsdot.wa.gov/ferries/images/pages/boat_drawings/3-issaquah-sillouette_sml.gif&quot;,35}</td><td>1</td><td>true</td><td>true</td><td>true</td><td>true</td><td>true</td><td>true</td><td>true</td><td>false</td><td>&quot;The vessel has two ADA complia…</td><td>null</td><td>&quot;“The Chimacum People who spoke…</td><td>&quot;Chimacum is the third of the 1…</td><td>&quot;Seattle, WA&quot;</td><td>17</td><td>2</td><td>6000</td><td>1500</td><td>false</td><td>false</td><td>&quot;DIESEL&quot;</td><td>192</td><td>144</td><td>34</td><td>3525</td><td>4384</td><td>2017-01-01</td><td>null</td><td>null</td><td>false</td><td>null</td><td>998</td><td>4347</td><td>216</td></tr><tr><td>15</td><td>15</td><td>&quot;Issaquah&quot;</td><td>&quot;ISS&quot;</td><td>{10,&quot;Issaquah 130&quot;,310,&quot;https://www.wsdot.wa.gov/ferries/images/pages/boat_drawings/4-issaquah130.gif&quot;,&quot;Issaquah&quot;,&quot;https://www.wsdot.wa.gov/ferries/images/pages/boat_drawings/4-issaquah130-sillouette_sml.gif&quot;,40}</td><td>1</td><td>true</td><td>true</td><td>false</td><td>true</td><td>true</td><td>true</td><td>true</td><td>false</td><td>&quot;The MV Issaquah has elevator a…</td><td>&quot; &quot;</td><td>&quot;&quot;Snake.&quot; Native Americans who …</td><td>&quot; &quot;</td><td>&quot;Seattle, WA&quot;</td><td>16</td><td>2</td><td>5000</td><td>1200</td><td>false</td><td>false</td><td>&quot;DIESEL&quot;</td><td>188</td><td>124</td><td>26</td><td>2475</td><td>3310</td><td>1979-01-01</td><td>1989-01-01</td><td>null</td><td>false</td><td>null</td><td>944</td><td>3936</td><td>198</td></tr></tbody></table></div>"
      ],
      "text/plain": [
       "shape: (5, 39)\n",
       "┌──────────┬───────────┬───────────┬───────────┬───┬───────────┬───────────┬───────────┬───────────┐\n",
       "│ VesselID ┆ VesselSub ┆ VesselNam ┆ VesselAbb ┆ … ┆ MaxPassen ┆ BeamInche ┆ LengthInc ┆ DraftInch │\n",
       "│ ---      ┆ jectID    ┆ e         ┆ rev       ┆   ┆ gerCountF ┆ s         ┆ hes       ┆ es        │\n",
       "│ i64      ┆ ---       ┆ ---       ┆ ---       ┆   ┆ orInterna ┆ ---       ┆ ---       ┆ ---       │\n",
       "│          ┆ i64       ┆ str       ┆ str       ┆   ┆ tio…      ┆ i32       ┆ i32       ┆ i32       │\n",
       "│          ┆           ┆           ┆           ┆   ┆ ---       ┆           ┆           ┆           │\n",
       "│          ┆           ┆           ┆           ┆   ┆ i32       ┆           ┆           ┆           │\n",
       "╞══════════╪═══════════╪═══════════╪═══════════╪═══╪═══════════╪═══════════╪═══════════╪═══════════╡\n",
       "│ 1        ┆ 1         ┆ Cathlamet ┆ CAT       ┆ … ┆ null      ┆ 944       ┆ 3936      ┆ 198       │\n",
       "│ 2        ┆ 2         ┆ Chelan    ┆ CHE       ┆ … ┆ 1090      ┆ 944       ┆ 3936      ┆ 201       │\n",
       "│ 65       ┆ 428       ┆ Chetzemok ┆ CHZ       ┆ … ┆ null      ┆ 768       ┆ 3284      ┆ 132       │\n",
       "│          ┆           ┆ a         ┆           ┆   ┆           ┆           ┆           ┆           │\n",
       "│ 74       ┆ 487       ┆ Chimacum  ┆ CHM       ┆ … ┆ null      ┆ 998       ┆ 4347      ┆ 216       │\n",
       "│ 15       ┆ 15        ┆ Issaquah  ┆ ISS       ┆ … ┆ null      ┆ 944       ┆ 3936      ┆ 198       │\n",
       "└──────────┴───────────┴───────────┴───────────┴───┴───────────┴───────────┴───────────┴───────────┘"
      ]
     },
     "execution_count": 90,
     "metadata": {},
     "output_type": "execute_result"
    }
   ],
   "source": [
    "vessel_verbose_clean.head(5)"
   ]
  },
  {
   "cell_type": "markdown",
   "metadata": {},
   "source": [
    "The column `Class` is a struct. Each row contains a dictionary object of key value pairs."
   ]
  },
  {
   "cell_type": "code",
   "execution_count": 33,
   "metadata": {},
   "outputs": [
    {
     "data": {
      "text/html": [
       "<div><style>\n",
       ".dataframe > thead > tr,\n",
       ".dataframe > tbody > tr {\n",
       "  text-align: right;\n",
       "  white-space: pre-wrap;\n",
       "}\n",
       "</style>\n",
       "<small>shape: (21,)</small><table border=\"1\" class=\"dataframe\"><thead><tr><th>Class</th></tr><tr><td>struct[7]</td></tr></thead><tbody><tr><td>{10,&quot;Issaquah 130&quot;,310,&quot;https://www.wsdot.wa.gov/ferries/images/pages/boat_drawings/4-issaquah130.gif&quot;,&quot;Issaquah&quot;,&quot;https://www.wsdot.wa.gov/ferries/images/pages/boat_drawings/4-issaquah130-sillouette_sml.gif&quot;,40}</td></tr><tr><td>{10,&quot;Issaquah 130&quot;,310,&quot;https://www.wsdot.wa.gov/ferries/images/pages/boat_drawings/4-issaquah130.gif&quot;,&quot;Issaquah&quot;,&quot;https://www.wsdot.wa.gov/ferries/images/pages/boat_drawings/4-issaquah130-sillouette_sml.gif&quot;,40}</td></tr><tr><td>{162,&quot;Kwa-di Tabil&quot;,427,&quot;https://www.wsdot.wa.gov/ferries/images/pages/boat_drawings/13-kwaditabil.gif&quot;,&quot;Kwa-di Tabil&quot;,&quot;https://www.wsdot.wa.gov/ferries/images/pages/boat_drawings/13-kwaditabil-silouette_sml.gif&quot;,75}</td></tr><tr><td>{100,&quot;Olympic&quot;,319,&quot;https://www.wsdot.wa.gov/ferries/images/pages/boat_drawings/8-olympic-2014.gif&quot;,&quot;Olympic&quot;,&quot;https://www.wsdot.wa.gov/ferries/images/pages/boat_drawings/3-issaquah-sillouette_sml.gif&quot;,35}</td></tr><tr><td>{10,&quot;Issaquah 130&quot;,310,&quot;https://www.wsdot.wa.gov/ferries/images/pages/boat_drawings/4-issaquah130.gif&quot;,&quot;Issaquah&quot;,&quot;https://www.wsdot.wa.gov/ferries/images/pages/boat_drawings/4-issaquah130-sillouette_sml.gif&quot;,40}</td></tr><tr><td>{50,&quot;Super&quot;,314,&quot;https://www.wsdot.wa.gov/ferries/images/pages/boat_drawings/2-super.gif&quot;,&quot;Super&quot;,&quot;https://www.wsdot.wa.gov/ferries/images/pages/boat_drawings/2-super-sillouette_sml.gif&quot;,30}</td></tr><tr><td>{162,&quot;Kwa-di Tabil&quot;,427,&quot;https://www.wsdot.wa.gov/ferries/images/pages/boat_drawings/13-kwaditabil.gif&quot;,&quot;Kwa-di Tabil&quot;,&quot;https://www.wsdot.wa.gov/ferries/images/pages/boat_drawings/13-kwaditabil-silouette_sml.gif&quot;,75}</td></tr><tr><td>{10,&quot;Issaquah 130&quot;,310,&quot;https://www.wsdot.wa.gov/ferries/images/pages/boat_drawings/4-issaquah130.gif&quot;,&quot;Issaquah&quot;,&quot;https://www.wsdot.wa.gov/ferries/images/pages/boat_drawings/4-issaquah130-sillouette_sml.gif&quot;,40}</td></tr><tr><td>{10,&quot;Issaquah 130&quot;,310,&quot;https://www.wsdot.wa.gov/ferries/images/pages/boat_drawings/4-issaquah130.gif&quot;,&quot;Issaquah&quot;,&quot;https://www.wsdot.wa.gov/ferries/images/pages/boat_drawings/4-issaquah130-sillouette_sml.gif&quot;,40}</td></tr><tr><td>{90,&quot;Jumbo Mark II&quot;,318,&quot;https://www.wsdot.wa.gov/ferries/images/pages/boat_drawings/0-mark2.gif&quot;,&quot;Jumbo Mark II&quot;,&quot;https://www.wsdot.wa.gov/ferries/images/pages/boat_drawings/0-mark2-sillouette_sml.gif&quot;,10}</td></tr><tr><td>{162,&quot;Kwa-di Tabil&quot;,427,&quot;https://www.wsdot.wa.gov/ferries/images/pages/boat_drawings/13-kwaditabil.gif&quot;,&quot;Kwa-di Tabil&quot;,&quot;https://www.wsdot.wa.gov/ferries/images/pages/boat_drawings/13-kwaditabil-silouette_sml.gif&quot;,75}</td></tr><tr><td>{100,&quot;Olympic&quot;,319,&quot;https://www.wsdot.wa.gov/ferries/images/pages/boat_drawings/8-olympic-2014.gif&quot;,&quot;Olympic&quot;,&quot;https://www.wsdot.wa.gov/ferries/images/pages/boat_drawings/3-issaquah-sillouette_sml.gif&quot;,35}</td></tr><tr><td>{60,&quot;Issaquah&quot;,315,&quot;https://www.wsdot.wa.gov/ferries/images/pages/boat_drawings/3-issaquah.gif&quot;,&quot;Issaquah&quot;,&quot;https://www.wsdot.wa.gov/ferries/images/pages/boat_drawings/3-issaquah-sillouette_sml.gif&quot;,50}</td></tr><tr><td>{70,&quot;Jumbo&quot;,316,&quot;https://www.wsdot.wa.gov/ferries/images/pages/boat_drawings/1-jumbo.gif&quot;,&quot;Jumbo&quot;,&quot;https://www.wsdot.wa.gov/ferries/images/pages/boat_drawings/1-jumbo-sillouette_sml.gif&quot;,20}</td></tr><tr><td>{100,&quot;Olympic&quot;,319,&quot;https://www.wsdot.wa.gov/ferries/images/pages/boat_drawings/8-olympic-2014.gif&quot;,&quot;Olympic&quot;,&quot;https://www.wsdot.wa.gov/ferries/images/pages/boat_drawings/3-issaquah-sillouette_sml.gif&quot;,35}</td></tr><tr><td>{90,&quot;Jumbo Mark II&quot;,318,&quot;https://www.wsdot.wa.gov/ferries/images/pages/boat_drawings/0-mark2.gif&quot;,&quot;Jumbo Mark II&quot;,&quot;https://www.wsdot.wa.gov/ferries/images/pages/boat_drawings/0-mark2-sillouette_sml.gif&quot;,10}</td></tr><tr><td>{20,&quot;Evergreen State&quot;,311,&quot;https://www.wsdot.wa.gov/ferries/images/pages/boat_drawings/5-evergreenstate.gif&quot;,&quot;Evergreen State&quot;,&quot;https://www.wsdot.wa.gov/ferries/images/pages/boat_drawings/4-issaquah130-sillouette_sml.gif&quot;,60}</td></tr><tr><td>{100,&quot;Olympic&quot;,319,&quot;https://www.wsdot.wa.gov/ferries/images/pages/boat_drawings/8-olympic-2014.gif&quot;,&quot;Olympic&quot;,&quot;https://www.wsdot.wa.gov/ferries/images/pages/boat_drawings/3-issaquah-sillouette_sml.gif&quot;,35}</td></tr><tr><td>{70,&quot;Jumbo&quot;,316,&quot;https://www.wsdot.wa.gov/ferries/images/pages/boat_drawings/1-jumbo.gif&quot;,&quot;Jumbo&quot;,&quot;https://www.wsdot.wa.gov/ferries/images/pages/boat_drawings/1-jumbo-sillouette_sml.gif&quot;,20}</td></tr><tr><td>{90,&quot;Jumbo Mark II&quot;,318,&quot;https://www.wsdot.wa.gov/ferries/images/pages/boat_drawings/0-mark2.gif&quot;,&quot;Jumbo Mark II&quot;,&quot;https://www.wsdot.wa.gov/ferries/images/pages/boat_drawings/0-mark2-sillouette_sml.gif&quot;,10}</td></tr><tr><td>{50,&quot;Super&quot;,314,&quot;https://www.wsdot.wa.gov/ferries/images/pages/boat_drawings/2-super.gif&quot;,&quot;Super&quot;,&quot;https://www.wsdot.wa.gov/ferries/images/pages/boat_drawings/2-super-sillouette_sml.gif&quot;,30}</td></tr></tbody></table></div>"
      ],
      "text/plain": [
       "shape: (21,)\n",
       "Series: 'Class' [struct[7]]\n",
       "[\n",
       "\t{10,\"Issaquah 130\",310,\"https://www.wsdot.wa.gov/ferries/images/pages/boat_drawings/4-issaquah130.gif\",\"Issaquah\",\"https://www.wsdot.wa.gov/ferries/images/pages/boat_drawings/4-issaquah130-sillouette_sml.gif\",40}\n",
       "\t{10,\"Issaquah 130\",310,\"https://www.wsdot.wa.gov/ferries/images/pages/boat_drawings/4-issaquah130.gif\",\"Issaquah\",\"https://www.wsdot.wa.gov/ferries/images/pages/boat_drawings/4-issaquah130-sillouette_sml.gif\",40}\n",
       "\t{162,\"Kwa-di Tabil\",427,\"https://www.wsdot.wa.gov/ferries/images/pages/boat_drawings/13-kwaditabil.gif\",\"Kwa-di Tabil\",\"https://www.wsdot.wa.gov/ferries/images/pages/boat_drawings/13-kwaditabil-silouette_sml.gif\",75}\n",
       "\t{100,\"Olympic\",319,\"https://www.wsdot.wa.gov/ferries/images/pages/boat_drawings/8-olympic-2014.gif\",\"Olympic\",\"https://www.wsdot.wa.gov/ferries/images/pages/boat_drawings/3-issaquah-sillouette_sml.gif\",35}\n",
       "\t{10,\"Issaquah 130\",310,\"https://www.wsdot.wa.gov/ferries/images/pages/boat_drawings/4-issaquah130.gif\",\"Issaquah\",\"https://www.wsdot.wa.gov/ferries/images/pages/boat_drawings/4-issaquah130-sillouette_sml.gif\",40}\n",
       "\t{50,\"Super\",314,\"https://www.wsdot.wa.gov/ferries/images/pages/boat_drawings/2-super.gif\",\"Super\",\"https://www.wsdot.wa.gov/ferries/images/pages/boat_drawings/2-super-sillouette_sml.gif\",30}\n",
       "\t{162,\"Kwa-di Tabil\",427,\"https://www.wsdot.wa.gov/ferries/images/pages/boat_drawings/13-kwaditabil.gif\",\"Kwa-di Tabil\",\"https://www.wsdot.wa.gov/ferries/images/pages/boat_drawings/13-kwaditabil-silouette_sml.gif\",75}\n",
       "\t{10,\"Issaquah 130\",310,\"https://www.wsdot.wa.gov/ferries/images/pages/boat_drawings/4-issaquah130.gif\",\"Issaquah\",\"https://www.wsdot.wa.gov/ferries/images/pages/boat_drawings/4-issaquah130-sillouette_sml.gif\",40}\n",
       "\t{10,\"Issaquah 130\",310,\"https://www.wsdot.wa.gov/ferries/images/pages/boat_drawings/4-issaquah130.gif\",\"Issaquah\",\"https://www.wsdot.wa.gov/ferries/images/pages/boat_drawings/4-issaquah130-sillouette_sml.gif\",40}\n",
       "\t{90,\"Jumbo Mark II\",318,\"https://www.wsdot.wa.gov/ferries/images/pages/boat_drawings/0-mark2.gif\",\"Jumbo Mark II\",\"https://www.wsdot.wa.gov/ferries/images/pages/boat_drawings/0-mark2-sillouette_sml.gif\",10}\n",
       "\t{162,\"Kwa-di Tabil\",427,\"https://www.wsdot.wa.gov/ferries/images/pages/boat_drawings/13-kwaditabil.gif\",\"Kwa-di Tabil\",\"https://www.wsdot.wa.gov/ferries/images/pages/boat_drawings/13-kwaditabil-silouette_sml.gif\",75}\n",
       "\t{100,\"Olympic\",319,\"https://www.wsdot.wa.gov/ferries/images/pages/boat_drawings/8-olympic-2014.gif\",\"Olympic\",\"https://www.wsdot.wa.gov/ferries/images/pages/boat_drawings/3-issaquah-sillouette_sml.gif\",35}\n",
       "\t{60,\"Issaquah\",315,\"https://www.wsdot.wa.gov/ferries/images/pages/boat_drawings/3-issaquah.gif\",\"Issaquah\",\"https://www.wsdot.wa.gov/ferries/images/pages/boat_drawings/3-issaquah-sillouette_sml.gif\",50}\n",
       "\t{70,\"Jumbo\",316,\"https://www.wsdot.wa.gov/ferries/images/pages/boat_drawings/1-jumbo.gif\",\"Jumbo\",\"https://www.wsdot.wa.gov/ferries/images/pages/boat_drawings/1-jumbo-sillouette_sml.gif\",20}\n",
       "\t{100,\"Olympic\",319,\"https://www.wsdot.wa.gov/ferries/images/pages/boat_drawings/8-olympic-2014.gif\",\"Olympic\",\"https://www.wsdot.wa.gov/ferries/images/pages/boat_drawings/3-issaquah-sillouette_sml.gif\",35}\n",
       "\t{90,\"Jumbo Mark II\",318,\"https://www.wsdot.wa.gov/ferries/images/pages/boat_drawings/0-mark2.gif\",\"Jumbo Mark II\",\"https://www.wsdot.wa.gov/ferries/images/pages/boat_drawings/0-mark2-sillouette_sml.gif\",10}\n",
       "\t{20,\"Evergreen State\",311,\"https://www.wsdot.wa.gov/ferries/images/pages/boat_drawings/5-evergreenstate.gif\",\"Evergreen State\",\"https://www.wsdot.wa.gov/ferries/images/pages/boat_drawings/4-issaquah130-sillouette_sml.gif\",60}\n",
       "\t{100,\"Olympic\",319,\"https://www.wsdot.wa.gov/ferries/images/pages/boat_drawings/8-olympic-2014.gif\",\"Olympic\",\"https://www.wsdot.wa.gov/ferries/images/pages/boat_drawings/3-issaquah-sillouette_sml.gif\",35}\n",
       "\t{70,\"Jumbo\",316,\"https://www.wsdot.wa.gov/ferries/images/pages/boat_drawings/1-jumbo.gif\",\"Jumbo\",\"https://www.wsdot.wa.gov/ferries/images/pages/boat_drawings/1-jumbo-sillouette_sml.gif\",20}\n",
       "\t{90,\"Jumbo Mark II\",318,\"https://www.wsdot.wa.gov/ferries/images/pages/boat_drawings/0-mark2.gif\",\"Jumbo Mark II\",\"https://www.wsdot.wa.gov/ferries/images/pages/boat_drawings/0-mark2-sillouette_sml.gif\",10}\n",
       "\t{50,\"Super\",314,\"https://www.wsdot.wa.gov/ferries/images/pages/boat_drawings/2-super.gif\",\"Super\",\"https://www.wsdot.wa.gov/ferries/images/pages/boat_drawings/2-super-sillouette_sml.gif\",30}\n",
       "]"
      ]
     },
     "execution_count": 91,
     "metadata": {},
     "output_type": "execute_result"
    }
   ],
   "source": [
    "vessel_verbose_clean.get_column('Class')"
   ]
  },
  {
   "cell_type": "code",
   "execution_count": 34,
   "metadata": {},
   "outputs": [
    {
     "data": {
      "text/plain": [
       "{'ClassID': 10,\n",
       " 'ClassName': 'Issaquah 130',\n",
       " 'ClassSubjectID': 310,\n",
       " 'DrawingImg': 'https://www.wsdot.wa.gov/ferries/images/pages/boat_drawings/4-issaquah130.gif',\n",
       " 'PublicDisplayName': 'Issaquah',\n",
       " 'SilhouetteImg': 'https://www.wsdot.wa.gov/ferries/images/pages/boat_drawings/4-issaquah130-sillouette_sml.gif',\n",
       " 'SortSeq': 40}"
      ]
     },
     "execution_count": 92,
     "metadata": {},
     "output_type": "execute_result"
    }
   ],
   "source": [
    "vessel_verbose_clean.get_column('Class').to_list()[0]"
   ]
  },
  {
   "cell_type": "markdown",
   "metadata": {},
   "source": [
    "This data would be easier to work with if it was in a tabular format, and not a nested dictionary. To do this, unnest the `Class` struct so that each data point is in its own column."
   ]
  },
  {
   "cell_type": "code",
   "execution_count": 35,
   "metadata": {},
   "outputs": [],
   "source": [
    "vessel_verbose_clean = (\n",
    "    vessel_verbose_clean\n",
    "    .unnest(\"Class\")\n",
    ")"
   ]
  },
  {
   "cell_type": "code",
   "execution_count": 36,
   "metadata": {},
   "outputs": [
    {
     "data": {
      "text/html": [
       "<div><style>\n",
       ".dataframe > thead > tr,\n",
       ".dataframe > tbody > tr {\n",
       "  text-align: right;\n",
       "  white-space: pre-wrap;\n",
       "}\n",
       "</style>\n",
       "<small>shape: (2, 45)</small><table border=\"1\" class=\"dataframe\"><thead><tr><th>VesselID</th><th>VesselSubjectID</th><th>VesselName</th><th>VesselAbbrev</th><th>ClassID</th><th>ClassName</th><th>ClassSubjectID</th><th>DrawingImg</th><th>PublicDisplayName</th><th>SilhouetteImg</th><th>SortSeq</th><th>Status</th><th>OwnedByWSF</th><th>CarDeckRestroom</th><th>CarDeckShelter</th><th>Elevator</th><th>ADAAccessible</th><th>MainCabinGalley</th><th>MainCabinRestroom</th><th>PublicWifi</th><th>ADAInfo</th><th>AdditionalInfo</th><th>VesselNameDesc</th><th>VesselHistory</th><th>CityBuilt</th><th>SpeedInKnots</th><th>EngineCount</th><th>Horsepower</th><th>MaxPassengerCount</th><th>PassengerOnly</th><th>FastFerry</th><th>PropulsionInfo</th><th>TallDeckClearance</th><th>RegDeckSpace</th><th>TallDeckSpace</th><th>Tonnage</th><th>Displacement</th><th>YearBuilt</th><th>YearRebuilt</th><th>VesselDrawingImg</th><th>SolasCertified</th><th>MaxPassengerCountForInternational</th><th>BeamInches</th><th>LengthInches</th><th>DraftInches</th></tr><tr><td>i64</td><td>i64</td><td>str</td><td>str</td><td>i64</td><td>str</td><td>i64</td><td>str</td><td>str</td><td>str</td><td>i64</td><td>i64</td><td>bool</td><td>bool</td><td>bool</td><td>bool</td><td>bool</td><td>bool</td><td>bool</td><td>bool</td><td>str</td><td>str</td><td>str</td><td>str</td><td>str</td><td>i64</td><td>i64</td><td>i64</td><td>i64</td><td>bool</td><td>bool</td><td>str</td><td>i64</td><td>i64</td><td>i64</td><td>i64</td><td>i64</td><td>date</td><td>date</td><td>null</td><td>bool</td><td>i32</td><td>i32</td><td>i32</td><td>i32</td></tr></thead><tbody><tr><td>1</td><td>1</td><td>&quot;Cathlamet&quot;</td><td>&quot;CAT&quot;</td><td>10</td><td>&quot;Issaquah 130&quot;</td><td>310</td><td>&quot;https://www.wsdot.wa.gov/ferri…</td><td>&quot;Issaquah&quot;</td><td>&quot;https://www.wsdot.wa.gov/ferri…</td><td>40</td><td>1</td><td>true</td><td>true</td><td>false</td><td>true</td><td>true</td><td>true</td><td>true</td><td>false</td><td>&quot;The MV Cathlamet has elevator …</td><td>&quot; &quot;</td><td>&quot;From the Kathlamet tribe, the …</td><td>&quot; &quot;</td><td>&quot;Seattle, WA&quot;</td><td>16</td><td>2</td><td>5000</td><td>1200</td><td>false</td><td>false</td><td>&quot;DIESEL&quot;</td><td>186</td><td>124</td><td>26</td><td>2477</td><td>3310</td><td>1981-01-01</td><td>1993-01-01</td><td>null</td><td>false</td><td>null</td><td>944</td><td>3936</td><td>198</td></tr><tr><td>2</td><td>2</td><td>&quot;Chelan&quot;</td><td>&quot;CHE&quot;</td><td>10</td><td>&quot;Issaquah 130&quot;</td><td>310</td><td>&quot;https://www.wsdot.wa.gov/ferri…</td><td>&quot;Issaquah&quot;</td><td>&quot;https://www.wsdot.wa.gov/ferri…</td><td>40</td><td>1</td><td>true</td><td>true</td><td>false</td><td>true</td><td>true</td><td>true</td><td>true</td><td>false</td><td>&quot;The MV Chelan has elevator acc…</td><td>&quot; &quot;</td><td>&quot;From the Chelan  language: Tsi…</td><td>&quot; &quot;</td><td>&quot;Seattle, WA&quot;</td><td>16</td><td>2</td><td>5000</td><td>1200</td><td>false</td><td>false</td><td>&quot;DIESEL&quot;</td><td>188</td><td>124</td><td>30</td><td>2477</td><td>3405</td><td>1981-01-01</td><td>2005-01-01</td><td>null</td><td>true</td><td>1090</td><td>944</td><td>3936</td><td>201</td></tr></tbody></table></div>"
      ],
      "text/plain": [
       "shape: (2, 45)\n",
       "┌──────────┬───────────┬───────────┬───────────┬───┬───────────┬───────────┬───────────┬───────────┐\n",
       "│ VesselID ┆ VesselSub ┆ VesselNam ┆ VesselAbb ┆ … ┆ MaxPassen ┆ BeamInche ┆ LengthInc ┆ DraftInch │\n",
       "│ ---      ┆ jectID    ┆ e         ┆ rev       ┆   ┆ gerCountF ┆ s         ┆ hes       ┆ es        │\n",
       "│ i64      ┆ ---       ┆ ---       ┆ ---       ┆   ┆ orInterna ┆ ---       ┆ ---       ┆ ---       │\n",
       "│          ┆ i64       ┆ str       ┆ str       ┆   ┆ tio…      ┆ i32       ┆ i32       ┆ i32       │\n",
       "│          ┆           ┆           ┆           ┆   ┆ ---       ┆           ┆           ┆           │\n",
       "│          ┆           ┆           ┆           ┆   ┆ i32       ┆           ┆           ┆           │\n",
       "╞══════════╪═══════════╪═══════════╪═══════════╪═══╪═══════════╪═══════════╪═══════════╪═══════════╡\n",
       "│ 1        ┆ 1         ┆ Cathlamet ┆ CAT       ┆ … ┆ null      ┆ 944       ┆ 3936      ┆ 198       │\n",
       "│ 2        ┆ 2         ┆ Chelan    ┆ CHE       ┆ … ┆ 1090      ┆ 944       ┆ 3936      ┆ 201       │\n",
       "└──────────┴───────────┴───────────┴───────────┴───┴───────────┴───────────┴───────────┴───────────┘"
      ]
     },
     "execution_count": 94,
     "metadata": {},
     "output_type": "execute_result"
    }
   ],
   "source": [
    "vessel_verbose_clean.head(2)"
   ]
  },
  {
   "cell_type": "markdown",
   "metadata": {},
   "source": [
    "Handle missing values for strings."
   ]
  },
  {
   "cell_type": "code",
   "execution_count": 37,
   "metadata": {},
   "outputs": [],
   "source": [
    "vessel_verbose_clean = (\n",
    "    vessel_verbose_clean\n",
    "    .with_columns(\n",
    "        pl.col(pl.String).replace(\" \", None),\n",
    "    )\n",
    ")"
   ]
  },
  {
   "cell_type": "code",
   "execution_count": 38,
   "metadata": {},
   "outputs": [
    {
     "data": {
      "text/html": [
       "<div><style>\n",
       ".dataframe > thead > tr,\n",
       ".dataframe > tbody > tr {\n",
       "  text-align: right;\n",
       "  white-space: pre-wrap;\n",
       "}\n",
       "</style>\n",
       "<small>shape: (2, 45)</small><table border=\"1\" class=\"dataframe\"><thead><tr><th>VesselID</th><th>VesselSubjectID</th><th>VesselName</th><th>VesselAbbrev</th><th>ClassID</th><th>ClassName</th><th>ClassSubjectID</th><th>DrawingImg</th><th>PublicDisplayName</th><th>SilhouetteImg</th><th>SortSeq</th><th>Status</th><th>OwnedByWSF</th><th>CarDeckRestroom</th><th>CarDeckShelter</th><th>Elevator</th><th>ADAAccessible</th><th>MainCabinGalley</th><th>MainCabinRestroom</th><th>PublicWifi</th><th>ADAInfo</th><th>AdditionalInfo</th><th>VesselNameDesc</th><th>VesselHistory</th><th>CityBuilt</th><th>SpeedInKnots</th><th>EngineCount</th><th>Horsepower</th><th>MaxPassengerCount</th><th>PassengerOnly</th><th>FastFerry</th><th>PropulsionInfo</th><th>TallDeckClearance</th><th>RegDeckSpace</th><th>TallDeckSpace</th><th>Tonnage</th><th>Displacement</th><th>YearBuilt</th><th>YearRebuilt</th><th>VesselDrawingImg</th><th>SolasCertified</th><th>MaxPassengerCountForInternational</th><th>BeamInches</th><th>LengthInches</th><th>DraftInches</th></tr><tr><td>i64</td><td>i64</td><td>str</td><td>str</td><td>i64</td><td>str</td><td>i64</td><td>str</td><td>str</td><td>str</td><td>i64</td><td>i64</td><td>bool</td><td>bool</td><td>bool</td><td>bool</td><td>bool</td><td>bool</td><td>bool</td><td>bool</td><td>str</td><td>str</td><td>str</td><td>str</td><td>str</td><td>i64</td><td>i64</td><td>i64</td><td>i64</td><td>bool</td><td>bool</td><td>str</td><td>i64</td><td>i64</td><td>i64</td><td>i64</td><td>i64</td><td>date</td><td>date</td><td>null</td><td>bool</td><td>i32</td><td>i32</td><td>i32</td><td>i32</td></tr></thead><tbody><tr><td>1</td><td>1</td><td>&quot;Cathlamet&quot;</td><td>&quot;CAT&quot;</td><td>10</td><td>&quot;Issaquah 130&quot;</td><td>310</td><td>&quot;https://www.wsdot.wa.gov/ferri…</td><td>&quot;Issaquah&quot;</td><td>&quot;https://www.wsdot.wa.gov/ferri…</td><td>40</td><td>1</td><td>true</td><td>true</td><td>false</td><td>true</td><td>true</td><td>true</td><td>true</td><td>false</td><td>&quot;The MV Cathlamet has elevator …</td><td>null</td><td>&quot;From the Kathlamet tribe, the …</td><td>null</td><td>&quot;Seattle, WA&quot;</td><td>16</td><td>2</td><td>5000</td><td>1200</td><td>false</td><td>false</td><td>&quot;DIESEL&quot;</td><td>186</td><td>124</td><td>26</td><td>2477</td><td>3310</td><td>1981-01-01</td><td>1993-01-01</td><td>null</td><td>false</td><td>null</td><td>944</td><td>3936</td><td>198</td></tr><tr><td>2</td><td>2</td><td>&quot;Chelan&quot;</td><td>&quot;CHE&quot;</td><td>10</td><td>&quot;Issaquah 130&quot;</td><td>310</td><td>&quot;https://www.wsdot.wa.gov/ferri…</td><td>&quot;Issaquah&quot;</td><td>&quot;https://www.wsdot.wa.gov/ferri…</td><td>40</td><td>1</td><td>true</td><td>true</td><td>false</td><td>true</td><td>true</td><td>true</td><td>true</td><td>false</td><td>&quot;The MV Chelan has elevator acc…</td><td>null</td><td>&quot;From the Chelan  language: Tsi…</td><td>null</td><td>&quot;Seattle, WA&quot;</td><td>16</td><td>2</td><td>5000</td><td>1200</td><td>false</td><td>false</td><td>&quot;DIESEL&quot;</td><td>188</td><td>124</td><td>30</td><td>2477</td><td>3405</td><td>1981-01-01</td><td>2005-01-01</td><td>null</td><td>true</td><td>1090</td><td>944</td><td>3936</td><td>201</td></tr></tbody></table></div>"
      ],
      "text/plain": [
       "shape: (2, 45)\n",
       "┌──────────┬───────────┬───────────┬───────────┬───┬───────────┬───────────┬───────────┬───────────┐\n",
       "│ VesselID ┆ VesselSub ┆ VesselNam ┆ VesselAbb ┆ … ┆ MaxPassen ┆ BeamInche ┆ LengthInc ┆ DraftInch │\n",
       "│ ---      ┆ jectID    ┆ e         ┆ rev       ┆   ┆ gerCountF ┆ s         ┆ hes       ┆ es        │\n",
       "│ i64      ┆ ---       ┆ ---       ┆ ---       ┆   ┆ orInterna ┆ ---       ┆ ---       ┆ ---       │\n",
       "│          ┆ i64       ┆ str       ┆ str       ┆   ┆ tio…      ┆ i32       ┆ i32       ┆ i32       │\n",
       "│          ┆           ┆           ┆           ┆   ┆ ---       ┆           ┆           ┆           │\n",
       "│          ┆           ┆           ┆           ┆   ┆ i32       ┆           ┆           ┆           │\n",
       "╞══════════╪═══════════╪═══════════╪═══════════╪═══╪═══════════╪═══════════╪═══════════╪═══════════╡\n",
       "│ 1        ┆ 1         ┆ Cathlamet ┆ CAT       ┆ … ┆ null      ┆ 944       ┆ 3936      ┆ 198       │\n",
       "│ 2        ┆ 2         ┆ Chelan    ┆ CHE       ┆ … ┆ 1090      ┆ 944       ┆ 3936      ┆ 201       │\n",
       "└──────────┴───────────┴───────────┴───────────┴───┴───────────┴───────────┴───────────┴───────────┘"
      ]
     },
     "execution_count": 96,
     "metadata": {},
     "output_type": "execute_result"
    }
   ],
   "source": [
    "vessel_verbose_clean.head(2)"
   ]
  },
  {
   "cell_type": "markdown",
   "metadata": {},
   "source": [
    "Normalize all of the string columns so that they are consistent."
   ]
  },
  {
   "cell_type": "code",
   "execution_count": 39,
   "metadata": {},
   "outputs": [
    {
     "name": "stderr",
     "output_type": "stream",
     "text": [
      "/var/folders/x4/583bns3n4gbddql2dsv7jyc40000gp/T/ipykernel_46013/3887065060.py:8: DeprecationWarning: `strip` is deprecated. It has been renamed to `strip_chars`.\n",
      "  .str.strip()\n"
     ]
    }
   ],
   "source": [
    "vessel_verbose_clean = (\n",
    "    vessel_verbose_clean\n",
    "    .with_columns(\n",
    "        (\n",
    "            pl\n",
    "            .col(\"VesselName\", \"VesselAbbrev\", \"ClassName\", \"CityBuilt\", \"PropulsionInfo\")\n",
    "            .str.to_lowercase()\n",
    "            .str.strip()\n",
    "        )\n",
    "    )\n",
    ")"
   ]
  },
  {
   "cell_type": "code",
   "execution_count": 40,
   "metadata": {},
   "outputs": [
    {
     "data": {
      "text/html": [
       "<div><style>\n",
       ".dataframe > thead > tr,\n",
       ".dataframe > tbody > tr {\n",
       "  text-align: right;\n",
       "  white-space: pre-wrap;\n",
       "}\n",
       "</style>\n",
       "<small>shape: (5, 45)</small><table border=\"1\" class=\"dataframe\"><thead><tr><th>VesselID</th><th>VesselSubjectID</th><th>VesselName</th><th>VesselAbbrev</th><th>ClassID</th><th>ClassName</th><th>ClassSubjectID</th><th>DrawingImg</th><th>PublicDisplayName</th><th>SilhouetteImg</th><th>SortSeq</th><th>Status</th><th>OwnedByWSF</th><th>CarDeckRestroom</th><th>CarDeckShelter</th><th>Elevator</th><th>ADAAccessible</th><th>MainCabinGalley</th><th>MainCabinRestroom</th><th>PublicWifi</th><th>ADAInfo</th><th>AdditionalInfo</th><th>VesselNameDesc</th><th>VesselHistory</th><th>CityBuilt</th><th>SpeedInKnots</th><th>EngineCount</th><th>Horsepower</th><th>MaxPassengerCount</th><th>PassengerOnly</th><th>FastFerry</th><th>PropulsionInfo</th><th>TallDeckClearance</th><th>RegDeckSpace</th><th>TallDeckSpace</th><th>Tonnage</th><th>Displacement</th><th>YearBuilt</th><th>YearRebuilt</th><th>VesselDrawingImg</th><th>SolasCertified</th><th>MaxPassengerCountForInternational</th><th>BeamInches</th><th>LengthInches</th><th>DraftInches</th></tr><tr><td>i64</td><td>i64</td><td>str</td><td>str</td><td>i64</td><td>str</td><td>i64</td><td>str</td><td>str</td><td>str</td><td>i64</td><td>i64</td><td>bool</td><td>bool</td><td>bool</td><td>bool</td><td>bool</td><td>bool</td><td>bool</td><td>bool</td><td>str</td><td>str</td><td>str</td><td>str</td><td>str</td><td>i64</td><td>i64</td><td>i64</td><td>i64</td><td>bool</td><td>bool</td><td>str</td><td>i64</td><td>i64</td><td>i64</td><td>i64</td><td>i64</td><td>date</td><td>date</td><td>null</td><td>bool</td><td>i32</td><td>i32</td><td>i32</td><td>i32</td></tr></thead><tbody><tr><td>1</td><td>1</td><td>&quot;cathlamet&quot;</td><td>&quot;cat&quot;</td><td>10</td><td>&quot;issaquah 130&quot;</td><td>310</td><td>&quot;https://www.wsdot.wa.gov/ferri…</td><td>&quot;Issaquah&quot;</td><td>&quot;https://www.wsdot.wa.gov/ferri…</td><td>40</td><td>1</td><td>true</td><td>true</td><td>false</td><td>true</td><td>true</td><td>true</td><td>true</td><td>false</td><td>&quot;The MV Cathlamet has elevator …</td><td>null</td><td>&quot;From the Kathlamet tribe, the …</td><td>null</td><td>&quot;seattle, wa&quot;</td><td>16</td><td>2</td><td>5000</td><td>1200</td><td>false</td><td>false</td><td>&quot;diesel&quot;</td><td>186</td><td>124</td><td>26</td><td>2477</td><td>3310</td><td>1981-01-01</td><td>1993-01-01</td><td>null</td><td>false</td><td>null</td><td>944</td><td>3936</td><td>198</td></tr><tr><td>2</td><td>2</td><td>&quot;chelan&quot;</td><td>&quot;che&quot;</td><td>10</td><td>&quot;issaquah 130&quot;</td><td>310</td><td>&quot;https://www.wsdot.wa.gov/ferri…</td><td>&quot;Issaquah&quot;</td><td>&quot;https://www.wsdot.wa.gov/ferri…</td><td>40</td><td>1</td><td>true</td><td>true</td><td>false</td><td>true</td><td>true</td><td>true</td><td>true</td><td>false</td><td>&quot;The MV Chelan has elevator acc…</td><td>null</td><td>&quot;From the Chelan  language: Tsi…</td><td>null</td><td>&quot;seattle, wa&quot;</td><td>16</td><td>2</td><td>5000</td><td>1200</td><td>false</td><td>false</td><td>&quot;diesel&quot;</td><td>188</td><td>124</td><td>30</td><td>2477</td><td>3405</td><td>1981-01-01</td><td>2005-01-01</td><td>null</td><td>true</td><td>1090</td><td>944</td><td>3936</td><td>201</td></tr><tr><td>65</td><td>428</td><td>&quot;chetzemoka&quot;</td><td>&quot;chz&quot;</td><td>162</td><td>&quot;kwa-di tabil&quot;</td><td>427</td><td>&quot;https://www.wsdot.wa.gov/ferri…</td><td>&quot;Kwa-di Tabil&quot;</td><td>&quot;https://www.wsdot.wa.gov/ferri…</td><td>75</td><td>1</td><td>true</td><td>false</td><td>false</td><td>true</td><td>true</td><td>true</td><td>true</td><td>false</td><td>&quot;MV Chetzemoka has elevator acc…</td><td>null</td><td>&quot;The name honors a friendly Nat…</td><td>null</td><td>&quot;seattle&quot;</td><td>15</td><td>2</td><td>6000</td><td>748</td><td>false</td><td>false</td><td>&quot;diesel&quot;</td><td>192</td><td>64</td><td>9</td><td>4623</td><td>2415</td><td>2010-01-01</td><td>null</td><td>null</td><td>false</td><td>null</td><td>768</td><td>3284</td><td>132</td></tr><tr><td>74</td><td>487</td><td>&quot;chimacum&quot;</td><td>&quot;chm&quot;</td><td>100</td><td>&quot;olympic&quot;</td><td>319</td><td>&quot;https://www.wsdot.wa.gov/ferri…</td><td>&quot;Olympic&quot;</td><td>&quot;https://www.wsdot.wa.gov/ferri…</td><td>35</td><td>1</td><td>true</td><td>true</td><td>true</td><td>true</td><td>true</td><td>true</td><td>true</td><td>false</td><td>&quot;The vessel has two ADA complia…</td><td>null</td><td>&quot;“The Chimacum People who spoke…</td><td>&quot;Chimacum is the third of the 1…</td><td>&quot;seattle, wa&quot;</td><td>17</td><td>2</td><td>6000</td><td>1500</td><td>false</td><td>false</td><td>&quot;diesel&quot;</td><td>192</td><td>144</td><td>34</td><td>3525</td><td>4384</td><td>2017-01-01</td><td>null</td><td>null</td><td>false</td><td>null</td><td>998</td><td>4347</td><td>216</td></tr><tr><td>15</td><td>15</td><td>&quot;issaquah&quot;</td><td>&quot;iss&quot;</td><td>10</td><td>&quot;issaquah 130&quot;</td><td>310</td><td>&quot;https://www.wsdot.wa.gov/ferri…</td><td>&quot;Issaquah&quot;</td><td>&quot;https://www.wsdot.wa.gov/ferri…</td><td>40</td><td>1</td><td>true</td><td>true</td><td>false</td><td>true</td><td>true</td><td>true</td><td>true</td><td>false</td><td>&quot;The MV Issaquah has elevator a…</td><td>null</td><td>&quot;&quot;Snake.&quot; Native Americans who …</td><td>null</td><td>&quot;seattle, wa&quot;</td><td>16</td><td>2</td><td>5000</td><td>1200</td><td>false</td><td>false</td><td>&quot;diesel&quot;</td><td>188</td><td>124</td><td>26</td><td>2475</td><td>3310</td><td>1979-01-01</td><td>1989-01-01</td><td>null</td><td>false</td><td>null</td><td>944</td><td>3936</td><td>198</td></tr></tbody></table></div>"
      ],
      "text/plain": [
       "shape: (5, 45)\n",
       "┌──────────┬───────────┬───────────┬───────────┬───┬───────────┬───────────┬───────────┬───────────┐\n",
       "│ VesselID ┆ VesselSub ┆ VesselNam ┆ VesselAbb ┆ … ┆ MaxPassen ┆ BeamInche ┆ LengthInc ┆ DraftInch │\n",
       "│ ---      ┆ jectID    ┆ e         ┆ rev       ┆   ┆ gerCountF ┆ s         ┆ hes       ┆ es        │\n",
       "│ i64      ┆ ---       ┆ ---       ┆ ---       ┆   ┆ orInterna ┆ ---       ┆ ---       ┆ ---       │\n",
       "│          ┆ i64       ┆ str       ┆ str       ┆   ┆ tio…      ┆ i32       ┆ i32       ┆ i32       │\n",
       "│          ┆           ┆           ┆           ┆   ┆ ---       ┆           ┆           ┆           │\n",
       "│          ┆           ┆           ┆           ┆   ┆ i32       ┆           ┆           ┆           │\n",
       "╞══════════╪═══════════╪═══════════╪═══════════╪═══╪═══════════╪═══════════╪═══════════╪═══════════╡\n",
       "│ 1        ┆ 1         ┆ cathlamet ┆ cat       ┆ … ┆ null      ┆ 944       ┆ 3936      ┆ 198       │\n",
       "│ 2        ┆ 2         ┆ chelan    ┆ che       ┆ … ┆ 1090      ┆ 944       ┆ 3936      ┆ 201       │\n",
       "│ 65       ┆ 428       ┆ chetzemok ┆ chz       ┆ … ┆ null      ┆ 768       ┆ 3284      ┆ 132       │\n",
       "│          ┆           ┆ a         ┆           ┆   ┆           ┆           ┆           ┆           │\n",
       "│ 74       ┆ 487       ┆ chimacum  ┆ chm       ┆ … ┆ null      ┆ 998       ┆ 4347      ┆ 216       │\n",
       "│ 15       ┆ 15        ┆ issaquah  ┆ iss       ┆ … ┆ null      ┆ 944       ┆ 3936      ┆ 198       │\n",
       "└──────────┴───────────┴───────────┴───────────┴───┴───────────┴───────────┴───────────┴───────────┘"
      ]
     },
     "execution_count": 98,
     "metadata": {},
     "output_type": "execute_result"
    }
   ],
   "source": [
    "vessel_verbose_clean.head(5)"
   ]
  },
  {
   "cell_type": "markdown",
   "metadata": {},
   "source": [
    "Drop the VesselDrawingImg column, it does not contain an data."
   ]
  },
  {
   "cell_type": "code",
   "execution_count": 41,
   "metadata": {},
   "outputs": [
    {
     "data": {
      "text/html": [
       "<div><style>\n",
       ".dataframe > thead > tr,\n",
       ".dataframe > tbody > tr {\n",
       "  text-align: right;\n",
       "  white-space: pre-wrap;\n",
       "}\n",
       "</style>\n",
       "<small>shape: (21,)</small><table border=\"1\" class=\"dataframe\"><thead><tr><th>VesselDrawingImg</th></tr><tr><td>null</td></tr></thead><tbody><tr><td>null</td></tr><tr><td>null</td></tr><tr><td>null</td></tr><tr><td>null</td></tr><tr><td>null</td></tr><tr><td>null</td></tr><tr><td>null</td></tr><tr><td>null</td></tr><tr><td>null</td></tr><tr><td>null</td></tr><tr><td>null</td></tr><tr><td>null</td></tr><tr><td>null</td></tr><tr><td>null</td></tr><tr><td>null</td></tr><tr><td>null</td></tr><tr><td>null</td></tr><tr><td>null</td></tr><tr><td>null</td></tr><tr><td>null</td></tr><tr><td>null</td></tr></tbody></table></div>"
      ],
      "text/plain": [
       "shape: (21,)\n",
       "Series: 'VesselDrawingImg' [null]\n",
       "[\n",
       "\tnull\n",
       "\tnull\n",
       "\tnull\n",
       "\tnull\n",
       "\tnull\n",
       "\tnull\n",
       "\tnull\n",
       "\tnull\n",
       "\tnull\n",
       "\tnull\n",
       "\tnull\n",
       "\tnull\n",
       "\tnull\n",
       "\tnull\n",
       "\tnull\n",
       "\tnull\n",
       "\tnull\n",
       "\tnull\n",
       "\tnull\n",
       "\tnull\n",
       "\tnull\n",
       "]"
      ]
     },
     "execution_count": 99,
     "metadata": {},
     "output_type": "execute_result"
    }
   ],
   "source": [
    "vessel_verbose_clean.get_column('VesselDrawingImg')"
   ]
  },
  {
   "cell_type": "code",
   "execution_count": 42,
   "metadata": {},
   "outputs": [],
   "source": [
    "vessel_verbose_clean = (\n",
    "    vessel_verbose_clean\n",
    "    .drop('VesselDrawingImg')\n",
    ")"
   ]
  },
  {
   "cell_type": "code",
   "execution_count": 43,
   "metadata": {},
   "outputs": [
    {
     "data": {
      "text/html": [
       "<div><style>\n",
       ".dataframe > thead > tr,\n",
       ".dataframe > tbody > tr {\n",
       "  text-align: right;\n",
       "  white-space: pre-wrap;\n",
       "}\n",
       "</style>\n",
       "<small>shape: (5, 44)</small><table border=\"1\" class=\"dataframe\"><thead><tr><th>VesselID</th><th>VesselSubjectID</th><th>VesselName</th><th>VesselAbbrev</th><th>ClassID</th><th>ClassName</th><th>ClassSubjectID</th><th>DrawingImg</th><th>PublicDisplayName</th><th>SilhouetteImg</th><th>SortSeq</th><th>Status</th><th>OwnedByWSF</th><th>CarDeckRestroom</th><th>CarDeckShelter</th><th>Elevator</th><th>ADAAccessible</th><th>MainCabinGalley</th><th>MainCabinRestroom</th><th>PublicWifi</th><th>ADAInfo</th><th>AdditionalInfo</th><th>VesselNameDesc</th><th>VesselHistory</th><th>CityBuilt</th><th>SpeedInKnots</th><th>EngineCount</th><th>Horsepower</th><th>MaxPassengerCount</th><th>PassengerOnly</th><th>FastFerry</th><th>PropulsionInfo</th><th>TallDeckClearance</th><th>RegDeckSpace</th><th>TallDeckSpace</th><th>Tonnage</th><th>Displacement</th><th>YearBuilt</th><th>YearRebuilt</th><th>SolasCertified</th><th>MaxPassengerCountForInternational</th><th>BeamInches</th><th>LengthInches</th><th>DraftInches</th></tr><tr><td>i64</td><td>i64</td><td>str</td><td>str</td><td>i64</td><td>str</td><td>i64</td><td>str</td><td>str</td><td>str</td><td>i64</td><td>i64</td><td>bool</td><td>bool</td><td>bool</td><td>bool</td><td>bool</td><td>bool</td><td>bool</td><td>bool</td><td>str</td><td>str</td><td>str</td><td>str</td><td>str</td><td>i64</td><td>i64</td><td>i64</td><td>i64</td><td>bool</td><td>bool</td><td>str</td><td>i64</td><td>i64</td><td>i64</td><td>i64</td><td>i64</td><td>date</td><td>date</td><td>bool</td><td>i32</td><td>i32</td><td>i32</td><td>i32</td></tr></thead><tbody><tr><td>1</td><td>1</td><td>&quot;cathlamet&quot;</td><td>&quot;cat&quot;</td><td>10</td><td>&quot;issaquah 130&quot;</td><td>310</td><td>&quot;https://www.wsdot.wa.gov/ferri…</td><td>&quot;Issaquah&quot;</td><td>&quot;https://www.wsdot.wa.gov/ferri…</td><td>40</td><td>1</td><td>true</td><td>true</td><td>false</td><td>true</td><td>true</td><td>true</td><td>true</td><td>false</td><td>&quot;The MV Cathlamet has elevator …</td><td>null</td><td>&quot;From the Kathlamet tribe, the …</td><td>null</td><td>&quot;seattle, wa&quot;</td><td>16</td><td>2</td><td>5000</td><td>1200</td><td>false</td><td>false</td><td>&quot;diesel&quot;</td><td>186</td><td>124</td><td>26</td><td>2477</td><td>3310</td><td>1981-01-01</td><td>1993-01-01</td><td>false</td><td>null</td><td>944</td><td>3936</td><td>198</td></tr><tr><td>2</td><td>2</td><td>&quot;chelan&quot;</td><td>&quot;che&quot;</td><td>10</td><td>&quot;issaquah 130&quot;</td><td>310</td><td>&quot;https://www.wsdot.wa.gov/ferri…</td><td>&quot;Issaquah&quot;</td><td>&quot;https://www.wsdot.wa.gov/ferri…</td><td>40</td><td>1</td><td>true</td><td>true</td><td>false</td><td>true</td><td>true</td><td>true</td><td>true</td><td>false</td><td>&quot;The MV Chelan has elevator acc…</td><td>null</td><td>&quot;From the Chelan  language: Tsi…</td><td>null</td><td>&quot;seattle, wa&quot;</td><td>16</td><td>2</td><td>5000</td><td>1200</td><td>false</td><td>false</td><td>&quot;diesel&quot;</td><td>188</td><td>124</td><td>30</td><td>2477</td><td>3405</td><td>1981-01-01</td><td>2005-01-01</td><td>true</td><td>1090</td><td>944</td><td>3936</td><td>201</td></tr><tr><td>65</td><td>428</td><td>&quot;chetzemoka&quot;</td><td>&quot;chz&quot;</td><td>162</td><td>&quot;kwa-di tabil&quot;</td><td>427</td><td>&quot;https://www.wsdot.wa.gov/ferri…</td><td>&quot;Kwa-di Tabil&quot;</td><td>&quot;https://www.wsdot.wa.gov/ferri…</td><td>75</td><td>1</td><td>true</td><td>false</td><td>false</td><td>true</td><td>true</td><td>true</td><td>true</td><td>false</td><td>&quot;MV Chetzemoka has elevator acc…</td><td>null</td><td>&quot;The name honors a friendly Nat…</td><td>null</td><td>&quot;seattle&quot;</td><td>15</td><td>2</td><td>6000</td><td>748</td><td>false</td><td>false</td><td>&quot;diesel&quot;</td><td>192</td><td>64</td><td>9</td><td>4623</td><td>2415</td><td>2010-01-01</td><td>null</td><td>false</td><td>null</td><td>768</td><td>3284</td><td>132</td></tr><tr><td>74</td><td>487</td><td>&quot;chimacum&quot;</td><td>&quot;chm&quot;</td><td>100</td><td>&quot;olympic&quot;</td><td>319</td><td>&quot;https://www.wsdot.wa.gov/ferri…</td><td>&quot;Olympic&quot;</td><td>&quot;https://www.wsdot.wa.gov/ferri…</td><td>35</td><td>1</td><td>true</td><td>true</td><td>true</td><td>true</td><td>true</td><td>true</td><td>true</td><td>false</td><td>&quot;The vessel has two ADA complia…</td><td>null</td><td>&quot;“The Chimacum People who spoke…</td><td>&quot;Chimacum is the third of the 1…</td><td>&quot;seattle, wa&quot;</td><td>17</td><td>2</td><td>6000</td><td>1500</td><td>false</td><td>false</td><td>&quot;diesel&quot;</td><td>192</td><td>144</td><td>34</td><td>3525</td><td>4384</td><td>2017-01-01</td><td>null</td><td>false</td><td>null</td><td>998</td><td>4347</td><td>216</td></tr><tr><td>15</td><td>15</td><td>&quot;issaquah&quot;</td><td>&quot;iss&quot;</td><td>10</td><td>&quot;issaquah 130&quot;</td><td>310</td><td>&quot;https://www.wsdot.wa.gov/ferri…</td><td>&quot;Issaquah&quot;</td><td>&quot;https://www.wsdot.wa.gov/ferri…</td><td>40</td><td>1</td><td>true</td><td>true</td><td>false</td><td>true</td><td>true</td><td>true</td><td>true</td><td>false</td><td>&quot;The MV Issaquah has elevator a…</td><td>null</td><td>&quot;&quot;Snake.&quot; Native Americans who …</td><td>null</td><td>&quot;seattle, wa&quot;</td><td>16</td><td>2</td><td>5000</td><td>1200</td><td>false</td><td>false</td><td>&quot;diesel&quot;</td><td>188</td><td>124</td><td>26</td><td>2475</td><td>3310</td><td>1979-01-01</td><td>1989-01-01</td><td>false</td><td>null</td><td>944</td><td>3936</td><td>198</td></tr></tbody></table></div>"
      ],
      "text/plain": [
       "shape: (5, 44)\n",
       "┌──────────┬───────────┬───────────┬───────────┬───┬───────────┬───────────┬───────────┬───────────┐\n",
       "│ VesselID ┆ VesselSub ┆ VesselNam ┆ VesselAbb ┆ … ┆ MaxPassen ┆ BeamInche ┆ LengthInc ┆ DraftInch │\n",
       "│ ---      ┆ jectID    ┆ e         ┆ rev       ┆   ┆ gerCountF ┆ s         ┆ hes       ┆ es        │\n",
       "│ i64      ┆ ---       ┆ ---       ┆ ---       ┆   ┆ orInterna ┆ ---       ┆ ---       ┆ ---       │\n",
       "│          ┆ i64       ┆ str       ┆ str       ┆   ┆ tio…      ┆ i32       ┆ i32       ┆ i32       │\n",
       "│          ┆           ┆           ┆           ┆   ┆ ---       ┆           ┆           ┆           │\n",
       "│          ┆           ┆           ┆           ┆   ┆ i32       ┆           ┆           ┆           │\n",
       "╞══════════╪═══════════╪═══════════╪═══════════╪═══╪═══════════╪═══════════╪═══════════╪═══════════╡\n",
       "│ 1        ┆ 1         ┆ cathlamet ┆ cat       ┆ … ┆ null      ┆ 944       ┆ 3936      ┆ 198       │\n",
       "│ 2        ┆ 2         ┆ chelan    ┆ che       ┆ … ┆ 1090      ┆ 944       ┆ 3936      ┆ 201       │\n",
       "│ 65       ┆ 428       ┆ chetzemok ┆ chz       ┆ … ┆ null      ┆ 768       ┆ 3284      ┆ 132       │\n",
       "│          ┆           ┆ a         ┆           ┆   ┆           ┆           ┆           ┆           │\n",
       "│ 74       ┆ 487       ┆ chimacum  ┆ chm       ┆ … ┆ null      ┆ 998       ┆ 4347      ┆ 216       │\n",
       "│ 15       ┆ 15        ┆ issaquah  ┆ iss       ┆ … ┆ null      ┆ 944       ┆ 3936      ┆ 198       │\n",
       "└──────────┴───────────┴───────────┴───────────┴───┴───────────┴───────────┴───────────┴───────────┘"
      ]
     },
     "execution_count": 101,
     "metadata": {},
     "output_type": "execute_result"
    }
   ],
   "source": [
    "vessel_verbose_clean.head(5)"
   ]
  },
  {
   "cell_type": "markdown",
   "metadata": {},
   "source": [
    "## Task 4 - Validate the Data"
   ]
  },
  {
   "cell_type": "markdown",
   "metadata": {},
   "source": [
    "### 🔄 Task"
   ]
  },
  {
   "cell_type": "markdown",
   "metadata": {},
   "source": [
    "In the previous activity we tidied the dataset. For some projects, this may be enough. However, for this project we plan to refresh the data on a regular basis. We would like to gain additional comfort that the data we are using is correct. Data validation can help prove that our data tidying was correct, and find any potential issues if the upstream data changes.\n",
    "\n",
    "[Pandera](https://pandera.readthedocs.io/en/stable/) is a Python library for validating Pandas dataframes. There are two steps:\n",
    "\n",
    "1. Define a schema for your data. For example:\n",
    "   - Define the type for each column\n",
    "   - Confirm if null values are allowed\n",
    "   - Define custom checks\n",
    "2. Run your data through the schema validator.\n",
    "\n",
    "You will find these links useful when defining your schema:\n",
    "\n",
    "- Polars data validation guide: https://pandera.readthedocs.io/en/stable/polars.html#usage\n",
    "- Polars data types: https://pandera.readthedocs.io/en/stable/reference/dtypes.html#polars-dtypes\n",
    "- `pa.Field` API: https://pandera.readthedocs.io/en/stable/reference/generated/pandera.api.dataframe.model_components.Field.html#pandera.api.dataframe.model_components.Field\n",
    "- List of built in checks you can use with `pa.Field`: https://pandera.readthedocs.io/en/stable/reference/generated/pandera.api.checks.Check.html#pandera.api.checks.Check"
   ]
  },
  {
   "cell_type": "markdown",
   "metadata": {},
   "source": [
    "### 🧑‍💻 Code"
   ]
  },
  {
   "cell_type": "markdown",
   "metadata": {},
   "source": [
    "#### vessel_history\n",
    "\n",
    "Start by validating the vessel_history data set. As a reminder, here is what the data looks like:"
   ]
  },
  {
   "cell_type": "code",
   "execution_count": 44,
   "metadata": {},
   "outputs": [
    {
     "data": {
      "text/html": [
       "<div><style>\n",
       ".dataframe > thead > tr,\n",
       ".dataframe > tbody > tr {\n",
       "  text-align: right;\n",
       "  white-space: pre-wrap;\n",
       "}\n",
       "</style>\n",
       "<small>shape: (3, 8)</small><table border=\"1\" class=\"dataframe\"><thead><tr><th>VesselId</th><th>Vessel</th><th>Departing</th><th>Arriving</th><th>ScheduledDepart</th><th>ActualDepart</th><th>EstArrival</th><th>Date</th></tr><tr><td>i64</td><td>str</td><td>str</td><td>str</td><td>datetime[μs, UTC]</td><td>datetime[μs, UTC]</td><td>datetime[μs, UTC]</td><td>datetime[μs, UTC]</td></tr></thead><tbody><tr><td>32</td><td>&quot;cathlamet&quot;</td><td>&quot;vashon&quot;</td><td>&quot;fauntleroy&quot;</td><td>2020-01-01 13:40:00 UTC</td><td>2020-01-01 13:41:12 UTC</td><td>2020-01-01 13:57:07 UTC</td><td>2020-01-01 13:40:00 UTC</td></tr><tr><td>32</td><td>&quot;cathlamet&quot;</td><td>&quot;fauntleroy&quot;</td><td>&quot;vashon&quot;</td><td>2020-01-01 14:10:00 UTC</td><td>2020-01-01 14:11:37 UTC</td><td>2020-01-01 14:27:57 UTC</td><td>2020-01-01 14:10:00 UTC</td></tr><tr><td>32</td><td>&quot;cathlamet&quot;</td><td>&quot;vashon&quot;</td><td>&quot;fauntleroy&quot;</td><td>2020-01-01 14:35:00 UTC</td><td>2020-01-01 14:37:37 UTC</td><td>2020-01-01 14:49:19 UTC</td><td>2020-01-01 14:35:00 UTC</td></tr></tbody></table></div>"
      ],
      "text/plain": [
       "shape: (3, 8)\n",
       "┌──────────┬───────────┬────────────┬────────────┬────────────┬────────────┬───────────┬───────────┐\n",
       "│ VesselId ┆ Vessel    ┆ Departing  ┆ Arriving   ┆ ScheduledD ┆ ActualDepa ┆ EstArriva ┆ Date      │\n",
       "│ ---      ┆ ---       ┆ ---        ┆ ---        ┆ epart      ┆ rt         ┆ l         ┆ ---       │\n",
       "│ i64      ┆ str       ┆ str        ┆ str        ┆ ---        ┆ ---        ┆ ---       ┆ datetime[ │\n",
       "│          ┆           ┆            ┆            ┆ datetime[μ ┆ datetime[μ ┆ datetime[ ┆ μs, UTC]  │\n",
       "│          ┆           ┆            ┆            ┆ s, UTC]    ┆ s, UTC]    ┆ μs, UTC]  ┆           │\n",
       "╞══════════╪═══════════╪════════════╪════════════╪════════════╪════════════╪═══════════╪═══════════╡\n",
       "│ 32       ┆ cathlamet ┆ vashon     ┆ fauntleroy ┆ 2020-01-01 ┆ 2020-01-01 ┆ 2020-01-0 ┆ 2020-01-0 │\n",
       "│          ┆           ┆            ┆            ┆ 13:40:00   ┆ 13:41:12   ┆ 1         ┆ 1         │\n",
       "│          ┆           ┆            ┆            ┆ UTC        ┆ UTC        ┆ 13:57:07  ┆ 13:40:00  │\n",
       "│          ┆           ┆            ┆            ┆            ┆            ┆ UTC       ┆ UTC       │\n",
       "│ 32       ┆ cathlamet ┆ fauntleroy ┆ vashon     ┆ 2020-01-01 ┆ 2020-01-01 ┆ 2020-01-0 ┆ 2020-01-0 │\n",
       "│          ┆           ┆            ┆            ┆ 14:10:00   ┆ 14:11:37   ┆ 1         ┆ 1         │\n",
       "│          ┆           ┆            ┆            ┆ UTC        ┆ UTC        ┆ 14:27:57  ┆ 14:10:00  │\n",
       "│          ┆           ┆            ┆            ┆            ┆            ┆ UTC       ┆ UTC       │\n",
       "│ 32       ┆ cathlamet ┆ vashon     ┆ fauntleroy ┆ 2020-01-01 ┆ 2020-01-01 ┆ 2020-01-0 ┆ 2020-01-0 │\n",
       "│          ┆           ┆            ┆            ┆ 14:35:00   ┆ 14:37:37   ┆ 1         ┆ 1         │\n",
       "│          ┆           ┆            ┆            ┆ UTC        ┆ UTC        ┆ 14:49:19  ┆ 14:35:00  │\n",
       "│          ┆           ┆            ┆            ┆            ┆            ┆ UTC       ┆ UTC       │\n",
       "└──────────┴───────────┴────────────┴────────────┴────────────┴────────────┴───────────┴───────────┘"
      ]
     },
     "execution_count": 102,
     "metadata": {},
     "output_type": "execute_result"
    }
   ],
   "source": [
    "vessel_history_clean.head(3)"
   ]
  },
  {
   "cell_type": "markdown",
   "metadata": {},
   "source": [
    "The class below defines the schema and checks for the vessel_history data set.\n",
    "\n",
    "- Each column is a class attribute. At a minimum, we define the column type (e.g. int, str, datetime, etc.)\n",
    "- For some columns, we use `pa.Field` to add more checks. For example in the EstArrival column we are going to allow nullable values.\n",
    "- We can define additional and more complex column and dataframe level checks by defining class methods."
   ]
  },
  {
   "cell_type": "code",
   "execution_count": 45,
   "metadata": {},
   "outputs": [],
   "source": [
    "import pandera.polars as pa\n",
    "from pandera.engines.polars_engine import DateTime, Date, Int32\n",
    "\n",
    "\n",
    "class VesselHistorySchema(pa.DataFrameModel):\n",
    "    VesselId: int\n",
    "    Vessel: str\n",
    "    Departing: str\n",
    "    Arriving: str = pa.Field(nullable=True)\n",
    "    ScheduledDepart: DateTime = pa.Field(dtype_kwargs={\"time_zone\": \"UTC\"})\n",
    "    ActualDepart: DateTime = pa.Field(dtype_kwargs={\"time_zone\": \"UTC\"})\n",
    "    EstArrival: DateTime = pa.Field(dtype_kwargs={\"time_zone\": \"UTC\"}, nullable=True)\n",
    "    Date: DateTime = pa.Field(\n",
    "        dtype_kwargs={\"time_zone\": \"UTC\"},\n",
    "        ge=pl.datetime(2020, 1, 1, time_zone=\"America/Vancouver\").dt.convert_time_zone(\"UTC\")\n",
    "    )\n",
    "\n",
    "    @pa.dataframe_check\n",
    "    def year_of_date_matches_scheduled_depart(cls, df: pa.PolarsData) -> pl.LazyFrame:\n",
    "        \"\"\"\n",
    "        Verify that the year of the Date column matches the year of the\n",
    "        ScheduledDepart column.\n",
    "        \"\"\"\n",
    "        return df.lazyframe.select(pl.col(\"Date\").dt.year().eq(pl.col(\"ScheduledDepart\").dt.year()))\n",
    "\n",
    "    @pa.dataframe_check(raise_warning=True)\n",
    "    def estimated_arrival_is_after_scheduled_depart(cls, df: pa.PolarsData) -> pl.LazyFrame:\n",
    "        \"\"\"\n",
    "        Verify that the EstArrival date time is always after the ScheduledDepart\n",
    "        date time.\n",
    "\n",
    "        Note this check is expected to fail, therefore raise_warning=True is\n",
    "        used. In the future we should go back and understand why this check\n",
    "        fails.\n",
    "        \"\"\"\n",
    "        return df.lazyframe.select(pl.col(\"EstArrival\").ge(pl.col(\"ScheduledDepart\")))\n",
    "\n",
    "    @pa.check(\"VesselId\", raise_warning=True)\n",
    "    def vessel_ids_in_vessel_verbose_data_set(cls, data: pa.PolarsData) -> pl.LazyFrame:\n",
    "        \"\"\"\n",
    "        Verify that all of the vessels in the vessel history data set also exist\n",
    "        in the vessel verbose data set.\n",
    "\n",
    "        Note this check is expected to fail, therefore raise_warning=True is\n",
    "        used. In the future we should go back and understand why this check\n",
    "        fails.\n",
    "        \"\"\"\n",
    "        vessel_ids = vessel_verbose_clean.get_column(\"VesselID\").to_list()\n",
    "        return data.lazyframe.select(pl.col(data.key).is_in(vessel_ids))\n"
   ]
  },
  {
   "cell_type": "markdown",
   "metadata": {},
   "source": [
    "To validate the data, run the dataframe through the `pa.DataFrameModel.validate` method."
   ]
  },
  {
   "cell_type": "code",
   "execution_count": 46,
   "metadata": {},
   "outputs": [
    {
     "name": "stderr",
     "output_type": "stream",
     "text": [
      "/Users/samedwardes/projects/posit/ds-workflows-python-2024/materials/02-data-exploration-and-validation/.venv/lib/python3.12/site-packages/pandera/backends/polars/base.py:100: SchemaWarning: Column 'VesselId' failed validator number 0: <Check vessel_ids_in_vessel_verbose_data_set> failure case examples: [{'VesselId': 29}, {'VesselId': 31}, {'VesselId': 31}, {'VesselId': 29}, {'VesselId': 31}]\n",
      "  warnings.warn(\n",
      "/Users/samedwardes/projects/posit/ds-workflows-python-2024/materials/02-data-exploration-and-validation/.venv/lib/python3.12/site-packages/pandera/backends/polars/base.py:100: SchemaWarning: DataFrameSchema 'VesselHistorySchema' failed validator number 1: <Check estimated_arrival_is_after_scheduled_depart> failure case examples: [{'VesselId': 31, 'Vessel': 'cathlamet', 'Departing': 'southworth', 'Arriving': 'vashon', 'ScheduledDepart': datetime.datetime(2020, 1, 4, 12, 20, tzinfo=zoneinfo.ZoneInfo(key='UTC')), 'ActualDepart': datetime.datetime(2020, 1, 4, 12, 2, 30, tzinfo=zoneinfo.ZoneInfo(key='UTC')), 'EstArrival': datetime.datetime(2020, 1, 4, 12, 16, 6, tzinfo=zoneinfo.ZoneInfo(key='UTC')), 'Date': datetime.datetime(2020, 1, 4, 12, 20, tzinfo=zoneinfo.ZoneInfo(key='UTC'))}, {'VesselId': 32, 'Vessel': 'cathlamet', 'Departing': 'southworth', 'Arriving': 'vashon', 'ScheduledDepart': datetime.datetime(2020, 3, 4, 12, 10, tzinfo=zoneinfo.ZoneInfo(key='UTC')), 'ActualDepart': datetime.datetime(2020, 3, 4, 11, 25, 9, tzinfo=zoneinfo.ZoneInfo(key='UTC')), 'EstArrival': datetime.datetime(2020, 3, 4, 11, 35, 37, tzinfo=zoneinfo.ZoneInfo(key='UTC')), 'Date': datetime.datetime(2020, 3, 4, 12, 10, tzinfo=zoneinfo.ZoneInfo(key='UTC'))}, {'VesselId': 32, 'Vessel': 'cathlamet', 'Departing': 'southworth', 'Arriving': 'vashon', 'ScheduledDepart': datetime.datetime(2020, 9, 14, 11, 10, tzinfo=zoneinfo.ZoneInfo(key='UTC')), 'ActualDepart': datetime.datetime(2020, 9, 14, 10, 26, 11, tzinfo=zoneinfo.ZoneInfo(key='UTC')), 'EstArrival': datetime.datetime(2020, 9, 14, 10, 37, 31, tzinfo=zoneinfo.ZoneInfo(key='UTC')), 'Date': datetime.datetime(2020, 9, 14, 11, 10, tzinfo=zoneinfo.ZoneInfo(key='UTC'))}, {'VesselId': 29, 'Vessel': 'cathlamet', 'Departing': 'fauntleroy', 'Arriving': 'vashon', 'ScheduledDepart': datetime.datetime(2020, 9, 17, 17, 25, tzinfo=zoneinfo.ZoneInfo(key='UTC')), 'ActualDepart': datetime.datetime(2020, 9, 17, 17, 0, 10, tzinfo=zoneinfo.ZoneInfo(key='UTC')), 'EstArrival': datetime.datetime(2020, 9, 17, 17, 19, 19, tzinfo=zoneinfo.ZoneInfo(key='UTC')), 'Date': datetime.datetime(2020, 9, 17, 17, 25, tzinfo=zoneinfo.ZoneInfo(key='UTC'))}, {'VesselId': 32, 'Vessel': 'cathlamet', 'Departing': 'southworth', 'Arriving': 'vashon', 'ScheduledDepart': datetime.datetime(2020, 12, 31, 12, 10, tzinfo=zoneinfo.ZoneInfo(key='UTC')), 'ActualDepart': datetime.datetime(2020, 12, 31, 11, 25, 31, tzinfo=zoneinfo.ZoneInfo(key='UTC')), 'EstArrival': datetime.datetime(2020, 12, 31, 11, 35, 40, tzinfo=zoneinfo.ZoneInfo(key='UTC')), 'Date': datetime.datetime(2020, 12, 31, 12, 10, tzinfo=zoneinfo.ZoneInfo(key='UTC'))}]\n",
      "  warnings.warn(\n"
     ]
    }
   ],
   "source": [
    "vessel_history_validated = VesselHistorySchema.validate(vessel_history_clean)"
   ]
  },
  {
   "cell_type": "code",
   "execution_count": 47,
   "metadata": {},
   "outputs": [
    {
     "data": {
      "text/html": [
       "<div><style>\n",
       ".dataframe > thead > tr,\n",
       ".dataframe > tbody > tr {\n",
       "  text-align: right;\n",
       "  white-space: pre-wrap;\n",
       "}\n",
       "</style>\n",
       "<small>shape: (5, 8)</small><table border=\"1\" class=\"dataframe\"><thead><tr><th>VesselId</th><th>Vessel</th><th>Departing</th><th>Arriving</th><th>ScheduledDepart</th><th>ActualDepart</th><th>EstArrival</th><th>Date</th></tr><tr><td>i64</td><td>str</td><td>str</td><td>str</td><td>datetime[μs, UTC]</td><td>datetime[μs, UTC]</td><td>datetime[μs, UTC]</td><td>datetime[μs, UTC]</td></tr></thead><tbody><tr><td>32</td><td>&quot;cathlamet&quot;</td><td>&quot;vashon&quot;</td><td>&quot;fauntleroy&quot;</td><td>2020-01-01 13:40:00 UTC</td><td>2020-01-01 13:41:12 UTC</td><td>2020-01-01 13:57:07 UTC</td><td>2020-01-01 13:40:00 UTC</td></tr><tr><td>32</td><td>&quot;cathlamet&quot;</td><td>&quot;fauntleroy&quot;</td><td>&quot;vashon&quot;</td><td>2020-01-01 14:10:00 UTC</td><td>2020-01-01 14:11:37 UTC</td><td>2020-01-01 14:27:57 UTC</td><td>2020-01-01 14:10:00 UTC</td></tr><tr><td>32</td><td>&quot;cathlamet&quot;</td><td>&quot;vashon&quot;</td><td>&quot;fauntleroy&quot;</td><td>2020-01-01 14:35:00 UTC</td><td>2020-01-01 14:37:37 UTC</td><td>2020-01-01 14:49:19 UTC</td><td>2020-01-01 14:35:00 UTC</td></tr><tr><td>32</td><td>&quot;cathlamet&quot;</td><td>&quot;fauntleroy&quot;</td><td>&quot;vashon&quot;</td><td>2020-01-01 15:05:00 UTC</td><td>2020-01-01 15:07:11 UTC</td><td>2020-01-01 15:22:50 UTC</td><td>2020-01-01 15:05:00 UTC</td></tr><tr><td>32</td><td>&quot;cathlamet&quot;</td><td>&quot;vashon&quot;</td><td>&quot;southworth&quot;</td><td>2020-01-01 15:30:00 UTC</td><td>2020-01-01 15:31:01 UTC</td><td>2020-01-01 15:42:11 UTC</td><td>2020-01-01 15:30:00 UTC</td></tr></tbody></table></div>"
      ],
      "text/plain": [
       "shape: (5, 8)\n",
       "┌──────────┬───────────┬────────────┬────────────┬────────────┬────────────┬───────────┬───────────┐\n",
       "│ VesselId ┆ Vessel    ┆ Departing  ┆ Arriving   ┆ ScheduledD ┆ ActualDepa ┆ EstArriva ┆ Date      │\n",
       "│ ---      ┆ ---       ┆ ---        ┆ ---        ┆ epart      ┆ rt         ┆ l         ┆ ---       │\n",
       "│ i64      ┆ str       ┆ str        ┆ str        ┆ ---        ┆ ---        ┆ ---       ┆ datetime[ │\n",
       "│          ┆           ┆            ┆            ┆ datetime[μ ┆ datetime[μ ┆ datetime[ ┆ μs, UTC]  │\n",
       "│          ┆           ┆            ┆            ┆ s, UTC]    ┆ s, UTC]    ┆ μs, UTC]  ┆           │\n",
       "╞══════════╪═══════════╪════════════╪════════════╪════════════╪════════════╪═══════════╪═══════════╡\n",
       "│ 32       ┆ cathlamet ┆ vashon     ┆ fauntleroy ┆ 2020-01-01 ┆ 2020-01-01 ┆ 2020-01-0 ┆ 2020-01-0 │\n",
       "│          ┆           ┆            ┆            ┆ 13:40:00   ┆ 13:41:12   ┆ 1         ┆ 1         │\n",
       "│          ┆           ┆            ┆            ┆ UTC        ┆ UTC        ┆ 13:57:07  ┆ 13:40:00  │\n",
       "│          ┆           ┆            ┆            ┆            ┆            ┆ UTC       ┆ UTC       │\n",
       "│ 32       ┆ cathlamet ┆ fauntleroy ┆ vashon     ┆ 2020-01-01 ┆ 2020-01-01 ┆ 2020-01-0 ┆ 2020-01-0 │\n",
       "│          ┆           ┆            ┆            ┆ 14:10:00   ┆ 14:11:37   ┆ 1         ┆ 1         │\n",
       "│          ┆           ┆            ┆            ┆ UTC        ┆ UTC        ┆ 14:27:57  ┆ 14:10:00  │\n",
       "│          ┆           ┆            ┆            ┆            ┆            ┆ UTC       ┆ UTC       │\n",
       "│ 32       ┆ cathlamet ┆ vashon     ┆ fauntleroy ┆ 2020-01-01 ┆ 2020-01-01 ┆ 2020-01-0 ┆ 2020-01-0 │\n",
       "│          ┆           ┆            ┆            ┆ 14:35:00   ┆ 14:37:37   ┆ 1         ┆ 1         │\n",
       "│          ┆           ┆            ┆            ┆ UTC        ┆ UTC        ┆ 14:49:19  ┆ 14:35:00  │\n",
       "│          ┆           ┆            ┆            ┆            ┆            ┆ UTC       ┆ UTC       │\n",
       "│ 32       ┆ cathlamet ┆ fauntleroy ┆ vashon     ┆ 2020-01-01 ┆ 2020-01-01 ┆ 2020-01-0 ┆ 2020-01-0 │\n",
       "│          ┆           ┆            ┆            ┆ 15:05:00   ┆ 15:07:11   ┆ 1         ┆ 1         │\n",
       "│          ┆           ┆            ┆            ┆ UTC        ┆ UTC        ┆ 15:22:50  ┆ 15:05:00  │\n",
       "│          ┆           ┆            ┆            ┆            ┆            ┆ UTC       ┆ UTC       │\n",
       "│ 32       ┆ cathlamet ┆ vashon     ┆ southworth ┆ 2020-01-01 ┆ 2020-01-01 ┆ 2020-01-0 ┆ 2020-01-0 │\n",
       "│          ┆           ┆            ┆            ┆ 15:30:00   ┆ 15:31:01   ┆ 1         ┆ 1         │\n",
       "│          ┆           ┆            ┆            ┆ UTC        ┆ UTC        ┆ 15:42:11  ┆ 15:30:00  │\n",
       "│          ┆           ┆            ┆            ┆            ┆            ┆ UTC       ┆ UTC       │\n",
       "└──────────┴───────────┴────────────┴────────────┴────────────┴────────────┴───────────┴───────────┘"
      ]
     },
     "execution_count": 105,
     "metadata": {},
     "output_type": "execute_result"
    }
   ],
   "source": [
    "vessel_history_validated.head()"
   ]
  },
  {
   "cell_type": "markdown",
   "metadata": {},
   "source": [
    "- Are there any more checks that you would add?\n",
    "- How should we handle the data that fails the two checks that raise a warning instead of fail?\n",
    "- Try changing some of the validations so that they fail? Are you able to use the failure message to identify the bad data?"
   ]
  },
  {
   "cell_type": "markdown",
   "metadata": {},
   "source": [
    "#### vessel_verbose\n",
    "\n",
    "In the interest of time, we will \"skim\" over the validation of the vessel_verbose data set. The class below defines the schema and checks for the vessel_verbose data set."
   ]
  },
  {
   "cell_type": "markdown",
   "metadata": {},
   "source": [
    "*💁 Note: time permitting walk the learners through using multiple cursors and split editors in VS Code and how they can be used to quickly create the code for the DataFrame model.*\n",
    "\n",
    "```python\n",
    "vessel_verbose_clean.columns\n",
    "vessel_verbose_clean.head(2).transpose(include_header=True)\n",
    "```\n",
    "\n"
   ]
  },
  {
   "cell_type": "code",
   "execution_count": 48,
   "metadata": {},
   "outputs": [
    {
     "data": {
      "text/html": [
       "<div><style>\n",
       ".dataframe > thead > tr,\n",
       ".dataframe > tbody > tr {\n",
       "  text-align: right;\n",
       "  white-space: pre-wrap;\n",
       "}\n",
       "</style>\n",
       "<small>shape: (2, 44)</small><table border=\"1\" class=\"dataframe\"><thead><tr><th>VesselID</th><th>VesselSubjectID</th><th>VesselName</th><th>VesselAbbrev</th><th>ClassID</th><th>ClassName</th><th>ClassSubjectID</th><th>DrawingImg</th><th>PublicDisplayName</th><th>SilhouetteImg</th><th>SortSeq</th><th>Status</th><th>OwnedByWSF</th><th>CarDeckRestroom</th><th>CarDeckShelter</th><th>Elevator</th><th>ADAAccessible</th><th>MainCabinGalley</th><th>MainCabinRestroom</th><th>PublicWifi</th><th>ADAInfo</th><th>AdditionalInfo</th><th>VesselNameDesc</th><th>VesselHistory</th><th>CityBuilt</th><th>SpeedInKnots</th><th>EngineCount</th><th>Horsepower</th><th>MaxPassengerCount</th><th>PassengerOnly</th><th>FastFerry</th><th>PropulsionInfo</th><th>TallDeckClearance</th><th>RegDeckSpace</th><th>TallDeckSpace</th><th>Tonnage</th><th>Displacement</th><th>YearBuilt</th><th>YearRebuilt</th><th>SolasCertified</th><th>MaxPassengerCountForInternational</th><th>BeamInches</th><th>LengthInches</th><th>DraftInches</th></tr><tr><td>i64</td><td>i64</td><td>str</td><td>str</td><td>i64</td><td>str</td><td>i64</td><td>str</td><td>str</td><td>str</td><td>i64</td><td>i64</td><td>bool</td><td>bool</td><td>bool</td><td>bool</td><td>bool</td><td>bool</td><td>bool</td><td>bool</td><td>str</td><td>str</td><td>str</td><td>str</td><td>str</td><td>i64</td><td>i64</td><td>i64</td><td>i64</td><td>bool</td><td>bool</td><td>str</td><td>i64</td><td>i64</td><td>i64</td><td>i64</td><td>i64</td><td>date</td><td>date</td><td>bool</td><td>i32</td><td>i32</td><td>i32</td><td>i32</td></tr></thead><tbody><tr><td>1</td><td>1</td><td>&quot;cathlamet&quot;</td><td>&quot;cat&quot;</td><td>10</td><td>&quot;issaquah 130&quot;</td><td>310</td><td>&quot;https://www.wsdot.wa.gov/ferri…</td><td>&quot;Issaquah&quot;</td><td>&quot;https://www.wsdot.wa.gov/ferri…</td><td>40</td><td>1</td><td>true</td><td>true</td><td>false</td><td>true</td><td>true</td><td>true</td><td>true</td><td>false</td><td>&quot;The MV Cathlamet has elevator …</td><td>null</td><td>&quot;From the Kathlamet tribe, the …</td><td>null</td><td>&quot;seattle, wa&quot;</td><td>16</td><td>2</td><td>5000</td><td>1200</td><td>false</td><td>false</td><td>&quot;diesel&quot;</td><td>186</td><td>124</td><td>26</td><td>2477</td><td>3310</td><td>1981-01-01</td><td>1993-01-01</td><td>false</td><td>null</td><td>944</td><td>3936</td><td>198</td></tr><tr><td>2</td><td>2</td><td>&quot;chelan&quot;</td><td>&quot;che&quot;</td><td>10</td><td>&quot;issaquah 130&quot;</td><td>310</td><td>&quot;https://www.wsdot.wa.gov/ferri…</td><td>&quot;Issaquah&quot;</td><td>&quot;https://www.wsdot.wa.gov/ferri…</td><td>40</td><td>1</td><td>true</td><td>true</td><td>false</td><td>true</td><td>true</td><td>true</td><td>true</td><td>false</td><td>&quot;The MV Chelan has elevator acc…</td><td>null</td><td>&quot;From the Chelan  language: Tsi…</td><td>null</td><td>&quot;seattle, wa&quot;</td><td>16</td><td>2</td><td>5000</td><td>1200</td><td>false</td><td>false</td><td>&quot;diesel&quot;</td><td>188</td><td>124</td><td>30</td><td>2477</td><td>3405</td><td>1981-01-01</td><td>2005-01-01</td><td>true</td><td>1090</td><td>944</td><td>3936</td><td>201</td></tr></tbody></table></div>"
      ],
      "text/plain": [
       "shape: (2, 44)\n",
       "┌──────────┬───────────┬───────────┬───────────┬───┬───────────┬───────────┬───────────┬───────────┐\n",
       "│ VesselID ┆ VesselSub ┆ VesselNam ┆ VesselAbb ┆ … ┆ MaxPassen ┆ BeamInche ┆ LengthInc ┆ DraftInch │\n",
       "│ ---      ┆ jectID    ┆ e         ┆ rev       ┆   ┆ gerCountF ┆ s         ┆ hes       ┆ es        │\n",
       "│ i64      ┆ ---       ┆ ---       ┆ ---       ┆   ┆ orInterna ┆ ---       ┆ ---       ┆ ---       │\n",
       "│          ┆ i64       ┆ str       ┆ str       ┆   ┆ tio…      ┆ i32       ┆ i32       ┆ i32       │\n",
       "│          ┆           ┆           ┆           ┆   ┆ ---       ┆           ┆           ┆           │\n",
       "│          ┆           ┆           ┆           ┆   ┆ i32       ┆           ┆           ┆           │\n",
       "╞══════════╪═══════════╪═══════════╪═══════════╪═══╪═══════════╪═══════════╪═══════════╪═══════════╡\n",
       "│ 1        ┆ 1         ┆ cathlamet ┆ cat       ┆ … ┆ null      ┆ 944       ┆ 3936      ┆ 198       │\n",
       "│ 2        ┆ 2         ┆ chelan    ┆ che       ┆ … ┆ 1090      ┆ 944       ┆ 3936      ┆ 201       │\n",
       "└──────────┴───────────┴───────────┴───────────┴───┴───────────┴───────────┴───────────┴───────────┘"
      ]
     },
     "execution_count": 106,
     "metadata": {},
     "output_type": "execute_result"
    }
   ],
   "source": [
    "vessel_verbose_clean.head(2)"
   ]
  },
  {
   "cell_type": "code",
   "execution_count": 49,
   "metadata": {},
   "outputs": [],
   "source": [
    "class VesselVerboseSchema(pa.DataFrameModel):\n",
    "    VesselID: int\n",
    "    VesselSubjectID: int\n",
    "    VesselName: str\n",
    "    VesselAbbrev: str\n",
    "    ClassID: int\n",
    "    ClassName: str\n",
    "    ClassSubjectID: int\n",
    "    DrawingImg: str\n",
    "    PublicDisplayName: str\n",
    "    SilhouetteImg: str\n",
    "    SortSeq: int\n",
    "    Status: int\n",
    "    OwnedByWSF: bool\n",
    "    CarDeckRestroom: bool\n",
    "    CarDeckShelter: bool\n",
    "    Elevator: bool\n",
    "    ADAAccessible: bool\n",
    "    MainCabinGalley: bool\n",
    "    MainCabinRestroom: bool\n",
    "    PublicWifi: bool\n",
    "    ADAInfo: str\n",
    "    AdditionalInfo: str = pa.Field(nullable=True)\n",
    "    VesselNameDesc: str\n",
    "    VesselHistory: str = pa.Field(nullable=True)\n",
    "    CityBuilt: str\n",
    "    SpeedInKnots: int\n",
    "    EngineCount: int\n",
    "    Horsepower: int\n",
    "    MaxPassengerCount: int\n",
    "    PassengerOnly: bool\n",
    "    FastFerry: bool\n",
    "    PropulsionInfo: str\n",
    "    TallDeckClearance: int\n",
    "    RegDeckSpace: int\n",
    "    TallDeckSpace: int\n",
    "    Tonnage: int\n",
    "    Displacement: int\n",
    "    YearBuilt: Date\n",
    "    YearRebuilt: Date = pa.Field(nullable=True)\n",
    "    SolasCertified: bool\n",
    "    MaxPassengerCountForInternational: Int32 = pa.Field(nullable=True)\n",
    "    BeamInches: Int32\n",
    "    LengthInches: Int32\n",
    "    DraftInches: Int32 = pa.Field(nullable=True)\n",
    "\n",
    "    @pa.check('DrawingImg')\n",
    "    def validate_urls(cls, data: pa.PolarsData) -> pl.LazyFrame:\n",
    "        return (\n",
    "            data\n",
    "            .lazyframe\n",
    "            .select(pl.col(data.key).str.starts_with(\"https://\"))\n",
    "        )"
   ]
  },
  {
   "cell_type": "code",
   "execution_count": 50,
   "metadata": {},
   "outputs": [],
   "source": [
    "vessel_verbose_validated = VesselVerboseSchema.validate(vessel_verbose_clean)"
   ]
  },
  {
   "cell_type": "code",
   "execution_count": 51,
   "metadata": {},
   "outputs": [
    {
     "data": {
      "text/html": [
       "<div><style>\n",
       ".dataframe > thead > tr,\n",
       ".dataframe > tbody > tr {\n",
       "  text-align: right;\n",
       "  white-space: pre-wrap;\n",
       "}\n",
       "</style>\n",
       "<small>shape: (5, 44)</small><table border=\"1\" class=\"dataframe\"><thead><tr><th>VesselID</th><th>VesselSubjectID</th><th>VesselName</th><th>VesselAbbrev</th><th>ClassID</th><th>ClassName</th><th>ClassSubjectID</th><th>DrawingImg</th><th>PublicDisplayName</th><th>SilhouetteImg</th><th>SortSeq</th><th>Status</th><th>OwnedByWSF</th><th>CarDeckRestroom</th><th>CarDeckShelter</th><th>Elevator</th><th>ADAAccessible</th><th>MainCabinGalley</th><th>MainCabinRestroom</th><th>PublicWifi</th><th>ADAInfo</th><th>AdditionalInfo</th><th>VesselNameDesc</th><th>VesselHistory</th><th>CityBuilt</th><th>SpeedInKnots</th><th>EngineCount</th><th>Horsepower</th><th>MaxPassengerCount</th><th>PassengerOnly</th><th>FastFerry</th><th>PropulsionInfo</th><th>TallDeckClearance</th><th>RegDeckSpace</th><th>TallDeckSpace</th><th>Tonnage</th><th>Displacement</th><th>YearBuilt</th><th>YearRebuilt</th><th>SolasCertified</th><th>MaxPassengerCountForInternational</th><th>BeamInches</th><th>LengthInches</th><th>DraftInches</th></tr><tr><td>i64</td><td>i64</td><td>str</td><td>str</td><td>i64</td><td>str</td><td>i64</td><td>str</td><td>str</td><td>str</td><td>i64</td><td>i64</td><td>bool</td><td>bool</td><td>bool</td><td>bool</td><td>bool</td><td>bool</td><td>bool</td><td>bool</td><td>str</td><td>str</td><td>str</td><td>str</td><td>str</td><td>i64</td><td>i64</td><td>i64</td><td>i64</td><td>bool</td><td>bool</td><td>str</td><td>i64</td><td>i64</td><td>i64</td><td>i64</td><td>i64</td><td>date</td><td>date</td><td>bool</td><td>i32</td><td>i32</td><td>i32</td><td>i32</td></tr></thead><tbody><tr><td>1</td><td>1</td><td>&quot;cathlamet&quot;</td><td>&quot;cat&quot;</td><td>10</td><td>&quot;issaquah 130&quot;</td><td>310</td><td>&quot;https://www.wsdot.wa.gov/ferri…</td><td>&quot;Issaquah&quot;</td><td>&quot;https://www.wsdot.wa.gov/ferri…</td><td>40</td><td>1</td><td>true</td><td>true</td><td>false</td><td>true</td><td>true</td><td>true</td><td>true</td><td>false</td><td>&quot;The MV Cathlamet has elevator …</td><td>null</td><td>&quot;From the Kathlamet tribe, the …</td><td>null</td><td>&quot;seattle, wa&quot;</td><td>16</td><td>2</td><td>5000</td><td>1200</td><td>false</td><td>false</td><td>&quot;diesel&quot;</td><td>186</td><td>124</td><td>26</td><td>2477</td><td>3310</td><td>1981-01-01</td><td>1993-01-01</td><td>false</td><td>null</td><td>944</td><td>3936</td><td>198</td></tr><tr><td>2</td><td>2</td><td>&quot;chelan&quot;</td><td>&quot;che&quot;</td><td>10</td><td>&quot;issaquah 130&quot;</td><td>310</td><td>&quot;https://www.wsdot.wa.gov/ferri…</td><td>&quot;Issaquah&quot;</td><td>&quot;https://www.wsdot.wa.gov/ferri…</td><td>40</td><td>1</td><td>true</td><td>true</td><td>false</td><td>true</td><td>true</td><td>true</td><td>true</td><td>false</td><td>&quot;The MV Chelan has elevator acc…</td><td>null</td><td>&quot;From the Chelan  language: Tsi…</td><td>null</td><td>&quot;seattle, wa&quot;</td><td>16</td><td>2</td><td>5000</td><td>1200</td><td>false</td><td>false</td><td>&quot;diesel&quot;</td><td>188</td><td>124</td><td>30</td><td>2477</td><td>3405</td><td>1981-01-01</td><td>2005-01-01</td><td>true</td><td>1090</td><td>944</td><td>3936</td><td>201</td></tr><tr><td>65</td><td>428</td><td>&quot;chetzemoka&quot;</td><td>&quot;chz&quot;</td><td>162</td><td>&quot;kwa-di tabil&quot;</td><td>427</td><td>&quot;https://www.wsdot.wa.gov/ferri…</td><td>&quot;Kwa-di Tabil&quot;</td><td>&quot;https://www.wsdot.wa.gov/ferri…</td><td>75</td><td>1</td><td>true</td><td>false</td><td>false</td><td>true</td><td>true</td><td>true</td><td>true</td><td>false</td><td>&quot;MV Chetzemoka has elevator acc…</td><td>null</td><td>&quot;The name honors a friendly Nat…</td><td>null</td><td>&quot;seattle&quot;</td><td>15</td><td>2</td><td>6000</td><td>748</td><td>false</td><td>false</td><td>&quot;diesel&quot;</td><td>192</td><td>64</td><td>9</td><td>4623</td><td>2415</td><td>2010-01-01</td><td>null</td><td>false</td><td>null</td><td>768</td><td>3284</td><td>132</td></tr><tr><td>74</td><td>487</td><td>&quot;chimacum&quot;</td><td>&quot;chm&quot;</td><td>100</td><td>&quot;olympic&quot;</td><td>319</td><td>&quot;https://www.wsdot.wa.gov/ferri…</td><td>&quot;Olympic&quot;</td><td>&quot;https://www.wsdot.wa.gov/ferri…</td><td>35</td><td>1</td><td>true</td><td>true</td><td>true</td><td>true</td><td>true</td><td>true</td><td>true</td><td>false</td><td>&quot;The vessel has two ADA complia…</td><td>null</td><td>&quot;“The Chimacum People who spoke…</td><td>&quot;Chimacum is the third of the 1…</td><td>&quot;seattle, wa&quot;</td><td>17</td><td>2</td><td>6000</td><td>1500</td><td>false</td><td>false</td><td>&quot;diesel&quot;</td><td>192</td><td>144</td><td>34</td><td>3525</td><td>4384</td><td>2017-01-01</td><td>null</td><td>false</td><td>null</td><td>998</td><td>4347</td><td>216</td></tr><tr><td>15</td><td>15</td><td>&quot;issaquah&quot;</td><td>&quot;iss&quot;</td><td>10</td><td>&quot;issaquah 130&quot;</td><td>310</td><td>&quot;https://www.wsdot.wa.gov/ferri…</td><td>&quot;Issaquah&quot;</td><td>&quot;https://www.wsdot.wa.gov/ferri…</td><td>40</td><td>1</td><td>true</td><td>true</td><td>false</td><td>true</td><td>true</td><td>true</td><td>true</td><td>false</td><td>&quot;The MV Issaquah has elevator a…</td><td>null</td><td>&quot;&quot;Snake.&quot; Native Americans who …</td><td>null</td><td>&quot;seattle, wa&quot;</td><td>16</td><td>2</td><td>5000</td><td>1200</td><td>false</td><td>false</td><td>&quot;diesel&quot;</td><td>188</td><td>124</td><td>26</td><td>2475</td><td>3310</td><td>1979-01-01</td><td>1989-01-01</td><td>false</td><td>null</td><td>944</td><td>3936</td><td>198</td></tr></tbody></table></div>"
      ],
      "text/plain": [
       "shape: (5, 44)\n",
       "┌──────────┬───────────┬───────────┬───────────┬───┬───────────┬───────────┬───────────┬───────────┐\n",
       "│ VesselID ┆ VesselSub ┆ VesselNam ┆ VesselAbb ┆ … ┆ MaxPassen ┆ BeamInche ┆ LengthInc ┆ DraftInch │\n",
       "│ ---      ┆ jectID    ┆ e         ┆ rev       ┆   ┆ gerCountF ┆ s         ┆ hes       ┆ es        │\n",
       "│ i64      ┆ ---       ┆ ---       ┆ ---       ┆   ┆ orInterna ┆ ---       ┆ ---       ┆ ---       │\n",
       "│          ┆ i64       ┆ str       ┆ str       ┆   ┆ tio…      ┆ i32       ┆ i32       ┆ i32       │\n",
       "│          ┆           ┆           ┆           ┆   ┆ ---       ┆           ┆           ┆           │\n",
       "│          ┆           ┆           ┆           ┆   ┆ i32       ┆           ┆           ┆           │\n",
       "╞══════════╪═══════════╪═══════════╪═══════════╪═══╪═══════════╪═══════════╪═══════════╪═══════════╡\n",
       "│ 1        ┆ 1         ┆ cathlamet ┆ cat       ┆ … ┆ null      ┆ 944       ┆ 3936      ┆ 198       │\n",
       "│ 2        ┆ 2         ┆ chelan    ┆ che       ┆ … ┆ 1090      ┆ 944       ┆ 3936      ┆ 201       │\n",
       "│ 65       ┆ 428       ┆ chetzemok ┆ chz       ┆ … ┆ null      ┆ 768       ┆ 3284      ┆ 132       │\n",
       "│          ┆           ┆ a         ┆           ┆   ┆           ┆           ┆           ┆           │\n",
       "│ 74       ┆ 487       ┆ chimacum  ┆ chm       ┆ … ┆ null      ┆ 998       ┆ 4347      ┆ 216       │\n",
       "│ 15       ┆ 15        ┆ issaquah  ┆ iss       ┆ … ┆ null      ┆ 944       ┆ 3936      ┆ 198       │\n",
       "└──────────┴───────────┴───────────┴───────────┴───┴───────────┴───────────┴───────────┴───────────┘"
      ]
     },
     "execution_count": 109,
     "metadata": {},
     "output_type": "execute_result"
    }
   ],
   "source": [
    "vessel_verbose_validated.head(5)"
   ]
  },
  {
   "cell_type": "markdown",
   "metadata": {},
   "source": [
    "## Task 5 - Publish data to Posit Connect"
   ]
  },
  {
   "cell_type": "markdown",
   "metadata": {},
   "source": [
    "### 🔄 Task"
   ]
  },
  {
   "cell_type": "markdown",
   "metadata": {},
   "source": [
    "Save the clean data to Posit Connect as a pin."
   ]
  },
  {
   "cell_type": "markdown",
   "metadata": {},
   "source": [
    "### 🧑‍💻 Code"
   ]
  },
  {
   "cell_type": "markdown",
   "metadata": {},
   "source": [
    "#### vessel_history"
   ]
  },
  {
   "cell_type": "code",
   "execution_count": 52,
   "metadata": {},
   "outputs": [],
   "source": [
    "vessel_history_pin_name = f\"{username}/vessel_history_clean\""
   ]
  },
  {
   "cell_type": "code",
   "execution_count": 53,
   "metadata": {},
   "outputs": [],
   "source": [
    "# board.pin_write(\n",
    "#     vessel_history_clean.to_pandas(), vessel_history_pin_name, type=\"parquet\"\n",
    "# )"
   ]
  },
  {
   "cell_type": "markdown",
   "metadata": {},
   "source": [
    "#### vessel_verbose"
   ]
  },
  {
   "cell_type": "code",
   "execution_count": 54,
   "metadata": {},
   "outputs": [],
   "source": [
    "vessel_verbose_pin_name = f\"{username}/vessel_verbose_clean\""
   ]
  },
  {
   "cell_type": "code",
   "execution_count": 55,
   "metadata": {},
   "outputs": [],
   "source": [
    "# board.pin_write(\n",
    "#     vessel_verbose_clean.to_pandas(), f\"{username}/vessel_verbose_clean\", type=\"parquet\"\n",
    "# )"
   ]
  },
  {
   "cell_type": "markdown",
   "metadata": {},
   "source": [
    "## Task 6 - Email yourself an update"
   ]
  },
  {
   "cell_type": "markdown",
   "metadata": {},
   "source": [
    "### 🔄 Task"
   ]
  },
  {
   "cell_type": "markdown",
   "metadata": {},
   "source": [
    "Posit Connect has support for sending emails with Quarto: https://docs.posit.co/connect/user/quarto/#email-customization.\n",
    "\n",
    "Generate an email to update all the email recipients on the status of the new data."
   ]
  },
  {
   "cell_type": "markdown",
   "metadata": {},
   "source": [
    "**Tips**\n",
    "\n",
    "Run the following in the terminal to preview the email:\n",
    "\n",
    "```bash\n",
    "quarto render notebook.ipynb --execute --output-dir tmp && open tmp/email-preview/index.html\n",
    "```"
   ]
  },
  {
   "cell_type": "markdown",
   "metadata": {},
   "source": [
    "### 🧑‍💻 Code"
   ]
  },
  {
   "cell_type": "markdown",
   "metadata": {},
   "source": [
    "Define the variable data."
   ]
  },
  {
   "cell_type": "code",
   "execution_count": 56,
   "metadata": {},
   "outputs": [
    {
     "data": {
      "text/plain": [
       "'2024-06-05'"
      ]
     },
     "execution_count": 114,
     "metadata": {},
     "output_type": "execute_result"
    }
   ],
   "source": [
    "import datetime\n",
    "\n",
    "todays_date = datetime.datetime.now().strftime(\"%Y-%m-%d\")\n",
    "todays_date"
   ]
  },
  {
   "cell_type": "code",
   "execution_count": 57,
   "metadata": {},
   "outputs": [
    {
     "data": {
      "text/plain": [
       "'Happy Monday! Here is the latest data on the vessels. As a reminder on Monday you should review the latest model to make sure that the model is performing as expected.'"
      ]
     },
     "execution_count": 115,
     "metadata": {},
     "output_type": "execute_result"
    }
   ],
   "source": [
    "\n",
    "from textwrap import dedent\n",
    "\n",
    "\n",
    "\n",
    "if datetime.date.today().isoweekday() == 3:\n",
    "    special_monday_message = dedent(\"\"\"\n",
    "    Happy Monday! Here is the latest data on the vessels. As a reminder on Monday you should review the latest model to make sure that the model is performing as expected.\n",
    "    \"\"\").strip()\n",
    "else:\n",
    "    special_monday_message = \"No special messages.\"\n",
    "\n",
    "special_monday_message"
   ]
  },
  {
   "cell_type": "markdown",
   "metadata": {},
   "source": [
    "Create your email template."
   ]
  },
  {
   "cell_type": "raw",
   "metadata": {
    "vscode": {
     "languageId": "raw"
    }
   },
   "source": [
    "::: {.email}"
   ]
  },
  {
   "cell_type": "markdown",
   "metadata": {},
   "source": [
    ":::::: {.subject}"
   ]
  },
  {
   "cell_type": "markdown",
   "metadata": {
    "user_expressions": [
     {
      "expression": "todays_date",
      "result": {
       "data": {
        "text/plain": "'2024-06-05'"
       },
       "metadata": {},
       "status": "ok"
      }
     }
    ]
   },
   "source": [
    "Seattle Ferry Data Validation Report for `{python} todays_date`"
   ]
  },
  {
   "cell_type": "raw",
   "metadata": {
    "vscode": {
     "languageId": "raw"
    }
   },
   "source": [
    "::::::"
   ]
  },
  {
   "cell_type": "markdown",
   "metadata": {
    "user_expressions": [
     {
      "expression": "special_monday_message",
      "result": {
       "data": {
        "text/plain": "'Happy Monday! Here is the latest data on the vessels. As a reminder on Monday you should review the latest model to make sure that the model is performing as expected.'"
       },
       "metadata": {},
       "status": "ok"
      }
     }
    ]
   },
   "source": [
    "**Special notices**\n",
    "\n",
    "`{python} special_monday_message`"
   ]
  },
  {
   "cell_type": "markdown",
   "metadata": {
    "user_expressions": [
     {
      "expression": "vessel_history_pin_name",
      "result": {
       "data": {
        "text/plain": "'sam.edwardes/vessel_history_clean'"
       },
       "metadata": {},
       "status": "ok"
      }
     },
     {
      "expression": "vessel_history_pin_name",
      "result": {
       "data": {
        "text/plain": "'sam.edwardes/vessel_history_clean'"
       },
       "metadata": {},
       "status": "ok"
      }
     }
    ],
    "vscode": {
     "languageId": "raw"
    }
   },
   "source": [
    "**Update**\n",
    "\n",
    "The Seattle Ferry data has been updated and validated. The following data sets are available for your use:\n",
    "\n",
    "- Vessel History (`{python} vessel_history_pin_name`)\n",
    "- Vessel Verbose (`{python} vessel_history_pin_name`)"
   ]
  },
  {
   "cell_type": "markdown",
   "metadata": {
    "user_expressions": [
     {
      "expression": "f\"{vessel_history_validated.shape[0]:,}\"",
      "result": {
       "data": {
        "text/plain": "'584,977'"
       },
       "metadata": {},
       "status": "ok"
      }
     },
     {
      "expression": "f\"{vessel_history_validated.shape[1]:,}\"",
      "result": {
       "data": {
        "text/plain": "'8'"
       },
       "metadata": {},
       "status": "ok"
      }
     }
    ]
   },
   "source": [
    "**Vessel History**\n",
    "\n",
    "- `{python} f\"{vessel_history_validated.shape[0]:,}\"` rows\n",
    "- `{python} f\"{vessel_history_validated.shape[1]:,}\"` columns"
   ]
  },
  {
   "cell_type": "code",
   "execution_count": 58,
   "metadata": {},
   "outputs": [
    {
     "data": {
      "image/png": "[encoded data removed]",
      "text/plain": [
       "<Figure size 672x480 with 1 Axes>"
      ]
     },
     "metadata": {
      "image/png": {
       "height": 449,
       "width": 595
      }
     },
     "output_type": "display_data"
    }
   ],
   "source": [
    "#| echo: false\n",
    "import matplotlib.pyplot as plt\n",
    "import matplotlib as mpl\n",
    "\n",
    "ax = (\n",
    "    vessel_history_validated\n",
    "    .with_columns(\n",
    "        pl.col(\"Date\").dt.date().dt.month_start().alias(\"Month\"),\n",
    "    )\n",
    "    .group_by(\"Month\")\n",
    "    .agg(pl.col(\"Vessel\").count().alias(\"Trips\"))\n",
    "    .sort(\"Month\")\n",
    "    .to_pandas()\n",
    "    .plot(\n",
    "        x=\"Month\",\n",
    "        y=\"Trips\",\n",
    "        title=\"Trips by Month\",\n",
    "    )\n",
    ")\n",
    "\n",
    "ax.yaxis.set_major_formatter(mpl.ticker.StrMethodFormatter('{x:,.0f}'))\n",
    "\n",
    "plt.show()"
   ]
  },
  {
   "cell_type": "markdown",
   "metadata": {
    "user_expressions": [
     {
      "expression": "f\"{vessel_verbose_validated.shape[0]:,}\"",
      "result": {
       "data": {
        "text/plain": "'21'"
       },
       "metadata": {},
       "status": "ok"
      }
     },
     {
      "expression": "f\"{vessel_verbose_validated.shape[1]:,}\"",
      "result": {
       "data": {
        "text/plain": "'44'"
       },
       "metadata": {},
       "status": "ok"
      }
     },
     {
      "expression": "\", \".join(vessel_verbose_validated['VesselName'].unique())",
      "result": {
       "data": {
        "text/plain": "'tokitae, yakima, spokane, kaleetan, samish, salish, chimacum, wenatchee, puyallup, sealth, chelan, issaquah, cathlamet, suquamish, tacoma, tillikum, kitsap, walla walla, chetzemoka, kittitas, kennewick'"
       },
       "metadata": {},
       "status": "ok"
      }
     }
    ]
   },
   "source": [
    "**Vessel Verbose**\n",
    "\n",
    "- `{python} f\"{vessel_verbose_validated.shape[0]:,}\"` rows\n",
    "- `{python} f\"{vessel_verbose_validated.shape[1]:,}\"` columns\n",
    "- Vessels: `{python} \", \".join(vessel_verbose_validated['VesselName'].unique())`"
   ]
  },
  {
   "cell_type": "raw",
   "metadata": {
    "vscode": {
     "languageId": "raw"
    }
   },
   "source": [
    ":::"
   ]
  },
  {
   "cell_type": "markdown",
   "metadata": {},
   "source": [
    "## Task 7 - publish notebook as Quarto document to Posit Connect"
   ]
  },
  {
   "cell_type": "markdown",
   "metadata": {},
   "source": [
    "### 🔄 Task"
   ]
  },
  {
   "cell_type": "markdown",
   "metadata": {},
   "source": []
  },
  {
   "cell_type": "markdown",
   "metadata": {},
   "source": [
    "### 🧑‍💻 Code"
   ]
  },
  {
   "cell_type": "markdown",
   "metadata": {},
   "source": []
  }
 ],
 "metadata": {
  "kernelspec": {
   "display_name": ".venv",
   "language": "python",
   "name": "python3"
  },
  "language_info": {
   "codemirror_mode": {
    "name": "ipython",
    "version": 3
   },
   "file_extension": ".py",
   "mimetype": "text/x-python",
   "name": "python",
   "nbconvert_exporter": "python",
   "pygments_lexer": "ipython3",
   "version": "3.12.2"
  }
 },
 "nbformat": 4,
 "nbformat_minor": 2
}

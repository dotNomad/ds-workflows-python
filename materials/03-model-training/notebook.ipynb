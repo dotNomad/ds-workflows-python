{
 "cells": [
  {
   "cell_type": "code",
   "execution_count": 1,
   "metadata": {},
   "outputs": [],
   "source": [
    "import polars as pl\n",
    "\n",
    "from pins import board_connect\n",
    "\n",
    "board = board_connect()\n",
    "\n",
    "vessel_history_clean = pl.DataFrame(board.pin_read(\"sam.edwardes/vessel_history_clean\"))\n",
    "vessel_verbose_clean = pl.DataFrame(board.pin_read(\"sam.edwardes/vessel_verbose_clean\"))"
   ]
  },
  {
   "cell_type": "code",
   "execution_count": 2,
   "metadata": {},
   "outputs": [
    {
     "data": {
      "text/html": [
       "<div><style>\n",
       ".dataframe > thead > tr,\n",
       ".dataframe > tbody > tr {\n",
       "  text-align: right;\n",
       "  white-space: pre-wrap;\n",
       "}\n",
       "</style>\n",
       "<small>shape: (584_977, 8)</small><table border=\"1\" class=\"dataframe\"><thead><tr><th>VesselId</th><th>Vessel</th><th>Departing</th><th>Arriving</th><th>ScheduledDepart</th><th>ActualDepart</th><th>EstArrival</th><th>Date</th></tr><tr><td>i64</td><td>str</td><td>str</td><td>str</td><td>datetime[μs, UTC]</td><td>datetime[μs, UTC]</td><td>datetime[μs, UTC]</td><td>datetime[μs, UTC]</td></tr></thead><tbody><tr><td>32</td><td>&quot;cathlamet&quot;</td><td>&quot;vashon&quot;</td><td>&quot;fauntleroy&quot;</td><td>2020-01-01 13:40:00 UTC</td><td>2020-01-01 13:41:12 UTC</td><td>2020-01-01 13:57:07 UTC</td><td>2020-01-01 13:40:00 UTC</td></tr><tr><td>32</td><td>&quot;cathlamet&quot;</td><td>&quot;fauntleroy&quot;</td><td>&quot;vashon&quot;</td><td>2020-01-01 14:10:00 UTC</td><td>2020-01-01 14:11:37 UTC</td><td>2020-01-01 14:27:57 UTC</td><td>2020-01-01 14:10:00 UTC</td></tr><tr><td>32</td><td>&quot;cathlamet&quot;</td><td>&quot;vashon&quot;</td><td>&quot;fauntleroy&quot;</td><td>2020-01-01 14:35:00 UTC</td><td>2020-01-01 14:37:37 UTC</td><td>2020-01-01 14:49:19 UTC</td><td>2020-01-01 14:35:00 UTC</td></tr><tr><td>32</td><td>&quot;cathlamet&quot;</td><td>&quot;fauntleroy&quot;</td><td>&quot;vashon&quot;</td><td>2020-01-01 15:05:00 UTC</td><td>2020-01-01 15:07:11 UTC</td><td>2020-01-01 15:22:50 UTC</td><td>2020-01-01 15:05:00 UTC</td></tr><tr><td>32</td><td>&quot;cathlamet&quot;</td><td>&quot;vashon&quot;</td><td>&quot;southworth&quot;</td><td>2020-01-01 15:30:00 UTC</td><td>2020-01-01 15:31:01 UTC</td><td>2020-01-01 15:42:11 UTC</td><td>2020-01-01 15:30:00 UTC</td></tr><tr><td>&hellip;</td><td>&hellip;</td><td>&hellip;</td><td>&hellip;</td><td>&hellip;</td><td>&hellip;</td><td>&hellip;</td><td>&hellip;</td></tr><tr><td>25</td><td>&quot;yakima&quot;</td><td>&quot;lopez&quot;</td><td>&quot;anacortes&quot;</td><td>2024-06-04 16:30:00 UTC</td><td>2024-06-04 16:48:59 UTC</td><td>2024-06-04 17:36:29 UTC</td><td>2024-06-04 16:30:00 UTC</td></tr><tr><td>25</td><td>&quot;yakima&quot;</td><td>&quot;anacortes&quot;</td><td>&quot;lopez&quot;</td><td>2024-06-04 17:35:00 UTC</td><td>2024-06-04 18:04:56 UTC</td><td>2024-06-04 18:48:31 UTC</td><td>2024-06-04 17:35:00 UTC</td></tr><tr><td>25</td><td>&quot;yakima&quot;</td><td>&quot;lopez&quot;</td><td>&quot;orcas&quot;</td><td>2024-06-04 18:25:00 UTC</td><td>2024-06-04 18:55:11 UTC</td><td>2024-06-04 19:13:08 UTC</td><td>2024-06-04 18:25:00 UTC</td></tr><tr><td>25</td><td>&quot;yakima&quot;</td><td>&quot;orcas&quot;</td><td>&quot;shaw&quot;</td><td>2024-06-04 19:25:00 UTC</td><td>2024-06-04 19:44:49 UTC</td><td>2024-06-04 19:55:59 UTC</td><td>2024-06-04 19:25:00 UTC</td></tr><tr><td>25</td><td>&quot;yakima&quot;</td><td>&quot;shaw&quot;</td><td>&quot;anacortes&quot;</td><td>2024-06-04 19:40:00 UTC</td><td>2024-06-04 20:00:15 UTC</td><td>2024-06-04 20:57:27 UTC</td><td>2024-06-04 19:40:00 UTC</td></tr></tbody></table></div>"
      ],
      "text/plain": [
       "shape: (584_977, 8)\n",
       "┌──────────┬───────────┬────────────┬────────────┬────────────┬────────────┬───────────┬───────────┐\n",
       "│ VesselId ┆ Vessel    ┆ Departing  ┆ Arriving   ┆ ScheduledD ┆ ActualDepa ┆ EstArriva ┆ Date      │\n",
       "│ ---      ┆ ---       ┆ ---        ┆ ---        ┆ epart      ┆ rt         ┆ l         ┆ ---       │\n",
       "│ i64      ┆ str       ┆ str        ┆ str        ┆ ---        ┆ ---        ┆ ---       ┆ datetime[ │\n",
       "│          ┆           ┆            ┆            ┆ datetime[μ ┆ datetime[μ ┆ datetime[ ┆ μs, UTC]  │\n",
       "│          ┆           ┆            ┆            ┆ s, UTC]    ┆ s, UTC]    ┆ μs, UTC]  ┆           │\n",
       "╞══════════╪═══════════╪════════════╪════════════╪════════════╪════════════╪═══════════╪═══════════╡\n",
       "│ 32       ┆ cathlamet ┆ vashon     ┆ fauntleroy ┆ 2020-01-01 ┆ 2020-01-01 ┆ 2020-01-0 ┆ 2020-01-0 │\n",
       "│          ┆           ┆            ┆            ┆ 13:40:00   ┆ 13:41:12   ┆ 1         ┆ 1         │\n",
       "│          ┆           ┆            ┆            ┆ UTC        ┆ UTC        ┆ 13:57:07  ┆ 13:40:00  │\n",
       "│          ┆           ┆            ┆            ┆            ┆            ┆ UTC       ┆ UTC       │\n",
       "│ 32       ┆ cathlamet ┆ fauntleroy ┆ vashon     ┆ 2020-01-01 ┆ 2020-01-01 ┆ 2020-01-0 ┆ 2020-01-0 │\n",
       "│          ┆           ┆            ┆            ┆ 14:10:00   ┆ 14:11:37   ┆ 1         ┆ 1         │\n",
       "│          ┆           ┆            ┆            ┆ UTC        ┆ UTC        ┆ 14:27:57  ┆ 14:10:00  │\n",
       "│          ┆           ┆            ┆            ┆            ┆            ┆ UTC       ┆ UTC       │\n",
       "│ 32       ┆ cathlamet ┆ vashon     ┆ fauntleroy ┆ 2020-01-01 ┆ 2020-01-01 ┆ 2020-01-0 ┆ 2020-01-0 │\n",
       "│          ┆           ┆            ┆            ┆ 14:35:00   ┆ 14:37:37   ┆ 1         ┆ 1         │\n",
       "│          ┆           ┆            ┆            ┆ UTC        ┆ UTC        ┆ 14:49:19  ┆ 14:35:00  │\n",
       "│          ┆           ┆            ┆            ┆            ┆            ┆ UTC       ┆ UTC       │\n",
       "│ 32       ┆ cathlamet ┆ fauntleroy ┆ vashon     ┆ 2020-01-01 ┆ 2020-01-01 ┆ 2020-01-0 ┆ 2020-01-0 │\n",
       "│          ┆           ┆            ┆            ┆ 15:05:00   ┆ 15:07:11   ┆ 1         ┆ 1         │\n",
       "│          ┆           ┆            ┆            ┆ UTC        ┆ UTC        ┆ 15:22:50  ┆ 15:05:00  │\n",
       "│          ┆           ┆            ┆            ┆            ┆            ┆ UTC       ┆ UTC       │\n",
       "│ 32       ┆ cathlamet ┆ vashon     ┆ southworth ┆ 2020-01-01 ┆ 2020-01-01 ┆ 2020-01-0 ┆ 2020-01-0 │\n",
       "│          ┆           ┆            ┆            ┆ 15:30:00   ┆ 15:31:01   ┆ 1         ┆ 1         │\n",
       "│          ┆           ┆            ┆            ┆ UTC        ┆ UTC        ┆ 15:42:11  ┆ 15:30:00  │\n",
       "│          ┆           ┆            ┆            ┆            ┆            ┆ UTC       ┆ UTC       │\n",
       "│ …        ┆ …         ┆ …          ┆ …          ┆ …          ┆ …          ┆ …         ┆ …         │\n",
       "│ 25       ┆ yakima    ┆ lopez      ┆ anacortes  ┆ 2024-06-04 ┆ 2024-06-04 ┆ 2024-06-0 ┆ 2024-06-0 │\n",
       "│          ┆           ┆            ┆            ┆ 16:30:00   ┆ 16:48:59   ┆ 4         ┆ 4         │\n",
       "│          ┆           ┆            ┆            ┆ UTC        ┆ UTC        ┆ 17:36:29  ┆ 16:30:00  │\n",
       "│          ┆           ┆            ┆            ┆            ┆            ┆ UTC       ┆ UTC       │\n",
       "│ 25       ┆ yakima    ┆ anacortes  ┆ lopez      ┆ 2024-06-04 ┆ 2024-06-04 ┆ 2024-06-0 ┆ 2024-06-0 │\n",
       "│          ┆           ┆            ┆            ┆ 17:35:00   ┆ 18:04:56   ┆ 4         ┆ 4         │\n",
       "│          ┆           ┆            ┆            ┆ UTC        ┆ UTC        ┆ 18:48:31  ┆ 17:35:00  │\n",
       "│          ┆           ┆            ┆            ┆            ┆            ┆ UTC       ┆ UTC       │\n",
       "│ 25       ┆ yakima    ┆ lopez      ┆ orcas      ┆ 2024-06-04 ┆ 2024-06-04 ┆ 2024-06-0 ┆ 2024-06-0 │\n",
       "│          ┆           ┆            ┆            ┆ 18:25:00   ┆ 18:55:11   ┆ 4         ┆ 4         │\n",
       "│          ┆           ┆            ┆            ┆ UTC        ┆ UTC        ┆ 19:13:08  ┆ 18:25:00  │\n",
       "│          ┆           ┆            ┆            ┆            ┆            ┆ UTC       ┆ UTC       │\n",
       "│ 25       ┆ yakima    ┆ orcas      ┆ shaw       ┆ 2024-06-04 ┆ 2024-06-04 ┆ 2024-06-0 ┆ 2024-06-0 │\n",
       "│          ┆           ┆            ┆            ┆ 19:25:00   ┆ 19:44:49   ┆ 4         ┆ 4         │\n",
       "│          ┆           ┆            ┆            ┆ UTC        ┆ UTC        ┆ 19:55:59  ┆ 19:25:00  │\n",
       "│          ┆           ┆            ┆            ┆            ┆            ┆ UTC       ┆ UTC       │\n",
       "│ 25       ┆ yakima    ┆ shaw       ┆ anacortes  ┆ 2024-06-04 ┆ 2024-06-04 ┆ 2024-06-0 ┆ 2024-06-0 │\n",
       "│          ┆           ┆            ┆            ┆ 19:40:00   ┆ 20:00:15   ┆ 4         ┆ 4         │\n",
       "│          ┆           ┆            ┆            ┆ UTC        ┆ UTC        ┆ 20:57:27  ┆ 19:40:00  │\n",
       "│          ┆           ┆            ┆            ┆            ┆            ┆ UTC       ┆ UTC       │\n",
       "└──────────┴───────────┴────────────┴────────────┴────────────┴────────────┴───────────┴───────────┘"
      ]
     },
     "execution_count": null,
     "metadata": {},
     "output_type": "execute_result"
    }
   ],
   "source": [
    "vessel_history_clean"
   ]
  },
  {
   "cell_type": "code",
   "execution_count": 3,
   "metadata": {},
   "outputs": [
    {
     "data": {
      "text/html": [
       "<div><style>\n",
       ".dataframe > thead > tr,\n",
       ".dataframe > tbody > tr {\n",
       "  text-align: right;\n",
       "  white-space: pre-wrap;\n",
       "}\n",
       "</style>\n",
       "<small>shape: (9, 9)</small><table border=\"1\" class=\"dataframe\"><thead><tr><th>statistic</th><th>VesselId</th><th>Vessel</th><th>Departing</th><th>Arriving</th><th>ScheduledDepart</th><th>ActualDepart</th><th>EstArrival</th><th>Date</th></tr><tr><td>str</td><td>f64</td><td>str</td><td>str</td><td>str</td><td>str</td><td>str</td><td>str</td><td>str</td></tr></thead><tbody><tr><td>&quot;count&quot;</td><td>584977.0</td><td>&quot;584977&quot;</td><td>&quot;584977&quot;</td><td>&quot;519749&quot;</td><td>&quot;584977&quot;</td><td>&quot;584977&quot;</td><td>&quot;519749&quot;</td><td>&quot;584977&quot;</td></tr><tr><td>&quot;null_count&quot;</td><td>0.0</td><td>&quot;0&quot;</td><td>&quot;0&quot;</td><td>&quot;65228&quot;</td><td>&quot;0&quot;</td><td>&quot;0&quot;</td><td>&quot;65228&quot;</td><td>&quot;0&quot;</td></tr><tr><td>&quot;mean&quot;</td><td>1446.095166</td><td>null</td><td>null</td><td>null</td><td>&quot;2022-03-24 19:37:30.412580+00:…</td><td>&quot;2022-03-24 19:43:12.807370+00:…</td><td>&quot;2022-03-15 19:41:02.839770+00:…</td><td>&quot;2022-03-24 19:37:30.412580+00:…</td></tr><tr><td>&quot;std&quot;</td><td>2171.470812</td><td>null</td><td>null</td><td>null</td><td>null</td><td>null</td><td>null</td><td>null</td></tr><tr><td>&quot;min&quot;</td><td>0.0</td><td>&quot;cathlamet&quot;</td><td>&quot;anacortes&quot;</td><td>&quot;anacortes&quot;</td><td>&quot;2020-01-01 08:00:00+00:00&quot;</td><td>&quot;2020-01-01 08:00:56+00:00&quot;</td><td>&quot;2020-01-01 08:16:26+00:00&quot;</td><td>&quot;2020-01-01 08:00:00+00:00&quot;</td></tr><tr><td>&quot;25%&quot;</td><td>29.0</td><td>null</td><td>null</td><td>null</td><td>&quot;2021-02-17 23:20:00+00:00&quot;</td><td>&quot;2021-02-17 23:32:10+00:00&quot;</td><td>&quot;2021-01-20 00:09:22+00:00&quot;</td><td>&quot;2021-02-17 23:20:00+00:00&quot;</td></tr><tr><td>&quot;50%&quot;</td><td>35.0</td><td>null</td><td>null</td><td>null</td><td>&quot;2022-03-27 20:40:00+00:00&quot;</td><td>&quot;2022-03-27 20:50:18+00:00&quot;</td><td>&quot;2022-03-05 05:01:54+00:00&quot;</td><td>&quot;2022-03-27 20:40:00+00:00&quot;</td></tr><tr><td>&quot;75%&quot;</td><td>2312.0</td><td>null</td><td>null</td><td>null</td><td>&quot;2023-05-06 18:05:00+00:00&quot;</td><td>&quot;2023-05-06 18:19:07+00:00&quot;</td><td>&quot;2023-05-24 18:47:45+00:00&quot;</td><td>&quot;2023-05-06 18:05:00+00:00&quot;</td></tr><tr><td>&quot;max&quot;</td><td>8007.0</td><td>&quot;yakima&quot;</td><td>&quot;vashon&quot;</td><td>&quot;vashon&quot;</td><td>&quot;2024-06-04 22:50:00+00:00&quot;</td><td>&quot;2024-06-04 22:58:11+00:00&quot;</td><td>&quot;2024-06-04 23:15:51+00:00&quot;</td><td>&quot;2024-06-04 22:50:00+00:00&quot;</td></tr></tbody></table></div>"
      ],
      "text/plain": [
       "shape: (9, 9)\n",
       "┌─────────┬─────────┬─────────┬────────┬───┬────────┬────────┬────────┬────────┐\n",
       "│ statist ┆ VesselI ┆ Vessel  ┆ Depart ┆ … ┆ Schedu ┆ Actual ┆ EstArr ┆ Date   │\n",
       "│ ic      ┆ d       ┆ ---     ┆ ing    ┆   ┆ ledDep ┆ Depart ┆ ival   ┆ ---    │\n",
       "│ ---     ┆ ---     ┆ str     ┆ ---    ┆   ┆ art    ┆ ---    ┆ ---    ┆ str    │\n",
       "│ str     ┆ f64     ┆         ┆ str    ┆   ┆ ---    ┆ str    ┆ str    ┆        │\n",
       "│         ┆         ┆         ┆        ┆   ┆ str    ┆        ┆        ┆        │\n",
       "╞═════════╪═════════╪═════════╪════════╪═══╪════════╪════════╪════════╪════════╡\n",
       "│ count   ┆ 584977. ┆ 584977  ┆ 584977 ┆ … ┆ 584977 ┆ 584977 ┆ 519749 ┆ 584977 │\n",
       "│         ┆ 0       ┆         ┆        ┆   ┆        ┆        ┆        ┆        │\n",
       "│ null_co ┆ 0.0     ┆ 0       ┆ 0      ┆ … ┆ 0      ┆ 0      ┆ 65228  ┆ 0      │\n",
       "│ unt     ┆         ┆         ┆        ┆   ┆        ┆        ┆        ┆        │\n",
       "│ mean    ┆ 1446.09 ┆ null    ┆ null   ┆ … ┆ 2022-0 ┆ 2022-0 ┆ 2022-0 ┆ 2022-0 │\n",
       "│         ┆ 5166    ┆         ┆        ┆   ┆ 3-24   ┆ 3-24   ┆ 3-15   ┆ 3-24   │\n",
       "│         ┆         ┆         ┆        ┆   ┆ 19:37: ┆ 19:43: ┆ 19:41: ┆ 19:37: │\n",
       "│         ┆         ┆         ┆        ┆   ┆ 30.412 ┆ 12.807 ┆ 02.839 ┆ 30.412 │\n",
       "│         ┆         ┆         ┆        ┆   ┆ 580+00 ┆ 370+00 ┆ 770+00 ┆ 580+00 │\n",
       "│         ┆         ┆         ┆        ┆   ┆ :…     ┆ :…     ┆ :…     ┆ :…     │\n",
       "│ std     ┆ 2171.47 ┆ null    ┆ null   ┆ … ┆ null   ┆ null   ┆ null   ┆ null   │\n",
       "│         ┆ 0812    ┆         ┆        ┆   ┆        ┆        ┆        ┆        │\n",
       "│ min     ┆ 0.0     ┆ cathlam ┆ anacor ┆ … ┆ 2020-0 ┆ 2020-0 ┆ 2020-0 ┆ 2020-0 │\n",
       "│         ┆         ┆ et      ┆ tes    ┆   ┆ 1-01   ┆ 1-01   ┆ 1-01   ┆ 1-01   │\n",
       "│         ┆         ┆         ┆        ┆   ┆ 08:00: ┆ 08:00: ┆ 08:16: ┆ 08:00: │\n",
       "│         ┆         ┆         ┆        ┆   ┆ 00+00: ┆ 56+00: ┆ 26+00: ┆ 00+00: │\n",
       "│         ┆         ┆         ┆        ┆   ┆ 00     ┆ 00     ┆ 00     ┆ 00     │\n",
       "│ 25%     ┆ 29.0    ┆ null    ┆ null   ┆ … ┆ 2021-0 ┆ 2021-0 ┆ 2021-0 ┆ 2021-0 │\n",
       "│         ┆         ┆         ┆        ┆   ┆ 2-17   ┆ 2-17   ┆ 1-20   ┆ 2-17   │\n",
       "│         ┆         ┆         ┆        ┆   ┆ 23:20: ┆ 23:32: ┆ 00:09: ┆ 23:20: │\n",
       "│         ┆         ┆         ┆        ┆   ┆ 00+00: ┆ 10+00: ┆ 22+00: ┆ 00+00: │\n",
       "│         ┆         ┆         ┆        ┆   ┆ 00     ┆ 00     ┆ 00     ┆ 00     │\n",
       "│ 50%     ┆ 35.0    ┆ null    ┆ null   ┆ … ┆ 2022-0 ┆ 2022-0 ┆ 2022-0 ┆ 2022-0 │\n",
       "│         ┆         ┆         ┆        ┆   ┆ 3-27   ┆ 3-27   ┆ 3-05   ┆ 3-27   │\n",
       "│         ┆         ┆         ┆        ┆   ┆ 20:40: ┆ 20:50: ┆ 05:01: ┆ 20:40: │\n",
       "│         ┆         ┆         ┆        ┆   ┆ 00+00: ┆ 18+00: ┆ 54+00: ┆ 00+00: │\n",
       "│         ┆         ┆         ┆        ┆   ┆ 00     ┆ 00     ┆ 00     ┆ 00     │\n",
       "│ 75%     ┆ 2312.0  ┆ null    ┆ null   ┆ … ┆ 2023-0 ┆ 2023-0 ┆ 2023-0 ┆ 2023-0 │\n",
       "│         ┆         ┆         ┆        ┆   ┆ 5-06   ┆ 5-06   ┆ 5-24   ┆ 5-06   │\n",
       "│         ┆         ┆         ┆        ┆   ┆ 18:05: ┆ 18:19: ┆ 18:47: ┆ 18:05: │\n",
       "│         ┆         ┆         ┆        ┆   ┆ 00+00: ┆ 07+00: ┆ 45+00: ┆ 00+00: │\n",
       "│         ┆         ┆         ┆        ┆   ┆ 00     ┆ 00     ┆ 00     ┆ 00     │\n",
       "│ max     ┆ 8007.0  ┆ yakima  ┆ vashon ┆ … ┆ 2024-0 ┆ 2024-0 ┆ 2024-0 ┆ 2024-0 │\n",
       "│         ┆         ┆         ┆        ┆   ┆ 6-04   ┆ 6-04   ┆ 6-04   ┆ 6-04   │\n",
       "│         ┆         ┆         ┆        ┆   ┆ 22:50: ┆ 22:58: ┆ 23:15: ┆ 22:50: │\n",
       "│         ┆         ┆         ┆        ┆   ┆ 00+00: ┆ 11+00: ┆ 51+00: ┆ 00+00: │\n",
       "│         ┆         ┆         ┆        ┆   ┆ 00     ┆ 00     ┆ 00     ┆ 00     │\n",
       "└─────────┴─────────┴─────────┴────────┴───┴────────┴────────┴────────┴────────┘"
      ]
     },
     "execution_count": null,
     "metadata": {},
     "output_type": "execute_result"
    }
   ],
   "source": [
    "vessel_history_clean.describe()"
   ]
  },
  {
   "cell_type": "code",
   "execution_count": 4,
   "metadata": {},
   "outputs": [
    {
     "data": {
      "text/html": [
       "<div><style>\n",
       ".dataframe > thead > tr,\n",
       ".dataframe > tbody > tr {\n",
       "  text-align: right;\n",
       "  white-space: pre-wrap;\n",
       "}\n",
       "</style>\n",
       "<small>shape: (10_000, 4)</small><table border=\"1\" class=\"dataframe\"><thead><tr><th>VesselId</th><th>Departing</th><th>Arriving</th><th>DepartDelay</th></tr><tr><td>str</td><td>str</td><td>str</td><td>duration[μs]</td></tr></thead><tbody><tr><td>&quot;32&quot;</td><td>&quot;vashon&quot;</td><td>&quot;fauntleroy&quot;</td><td>1m 12s</td></tr><tr><td>&quot;32&quot;</td><td>&quot;fauntleroy&quot;</td><td>&quot;vashon&quot;</td><td>1m 37s</td></tr><tr><td>&quot;32&quot;</td><td>&quot;vashon&quot;</td><td>&quot;fauntleroy&quot;</td><td>2m 37s</td></tr><tr><td>&quot;32&quot;</td><td>&quot;fauntleroy&quot;</td><td>&quot;vashon&quot;</td><td>2m 11s</td></tr><tr><td>&quot;32&quot;</td><td>&quot;vashon&quot;</td><td>&quot;southworth&quot;</td><td>1m 1s</td></tr><tr><td>&hellip;</td><td>&hellip;</td><td>&hellip;</td><td>&hellip;</td></tr><tr><td>&quot;32&quot;</td><td>&quot;fauntleroy&quot;</td><td>&quot;vashon&quot;</td><td>1m 10s</td></tr><tr><td>&quot;32&quot;</td><td>&quot;vashon&quot;</td><td>&quot;southworth&quot;</td><td>1m 3s</td></tr><tr><td>&quot;32&quot;</td><td>&quot;southworth&quot;</td><td>&quot;fauntleroy&quot;</td><td>4m</td></tr><tr><td>&quot;32&quot;</td><td>&quot;fauntleroy&quot;</td><td>&quot;vashon&quot;</td><td>1m 4s</td></tr><tr><td>&quot;32&quot;</td><td>&quot;vashon&quot;</td><td>&quot;southworth&quot;</td><td>45s</td></tr></tbody></table></div>"
      ],
      "text/plain": [
       "shape: (10_000, 4)\n",
       "┌──────────┬────────────┬────────────┬──────────────┐\n",
       "│ VesselId ┆ Departing  ┆ Arriving   ┆ DepartDelay  │\n",
       "│ ---      ┆ ---        ┆ ---        ┆ ---          │\n",
       "│ str      ┆ str        ┆ str        ┆ duration[μs] │\n",
       "╞══════════╪════════════╪════════════╪══════════════╡\n",
       "│ 32       ┆ vashon     ┆ fauntleroy ┆ 1m 12s       │\n",
       "│ 32       ┆ fauntleroy ┆ vashon     ┆ 1m 37s       │\n",
       "│ 32       ┆ vashon     ┆ fauntleroy ┆ 2m 37s       │\n",
       "│ 32       ┆ fauntleroy ┆ vashon     ┆ 2m 11s       │\n",
       "│ 32       ┆ vashon     ┆ southworth ┆ 1m 1s        │\n",
       "│ …        ┆ …          ┆ …          ┆ …            │\n",
       "│ 32       ┆ fauntleroy ┆ vashon     ┆ 1m 10s       │\n",
       "│ 32       ┆ vashon     ┆ southworth ┆ 1m 3s        │\n",
       "│ 32       ┆ southworth ┆ fauntleroy ┆ 4m           │\n",
       "│ 32       ┆ fauntleroy ┆ vashon     ┆ 1m 4s        │\n",
       "│ 32       ┆ vashon     ┆ southworth ┆ 45s          │\n",
       "└──────────┴────────────┴────────────┴──────────────┘"
      ]
     },
     "execution_count": null,
     "metadata": {},
     "output_type": "execute_result"
    }
   ],
   "source": [
    "ferry_trips = (\n",
    "    vessel_history_clean.lazy()\n",
    "    .select(\n",
    "        pl.col(\"VesselId\").cast(pl.String),\n",
    "        \"Departing\", \"Arriving\",\n",
    "        (pl.col(\"ActualDepart\") - pl.col(\"ScheduledDepart\")).alias(\"DepartDelay\")\n",
    "    )\n",
    "    .limit(10000)\n",
    "    .collect()\n",
    ")\n",
    "ferry_trips"
   ]
  },
  {
   "cell_type": "code",
   "execution_count": 5,
   "metadata": {},
   "outputs": [
    {
     "name": "stderr",
     "output_type": "stream",
     "text": [
      "Writing pin:\n",
      "Name: 'michael.beigelmacher/ferry_trips'\n",
      "Version: 20240608T015550Z-386df\n"
     ]
    },
    {
     "data": {
      "text/plain": [
       "Meta(title='ferry_trips: a pinned 10000 x 4 DataFrame', description=None, created='20240608T015550Z', pin_hash='386df6b271752836', file='ferry_trips.parquet', file_size=27130, type='parquet', api_version=1, version=VersionRaw(version='546954'), tags=None, name='michael.beigelmacher/ferry_trips', user={}, local={})"
      ]
     },
     "execution_count": null,
     "metadata": {},
     "output_type": "execute_result"
    }
   ],
   "source": [
    "board.pin_write(ferry_trips.to_pandas(), \"michael.beigelmacher/ferry_trips\", type=\"parquet\")"
   ]
  },
  {
   "cell_type": "code",
   "execution_count": 6,
   "metadata": {},
   "outputs": [],
   "source": [
    "X = ferry_trips.select(pl.exclude(\"DepartDelay\"))\n",
    "y = ferry_trips[\"DepartDelay\"].cast(pl.Int64) / 1e6\n",
    "\n",
    "X_train, X_test = X[:-1000], X[-1000:]\n",
    "y_train, y_test = y[:-1000], y[-1000:]"
   ]
  },
  {
   "cell_type": "code",
   "execution_count": 7,
   "metadata": {},
   "outputs": [
    {
     "data": {
      "text/plain": [
       "-0.007275447392961931"
      ]
     },
     "execution_count": null,
     "metadata": {},
     "output_type": "execute_result"
    }
   ],
   "source": [
    "from sklearn.ensemble import RandomForestRegressor\n",
    "from sklearn.preprocessing import OneHotEncoder\n",
    "from sklearn.pipeline import Pipeline\n",
    "\n",
    "enc = OneHotEncoder().fit(X)\n",
    "rf = RandomForestRegressor().fit(enc.transform(X_train), y_train)\n",
    "pipe = Pipeline([(\"encoder\", enc), (\"randomforest\", rf)])\n",
    "pipe.score(X_test, y_test)"
   ]
  },
  {
   "cell_type": "code",
   "execution_count": 8,
   "metadata": {},
   "outputs": [
    {
     "name": "stdout",
     "output_type": "stream",
     "text": [
      "shape: (1, 3)\n",
      "┌──────────┬───────────┬────────────┐\n",
      "│ VesselId ┆ Departing ┆ Arriving   │\n",
      "│ ---      ┆ ---       ┆ ---        │\n",
      "│ str      ┆ str       ┆ str        │\n",
      "╞══════════╪═══════════╪════════════╡\n",
      "│ 32       ┆ vashon    ┆ fauntleroy │\n",
      "└──────────┴───────────┴────────────┘\n",
      "shape: (1, 3)\n",
      "┌──────────┬───────────┬────────────┐\n",
      "│ VesselId ┆ Departing ┆ Arriving   │\n",
      "│ ---      ┆ ---       ┆ ---        │\n",
      "│ str      ┆ str       ┆ str        │\n",
      "╞══════════╪═══════════╪════════════╡\n",
      "│ 32       ┆ vashon    ┆ fauntleroy │\n",
      "└──────────┴───────────┴────────────┘\n"
     ]
    }
   ],
   "source": [
    "print(X[0])"
   ]
  },
  {
   "cell_type": "code",
   "execution_count": 9,
   "metadata": {},
   "outputs": [
    {
     "data": {
      "text/plain": [
       "array([254.0105871])"
      ]
     },
     "execution_count": null,
     "metadata": {},
     "output_type": "execute_result"
    }
   ],
   "source": [
    "pipe.predict(pl.DataFrame(\n",
    "    {\n",
    "        \"VesselId\": [\"32\"],\n",
    "        \"Departing\": [\"vashon\"],\n",
    "        \"Arriving\": [\"fauntleroy\"],\n",
    "    }\n",
    "))"
   ]
  },
  {
   "cell_type": "code",
   "execution_count": 10,
   "metadata": {},
   "outputs": [
    {
     "data": {
      "text/plain": [
       "'A scikit-learn Pipeline model'"
      ]
     },
     "execution_count": null,
     "metadata": {},
     "output_type": "execute_result"
    }
   ],
   "source": [
    "from vetiver import VetiverModel\n",
    "\n",
    "v = VetiverModel(pipe, model_name=\"ferry_delay\", prototype_data=X_train.to_pandas())\n",
    "v.description"
   ]
  },
  {
   "cell_type": "code",
   "execution_count": 11,
   "metadata": {},
   "outputs": [],
   "source": [
    "from vetiver import VetiverAPI\n",
    "\n",
    "app = VetiverAPI(v, check_prototype=True)\n",
    "#app.run()"
   ]
  }
 ],
 "metadata": {
  "language_info": {
   "name": "python"
  }
 },
 "nbformat": 4,
 "nbformat_minor": 2
}

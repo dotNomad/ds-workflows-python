{
 "cells": [
  {
   "cell_type": "markdown",
   "metadata": {},
   "source": [
    "# Model Training\n",
    "\n",
    "In this exercise we will train a model on the ferries and weather sets from earlier today. We'll be using a mix of `polars` and `scikit-learn` for some feature engineering and preprocessing of the data. The model will be deployed to and served from [Posit Connect](https://pub.ferryland.posit.team/) using [`pins`](https://rstudio.github.io/pins-python/) and [`vetiver`](https://rstudio.github.io/vetiver-python/stable/). For this section, we'll be using a [random forest](https://scikit-learn.org/stable/modules/generated/sklearn.ensemble.RandomForestRegressor.html#) model to predict the delay in ferry departures."
   ]
  },
  {
   "cell_type": "markdown",
   "metadata": {},
   "source": [
    "## Preliminaries\n",
    "\n",
    "First we'll load our environment variables from `.env` file and get our Connect username using the [Posit SDK for Python](https://github.com/posit-dev/posit-sdk-py)."
   ]
  },
  {
   "cell_type": "code",
   "execution_count": 15,
   "metadata": {},
   "outputs": [],
   "source": [
    "# Load environment variables from .env.\n",
    "import os\n",
    "from pathlib import Path\n",
    "from dotenv import load_dotenv\n",
    "\n",
    "if Path(\".env\").exists():\n",
    "    load_dotenv()"
   ]
  },
  {
   "cell_type": "code",
   "execution_count": 16,
   "metadata": {},
   "outputs": [
    {
     "name": "stdout",
     "output_type": "stream",
     "text": [
      "brooklynbagel\n"
     ]
    }
   ],
   "source": [
    "# Get Connect username.\n",
    "from posit.connect import Client\n",
    "\n",
    "connect_url = os.environ[\"CONNECT_SERVER\"]\n",
    "connect_api_key = os.environ[\"CONNECT_API_KEY\"]\n",
    "\n",
    "with Client(url=connect_url, api_key=connect_api_key) as client:\n",
    "    username = client.me.username\n",
    "print(username)"
   ]
  },
  {
   "cell_type": "markdown",
   "metadata": {},
   "source": [
    "## Task 0 - Reading the data\n",
    "\n",
    "First we'll read the vessel history, vessel verbose and terminal weather data was that written into the database in the previous sections."
   ]
  },
  {
   "cell_type": "code",
   "execution_count": 17,
   "metadata": {},
   "outputs": [],
   "source": [
    "import polars as pl\n",
    "\n",
    "db_uri = os.environ[\"DATABASE_URI_PYTHON\"]\n",
    "\n",
    "vessel_history = pl.read_database_uri(\n",
    "    query=f\"SELECT * FROM vessel_history_clean;\", uri=db_uri, engine=\"adbc\"\n",
    ")\n",
    "vessel_verbose = pl.read_database_uri(\n",
    "    query=f\"SELECT * FROM vessel_verbose_clean;\", uri=db_uri, engine=\"adbc\"\n",
    ")\n",
    "weather = pl.read_database_uri(\n",
    "    query=f\"SELECT * FROM terminal_weather_clean;\", uri=db_uri, engine=\"adbc\"\n",
    ")"
   ]
  },
  {
   "cell_type": "markdown",
   "metadata": {},
   "source": [
    "Let's take a look at some of the features available that we can train on."
   ]
  },
  {
   "cell_type": "code",
   "execution_count": 18,
   "metadata": {},
   "outputs": [
    {
     "name": "stdout",
     "output_type": "stream",
     "text": [
      "Rows: 536342\n",
      "Columns: 7\n",
      "$ Vessel                        <str> 'cathlamet', 'cathlamet', 'cathlamet', 'cathlamet', 'cathlamet', 'cathlamet', 'cathlamet', 'cathlamet', 'cathlamet', 'cathlamet'\n",
      "$ Departing                     <str> 'vashon island', 'fauntleroy', 'vashon island', 'fauntleroy', 'vashon island', 'southworth', 'vashon island', 'fauntleroy', 'southworth', 'vashon island'\n",
      "$ Arriving                      <str> 'fauntleroy', 'vashon island', 'fauntleroy', 'vashon island', 'southworth', 'vashon island', 'fauntleroy', 'southworth', 'vashon island', 'fauntleroy'\n",
      "$ ScheduledDepart <datetime[μs, UTC]> 2020-01-01 13:40:00+00:00, 2020-01-01 14:10:00+00:00, 2020-01-01 14:35:00+00:00, 2020-01-01 15:05:00+00:00, 2020-01-01 15:30:00+00:00, 2020-01-01 15:55:00+00:00, 2020-01-01 16:15:00+00:00, 2020-01-01 16:45:00+00:00, 2020-01-01 17:20:00+00:00, 2020-01-01 17:40:00+00:00\n",
      "$ ActualDepart    <datetime[μs, UTC]> 2020-01-01 13:41:12+00:00, 2020-01-01 14:11:37+00:00, 2020-01-01 14:37:37+00:00, 2020-01-01 15:07:11+00:00, 2020-01-01 15:31:01+00:00, 2020-01-01 15:56:11+00:00, 2020-01-01 16:16:18+00:00, 2020-01-01 16:46:32+00:00, 2020-01-01 17:20:00+00:00, 2020-01-01 17:42:04+00:00\n",
      "$ EstArrival      <datetime[μs, UTC]> 2020-01-01 13:57:07+00:00, 2020-01-01 14:27:57+00:00, 2020-01-01 14:49:19+00:00, 2020-01-01 15:22:50+00:00, 2020-01-01 15:42:11+00:00, 2020-01-01 16:08:41+00:00, 2020-01-01 16:32:47+00:00, 2020-01-01 17:07:41+00:00, 2020-01-01 17:33:12+00:00, 2020-01-01 17:58:35+00:00\n",
      "$ Date            <datetime[μs, UTC]> 2020-01-01 13:40:00+00:00, 2020-01-01 14:10:00+00:00, 2020-01-01 14:35:00+00:00, 2020-01-01 15:05:00+00:00, 2020-01-01 15:30:00+00:00, 2020-01-01 15:55:00+00:00, 2020-01-01 16:15:00+00:00, 2020-01-01 16:45:00+00:00, 2020-01-01 17:20:00+00:00, 2020-01-01 17:40:00+00:00\n",
      "\n"
     ]
    }
   ],
   "source": [
    "vessel_history.glimpse()"
   ]
  },
  {
   "cell_type": "code",
   "execution_count": 19,
   "metadata": {},
   "outputs": [
    {
     "name": "stdout",
     "output_type": "stream",
     "text": [
      "Rows: 21\n",
      "Columns: 44\n",
      "$ VesselID                           <i64> 1, 2, 65, 74, 15, 17, 52, 18, 19, 25\n",
      "$ VesselSubjectID                    <i64> 1, 2, 428, 487, 15, 17, 52, 18, 19, 25\n",
      "$ VesselName                         <str> 'cathlamet', 'chelan', 'chetzemoka', 'chimacum', 'issaquah', 'kaleetan', 'kennewick', 'kitsap', 'kittitas', 'puyallup'\n",
      "$ VesselAbbrev                       <str> 'cat', 'che', 'chz', 'chm', 'iss', 'kal', 'ken', 'kis', 'kit', 'puy'\n",
      "$ ClassID                            <i64> 10, 10, 162, 100, 10, 50, 162, 10, 10, 90\n",
      "$ ClassSubjectID                     <i64> 310, 310, 427, 319, 310, 314, 427, 310, 310, 318\n",
      "$ ClassName                          <str> 'issaquah 130', 'issaquah 130', 'kwa-di tabil', 'olympic', 'issaquah 130', 'super', 'kwa-di tabil', 'issaquah 130', 'issaquah 130', 'jumbo mark ii'\n",
      "$ SortSeq                            <i64> 40, 40, 75, 35, 40, 30, 75, 40, 40, 10\n",
      "$ DrawingImg                         <str> 'https://www.wsdot.wa.gov/ferries/images/pages/boat_drawings/4-issaquah130.gif', 'https://www.wsdot.wa.gov/ferries/images/pages/boat_drawings/4-issaquah130.gif', 'https://www.wsdot.wa.gov/ferries/images/pages/boat_drawings/13-kwaditabil.gif', 'https://www.wsdot.wa.gov/ferries/images/pages/boat_drawings/8-olympic-2014.gif', 'https://www.wsdot.wa.gov/ferries/images/pages/boat_drawings/4-issaquah130.gif', 'https://www.wsdot.wa.gov/ferries/images/pages/boat_drawings/2-super.gif', 'https://www.wsdot.wa.gov/ferries/images/pages/boat_drawings/13-kwaditabil.gif', 'https://www.wsdot.wa.gov/ferries/images/pages/boat_drawings/4-issaquah130.gif', 'https://www.wsdot.wa.gov/ferries/images/pages/boat_drawings/4-issaquah130.gif', 'https://www.wsdot.wa.gov/ferries/images/pages/boat_drawings/0-mark2.gif'\n",
      "$ SilhouetteImg                      <str> 'https://www.wsdot.wa.gov/ferries/images/pages/boat_drawings/4-issaquah130-sillouette_sml.gif', 'https://www.wsdot.wa.gov/ferries/images/pages/boat_drawings/4-issaquah130-sillouette_sml.gif', 'https://www.wsdot.wa.gov/ferries/images/pages/boat_drawings/13-kwaditabil-silouette_sml.gif', 'https://www.wsdot.wa.gov/ferries/images/pages/boat_drawings/3-issaquah-sillouette_sml.gif', 'https://www.wsdot.wa.gov/ferries/images/pages/boat_drawings/4-issaquah130-sillouette_sml.gif', 'https://www.wsdot.wa.gov/ferries/images/pages/boat_drawings/2-super-sillouette_sml.gif', 'https://www.wsdot.wa.gov/ferries/images/pages/boat_drawings/13-kwaditabil-silouette_sml.gif', 'https://www.wsdot.wa.gov/ferries/images/pages/boat_drawings/4-issaquah130-sillouette_sml.gif', 'https://www.wsdot.wa.gov/ferries/images/pages/boat_drawings/4-issaquah130-sillouette_sml.gif', 'https://www.wsdot.wa.gov/ferries/images/pages/boat_drawings/0-mark2-sillouette_sml.gif'\n",
      "$ PublicDisplayName                  <str> 'Issaquah', 'Issaquah', 'Kwa-di Tabil', 'Olympic', 'Issaquah', 'Super', 'Kwa-di Tabil', 'Issaquah', 'Issaquah', 'Jumbo Mark II'\n",
      "$ Status                             <i64> 1, 1, 1, 1, 1, 1, 1, 1, 1, 1\n",
      "$ OwnedByWSF                        <bool> True, True, True, True, True, True, True, True, True, True\n",
      "$ CarDeckRestroom                   <bool> True, True, False, True, True, True, False, True, True, False\n",
      "$ CarDeckShelter                    <bool> False, False, False, True, False, True, False, False, False, False\n",
      "$ Elevator                          <bool> True, True, True, True, True, True, True, True, True, True\n",
      "$ ADAAccessible                     <bool> True, True, True, True, True, True, True, True, True, True\n",
      "$ MainCabinGalley                   <bool> True, True, True, True, True, True, True, True, True, True\n",
      "$ MainCabinRestroom                 <bool> True, True, True, True, True, True, True, True, True, True\n",
      "$ PublicWifi                        <bool> False, False, False, False, False, False, False, False, False, False\n",
      "$ ADAInfo                            <str> 'The MV Cathlamet has elevator access from the auto deck to the passenger deck. Notify a ticket seller if you are traveling by car and need to park near an elevator. The vessel has accessible restrooms located on both the main passenger deck and the auto deck. The main passenger deck also has vending and newspaper machines, and a galley. This vessel is equipped with our visual paging system. ', 'The MV Chelan has elevator access from the auto deck to the passenger deck. Notify a ticket seller if you are traveling by car and need to park near an elevator. The vessel has accessible restrooms located on both the main passenger deck and auto deck. The main passenger deck also has vending and newspaper machines and a galley. ', 'MV Chetzemoka has elevator access from the auto deck to all passenger deck levels. In the event of an elevator closure, a crew member can assist passengers with mobility disabilities to the passenger deck by way of a small freight elevator, though it is not ADA accessible. When you arrive at the terminal, notify the ticket seller if you need to park near the elevator. The main passenger deck has accessible restrooms, vending machines, and a galley.', 'The vessel has two ADA compliant elevators and wide staircases that provide access from both car decks to both passenger decks. The main passenger deck and the sun deck have accessible restrooms and there are 12 wheelchair spaces available in the main passenger cabin. There is a galley, and vending and newspaper machines on the main passenger deck. This vessel is equipped with our visual paging system. Notify ticket seller if you are traveling by car and need to park near an elevator.', 'The MV Issaquah has elevator access from the auto deck to the passenger deck. Notify a ticket seller if you are traveling by car and need to park near an elevator. The vessel has accessible restrooms located on both the main passenger deck and the auto deck. The main passenger deck also has vending and newspaper machines. Dining areas have a minimum 32\" clearance, food service counters are 34\" from the floor and tables have specific wheelchair areas.', 'The MV Kaleetan has an elevator from both auto deck levels to the main passenger cabin and the upper level passenger deck. Restrooms are accessible on both passenger decks and the lower auto deck. There are limited vending and newspaper machines on the main deck, and a galley on the upper passenger deck. When you arrive at the terminal, notify the ticket seller if you need to park near the elevator.  This vessel is equipped with our visual paging system.', 'MV Kennewick has elevator access from the auto deck to all passenger deck levels. In the event of an elevator closure, a crew member can assist passengers with mobility disabilities to the passenger deck by way of a small freight elevator, though it is not ADA accessible. When you arrive at the terminal, notify the ticket seller if you need to park near the elevator. The main passenger deck has accessible restrooms, vending machines, and a galley.', 'The MV Kitsap has elevator access from the auto deck to the passenger deck. Notify a ticket seller if you are traveling by car and need to park near an elevator. The vessel has accessible restrooms located on both the main passenger deck and the auto deck. The main passenger deck also has vending and newspaper machines, and a galley. This vessel is equipped with our visual paging system.', 'The MV Kittitas has elevator access from the auto deck to the passenger deck. Notify a ticket seller if you are traveling by car and need to park near an elevator. The vessel has accessible restrooms located on both the main passenger deck and the auto deck. The main passenger deck also has vending and newspaper machines, and a galley. This vessel is equipped with our visual paging system. ', 'The MV Puyallup has elevator access from both auto deck levels to all of the passenger cabin areas.  Accessible restrooms are on the main passenger deck and on the sun deck. If you are traveling by car and want to park near the elevator, be sure to let the ticket seller know. The main passenger deck also has vending and newspaper machines and a galley. This vessel is equipped with our visual paging system.'\n",
      "$ AdditionalInfo                     <str> None, None, None, None, None, None, None, None, None, '28 December 1998\\r\\nTodd Pacific Shipyards Corporation\\r\\n1801 16th Ave. SW\\r\\nSeattle, WA  98134\\r\\nRe:\\tContract No. 00-4464, Jumbo Mark II Construction\\r\\nAttn:\\tBruce Adams, Program Manager\\r\\nRef:\\tM/V PUYALLUP DELIVERY\\r\\nThis letter is to document Delivery of the M/V PUYALLUP from Todd Pacific Shipyards Corporation (Todd) to the Washington State Ferries (WSF) at 0900, on 28 December 1998, alongside Todd’s Pier 1, Berth B, establishing the Delivery Date and the Substantial Completion Date as 28 December 1998.\\r\\n'\n",
      "$ VesselNameDesc                     <str> 'From the Kathlamet tribe, the Chinook  word calamet  meaning \"stone,\" was given to the tribe because its members lived along a rocky stretch of the Columbia River. A city also bears its name. \\r\\n\\r\\n', 'From the Chelan  language: Tsill-ane,  meaning \"deep water.\" The tribe lived along Lake Chelan, which is very deep. A city, county and river also bear the name. \\r\\n', \"The name honors a friendly Native American Chief of the S'Klallam Tribe near the Port Townsend area who died in 1888.\", '“The Chimacum People who spoke the Chimaquan dialect, inhabited the area of the Quimper Peninsula, in Washington State, which includes Port Hadlock and Port Townsend. The modern area of Chimacum, Washington, is named after the Tribe.”', '\"Snake.\" Native Americans who traveled around the Issaquah region called it Sqwak because of the squawking sounds of the birds. The natives habitually said \"ish\" before words, forming the word \"isquowh,\" which when spelled by settlers became Issaquah. \\r\\n', 'Native American/Chinook: \"arrow.\" ', 'Kennewick –Sah-ap-tin, Plains dialect: “winter paradise; winter haven; grassy place; grassy slope”', \"A Suquamish tribal Chief in the 1800's. A county is also named after him. \\r\\n\", 'Tribe of \"shoal people\" who lived along the shallow portion of the Yakima River near Ellensburg. A county and town are also named after the tribe. \\r\\n', 'From the Puyallup language: \"generous people.\" The Puyallup tribe had a reputation for generosity in dealing with traders and travelers. Early settler Ezra Meeker renamed his town from Franklin in 1877 looking for something unique. Besides the tribe and town, Puyallup is also used on a river and a Mt. Rainier glacier. \\r\\n'\n",
      "$ VesselHistory                      <str> None, None, None, 'Chimacum is the third of the 144-car, Olympic Class ferries scheduled to begin service in June 2017.', None, None, None, None, None, 'Todd Shipyard Delivery Date: 23 December 1998\\r\\nKeel Laid Date: 29 August 1997\\r\\n\\r\\n'\n",
      "$ CityBuilt                          <str> 'seattle, wa', 'seattle, wa', 'seattle', 'seattle, wa', 'seattle, wa', 'san diego, ca', 'seattle', 'seattle, wa', 'seattle, wa', 'seattle, wa'\n",
      "$ SpeedInKnots                       <i64> 16, 16, 15, 17, 16, 17, 15, 16, 16, 18\n",
      "$ EngineCount                        <i64> 2, 2, 2, 2, 2, 4, 2, 2, 2, 4\n",
      "$ Horsepower                         <i64> 5000, 5000, 6000, 6000, 5000, 8000, 6000, 5000, 5000, 16000\n",
      "$ MaxPassengerCount                  <i64> 1200, 1200, 748, 1500, 1200, 1868, 748, 1200, 1200, 2499\n",
      "$ PassengerOnly                     <bool> False, False, False, False, False, False, False, False, False, False\n",
      "$ FastFerry                         <bool> False, False, False, False, False, False, False, False, False, False\n",
      "$ PropulsionInfo                     <str> 'diesel', 'diesel', 'diesel', 'diesel', 'diesel', 'diesel-electric (dc)', 'diesel', 'diesel', 'diesel', 'diesel-electric (ac)'\n",
      "$ TallDeckClearance                  <i64> 186, 188, 192, 192, 188, 173, 192, 186, 190, 186\n",
      "$ RegDeckSpace                       <i64> 124, 124, 64, 144, 124, 144, 64, 124, 124, 202\n",
      "$ TallDeckSpace                      <i64> 26, 30, 9, 34, 26, 30, 9, 26, 26, 60\n",
      "$ Tonnage                            <i64> 2477, 2477, 4623, 3525, 2475, 2704, 4623, 2475, 2475, 4938\n",
      "$ Displacement                       <i64> 3310, 3405, 2415, 4384, 3310, 3634, 2415, 3310, 3310, 6184\n",
      "$ YearBuilt                         <date> 1981-01-01, 1981-01-01, 2010-01-01, 2017-01-01, 1979-01-01, 1967-01-01, 2011-01-01, 1980-01-01, 1980-01-01, 1999-01-01\n",
      "$ YearRebuilt                       <date> 1993-01-01, 2005-01-01, None, None, 1989-01-01, 1999-01-01, None, 1992-01-01, 1990-01-01, None\n",
      "$ SolasCertified                    <bool> False, True, False, False, False, False, False, False, False, False\n",
      "$ MaxPassengerCountForInternational  <i64> None, 1090, None, None, None, None, None, None, None, None\n",
      "$ BeamInches                         <i64> 944, 944, 768, 998, 944, 878, 768, 944, 944, 1080\n",
      "$ LengthInches                       <i64> 3936, 3936, 3284, 4347, 3936, 4586, 3284, 3936, 3936, 5522\n",
      "$ DraftInches                        <i64> 198, 201, 132, 216, 198, 222, 132, 198, 198, 207\n",
      "\n"
     ]
    }
   ],
   "source": [
    "vessel_verbose.glimpse()"
   ]
  },
  {
   "cell_type": "code",
   "execution_count": 20,
   "metadata": {},
   "outputs": [
    {
     "name": "stdout",
     "output_type": "stream",
     "text": [
      "Rows: 800160\n",
      "Columns: 16\n",
      "$ latitude                            <f64> 48.541298, 48.541298, 48.541298, 48.541298, 48.541298, 48.541298, 48.541298, 48.541298, 48.541298, 48.541298\n",
      "$ longitude                           <f64> -122.727264, -122.727264, -122.727264, -122.727264, -122.727264, -122.727264, -122.727264, -122.727264, -122.727264, -122.727264\n",
      "$ generationtime_ms                   <f64> 0.2510547637939453, 0.2510547637939453, 0.2510547637939453, 0.2510547637939453, 0.2510547637939453, 0.2510547637939453, 0.2510547637939453, 0.2510547637939453, 0.2510547637939453, 0.2510547637939453\n",
      "$ utc_offset_seconds                  <i64> 0, 0, 0, 0, 0, 0, 0, 0, 0, 0\n",
      "$ timezone                            <str> 'gmt', 'gmt', 'gmt', 'gmt', 'gmt', 'gmt', 'gmt', 'gmt', 'gmt', 'gmt'\n",
      "$ timezone_abbreviation               <str> 'gmt', 'gmt', 'gmt', 'gmt', 'gmt', 'gmt', 'gmt', 'gmt', 'gmt', 'gmt'\n",
      "$ elevation                           <f64> 0.0, 0.0, 0.0, 0.0, 0.0, 0.0, 0.0, 0.0, 0.0, 0.0\n",
      "$ time                  <datetime[μs, UTC]> 2020-01-01 00:00:00+00:00, 2020-01-01 01:00:00+00:00, 2020-01-01 02:00:00+00:00, 2020-01-01 03:00:00+00:00, 2020-01-01 04:00:00+00:00, 2020-01-01 05:00:00+00:00, 2020-01-01 06:00:00+00:00, 2020-01-01 07:00:00+00:00, 2020-01-01 08:00:00+00:00, 2020-01-01 09:00:00+00:00\n",
      "$ weather_code                        <i64> 53, 53, 53, 53, 53, 55, 53, 1, 1, 51\n",
      "$ temperature_2m                      <f64> 8.6, 8.7, 8.9, 8.9, 10.3, 10.1, 9.9, 9.9, 9.8, 9.6\n",
      "$ precipitation                       <f64> 0.5, 0.8, 0.6, 0.6, 0.6, 1.1, 0.6, 0.0, 0.0, 0.1\n",
      "$ cloud_cover                         <i64> 100, 100, 100, 100, 64, 100, 27, 45, 42, 90\n",
      "$ wind_speed_10m                      <f64> 42.4, 42.5, 38.2, 32.5, 40.5, 46.9, 51.4, 47.5, 57.9, 54.4\n",
      "$ wind_direction_10m                  <i64> 145, 152, 166, 175, 225, 236, 242, 241, 247, 244\n",
      "$ wind_gusts_10m                      <f64> 43.9, 90.7, 56.5, 76.3, 52.2, 64.8, 69.1, 69.1, 75.6, 77.8\n",
      "$ terminal_name                       <str> 'anacortes', 'anacortes', 'anacortes', 'anacortes', 'anacortes', 'anacortes', 'anacortes', 'anacortes', 'anacortes', 'anacortes'\n",
      "\n"
     ]
    }
   ],
   "source": [
    "weather.glimpse()"
   ]
  },
  {
   "cell_type": "markdown",
   "metadata": {},
   "source": [
    "## Task 1 - Feature Engineering\n",
    "\n",
    "We're interested in modeling what the departure delay for a given ferry trip might be. While there is no delay column, we can derive it using the `ActualDepart` and `ScheduleDepart` columns. \n",
    "\n",
    "We're also interested in separating out the `Date` column into year, month, weekday and hour components in order for our model to pick up on these features."
   ]
  },
  {
   "cell_type": "code",
   "execution_count": 21,
   "metadata": {},
   "outputs": [
    {
     "data": {
      "text/html": [
       "<div><style>\n",
       ".dataframe > thead > tr,\n",
       ".dataframe > tbody > tr {\n",
       "  text-align: right;\n",
       "  white-space: pre-wrap;\n",
       "}\n",
       "</style>\n",
       "<small>shape: (536_342, 9)</small><table border=\"1\" class=\"dataframe\"><thead><tr><th>Vessel</th><th>Departing</th><th>Arriving</th><th>Delay</th><th>Date</th><th>Year</th><th>Month</th><th>Weekday</th><th>Hour</th></tr><tr><td>str</td><td>str</td><td>str</td><td>i64</td><td>datetime[μs, UTC]</td><td>i32</td><td>i8</td><td>i8</td><td>i8</td></tr></thead><tbody><tr><td>&quot;cathlamet&quot;</td><td>&quot;vashon island&quot;</td><td>&quot;fauntleroy&quot;</td><td>72</td><td>2020-01-01 13:40:00 UTC</td><td>2020</td><td>1</td><td>3</td><td>13</td></tr><tr><td>&quot;cathlamet&quot;</td><td>&quot;fauntleroy&quot;</td><td>&quot;vashon island&quot;</td><td>97</td><td>2020-01-01 14:10:00 UTC</td><td>2020</td><td>1</td><td>3</td><td>14</td></tr><tr><td>&quot;cathlamet&quot;</td><td>&quot;vashon island&quot;</td><td>&quot;fauntleroy&quot;</td><td>157</td><td>2020-01-01 14:35:00 UTC</td><td>2020</td><td>1</td><td>3</td><td>14</td></tr><tr><td>&quot;cathlamet&quot;</td><td>&quot;fauntleroy&quot;</td><td>&quot;vashon island&quot;</td><td>131</td><td>2020-01-01 15:05:00 UTC</td><td>2020</td><td>1</td><td>3</td><td>15</td></tr><tr><td>&quot;cathlamet&quot;</td><td>&quot;vashon island&quot;</td><td>&quot;southworth&quot;</td><td>61</td><td>2020-01-01 15:30:00 UTC</td><td>2020</td><td>1</td><td>3</td><td>15</td></tr><tr><td>&hellip;</td><td>&hellip;</td><td>&hellip;</td><td>&hellip;</td><td>&hellip;</td><td>&hellip;</td><td>&hellip;</td><td>&hellip;</td><td>&hellip;</td></tr><tr><td>&quot;yakima&quot;</td><td>&quot;shaw island&quot;</td><td>&quot;anacortes&quot;</td><td>4949</td><td>2024-07-25 00:30:00 UTC</td><td>2024</td><td>7</td><td>4</td><td>0</td></tr><tr><td>&quot;yakima&quot;</td><td>&quot;orcas island&quot;</td><td>&quot;shaw island&quot;</td><td>872</td><td>2024-07-25 01:20:00 UTC</td><td>2024</td><td>7</td><td>4</td><td>1</td></tr><tr><td>&quot;yakima&quot;</td><td>&quot;anacortes&quot;</td><td>&quot;lopez island&quot;</td><td>638</td><td>2024-07-25 04:00:00 UTC</td><td>2024</td><td>7</td><td>4</td><td>4</td></tr><tr><td>&quot;yakima&quot;</td><td>&quot;lopez island&quot;</td><td>&quot;shaw island&quot;</td><td>902</td><td>2024-07-25 04:50:00 UTC</td><td>2024</td><td>7</td><td>4</td><td>4</td></tr><tr><td>&quot;yakima&quot;</td><td>&quot;shaw island&quot;</td><td>&quot;orcas island&quot;</td><td>957</td><td>2024-07-25 05:10:00 UTC</td><td>2024</td><td>7</td><td>4</td><td>5</td></tr></tbody></table></div>"
      ],
      "text/plain": [
       "shape: (536_342, 9)\n",
       "┌───────────┬───────────────┬───────────────┬───────┬───┬──────┬───────┬─────────┬──────┐\n",
       "│ Vessel    ┆ Departing     ┆ Arriving      ┆ Delay ┆ … ┆ Year ┆ Month ┆ Weekday ┆ Hour │\n",
       "│ ---       ┆ ---           ┆ ---           ┆ ---   ┆   ┆ ---  ┆ ---   ┆ ---     ┆ ---  │\n",
       "│ str       ┆ str           ┆ str           ┆ i64   ┆   ┆ i32  ┆ i8    ┆ i8      ┆ i8   │\n",
       "╞═══════════╪═══════════════╪═══════════════╪═══════╪═══╪══════╪═══════╪═════════╪══════╡\n",
       "│ cathlamet ┆ vashon island ┆ fauntleroy    ┆ 72    ┆ … ┆ 2020 ┆ 1     ┆ 3       ┆ 13   │\n",
       "│ cathlamet ┆ fauntleroy    ┆ vashon island ┆ 97    ┆ … ┆ 2020 ┆ 1     ┆ 3       ┆ 14   │\n",
       "│ cathlamet ┆ vashon island ┆ fauntleroy    ┆ 157   ┆ … ┆ 2020 ┆ 1     ┆ 3       ┆ 14   │\n",
       "│ cathlamet ┆ fauntleroy    ┆ vashon island ┆ 131   ┆ … ┆ 2020 ┆ 1     ┆ 3       ┆ 15   │\n",
       "│ cathlamet ┆ vashon island ┆ southworth    ┆ 61    ┆ … ┆ 2020 ┆ 1     ┆ 3       ┆ 15   │\n",
       "│ …         ┆ …             ┆ …             ┆ …     ┆ … ┆ …    ┆ …     ┆ …       ┆ …    │\n",
       "│ yakima    ┆ shaw island   ┆ anacortes     ┆ 4949  ┆ … ┆ 2024 ┆ 7     ┆ 4       ┆ 0    │\n",
       "│ yakima    ┆ orcas island  ┆ shaw island   ┆ 872   ┆ … ┆ 2024 ┆ 7     ┆ 4       ┆ 1    │\n",
       "│ yakima    ┆ anacortes     ┆ lopez island  ┆ 638   ┆ … ┆ 2024 ┆ 7     ┆ 4       ┆ 4    │\n",
       "│ yakima    ┆ lopez island  ┆ shaw island   ┆ 902   ┆ … ┆ 2024 ┆ 7     ┆ 4       ┆ 4    │\n",
       "│ yakima    ┆ shaw island   ┆ orcas island  ┆ 957   ┆ … ┆ 2024 ┆ 7     ┆ 4       ┆ 5    │\n",
       "└───────────┴───────────────┴───────────────┴───────┴───┴──────┴───────┴─────────┴──────┘"
      ]
     },
     "execution_count": 21,
     "metadata": {},
     "output_type": "execute_result"
    }
   ],
   "source": [
    "ferry_trips = vessel_history.select(\n",
    "    pl.col(\"Vessel\", \"Departing\", \"Arriving\"),\n",
    "    (pl.col(\"ActualDepart\") - pl.col(\"ScheduledDepart\"))\n",
    "    .dt.total_seconds()\n",
    "    .alias(\"Delay\"),\n",
    "    pl.col(\"Date\"),\n",
    "    pl.col(\"Date\").dt.year().alias(\"Year\"),\n",
    "    pl.col(\"Date\").dt.month().alias(\"Month\"),\n",
    "    pl.col(\"Date\").dt.weekday().alias(\"Weekday\"),\n",
    "    pl.col(\"Date\").dt.hour().alias(\"Hour\"),\n",
    ")\n",
    "ferry_trips"
   ]
  },
  {
   "cell_type": "markdown",
   "metadata": {},
   "source": [
    "A quick look at the `Delay` data shows that there's significant skew and even some negative delays."
   ]
  },
  {
   "cell_type": "code",
   "execution_count": 22,
   "metadata": {},
   "outputs": [
    {
     "data": {},
     "metadata": {},
     "output_type": "display_data"
    },
    {
     "data": {
      "application/vnd.holoviews_exec.v0+json": "",
      "text/html": [
       "<div id='p1136'>\n",
       "  <div id=\"af9353d5-2904-409a-9549-ba242e70d0ee\" data-root-id=\"p1136\" style=\"display: contents;\"></div>\n",
       "</div>\n",
       "<script type=\"application/javascript\">(function(root) {\n",
       "  var docs_json = {\"fc6972b4-a2af-428d-b6ca-970e62c73add\":{\"version\":\"3.4.1\",\"title\":\"Bokeh Application\",\"roots\":[{\"type\":\"object\",\"name\":\"Row\",\"id\":\"p1136\",\"attributes\":{\"name\":\"Row01156\",\"tags\":[\"embedded\"],\"stylesheets\":[\"\\n:host(.pn-loading):before, .pn-loading:before {\\n  background-color: #c3c3c3;\\n  mask-size: auto calc(min(50%, 400px));\\n  -webkit-mask-size: auto calc(min(50%, 400px));\\n}\",{\"type\":\"object\",\"name\":\"ImportedStyleSheet\",\"id\":\"p1139\",\"attributes\":{\"url\":\"https://cdn.holoviz.org/panel/1.4.4/dist/css/loading.css\"}},{\"type\":\"object\",\"name\":\"ImportedStyleSheet\",\"id\":\"p1195\",\"attributes\":{\"url\":\"https://cdn.holoviz.org/panel/1.4.4/dist/css/listpanel.css\"}},{\"type\":\"object\",\"name\":\"ImportedStyleSheet\",\"id\":\"p1137\",\"attributes\":{\"url\":\"https://cdn.holoviz.org/panel/1.4.4/dist/bundled/theme/default.css\"}},{\"type\":\"object\",\"name\":\"ImportedStyleSheet\",\"id\":\"p1138\",\"attributes\":{\"url\":\"https://cdn.holoviz.org/panel/1.4.4/dist/bundled/theme/native.css\"}}],\"min_width\":700,\"margin\":0,\"sizing_mode\":\"stretch_width\",\"align\":\"start\",\"children\":[{\"type\":\"object\",\"name\":\"Spacer\",\"id\":\"p1140\",\"attributes\":{\"name\":\"HSpacer01163\",\"stylesheets\":[\"\\n:host(.pn-loading):before, .pn-loading:before {\\n  background-color: #c3c3c3;\\n  mask-size: auto calc(min(50%, 400px));\\n  -webkit-mask-size: auto calc(min(50%, 400px));\\n}\",{\"id\":\"p1139\"},{\"id\":\"p1137\"},{\"id\":\"p1138\"}],\"margin\":0,\"sizing_mode\":\"stretch_width\",\"align\":\"start\"}},{\"type\":\"object\",\"name\":\"Figure\",\"id\":\"p1148\",\"attributes\":{\"width\":700,\"height\":300,\"margin\":[5,10],\"sizing_mode\":\"fixed\",\"align\":\"start\",\"x_range\":{\"type\":\"object\",\"name\":\"Range1d\",\"id\":\"p1141\",\"attributes\":{\"tags\":[[[\"Delay\",\"Delay\",null]],[]],\"start\":-2185.714285714286,\"end\":7585.714285714285,\"reset_start\":-2185.714285714286,\"reset_end\":7585.714285714285}},\"y_range\":{\"type\":\"object\",\"name\":\"Range1d\",\"id\":\"p1142\",\"attributes\":{\"tags\":[[[\"Delay_count\",\"Count\",null]],{\"type\":\"map\",\"entries\":[[\"invert_yaxis\",false],[\"autorange\",false]]}],\"end\":413712.4,\"reset_start\":0.0,\"reset_end\":413712.4}},\"x_scale\":{\"type\":\"object\",\"name\":\"LinearScale\",\"id\":\"p1158\"},\"y_scale\":{\"type\":\"object\",\"name\":\"LinearScale\",\"id\":\"p1159\"},\"title\":{\"type\":\"object\",\"name\":\"Title\",\"id\":\"p1151\",\"attributes\":{\"text_color\":\"black\",\"text_font_size\":\"12pt\"}},\"renderers\":[{\"type\":\"object\",\"name\":\"GlyphRenderer\",\"id\":\"p1188\",\"attributes\":{\"data_source\":{\"type\":\"object\",\"name\":\"ColumnDataSource\",\"id\":\"p1179\",\"attributes\":{\"selected\":{\"type\":\"object\",\"name\":\"Selection\",\"id\":\"p1180\",\"attributes\":{\"indices\":[],\"line_indices\":[]}},\"selection_policy\":{\"type\":\"object\",\"name\":\"UnionRenderers\",\"id\":\"p1181\"},\"data\":{\"type\":\"map\",\"entries\":[[\"top\",{\"type\":\"ndarray\",\"array\":{\"type\":\"bytes\",\"data\":\"LwAAACsAAAAqAAAARwAAAJsAAADVGwAAKr0FANr5AABAfAAAqUgAANQuAADIHQAAeBQAAOQNAABbCgAA3AYAAHMEAABHAwAAvAIAADQCAACuAQAAggEAADEBAAD3AAAA2wAAALEAAACfAAAAcQAAAG4AAAA+AAAA\"},\"shape\":[30],\"dtype\":\"int32\",\"order\":\"little\"}],[\"left\",{\"type\":\"ndarray\",\"array\":{\"type\":\"bytes\",\"data\":\"AAAAAAAgnMAAAAAAAHCXwAAAAAAAwJLAAAAAAAAgjMAAAAAAAMCCwAAAAAAAwHLAAAAAAAAAAAAAAAAAAMByQAAAAAAAwIJAAAAAAAAgjEAAAAAAAMCSQAAAAAAAcJdAAAAAAAAgnEAAAAAAAGigQAAAAAAAwKJAAAAAAAAYpUAAAAAAAHCnQAAAAAAAyKlAAAAAAAAgrEAAAAAAAHiuQAAAAAAAaLBAAAAAAACUsUAAAAAAAMCyQAAAAAAA7LNAAAAAAAAYtUAAAAAAAES2QAAAAAAAcLdAAAAAAACcuEAAAAAAAMi5QAAAAAAA9LpA\"},\"shape\":[30],\"dtype\":\"float64\",\"order\":\"little\"}],[\"right\",{\"type\":\"ndarray\",\"array\":{\"type\":\"bytes\",\"data\":\"AAAAAABwl8AAAAAAAMCSwAAAAAAAIIzAAAAAAADAgsAAAAAAAMBywAAAAAAAAAAAAAAAAADAckAAAAAAAMCCQAAAAAAAIIxAAAAAAADAkkAAAAAAAHCXQAAAAAAAIJxAAAAAAABooEAAAAAAAMCiQAAAAAAAGKVAAAAAAABwp0AAAAAAAMipQAAAAAAAIKxAAAAAAAB4rkAAAAAAAGiwQAAAAAAAlLFAAAAAAADAskAAAAAAAOyzQAAAAAAAGLVAAAAAAABEtkAAAAAAAHC3QAAAAAAAnLhAAAAAAADIuUAAAAAAAPS6QAAAAAAAILxA\"},\"shape\":[30],\"dtype\":\"float64\",\"order\":\"little\"}],[\"Delay\",{\"type\":\"ndarray\",\"array\":{\"type\":\"bytes\",\"data\":\"AAAAAADImcAAAAAAABiVwAAAAAAAaJDAAAAAAABwh8AAAAAAACB8wAAAAAAAwGLAAAAAAADAYkAAAAAAACB8QAAAAAAAcIdAAAAAAABokEAAAAAAABiVQAAAAAAAyJlAAAAAAAB4nkAAAAAAAJShQAAAAAAA7KNAAAAAAABEpkAAAAAAAJyoQAAAAAAA9KpAAAAAAABMrUAAAAAAAKSvQAAAAAAA/rBAAAAAAAAqskAAAAAAAFazQAAAAAAAgrRAAAAAAACutUAAAAAAANq2QAAAAAAABrhAAAAAAAAyuUAAAAAAAF66QAAAAAAAirtA\"},\"shape\":[30],\"dtype\":\"float64\",\"order\":\"little\"}],[\"Delay_count\",{\"type\":\"ndarray\",\"array\":{\"type\":\"bytes\",\"data\":\"LwAAACsAAAAqAAAARwAAAJsAAADVGwAAKr0FANr5AABAfAAAqUgAANQuAADIHQAAeBQAAOQNAABbCgAA3AYAAHMEAABHAwAAvAIAADQCAACuAQAAggEAADEBAAD3AAAA2wAAALEAAACfAAAAcQAAAG4AAAA+AAAA\"},\"shape\":[30],\"dtype\":\"int32\",\"order\":\"little\"}]]}}},\"view\":{\"type\":\"object\",\"name\":\"CDSView\",\"id\":\"p1189\",\"attributes\":{\"filter\":{\"type\":\"object\",\"name\":\"AllIndices\",\"id\":\"p1190\"}}},\"glyph\":{\"type\":\"object\",\"name\":\"Quad\",\"id\":\"p1185\",\"attributes\":{\"tags\":[\"apply_ranges\"],\"left\":{\"type\":\"field\",\"field\":\"left\"},\"right\":{\"type\":\"field\",\"field\":\"right\"},\"bottom\":{\"type\":\"value\",\"value\":0},\"top\":{\"type\":\"field\",\"field\":\"top\"},\"fill_color\":{\"type\":\"value\",\"value\":\"#30a2da\"},\"hatch_color\":{\"type\":\"value\",\"value\":\"#30a2da\"}}},\"selection_glyph\":{\"type\":\"object\",\"name\":\"Quad\",\"id\":\"p1191\",\"attributes\":{\"tags\":[\"apply_ranges\"],\"left\":{\"type\":\"field\",\"field\":\"left\"},\"right\":{\"type\":\"field\",\"field\":\"right\"},\"bottom\":{\"type\":\"value\",\"value\":0},\"top\":{\"type\":\"field\",\"field\":\"top\"},\"line_color\":{\"type\":\"value\",\"value\":\"black\"},\"line_alpha\":{\"type\":\"value\",\"value\":1.0},\"line_width\":{\"type\":\"value\",\"value\":1},\"line_join\":{\"type\":\"value\",\"value\":\"bevel\"},\"line_cap\":{\"type\":\"value\",\"value\":\"butt\"},\"line_dash\":{\"type\":\"value\",\"value\":[]},\"line_dash_offset\":{\"type\":\"value\",\"value\":0},\"fill_color\":{\"type\":\"value\",\"value\":\"#30a2da\"},\"fill_alpha\":{\"type\":\"value\",\"value\":1.0},\"hatch_color\":{\"type\":\"value\",\"value\":\"#30a2da\"},\"hatch_alpha\":{\"type\":\"value\",\"value\":1.0},\"hatch_scale\":{\"type\":\"value\",\"value\":12.0},\"hatch_pattern\":{\"type\":\"value\",\"value\":null},\"hatch_weight\":{\"type\":\"value\",\"value\":1.0}}},\"nonselection_glyph\":{\"type\":\"object\",\"name\":\"Quad\",\"id\":\"p1186\",\"attributes\":{\"tags\":[\"apply_ranges\"],\"left\":{\"type\":\"field\",\"field\":\"left\"},\"right\":{\"type\":\"field\",\"field\":\"right\"},\"bottom\":{\"type\":\"value\",\"value\":0},\"top\":{\"type\":\"field\",\"field\":\"top\"},\"line_alpha\":{\"type\":\"value\",\"value\":0.1},\"fill_color\":{\"type\":\"value\",\"value\":\"#30a2da\"},\"fill_alpha\":{\"type\":\"value\",\"value\":0.1},\"hatch_color\":{\"type\":\"value\",\"value\":\"#30a2da\"},\"hatch_alpha\":{\"type\":\"value\",\"value\":0.1}}},\"muted_glyph\":{\"type\":\"object\",\"name\":\"Quad\",\"id\":\"p1187\",\"attributes\":{\"tags\":[\"apply_ranges\"],\"left\":{\"type\":\"field\",\"field\":\"left\"},\"right\":{\"type\":\"field\",\"field\":\"right\"},\"bottom\":{\"type\":\"value\",\"value\":0},\"top\":{\"type\":\"field\",\"field\":\"top\"},\"line_alpha\":{\"type\":\"value\",\"value\":0.2},\"fill_color\":{\"type\":\"value\",\"value\":\"#30a2da\"},\"fill_alpha\":{\"type\":\"value\",\"value\":0.2},\"hatch_color\":{\"type\":\"value\",\"value\":\"#30a2da\"},\"hatch_alpha\":{\"type\":\"value\",\"value\":0.2}}}}}],\"toolbar\":{\"type\":\"object\",\"name\":\"Toolbar\",\"id\":\"p1157\",\"attributes\":{\"tools\":[{\"type\":\"object\",\"name\":\"WheelZoomTool\",\"id\":\"p1146\",\"attributes\":{\"tags\":[\"hv_created\"],\"renderers\":\"auto\",\"zoom_together\":\"none\"}},{\"type\":\"object\",\"name\":\"HoverTool\",\"id\":\"p1147\",\"attributes\":{\"tags\":[\"hv_created\"],\"renderers\":[{\"id\":\"p1188\"}],\"tooltips\":[[\"Delay\",\"@{Delay}\"],[\"Count\",\"@{Delay_count}\"]]}},{\"type\":\"object\",\"name\":\"SaveTool\",\"id\":\"p1170\"},{\"type\":\"object\",\"name\":\"PanTool\",\"id\":\"p1171\"},{\"type\":\"object\",\"name\":\"BoxZoomTool\",\"id\":\"p1172\",\"attributes\":{\"overlay\":{\"type\":\"object\",\"name\":\"BoxAnnotation\",\"id\":\"p1173\",\"attributes\":{\"syncable\":false,\"level\":\"overlay\",\"visible\":false,\"left\":{\"type\":\"number\",\"value\":\"nan\"},\"right\":{\"type\":\"number\",\"value\":\"nan\"},\"top\":{\"type\":\"number\",\"value\":\"nan\"},\"bottom\":{\"type\":\"number\",\"value\":\"nan\"},\"left_units\":\"canvas\",\"right_units\":\"canvas\",\"top_units\":\"canvas\",\"bottom_units\":\"canvas\",\"line_color\":\"black\",\"line_alpha\":1.0,\"line_width\":2,\"line_dash\":[4,4],\"fill_color\":\"lightgrey\",\"fill_alpha\":0.5}}}},{\"type\":\"object\",\"name\":\"ResetTool\",\"id\":\"p1178\"}],\"active_drag\":{\"id\":\"p1171\"},\"active_scroll\":{\"id\":\"p1146\"}}},\"left\":[{\"type\":\"object\",\"name\":\"LinearAxis\",\"id\":\"p1165\",\"attributes\":{\"ticker\":{\"type\":\"object\",\"name\":\"BasicTicker\",\"id\":\"p1166\",\"attributes\":{\"mantissas\":[1,2,5]}},\"formatter\":{\"type\":\"object\",\"name\":\"BasicTickFormatter\",\"id\":\"p1167\"},\"axis_label\":\"\",\"major_label_policy\":{\"type\":\"object\",\"name\":\"AllLabels\",\"id\":\"p1168\"}}}],\"below\":[{\"type\":\"object\",\"name\":\"LinearAxis\",\"id\":\"p1160\",\"attributes\":{\"ticker\":{\"type\":\"object\",\"name\":\"BasicTicker\",\"id\":\"p1161\",\"attributes\":{\"mantissas\":[1,2,5]}},\"formatter\":{\"type\":\"object\",\"name\":\"BasicTickFormatter\",\"id\":\"p1162\"},\"axis_label\":\"Delay\",\"major_label_policy\":{\"type\":\"object\",\"name\":\"AllLabels\",\"id\":\"p1163\"}}}],\"center\":[{\"type\":\"object\",\"name\":\"Grid\",\"id\":\"p1164\",\"attributes\":{\"axis\":{\"id\":\"p1160\"},\"grid_line_color\":null}},{\"type\":\"object\",\"name\":\"Grid\",\"id\":\"p1169\",\"attributes\":{\"dimension\":1,\"axis\":{\"id\":\"p1165\"},\"grid_line_color\":null}}],\"min_border_top\":10,\"min_border_bottom\":10,\"min_border_left\":10,\"min_border_right\":10,\"output_backend\":\"webgl\"}},{\"type\":\"object\",\"name\":\"Spacer\",\"id\":\"p1193\",\"attributes\":{\"name\":\"HSpacer01164\",\"stylesheets\":[\"\\n:host(.pn-loading):before, .pn-loading:before {\\n  background-color: #c3c3c3;\\n  mask-size: auto calc(min(50%, 400px));\\n  -webkit-mask-size: auto calc(min(50%, 400px));\\n}\",{\"id\":\"p1139\"},{\"id\":\"p1137\"},{\"id\":\"p1138\"}],\"margin\":0,\"sizing_mode\":\"stretch_width\",\"align\":\"start\"}}]}}],\"defs\":[{\"type\":\"model\",\"name\":\"ReactiveHTML1\"},{\"type\":\"model\",\"name\":\"FlexBox1\",\"properties\":[{\"name\":\"align_content\",\"kind\":\"Any\",\"default\":\"flex-start\"},{\"name\":\"align_items\",\"kind\":\"Any\",\"default\":\"flex-start\"},{\"name\":\"flex_direction\",\"kind\":\"Any\",\"default\":\"row\"},{\"name\":\"flex_wrap\",\"kind\":\"Any\",\"default\":\"wrap\"},{\"name\":\"gap\",\"kind\":\"Any\",\"default\":\"\"},{\"name\":\"justify_content\",\"kind\":\"Any\",\"default\":\"flex-start\"}]},{\"type\":\"model\",\"name\":\"FloatPanel1\",\"properties\":[{\"name\":\"config\",\"kind\":\"Any\",\"default\":{\"type\":\"map\"}},{\"name\":\"contained\",\"kind\":\"Any\",\"default\":true},{\"name\":\"position\",\"kind\":\"Any\",\"default\":\"right-top\"},{\"name\":\"offsetx\",\"kind\":\"Any\",\"default\":null},{\"name\":\"offsety\",\"kind\":\"Any\",\"default\":null},{\"name\":\"theme\",\"kind\":\"Any\",\"default\":\"primary\"},{\"name\":\"status\",\"kind\":\"Any\",\"default\":\"normalized\"}]},{\"type\":\"model\",\"name\":\"GridStack1\",\"properties\":[{\"name\":\"mode\",\"kind\":\"Any\",\"default\":\"warn\"},{\"name\":\"ncols\",\"kind\":\"Any\",\"default\":null},{\"name\":\"nrows\",\"kind\":\"Any\",\"default\":null},{\"name\":\"allow_resize\",\"kind\":\"Any\",\"default\":true},{\"name\":\"allow_drag\",\"kind\":\"Any\",\"default\":true},{\"name\":\"state\",\"kind\":\"Any\",\"default\":[]}]},{\"type\":\"model\",\"name\":\"drag1\",\"properties\":[{\"name\":\"slider_width\",\"kind\":\"Any\",\"default\":5},{\"name\":\"slider_color\",\"kind\":\"Any\",\"default\":\"black\"},{\"name\":\"value\",\"kind\":\"Any\",\"default\":50}]},{\"type\":\"model\",\"name\":\"click1\",\"properties\":[{\"name\":\"terminal_output\",\"kind\":\"Any\",\"default\":\"\"},{\"name\":\"debug_name\",\"kind\":\"Any\",\"default\":\"\"},{\"name\":\"clears\",\"kind\":\"Any\",\"default\":0}]},{\"type\":\"model\",\"name\":\"FastWrapper1\",\"properties\":[{\"name\":\"object\",\"kind\":\"Any\",\"default\":null},{\"name\":\"style\",\"kind\":\"Any\",\"default\":null}]},{\"type\":\"model\",\"name\":\"NotificationAreaBase1\",\"properties\":[{\"name\":\"js_events\",\"kind\":\"Any\",\"default\":{\"type\":\"map\"}},{\"name\":\"position\",\"kind\":\"Any\",\"default\":\"bottom-right\"},{\"name\":\"_clear\",\"kind\":\"Any\",\"default\":0}]},{\"type\":\"model\",\"name\":\"NotificationArea1\",\"properties\":[{\"name\":\"js_events\",\"kind\":\"Any\",\"default\":{\"type\":\"map\"}},{\"name\":\"notifications\",\"kind\":\"Any\",\"default\":[]},{\"name\":\"position\",\"kind\":\"Any\",\"default\":\"bottom-right\"},{\"name\":\"_clear\",\"kind\":\"Any\",\"default\":0},{\"name\":\"types\",\"kind\":\"Any\",\"default\":[{\"type\":\"map\",\"entries\":[[\"type\",\"warning\"],[\"background\",\"#ffc107\"],[\"icon\",{\"type\":\"map\",\"entries\":[[\"className\",\"fas fa-exclamation-triangle\"],[\"tagName\",\"i\"],[\"color\",\"white\"]]}]]},{\"type\":\"map\",\"entries\":[[\"type\",\"info\"],[\"background\",\"#007bff\"],[\"icon\",{\"type\":\"map\",\"entries\":[[\"className\",\"fas fa-info-circle\"],[\"tagName\",\"i\"],[\"color\",\"white\"]]}]]}]}]},{\"type\":\"model\",\"name\":\"Notification\",\"properties\":[{\"name\":\"background\",\"kind\":\"Any\",\"default\":null},{\"name\":\"duration\",\"kind\":\"Any\",\"default\":3000},{\"name\":\"icon\",\"kind\":\"Any\",\"default\":null},{\"name\":\"message\",\"kind\":\"Any\",\"default\":\"\"},{\"name\":\"notification_type\",\"kind\":\"Any\",\"default\":null},{\"name\":\"_destroyed\",\"kind\":\"Any\",\"default\":false}]},{\"type\":\"model\",\"name\":\"TemplateActions1\",\"properties\":[{\"name\":\"open_modal\",\"kind\":\"Any\",\"default\":0},{\"name\":\"close_modal\",\"kind\":\"Any\",\"default\":0}]},{\"type\":\"model\",\"name\":\"BootstrapTemplateActions1\",\"properties\":[{\"name\":\"open_modal\",\"kind\":\"Any\",\"default\":0},{\"name\":\"close_modal\",\"kind\":\"Any\",\"default\":0}]},{\"type\":\"model\",\"name\":\"TemplateEditor1\",\"properties\":[{\"name\":\"layout\",\"kind\":\"Any\",\"default\":[]}]},{\"type\":\"model\",\"name\":\"MaterialTemplateActions1\",\"properties\":[{\"name\":\"open_modal\",\"kind\":\"Any\",\"default\":0},{\"name\":\"close_modal\",\"kind\":\"Any\",\"default\":0}]},{\"type\":\"model\",\"name\":\"copy_to_clipboard1\",\"properties\":[{\"name\":\"fill\",\"kind\":\"Any\",\"default\":\"none\"},{\"name\":\"value\",\"kind\":\"Any\",\"default\":null}]}]}};\n",
       "  var render_items = [{\"docid\":\"fc6972b4-a2af-428d-b6ca-970e62c73add\",\"roots\":{\"p1136\":\"af9353d5-2904-409a-9549-ba242e70d0ee\"},\"root_ids\":[\"p1136\"]}];\n",
       "  var docs = Object.values(docs_json)\n",
       "  if (!docs) {\n",
       "    return\n",
       "  }\n",
       "  const py_version = docs[0].version.replace('rc', '-rc.').replace('.dev', '-dev.')\n",
       "  async function embed_document(root) {\n",
       "    var Bokeh = get_bokeh(root)\n",
       "    await Bokeh.embed.embed_items_notebook(docs_json, render_items);\n",
       "    for (const render_item of render_items) {\n",
       "      for (const root_id of render_item.root_ids) {\n",
       "\tconst id_el = document.getElementById(root_id)\n",
       "\tif (id_el.children.length && id_el.children[0].hasAttribute('data-root-id')) {\n",
       "\t  const root_el = id_el.children[0]\n",
       "\t  root_el.id = root_el.id + '-rendered'\n",
       "\t  for (const child of root_el.children) {\n",
       "            // Ensure JupyterLab does not capture keyboard shortcuts\n",
       "            // see: https://jupyterlab.readthedocs.io/en/4.1.x/extension/notebook.html#keyboard-interaction-model\n",
       "\t    child.setAttribute('data-lm-suppress-shortcuts', 'true')\n",
       "\t  }\n",
       "\t}\n",
       "      }\n",
       "    }\n",
       "  }\n",
       "  function get_bokeh(root) {\n",
       "    if (root.Bokeh === undefined) {\n",
       "      return null\n",
       "    } else if (root.Bokeh.version !== py_version) {\n",
       "      if (root.Bokeh.versions === undefined || !root.Bokeh.versions.has(py_version)) {\n",
       "\treturn null\n",
       "      }\n",
       "      return root.Bokeh.versions.get(py_version);\n",
       "    } else if (root.Bokeh.version === py_version) {\n",
       "      return root.Bokeh\n",
       "    }\n",
       "    return null\n",
       "  }\n",
       "  function is_loaded(root) {\n",
       "    var Bokeh = get_bokeh(root)\n",
       "    return (Bokeh != null && Bokeh.Panel !== undefined)\n",
       "  }\n",
       "  if (is_loaded(root)) {\n",
       "    embed_document(root);\n",
       "  } else {\n",
       "    var attempts = 0;\n",
       "    var timer = setInterval(function(root) {\n",
       "      if (is_loaded(root)) {\n",
       "        clearInterval(timer);\n",
       "        embed_document(root);\n",
       "      } else if (document.readyState == \"complete\") {\n",
       "        attempts++;\n",
       "        if (attempts > 200) {\n",
       "          clearInterval(timer);\n",
       "\t  var Bokeh = get_bokeh(root)\n",
       "\t  if (Bokeh == null || Bokeh.Panel == null) {\n",
       "            console.warn(\"Panel: ERROR: Unable to run Panel code because Bokeh or Panel library is missing\");\n",
       "\t  } else {\n",
       "\t    console.warn(\"Panel: WARNING: Attempting to render but not all required libraries could be resolved.\")\n",
       "\t    embed_document(root)\n",
       "\t  }\n",
       "        }\n",
       "      }\n",
       "    }, 25, root)\n",
       "  }\n",
       "})(window);</script>"
      ],
      "text/plain": [
       ":Histogram   [Delay]   (Delay_count)"
      ]
     },
     "execution_count": 22,
     "metadata": {
      "application/vnd.holoviews_exec.v0+json": {
       "id": "p1136"
      }
     },
     "output_type": "execute_result"
    }
   ],
   "source": [
    "ferry_trips.plot.hist(\"Delay\", bin_range=(-1800, 7200), bins=30)"
   ]
  },
  {
   "cell_type": "markdown",
   "metadata": {},
   "source": [
    " For the purposes of making it easier to model we'll assume delays can only be non-negative and log them in order to get a nicer distribution for regression. "
   ]
  },
  {
   "cell_type": "code",
   "execution_count": 23,
   "metadata": {},
   "outputs": [
    {
     "data": {},
     "metadata": {},
     "output_type": "display_data"
    },
    {
     "data": {
      "application/vnd.holoviews_exec.v0+json": "",
      "text/html": [
       "<div id='p1202'>\n",
       "  <div id=\"f9888f3d-765e-4e05-86a2-01cd398da2d7\" data-root-id=\"p1202\" style=\"display: contents;\"></div>\n",
       "</div>\n",
       "<script type=\"application/javascript\">(function(root) {\n",
       "  var docs_json = {\"f63c5c8a-2e72-4aaf-a301-ca48dbc9b1cb\":{\"version\":\"3.4.1\",\"title\":\"Bokeh Application\",\"roots\":[{\"type\":\"object\",\"name\":\"Row\",\"id\":\"p1202\",\"attributes\":{\"name\":\"Row01264\",\"tags\":[\"embedded\"],\"stylesheets\":[\"\\n:host(.pn-loading):before, .pn-loading:before {\\n  background-color: #c3c3c3;\\n  mask-size: auto calc(min(50%, 400px));\\n  -webkit-mask-size: auto calc(min(50%, 400px));\\n}\",{\"type\":\"object\",\"name\":\"ImportedStyleSheet\",\"id\":\"p1205\",\"attributes\":{\"url\":\"https://cdn.holoviz.org/panel/1.4.4/dist/css/loading.css\"}},{\"type\":\"object\",\"name\":\"ImportedStyleSheet\",\"id\":\"p1261\",\"attributes\":{\"url\":\"https://cdn.holoviz.org/panel/1.4.4/dist/css/listpanel.css\"}},{\"type\":\"object\",\"name\":\"ImportedStyleSheet\",\"id\":\"p1203\",\"attributes\":{\"url\":\"https://cdn.holoviz.org/panel/1.4.4/dist/bundled/theme/default.css\"}},{\"type\":\"object\",\"name\":\"ImportedStyleSheet\",\"id\":\"p1204\",\"attributes\":{\"url\":\"https://cdn.holoviz.org/panel/1.4.4/dist/bundled/theme/native.css\"}}],\"min_width\":700,\"margin\":0,\"sizing_mode\":\"stretch_width\",\"align\":\"start\",\"children\":[{\"type\":\"object\",\"name\":\"Spacer\",\"id\":\"p1206\",\"attributes\":{\"name\":\"HSpacer01271\",\"stylesheets\":[\"\\n:host(.pn-loading):before, .pn-loading:before {\\n  background-color: #c3c3c3;\\n  mask-size: auto calc(min(50%, 400px));\\n  -webkit-mask-size: auto calc(min(50%, 400px));\\n}\",{\"id\":\"p1205\"},{\"id\":\"p1203\"},{\"id\":\"p1204\"}],\"margin\":0,\"sizing_mode\":\"stretch_width\",\"align\":\"start\"}},{\"type\":\"object\",\"name\":\"Figure\",\"id\":\"p1214\",\"attributes\":{\"width\":700,\"height\":300,\"margin\":[5,10],\"sizing_mode\":\"fixed\",\"align\":\"start\",\"x_range\":{\"type\":\"object\",\"name\":\"Range1d\",\"id\":\"p1207\",\"attributes\":{\"tags\":[[[\"LogDelay\",\"LogDelay\",null]],[]],\"start\":-0.4531881053206609,\"end\":11.027577229469415,\"reset_start\":-0.4531881053206609,\"reset_end\":11.027577229469415}},\"y_range\":{\"type\":\"object\",\"name\":\"Range1d\",\"id\":\"p1208\",\"attributes\":{\"tags\":[[[\"LogDelay_count\",\"Count\",null]],{\"type\":\"map\",\"entries\":[[\"invert_yaxis\",false],[\"autorange\",false]]}],\"end\":126218.3,\"reset_start\":0.0,\"reset_end\":126218.3}},\"x_scale\":{\"type\":\"object\",\"name\":\"LinearScale\",\"id\":\"p1224\"},\"y_scale\":{\"type\":\"object\",\"name\":\"LinearScale\",\"id\":\"p1225\"},\"title\":{\"type\":\"object\",\"name\":\"Title\",\"id\":\"p1217\",\"attributes\":{\"text_color\":\"black\",\"text_font_size\":\"12pt\"}},\"renderers\":[{\"type\":\"object\",\"name\":\"GlyphRenderer\",\"id\":\"p1254\",\"attributes\":{\"data_source\":{\"type\":\"object\",\"name\":\"ColumnDataSource\",\"id\":\"p1245\",\"attributes\":{\"selected\":{\"type\":\"object\",\"name\":\"Selection\",\"id\":\"p1246\",\"attributes\":{\"indices\":[],\"line_indices\":[]}},\"selection_policy\":{\"type\":\"object\",\"name\":\"UnionRenderers\",\"id\":\"p1247\"},\"data\":{\"type\":\"map\",\"entries\":[[\"top\",{\"type\":\"ndarray\",\"array\":{\"type\":\"bytes\",\"data\":\"KoAAAKMDAAAcBwAAaA8AALgaAAC8KQAA7mMAAEDrAAA4wAEAxUoBABjMAAAyvgAAUKAAACp0AABEPQAAMRQAANgFAAAPAAAABQAAAAEAAAA=\"},\"shape\":[20],\"dtype\":\"int32\",\"order\":\"little\"}],[\"left\",{\"type\":\"ndarray\",\"array\":{\"type\":\"bytes\",\"data\":\"AAAAAAAAAABnb6UQRevgP2dvpRBF6/A/Gif4mOdg+T9nb6UQResAQEHLzlQWJgVAGif4mOdgCUD0giHduJsNQGdvpRBF6xBAVB26sq0IE0BBy85UFiYVQC554/Z+QxdAGif4mOdgGUAH1Qw7UH4bQPSCId24mx1A4TA2fyG5H0Bnb6UQResgQF3Gr2H5+SFAVB26sq0II0BKdMQDYhckQA==\"},\"shape\":[20],\"dtype\":\"float64\",\"order\":\"little\"}],[\"right\",{\"type\":\"ndarray\",\"array\":{\"type\":\"bytes\",\"data\":\"Z2+lEEXr4D9nb6UQRevwPxon+JjnYPk/Z2+lEEXrAEBBy85UFiYFQBon+JjnYAlA9IIh3bibDUBnb6UQResQQFQdurKtCBNAQcvOVBYmFUAueeP2fkMXQBon+JjnYBlAB9UMO1B+G0D0giHduJsdQOEwNn8huR9AZ2+lEEXrIEBdxq9h+fkhQFQdurKtCCNASnTEA2IXJEBBy85UFiYlQA==\"},\"shape\":[20],\"dtype\":\"float64\",\"order\":\"little\"}],[\"LogDelay\",{\"type\":\"ndarray\",\"array\":{\"type\":\"bytes\",\"data\":\"Z2+lEEXr0D8aJ/iY52DpP0DLzlQWJvU/9IIh3bib/T9UHbqyrQgDQC554/Z+QwdAB9UMO1B+C0DhMDZ/IbkPQF7Gr2H5+RFASnTEA2IXFEA4ItmlyjQWQCTQ7UczUhhAEH4C6ptvGkD+KxeMBI0cQOrZKy5tqh5A7EMg6OpjIEDimio5n3IhQNjxNIpTgSJAz0g/2weQI0DGn0ksvJ4kQA==\"},\"shape\":[20],\"dtype\":\"float64\",\"order\":\"little\"}],[\"LogDelay_count\",{\"type\":\"ndarray\",\"array\":{\"type\":\"bytes\",\"data\":\"KoAAAKMDAAAcBwAAaA8AALgaAAC8KQAA7mMAAEDrAAA4wAEAxUoBABjMAAAyvgAAUKAAACp0AABEPQAAMRQAANgFAAAPAAAABQAAAAEAAAA=\"},\"shape\":[20],\"dtype\":\"int32\",\"order\":\"little\"}]]}}},\"view\":{\"type\":\"object\",\"name\":\"CDSView\",\"id\":\"p1255\",\"attributes\":{\"filter\":{\"type\":\"object\",\"name\":\"AllIndices\",\"id\":\"p1256\"}}},\"glyph\":{\"type\":\"object\",\"name\":\"Quad\",\"id\":\"p1251\",\"attributes\":{\"tags\":[\"apply_ranges\"],\"left\":{\"type\":\"field\",\"field\":\"left\"},\"right\":{\"type\":\"field\",\"field\":\"right\"},\"bottom\":{\"type\":\"value\",\"value\":0},\"top\":{\"type\":\"field\",\"field\":\"top\"},\"fill_color\":{\"type\":\"value\",\"value\":\"#30a2da\"},\"hatch_color\":{\"type\":\"value\",\"value\":\"#30a2da\"}}},\"selection_glyph\":{\"type\":\"object\",\"name\":\"Quad\",\"id\":\"p1257\",\"attributes\":{\"tags\":[\"apply_ranges\"],\"left\":{\"type\":\"field\",\"field\":\"left\"},\"right\":{\"type\":\"field\",\"field\":\"right\"},\"bottom\":{\"type\":\"value\",\"value\":0},\"top\":{\"type\":\"field\",\"field\":\"top\"},\"line_color\":{\"type\":\"value\",\"value\":\"black\"},\"line_alpha\":{\"type\":\"value\",\"value\":1.0},\"line_width\":{\"type\":\"value\",\"value\":1},\"line_join\":{\"type\":\"value\",\"value\":\"bevel\"},\"line_cap\":{\"type\":\"value\",\"value\":\"butt\"},\"line_dash\":{\"type\":\"value\",\"value\":[]},\"line_dash_offset\":{\"type\":\"value\",\"value\":0},\"fill_color\":{\"type\":\"value\",\"value\":\"#30a2da\"},\"fill_alpha\":{\"type\":\"value\",\"value\":1.0},\"hatch_color\":{\"type\":\"value\",\"value\":\"#30a2da\"},\"hatch_alpha\":{\"type\":\"value\",\"value\":1.0},\"hatch_scale\":{\"type\":\"value\",\"value\":12.0},\"hatch_pattern\":{\"type\":\"value\",\"value\":null},\"hatch_weight\":{\"type\":\"value\",\"value\":1.0}}},\"nonselection_glyph\":{\"type\":\"object\",\"name\":\"Quad\",\"id\":\"p1252\",\"attributes\":{\"tags\":[\"apply_ranges\"],\"left\":{\"type\":\"field\",\"field\":\"left\"},\"right\":{\"type\":\"field\",\"field\":\"right\"},\"bottom\":{\"type\":\"value\",\"value\":0},\"top\":{\"type\":\"field\",\"field\":\"top\"},\"line_alpha\":{\"type\":\"value\",\"value\":0.1},\"fill_color\":{\"type\":\"value\",\"value\":\"#30a2da\"},\"fill_alpha\":{\"type\":\"value\",\"value\":0.1},\"hatch_color\":{\"type\":\"value\",\"value\":\"#30a2da\"},\"hatch_alpha\":{\"type\":\"value\",\"value\":0.1}}},\"muted_glyph\":{\"type\":\"object\",\"name\":\"Quad\",\"id\":\"p1253\",\"attributes\":{\"tags\":[\"apply_ranges\"],\"left\":{\"type\":\"field\",\"field\":\"left\"},\"right\":{\"type\":\"field\",\"field\":\"right\"},\"bottom\":{\"type\":\"value\",\"value\":0},\"top\":{\"type\":\"field\",\"field\":\"top\"},\"line_alpha\":{\"type\":\"value\",\"value\":0.2},\"fill_color\":{\"type\":\"value\",\"value\":\"#30a2da\"},\"fill_alpha\":{\"type\":\"value\",\"value\":0.2},\"hatch_color\":{\"type\":\"value\",\"value\":\"#30a2da\"},\"hatch_alpha\":{\"type\":\"value\",\"value\":0.2}}}}}],\"toolbar\":{\"type\":\"object\",\"name\":\"Toolbar\",\"id\":\"p1223\",\"attributes\":{\"tools\":[{\"type\":\"object\",\"name\":\"WheelZoomTool\",\"id\":\"p1212\",\"attributes\":{\"tags\":[\"hv_created\"],\"renderers\":\"auto\",\"zoom_together\":\"none\"}},{\"type\":\"object\",\"name\":\"HoverTool\",\"id\":\"p1213\",\"attributes\":{\"tags\":[\"hv_created\"],\"renderers\":[{\"id\":\"p1254\"}],\"tooltips\":[[\"LogDelay\",\"@{LogDelay}\"],[\"Count\",\"@{LogDelay_count}\"]]}},{\"type\":\"object\",\"name\":\"SaveTool\",\"id\":\"p1236\"},{\"type\":\"object\",\"name\":\"PanTool\",\"id\":\"p1237\"},{\"type\":\"object\",\"name\":\"BoxZoomTool\",\"id\":\"p1238\",\"attributes\":{\"overlay\":{\"type\":\"object\",\"name\":\"BoxAnnotation\",\"id\":\"p1239\",\"attributes\":{\"syncable\":false,\"level\":\"overlay\",\"visible\":false,\"left\":{\"type\":\"number\",\"value\":\"nan\"},\"right\":{\"type\":\"number\",\"value\":\"nan\"},\"top\":{\"type\":\"number\",\"value\":\"nan\"},\"bottom\":{\"type\":\"number\",\"value\":\"nan\"},\"left_units\":\"canvas\",\"right_units\":\"canvas\",\"top_units\":\"canvas\",\"bottom_units\":\"canvas\",\"line_color\":\"black\",\"line_alpha\":1.0,\"line_width\":2,\"line_dash\":[4,4],\"fill_color\":\"lightgrey\",\"fill_alpha\":0.5}}}},{\"type\":\"object\",\"name\":\"ResetTool\",\"id\":\"p1244\"}],\"active_drag\":{\"id\":\"p1237\"},\"active_scroll\":{\"id\":\"p1212\"}}},\"left\":[{\"type\":\"object\",\"name\":\"LinearAxis\",\"id\":\"p1231\",\"attributes\":{\"ticker\":{\"type\":\"object\",\"name\":\"BasicTicker\",\"id\":\"p1232\",\"attributes\":{\"mantissas\":[1,2,5]}},\"formatter\":{\"type\":\"object\",\"name\":\"BasicTickFormatter\",\"id\":\"p1233\"},\"axis_label\":\"\",\"major_label_policy\":{\"type\":\"object\",\"name\":\"AllLabels\",\"id\":\"p1234\"}}}],\"below\":[{\"type\":\"object\",\"name\":\"LinearAxis\",\"id\":\"p1226\",\"attributes\":{\"ticker\":{\"type\":\"object\",\"name\":\"BasicTicker\",\"id\":\"p1227\",\"attributes\":{\"mantissas\":[1,2,5]}},\"formatter\":{\"type\":\"object\",\"name\":\"BasicTickFormatter\",\"id\":\"p1228\"},\"axis_label\":\"LogDelay\",\"major_label_policy\":{\"type\":\"object\",\"name\":\"AllLabels\",\"id\":\"p1229\"}}}],\"center\":[{\"type\":\"object\",\"name\":\"Grid\",\"id\":\"p1230\",\"attributes\":{\"axis\":{\"id\":\"p1226\"},\"grid_line_color\":null}},{\"type\":\"object\",\"name\":\"Grid\",\"id\":\"p1235\",\"attributes\":{\"dimension\":1,\"axis\":{\"id\":\"p1231\"},\"grid_line_color\":null}}],\"min_border_top\":10,\"min_border_bottom\":10,\"min_border_left\":10,\"min_border_right\":10,\"output_backend\":\"webgl\"}},{\"type\":\"object\",\"name\":\"Spacer\",\"id\":\"p1259\",\"attributes\":{\"name\":\"HSpacer01272\",\"stylesheets\":[\"\\n:host(.pn-loading):before, .pn-loading:before {\\n  background-color: #c3c3c3;\\n  mask-size: auto calc(min(50%, 400px));\\n  -webkit-mask-size: auto calc(min(50%, 400px));\\n}\",{\"id\":\"p1205\"},{\"id\":\"p1203\"},{\"id\":\"p1204\"}],\"margin\":0,\"sizing_mode\":\"stretch_width\",\"align\":\"start\"}}]}}],\"defs\":[{\"type\":\"model\",\"name\":\"ReactiveHTML1\"},{\"type\":\"model\",\"name\":\"FlexBox1\",\"properties\":[{\"name\":\"align_content\",\"kind\":\"Any\",\"default\":\"flex-start\"},{\"name\":\"align_items\",\"kind\":\"Any\",\"default\":\"flex-start\"},{\"name\":\"flex_direction\",\"kind\":\"Any\",\"default\":\"row\"},{\"name\":\"flex_wrap\",\"kind\":\"Any\",\"default\":\"wrap\"},{\"name\":\"gap\",\"kind\":\"Any\",\"default\":\"\"},{\"name\":\"justify_content\",\"kind\":\"Any\",\"default\":\"flex-start\"}]},{\"type\":\"model\",\"name\":\"FloatPanel1\",\"properties\":[{\"name\":\"config\",\"kind\":\"Any\",\"default\":{\"type\":\"map\"}},{\"name\":\"contained\",\"kind\":\"Any\",\"default\":true},{\"name\":\"position\",\"kind\":\"Any\",\"default\":\"right-top\"},{\"name\":\"offsetx\",\"kind\":\"Any\",\"default\":null},{\"name\":\"offsety\",\"kind\":\"Any\",\"default\":null},{\"name\":\"theme\",\"kind\":\"Any\",\"default\":\"primary\"},{\"name\":\"status\",\"kind\":\"Any\",\"default\":\"normalized\"}]},{\"type\":\"model\",\"name\":\"GridStack1\",\"properties\":[{\"name\":\"mode\",\"kind\":\"Any\",\"default\":\"warn\"},{\"name\":\"ncols\",\"kind\":\"Any\",\"default\":null},{\"name\":\"nrows\",\"kind\":\"Any\",\"default\":null},{\"name\":\"allow_resize\",\"kind\":\"Any\",\"default\":true},{\"name\":\"allow_drag\",\"kind\":\"Any\",\"default\":true},{\"name\":\"state\",\"kind\":\"Any\",\"default\":[]}]},{\"type\":\"model\",\"name\":\"drag1\",\"properties\":[{\"name\":\"slider_width\",\"kind\":\"Any\",\"default\":5},{\"name\":\"slider_color\",\"kind\":\"Any\",\"default\":\"black\"},{\"name\":\"value\",\"kind\":\"Any\",\"default\":50}]},{\"type\":\"model\",\"name\":\"click1\",\"properties\":[{\"name\":\"terminal_output\",\"kind\":\"Any\",\"default\":\"\"},{\"name\":\"debug_name\",\"kind\":\"Any\",\"default\":\"\"},{\"name\":\"clears\",\"kind\":\"Any\",\"default\":0}]},{\"type\":\"model\",\"name\":\"FastWrapper1\",\"properties\":[{\"name\":\"object\",\"kind\":\"Any\",\"default\":null},{\"name\":\"style\",\"kind\":\"Any\",\"default\":null}]},{\"type\":\"model\",\"name\":\"NotificationAreaBase1\",\"properties\":[{\"name\":\"js_events\",\"kind\":\"Any\",\"default\":{\"type\":\"map\"}},{\"name\":\"position\",\"kind\":\"Any\",\"default\":\"bottom-right\"},{\"name\":\"_clear\",\"kind\":\"Any\",\"default\":0}]},{\"type\":\"model\",\"name\":\"NotificationArea1\",\"properties\":[{\"name\":\"js_events\",\"kind\":\"Any\",\"default\":{\"type\":\"map\"}},{\"name\":\"notifications\",\"kind\":\"Any\",\"default\":[]},{\"name\":\"position\",\"kind\":\"Any\",\"default\":\"bottom-right\"},{\"name\":\"_clear\",\"kind\":\"Any\",\"default\":0},{\"name\":\"types\",\"kind\":\"Any\",\"default\":[{\"type\":\"map\",\"entries\":[[\"type\",\"warning\"],[\"background\",\"#ffc107\"],[\"icon\",{\"type\":\"map\",\"entries\":[[\"className\",\"fas fa-exclamation-triangle\"],[\"tagName\",\"i\"],[\"color\",\"white\"]]}]]},{\"type\":\"map\",\"entries\":[[\"type\",\"info\"],[\"background\",\"#007bff\"],[\"icon\",{\"type\":\"map\",\"entries\":[[\"className\",\"fas fa-info-circle\"],[\"tagName\",\"i\"],[\"color\",\"white\"]]}]]}]}]},{\"type\":\"model\",\"name\":\"Notification\",\"properties\":[{\"name\":\"background\",\"kind\":\"Any\",\"default\":null},{\"name\":\"duration\",\"kind\":\"Any\",\"default\":3000},{\"name\":\"icon\",\"kind\":\"Any\",\"default\":null},{\"name\":\"message\",\"kind\":\"Any\",\"default\":\"\"},{\"name\":\"notification_type\",\"kind\":\"Any\",\"default\":null},{\"name\":\"_destroyed\",\"kind\":\"Any\",\"default\":false}]},{\"type\":\"model\",\"name\":\"TemplateActions1\",\"properties\":[{\"name\":\"open_modal\",\"kind\":\"Any\",\"default\":0},{\"name\":\"close_modal\",\"kind\":\"Any\",\"default\":0}]},{\"type\":\"model\",\"name\":\"BootstrapTemplateActions1\",\"properties\":[{\"name\":\"open_modal\",\"kind\":\"Any\",\"default\":0},{\"name\":\"close_modal\",\"kind\":\"Any\",\"default\":0}]},{\"type\":\"model\",\"name\":\"TemplateEditor1\",\"properties\":[{\"name\":\"layout\",\"kind\":\"Any\",\"default\":[]}]},{\"type\":\"model\",\"name\":\"MaterialTemplateActions1\",\"properties\":[{\"name\":\"open_modal\",\"kind\":\"Any\",\"default\":0},{\"name\":\"close_modal\",\"kind\":\"Any\",\"default\":0}]},{\"type\":\"model\",\"name\":\"copy_to_clipboard1\",\"properties\":[{\"name\":\"fill\",\"kind\":\"Any\",\"default\":\"none\"},{\"name\":\"value\",\"kind\":\"Any\",\"default\":null}]}]}};\n",
       "  var render_items = [{\"docid\":\"f63c5c8a-2e72-4aaf-a301-ca48dbc9b1cb\",\"roots\":{\"p1202\":\"f9888f3d-765e-4e05-86a2-01cd398da2d7\"},\"root_ids\":[\"p1202\"]}];\n",
       "  var docs = Object.values(docs_json)\n",
       "  if (!docs) {\n",
       "    return\n",
       "  }\n",
       "  const py_version = docs[0].version.replace('rc', '-rc.').replace('.dev', '-dev.')\n",
       "  async function embed_document(root) {\n",
       "    var Bokeh = get_bokeh(root)\n",
       "    await Bokeh.embed.embed_items_notebook(docs_json, render_items);\n",
       "    for (const render_item of render_items) {\n",
       "      for (const root_id of render_item.root_ids) {\n",
       "\tconst id_el = document.getElementById(root_id)\n",
       "\tif (id_el.children.length && id_el.children[0].hasAttribute('data-root-id')) {\n",
       "\t  const root_el = id_el.children[0]\n",
       "\t  root_el.id = root_el.id + '-rendered'\n",
       "\t  for (const child of root_el.children) {\n",
       "            // Ensure JupyterLab does not capture keyboard shortcuts\n",
       "            // see: https://jupyterlab.readthedocs.io/en/4.1.x/extension/notebook.html#keyboard-interaction-model\n",
       "\t    child.setAttribute('data-lm-suppress-shortcuts', 'true')\n",
       "\t  }\n",
       "\t}\n",
       "      }\n",
       "    }\n",
       "  }\n",
       "  function get_bokeh(root) {\n",
       "    if (root.Bokeh === undefined) {\n",
       "      return null\n",
       "    } else if (root.Bokeh.version !== py_version) {\n",
       "      if (root.Bokeh.versions === undefined || !root.Bokeh.versions.has(py_version)) {\n",
       "\treturn null\n",
       "      }\n",
       "      return root.Bokeh.versions.get(py_version);\n",
       "    } else if (root.Bokeh.version === py_version) {\n",
       "      return root.Bokeh\n",
       "    }\n",
       "    return null\n",
       "  }\n",
       "  function is_loaded(root) {\n",
       "    var Bokeh = get_bokeh(root)\n",
       "    return (Bokeh != null && Bokeh.Panel !== undefined)\n",
       "  }\n",
       "  if (is_loaded(root)) {\n",
       "    embed_document(root);\n",
       "  } else {\n",
       "    var attempts = 0;\n",
       "    var timer = setInterval(function(root) {\n",
       "      if (is_loaded(root)) {\n",
       "        clearInterval(timer);\n",
       "        embed_document(root);\n",
       "      } else if (document.readyState == \"complete\") {\n",
       "        attempts++;\n",
       "        if (attempts > 200) {\n",
       "          clearInterval(timer);\n",
       "\t  var Bokeh = get_bokeh(root)\n",
       "\t  if (Bokeh == null || Bokeh.Panel == null) {\n",
       "            console.warn(\"Panel: ERROR: Unable to run Panel code because Bokeh or Panel library is missing\");\n",
       "\t  } else {\n",
       "\t    console.warn(\"Panel: WARNING: Attempting to render but not all required libraries could be resolved.\")\n",
       "\t    embed_document(root)\n",
       "\t  }\n",
       "        }\n",
       "      }\n",
       "    }, 25, root)\n",
       "  }\n",
       "})(window);</script>"
      ],
      "text/plain": [
       ":Histogram   [LogDelay]   (LogDelay_count)"
      ]
     },
     "execution_count": 23,
     "metadata": {
      "application/vnd.holoviews_exec.v0+json": {
       "id": "p1202"
      }
     },
     "output_type": "execute_result"
    }
   ],
   "source": [
    "ferry_trips.select(\n",
    "    pl.col(\"Delay\")\n",
    "    .map_elements(lambda x: max(x, 1), return_dtype=pl.Float64)\n",
    "    .log()\n",
    "    .alias(\"LogDelay\")\n",
    ").plot.hist(\"LogDelay\")"
   ]
  },
  {
   "cell_type": "code",
   "execution_count": 24,
   "metadata": {},
   "outputs": [
    {
     "data": {
      "text/html": [
       "<div><style>\n",
       ".dataframe > thead > tr,\n",
       ".dataframe > tbody > tr {\n",
       "  text-align: right;\n",
       "  white-space: pre-wrap;\n",
       "}\n",
       "</style>\n",
       "<small>shape: (536_342, 9)</small><table border=\"1\" class=\"dataframe\"><thead><tr><th>Vessel</th><th>Departing</th><th>Arriving</th><th>Date</th><th>Year</th><th>Month</th><th>Weekday</th><th>Hour</th><th>LogDelay</th></tr><tr><td>str</td><td>str</td><td>str</td><td>datetime[μs, UTC]</td><td>i32</td><td>i8</td><td>i8</td><td>i8</td><td>f64</td></tr></thead><tbody><tr><td>&quot;cathlamet&quot;</td><td>&quot;vashon island&quot;</td><td>&quot;fauntleroy&quot;</td><td>2020-01-01 13:40:00 UTC</td><td>2020</td><td>1</td><td>3</td><td>13</td><td>4.276666</td></tr><tr><td>&quot;cathlamet&quot;</td><td>&quot;fauntleroy&quot;</td><td>&quot;vashon island&quot;</td><td>2020-01-01 14:10:00 UTC</td><td>2020</td><td>1</td><td>3</td><td>14</td><td>4.574711</td></tr><tr><td>&quot;cathlamet&quot;</td><td>&quot;vashon island&quot;</td><td>&quot;fauntleroy&quot;</td><td>2020-01-01 14:35:00 UTC</td><td>2020</td><td>1</td><td>3</td><td>14</td><td>5.056246</td></tr><tr><td>&quot;cathlamet&quot;</td><td>&quot;fauntleroy&quot;</td><td>&quot;vashon island&quot;</td><td>2020-01-01 15:05:00 UTC</td><td>2020</td><td>1</td><td>3</td><td>15</td><td>4.875197</td></tr><tr><td>&quot;cathlamet&quot;</td><td>&quot;vashon island&quot;</td><td>&quot;southworth&quot;</td><td>2020-01-01 15:30:00 UTC</td><td>2020</td><td>1</td><td>3</td><td>15</td><td>4.110874</td></tr><tr><td>&hellip;</td><td>&hellip;</td><td>&hellip;</td><td>&hellip;</td><td>&hellip;</td><td>&hellip;</td><td>&hellip;</td><td>&hellip;</td><td>&hellip;</td></tr><tr><td>&quot;yakima&quot;</td><td>&quot;shaw island&quot;</td><td>&quot;anacortes&quot;</td><td>2024-07-25 00:30:00 UTC</td><td>2024</td><td>7</td><td>4</td><td>0</td><td>8.506941</td></tr><tr><td>&quot;yakima&quot;</td><td>&quot;orcas island&quot;</td><td>&quot;shaw island&quot;</td><td>2024-07-25 01:20:00 UTC</td><td>2024</td><td>7</td><td>4</td><td>1</td><td>6.770789</td></tr><tr><td>&quot;yakima&quot;</td><td>&quot;anacortes&quot;</td><td>&quot;lopez island&quot;</td><td>2024-07-25 04:00:00 UTC</td><td>2024</td><td>7</td><td>4</td><td>4</td><td>6.458338</td></tr><tr><td>&quot;yakima&quot;</td><td>&quot;lopez island&quot;</td><td>&quot;shaw island&quot;</td><td>2024-07-25 04:50:00 UTC</td><td>2024</td><td>7</td><td>4</td><td>4</td><td>6.804615</td></tr><tr><td>&quot;yakima&quot;</td><td>&quot;shaw island&quot;</td><td>&quot;orcas island&quot;</td><td>2024-07-25 05:10:00 UTC</td><td>2024</td><td>7</td><td>4</td><td>5</td><td>6.863803</td></tr></tbody></table></div>"
      ],
      "text/plain": [
       "shape: (536_342, 9)\n",
       "┌───────────┬───────────────┬───────────────┬──────────────┬───┬───────┬─────────┬──────┬──────────┐\n",
       "│ Vessel    ┆ Departing     ┆ Arriving      ┆ Date         ┆ … ┆ Month ┆ Weekday ┆ Hour ┆ LogDelay │\n",
       "│ ---       ┆ ---           ┆ ---           ┆ ---          ┆   ┆ ---   ┆ ---     ┆ ---  ┆ ---      │\n",
       "│ str       ┆ str           ┆ str           ┆ datetime[μs, ┆   ┆ i8    ┆ i8      ┆ i8   ┆ f64      │\n",
       "│           ┆               ┆               ┆ UTC]         ┆   ┆       ┆         ┆      ┆          │\n",
       "╞═══════════╪═══════════════╪═══════════════╪══════════════╪═══╪═══════╪═════════╪══════╪══════════╡\n",
       "│ cathlamet ┆ vashon island ┆ fauntleroy    ┆ 2020-01-01   ┆ … ┆ 1     ┆ 3       ┆ 13   ┆ 4.276666 │\n",
       "│           ┆               ┆               ┆ 13:40:00 UTC ┆   ┆       ┆         ┆      ┆          │\n",
       "│ cathlamet ┆ fauntleroy    ┆ vashon island ┆ 2020-01-01   ┆ … ┆ 1     ┆ 3       ┆ 14   ┆ 4.574711 │\n",
       "│           ┆               ┆               ┆ 14:10:00 UTC ┆   ┆       ┆         ┆      ┆          │\n",
       "│ cathlamet ┆ vashon island ┆ fauntleroy    ┆ 2020-01-01   ┆ … ┆ 1     ┆ 3       ┆ 14   ┆ 5.056246 │\n",
       "│           ┆               ┆               ┆ 14:35:00 UTC ┆   ┆       ┆         ┆      ┆          │\n",
       "│ cathlamet ┆ fauntleroy    ┆ vashon island ┆ 2020-01-01   ┆ … ┆ 1     ┆ 3       ┆ 15   ┆ 4.875197 │\n",
       "│           ┆               ┆               ┆ 15:05:00 UTC ┆   ┆       ┆         ┆      ┆          │\n",
       "│ cathlamet ┆ vashon island ┆ southworth    ┆ 2020-01-01   ┆ … ┆ 1     ┆ 3       ┆ 15   ┆ 4.110874 │\n",
       "│           ┆               ┆               ┆ 15:30:00 UTC ┆   ┆       ┆         ┆      ┆          │\n",
       "│ …         ┆ …             ┆ …             ┆ …            ┆ … ┆ …     ┆ …       ┆ …    ┆ …        │\n",
       "│ yakima    ┆ shaw island   ┆ anacortes     ┆ 2024-07-25   ┆ … ┆ 7     ┆ 4       ┆ 0    ┆ 8.506941 │\n",
       "│           ┆               ┆               ┆ 00:30:00 UTC ┆   ┆       ┆         ┆      ┆          │\n",
       "│ yakima    ┆ orcas island  ┆ shaw island   ┆ 2024-07-25   ┆ … ┆ 7     ┆ 4       ┆ 1    ┆ 6.770789 │\n",
       "│           ┆               ┆               ┆ 01:20:00 UTC ┆   ┆       ┆         ┆      ┆          │\n",
       "│ yakima    ┆ anacortes     ┆ lopez island  ┆ 2024-07-25   ┆ … ┆ 7     ┆ 4       ┆ 4    ┆ 6.458338 │\n",
       "│           ┆               ┆               ┆ 04:00:00 UTC ┆   ┆       ┆         ┆      ┆          │\n",
       "│ yakima    ┆ lopez island  ┆ shaw island   ┆ 2024-07-25   ┆ … ┆ 7     ┆ 4       ┆ 4    ┆ 6.804615 │\n",
       "│           ┆               ┆               ┆ 04:50:00 UTC ┆   ┆       ┆         ┆      ┆          │\n",
       "│ yakima    ┆ shaw island   ┆ orcas island  ┆ 2024-07-25   ┆ … ┆ 7     ┆ 4       ┆ 5    ┆ 6.863803 │\n",
       "│           ┆               ┆               ┆ 05:10:00 UTC ┆   ┆       ┆         ┆      ┆          │\n",
       "└───────────┴───────────────┴───────────────┴──────────────┴───┴───────┴─────────┴──────┴──────────┘"
      ]
     },
     "execution_count": 24,
     "metadata": {},
     "output_type": "execute_result"
    }
   ],
   "source": [
    "ferry_trips = ferry_trips.select(\n",
    "    pl.exclude(\"Delay\"),\n",
    "    pl.col(\"Delay\")\n",
    "    .map_elements(lambda x: max(x, 1), return_dtype=pl.Float64)\n",
    "    .log()\n",
    "    .alias(\"LogDelay\"),\n",
    ")\n",
    "ferry_trips"
   ]
  },
  {
   "cell_type": "markdown",
   "metadata": {},
   "source": [
    "Now we'll want to join the ferry data describing the vessels the trips were taken in. First we're selecting a subset of the columns and extracting the year from the `YearBuilt` and `YearRebuilt` columns."
   ]
  },
  {
   "cell_type": "code",
   "execution_count": 25,
   "metadata": {},
   "outputs": [],
   "source": [
    "ferry_info = vessel_verbose.select(\n",
    "    pl.col(\"VesselName\").str.to_lowercase(),\n",
    "    pl.col(\"ClassName\"),\n",
    "    pl.col(\n",
    "        \"SpeedInKnots\",\n",
    "        \"EngineCount\",\n",
    "        \"Horsepower\",\n",
    "        \"MaxPassengerCount\",\n",
    "        \"PassengerOnly\",\n",
    "        \"FastFerry\",\n",
    "        \"PropulsionInfo\",\n",
    "    ),\n",
    "    pl.col(\"YearBuilt\", \"YearRebuilt\").dt.year(),\n",
    ")\n",
    "\n",
    "ferry_trips = ferry_trips.join(\n",
    "    ferry_info, left_on=\"Vessel\", right_on=\"VesselName\", how=\"left\", coalesce=True\n",
    ")"
   ]
  },
  {
   "cell_type": "markdown",
   "metadata": {},
   "source": [
    "The weather data has a granularity of one hour, so in order to join this with the `ferry_trips` data we're going to round the timestamp associated with the trip to the nearest hour. We're going to join in the weather data twice for both the departing terminal and arriving terminal. Finally, there a number of columns associated with the weather data that are not needed and will be dropped."
   ]
  },
  {
   "cell_type": "code",
   "execution_count": 26,
   "metadata": {},
   "outputs": [
    {
     "data": {
      "text/html": [
       "<div><style>\n",
       ".dataframe > thead > tr,\n",
       ".dataframe > tbody > tr {\n",
       "  text-align: right;\n",
       "  white-space: pre-wrap;\n",
       "}\n",
       "</style>\n",
       "<small>shape: (536_342, 33)</small><table border=\"1\" class=\"dataframe\"><thead><tr><th>Vessel</th><th>Departing</th><th>Arriving</th><th>Date</th><th>Year</th><th>Month</th><th>Weekday</th><th>Hour</th><th>LogDelay</th><th>ClassName</th><th>SpeedInKnots</th><th>EngineCount</th><th>Horsepower</th><th>MaxPassengerCount</th><th>PassengerOnly</th><th>FastFerry</th><th>PropulsionInfo</th><th>YearBuilt</th><th>YearRebuilt</th><th>departing_weather_code</th><th>departing_temperature_2m</th><th>departing_precipitation</th><th>departing_cloud_cover</th><th>departing_wind_speed_10m</th><th>departing_wind_direction_10m</th><th>departing_wind_gusts_10m</th><th>arriving_weather_code</th><th>arriving_temperature_2m</th><th>arriving_precipitation</th><th>arriving_cloud_cover</th><th>arriving_wind_speed_10m</th><th>arriving_wind_direction_10m</th><th>arriving_wind_gusts_10m</th></tr><tr><td>str</td><td>str</td><td>str</td><td>datetime[μs, UTC]</td><td>i32</td><td>i8</td><td>i8</td><td>i8</td><td>f64</td><td>str</td><td>i64</td><td>i64</td><td>i64</td><td>i64</td><td>bool</td><td>bool</td><td>str</td><td>i32</td><td>i32</td><td>i64</td><td>f64</td><td>f64</td><td>i64</td><td>f64</td><td>i64</td><td>f64</td><td>i64</td><td>f64</td><td>f64</td><td>i64</td><td>f64</td><td>i64</td><td>f64</td></tr></thead><tbody><tr><td>&quot;cathlamet&quot;</td><td>&quot;vashon island&quot;</td><td>&quot;fauntleroy&quot;</td><td>2020-01-01 13:40:00 UTC</td><td>2020</td><td>1</td><td>3</td><td>13</td><td>4.276666</td><td>&quot;issaquah 130&quot;</td><td>16</td><td>2</td><td>5000</td><td>1200</td><td>false</td><td>false</td><td>&quot;diesel&quot;</td><td>1981</td><td>1993</td><td>3</td><td>9.2</td><td>0.0</td><td>87</td><td>26.2</td><td>226</td><td>53.3</td><td>3</td><td>9.1</td><td>0.0</td><td>92</td><td>31.6</td><td>222</td><td>55.1</td></tr><tr><td>&quot;cathlamet&quot;</td><td>&quot;fauntleroy&quot;</td><td>&quot;vashon island&quot;</td><td>2020-01-01 14:10:00 UTC</td><td>2020</td><td>1</td><td>3</td><td>14</td><td>4.574711</td><td>&quot;issaquah 130&quot;</td><td>16</td><td>2</td><td>5000</td><td>1200</td><td>false</td><td>false</td><td>&quot;diesel&quot;</td><td>1981</td><td>1993</td><td>3</td><td>9.1</td><td>0.0</td><td>92</td><td>31.6</td><td>222</td><td>55.1</td><td>3</td><td>9.2</td><td>0.0</td><td>87</td><td>26.2</td><td>226</td><td>53.3</td></tr><tr><td>&quot;cathlamet&quot;</td><td>&quot;vashon island&quot;</td><td>&quot;fauntleroy&quot;</td><td>2020-01-01 14:35:00 UTC</td><td>2020</td><td>1</td><td>3</td><td>14</td><td>5.056246</td><td>&quot;issaquah 130&quot;</td><td>16</td><td>2</td><td>5000</td><td>1200</td><td>false</td><td>false</td><td>&quot;diesel&quot;</td><td>1981</td><td>1993</td><td>51</td><td>8.9</td><td>0.1</td><td>60</td><td>26.7</td><td>212</td><td>56.5</td><td>2</td><td>8.7</td><td>0.0</td><td>77</td><td>34.6</td><td>211</td><td>63.4</td></tr><tr><td>&quot;cathlamet&quot;</td><td>&quot;fauntleroy&quot;</td><td>&quot;vashon island&quot;</td><td>2020-01-01 15:05:00 UTC</td><td>2020</td><td>1</td><td>3</td><td>15</td><td>4.875197</td><td>&quot;issaquah 130&quot;</td><td>16</td><td>2</td><td>5000</td><td>1200</td><td>false</td><td>false</td><td>&quot;diesel&quot;</td><td>1981</td><td>1993</td><td>2</td><td>8.7</td><td>0.0</td><td>77</td><td>34.6</td><td>211</td><td>63.4</td><td>51</td><td>8.9</td><td>0.1</td><td>60</td><td>26.7</td><td>212</td><td>56.5</td></tr><tr><td>&quot;cathlamet&quot;</td><td>&quot;vashon island&quot;</td><td>&quot;southworth&quot;</td><td>2020-01-01 15:30:00 UTC</td><td>2020</td><td>1</td><td>3</td><td>15</td><td>4.110874</td><td>&quot;issaquah 130&quot;</td><td>16</td><td>2</td><td>5000</td><td>1200</td><td>false</td><td>false</td><td>&quot;diesel&quot;</td><td>1981</td><td>1993</td><td>1</td><td>8.8</td><td>0.0</td><td>20</td><td>18.8</td><td>238</td><td>54.4</td><td>1</td><td>8.7</td><td>0.0</td><td>20</td><td>18.8</td><td>238</td><td>54.4</td></tr><tr><td>&hellip;</td><td>&hellip;</td><td>&hellip;</td><td>&hellip;</td><td>&hellip;</td><td>&hellip;</td><td>&hellip;</td><td>&hellip;</td><td>&hellip;</td><td>&hellip;</td><td>&hellip;</td><td>&hellip;</td><td>&hellip;</td><td>&hellip;</td><td>&hellip;</td><td>&hellip;</td><td>&hellip;</td><td>&hellip;</td><td>&hellip;</td><td>&hellip;</td><td>&hellip;</td><td>&hellip;</td><td>&hellip;</td><td>&hellip;</td><td>&hellip;</td><td>&hellip;</td><td>&hellip;</td><td>&hellip;</td><td>&hellip;</td><td>&hellip;</td><td>&hellip;</td><td>&hellip;</td><td>&hellip;</td></tr><tr><td>&quot;yakima&quot;</td><td>&quot;shaw island&quot;</td><td>&quot;anacortes&quot;</td><td>2024-07-25 00:30:00 UTC</td><td>2024</td><td>7</td><td>4</td><td>0</td><td>8.506941</td><td>&quot;super&quot;</td><td>17</td><td>4</td><td>8000</td><td>2000</td><td>false</td><td>false</td><td>&quot;diesel-electric (dc)&quot;</td><td>1967</td><td>2000</td><td>null</td><td>null</td><td>null</td><td>null</td><td>null</td><td>null</td><td>null</td><td>null</td><td>null</td><td>null</td><td>null</td><td>null</td><td>null</td><td>null</td></tr><tr><td>&quot;yakima&quot;</td><td>&quot;orcas island&quot;</td><td>&quot;shaw island&quot;</td><td>2024-07-25 01:20:00 UTC</td><td>2024</td><td>7</td><td>4</td><td>1</td><td>6.770789</td><td>&quot;super&quot;</td><td>17</td><td>4</td><td>8000</td><td>2000</td><td>false</td><td>false</td><td>&quot;diesel-electric (dc)&quot;</td><td>1967</td><td>2000</td><td>null</td><td>null</td><td>null</td><td>null</td><td>null</td><td>null</td><td>null</td><td>null</td><td>null</td><td>null</td><td>null</td><td>null</td><td>null</td><td>null</td></tr><tr><td>&quot;yakima&quot;</td><td>&quot;anacortes&quot;</td><td>&quot;lopez island&quot;</td><td>2024-07-25 04:00:00 UTC</td><td>2024</td><td>7</td><td>4</td><td>4</td><td>6.458338</td><td>&quot;super&quot;</td><td>17</td><td>4</td><td>8000</td><td>2000</td><td>false</td><td>false</td><td>&quot;diesel-electric (dc)&quot;</td><td>1967</td><td>2000</td><td>null</td><td>null</td><td>null</td><td>null</td><td>null</td><td>null</td><td>null</td><td>null</td><td>null</td><td>null</td><td>null</td><td>null</td><td>null</td><td>null</td></tr><tr><td>&quot;yakima&quot;</td><td>&quot;lopez island&quot;</td><td>&quot;shaw island&quot;</td><td>2024-07-25 04:50:00 UTC</td><td>2024</td><td>7</td><td>4</td><td>4</td><td>6.804615</td><td>&quot;super&quot;</td><td>17</td><td>4</td><td>8000</td><td>2000</td><td>false</td><td>false</td><td>&quot;diesel-electric (dc)&quot;</td><td>1967</td><td>2000</td><td>null</td><td>null</td><td>null</td><td>null</td><td>null</td><td>null</td><td>null</td><td>null</td><td>null</td><td>null</td><td>null</td><td>null</td><td>null</td><td>null</td></tr><tr><td>&quot;yakima&quot;</td><td>&quot;shaw island&quot;</td><td>&quot;orcas island&quot;</td><td>2024-07-25 05:10:00 UTC</td><td>2024</td><td>7</td><td>4</td><td>5</td><td>6.863803</td><td>&quot;super&quot;</td><td>17</td><td>4</td><td>8000</td><td>2000</td><td>false</td><td>false</td><td>&quot;diesel-electric (dc)&quot;</td><td>1967</td><td>2000</td><td>null</td><td>null</td><td>null</td><td>null</td><td>null</td><td>null</td><td>null</td><td>null</td><td>null</td><td>null</td><td>null</td><td>null</td><td>null</td><td>null</td></tr></tbody></table></div>"
      ],
      "text/plain": [
       "shape: (536_342, 33)\n",
       "┌───────────┬───────────┬───────────┬───────────┬───┬───────────┬───────────┬───────────┬──────────┐\n",
       "│ Vessel    ┆ Departing ┆ Arriving  ┆ Date      ┆ … ┆ arriving_ ┆ arriving_ ┆ arriving_ ┆ arriving │\n",
       "│ ---       ┆ ---       ┆ ---       ┆ ---       ┆   ┆ cloud_cov ┆ wind_spee ┆ wind_dire ┆ _wind_gu │\n",
       "│ str       ┆ str       ┆ str       ┆ datetime[ ┆   ┆ er        ┆ d_10m     ┆ ction_10m ┆ sts_10m  │\n",
       "│           ┆           ┆           ┆ μs, UTC]  ┆   ┆ ---       ┆ ---       ┆ ---       ┆ ---      │\n",
       "│           ┆           ┆           ┆           ┆   ┆ i64       ┆ f64       ┆ i64       ┆ f64      │\n",
       "╞═══════════╪═══════════╪═══════════╪═══════════╪═══╪═══════════╪═══════════╪═══════════╪══════════╡\n",
       "│ cathlamet ┆ vashon    ┆ fauntlero ┆ 2020-01-0 ┆ … ┆ 92        ┆ 31.6      ┆ 222       ┆ 55.1     │\n",
       "│           ┆ island    ┆ y         ┆ 1         ┆   ┆           ┆           ┆           ┆          │\n",
       "│           ┆           ┆           ┆ 13:40:00  ┆   ┆           ┆           ┆           ┆          │\n",
       "│           ┆           ┆           ┆ UTC       ┆   ┆           ┆           ┆           ┆          │\n",
       "│ cathlamet ┆ fauntlero ┆ vashon    ┆ 2020-01-0 ┆ … ┆ 87        ┆ 26.2      ┆ 226       ┆ 53.3     │\n",
       "│           ┆ y         ┆ island    ┆ 1         ┆   ┆           ┆           ┆           ┆          │\n",
       "│           ┆           ┆           ┆ 14:10:00  ┆   ┆           ┆           ┆           ┆          │\n",
       "│           ┆           ┆           ┆ UTC       ┆   ┆           ┆           ┆           ┆          │\n",
       "│ cathlamet ┆ vashon    ┆ fauntlero ┆ 2020-01-0 ┆ … ┆ 77        ┆ 34.6      ┆ 211       ┆ 63.4     │\n",
       "│           ┆ island    ┆ y         ┆ 1         ┆   ┆           ┆           ┆           ┆          │\n",
       "│           ┆           ┆           ┆ 14:35:00  ┆   ┆           ┆           ┆           ┆          │\n",
       "│           ┆           ┆           ┆ UTC       ┆   ┆           ┆           ┆           ┆          │\n",
       "│ cathlamet ┆ fauntlero ┆ vashon    ┆ 2020-01-0 ┆ … ┆ 60        ┆ 26.7      ┆ 212       ┆ 56.5     │\n",
       "│           ┆ y         ┆ island    ┆ 1         ┆   ┆           ┆           ┆           ┆          │\n",
       "│           ┆           ┆           ┆ 15:05:00  ┆   ┆           ┆           ┆           ┆          │\n",
       "│           ┆           ┆           ┆ UTC       ┆   ┆           ┆           ┆           ┆          │\n",
       "│ cathlamet ┆ vashon    ┆ southwort ┆ 2020-01-0 ┆ … ┆ 20        ┆ 18.8      ┆ 238       ┆ 54.4     │\n",
       "│           ┆ island    ┆ h         ┆ 1         ┆   ┆           ┆           ┆           ┆          │\n",
       "│           ┆           ┆           ┆ 15:30:00  ┆   ┆           ┆           ┆           ┆          │\n",
       "│           ┆           ┆           ┆ UTC       ┆   ┆           ┆           ┆           ┆          │\n",
       "│ …         ┆ …         ┆ …         ┆ …         ┆ … ┆ …         ┆ …         ┆ …         ┆ …        │\n",
       "│ yakima    ┆ shaw      ┆ anacortes ┆ 2024-07-2 ┆ … ┆ null      ┆ null      ┆ null      ┆ null     │\n",
       "│           ┆ island    ┆           ┆ 5         ┆   ┆           ┆           ┆           ┆          │\n",
       "│           ┆           ┆           ┆ 00:30:00  ┆   ┆           ┆           ┆           ┆          │\n",
       "│           ┆           ┆           ┆ UTC       ┆   ┆           ┆           ┆           ┆          │\n",
       "│ yakima    ┆ orcas     ┆ shaw      ┆ 2024-07-2 ┆ … ┆ null      ┆ null      ┆ null      ┆ null     │\n",
       "│           ┆ island    ┆ island    ┆ 5         ┆   ┆           ┆           ┆           ┆          │\n",
       "│           ┆           ┆           ┆ 01:20:00  ┆   ┆           ┆           ┆           ┆          │\n",
       "│           ┆           ┆           ┆ UTC       ┆   ┆           ┆           ┆           ┆          │\n",
       "│ yakima    ┆ anacortes ┆ lopez     ┆ 2024-07-2 ┆ … ┆ null      ┆ null      ┆ null      ┆ null     │\n",
       "│           ┆           ┆ island    ┆ 5         ┆   ┆           ┆           ┆           ┆          │\n",
       "│           ┆           ┆           ┆ 04:00:00  ┆   ┆           ┆           ┆           ┆          │\n",
       "│           ┆           ┆           ┆ UTC       ┆   ┆           ┆           ┆           ┆          │\n",
       "│ yakima    ┆ lopez     ┆ shaw      ┆ 2024-07-2 ┆ … ┆ null      ┆ null      ┆ null      ┆ null     │\n",
       "│           ┆ island    ┆ island    ┆ 5         ┆   ┆           ┆           ┆           ┆          │\n",
       "│           ┆           ┆           ┆ 04:50:00  ┆   ┆           ┆           ┆           ┆          │\n",
       "│           ┆           ┆           ┆ UTC       ┆   ┆           ┆           ┆           ┆          │\n",
       "│ yakima    ┆ shaw      ┆ orcas     ┆ 2024-07-2 ┆ … ┆ null      ┆ null      ┆ null      ┆ null     │\n",
       "│           ┆ island    ┆ island    ┆ 5         ┆   ┆           ┆           ┆           ┆          │\n",
       "│           ┆           ┆           ┆ 05:10:00  ┆   ┆           ┆           ┆           ┆          │\n",
       "│           ┆           ┆           ┆ UTC       ┆   ┆           ┆           ┆           ┆          │\n",
       "└───────────┴───────────┴───────────┴───────────┴───┴───────────┴───────────┴───────────┴──────────┘"
      ]
     },
     "execution_count": 26,
     "metadata": {},
     "output_type": "execute_result"
    }
   ],
   "source": [
    "import polars.selectors as cs\n",
    "\n",
    "ferry_trips = (\n",
    "    ferry_trips.with_columns(pl.col(\"Date\").dt.round(\"1h\").alias(\"time\"))\n",
    "    .join(\n",
    "        weather.rename(lambda col_name: f\"departing_{col_name}\"),\n",
    "        how=\"left\",\n",
    "        left_on=[\"Departing\", \"time\"],\n",
    "        right_on=[\"departing_terminal_name\", \"departing_time\"],\n",
    "        coalesce=True,\n",
    "    )\n",
    "    .join(\n",
    "        weather.rename(lambda col_name: f\"arriving_{col_name}\"),\n",
    "        how=\"left\",\n",
    "        left_on=[\"Arriving\", \"time\"],\n",
    "        right_on=[\"arriving_terminal_name\", \"arriving_time\"],\n",
    "        coalesce=True,\n",
    "    )\n",
    "    .select(\n",
    "        ~cs.ends_with(\n",
    "            \"latitude\",\n",
    "            \"longitude\",\n",
    "            \"generationtime_ms\",\n",
    "            \"utc_offset_seconds\",\n",
    "            \"timezone\",\n",
    "            \"timezone_abbreviation\",\n",
    "            \"elevation\",\n",
    "            \"hourly_units\",\n",
    "        ),\n",
    "    )\n",
    "    .select(pl.exclude(\"time\"))\n",
    ")\n",
    "ferry_trips"
   ]
  },
  {
   "cell_type": "markdown",
   "metadata": {},
   "source": [
    "## Task 2 - Preprocessing and Modeling\n",
    "\n",
    "### 🔄 Task\n",
    "\n",
    "Define a `scikit-learn` pipeline that\n",
    "\n",
    "- Transform the data for the model to ingest\n",
    "- Trains a random forest model to predict the logged departure delay\n",
    "\n",
    "### 🧑‍💻 Code"
   ]
  },
  {
   "cell_type": "markdown",
   "metadata": {},
   "source": [
    "First we separate the columns in numeric features and categorical features. Our random forest model requires the categorical features be one-hot encoded while our numeric features can be left as-is."
   ]
  },
  {
   "cell_type": "code",
   "execution_count": 27,
   "metadata": {},
   "outputs": [],
   "source": [
    "from sklearn.preprocessing import OneHotEncoder\n",
    "from sklearn.compose import ColumnTransformer\n",
    "\n",
    "numeric_features = [\n",
    "    \"Month\",\n",
    "    \"Weekday\",\n",
    "    \"Hour\",\n",
    "    \"SpeedInKnots\",\n",
    "    \"EngineCount\",\n",
    "    \"Horsepower\",\n",
    "    \"MaxPassengerCount\",\n",
    "    # \"PassengerOnly\",\n",
    "    # \"FastFerry\",\n",
    "    \"YearBuilt\",\n",
    "    \"YearRebuilt\",\n",
    "    \"departing_temperature_2m\",\n",
    "    # \"departing_precipitation\",\n",
    "    \"departing_cloud_cover\",\n",
    "    \"departing_wind_speed_10m\",\n",
    "    \"departing_wind_direction_10m\",\n",
    "    \"departing_wind_gusts_10m\",\n",
    "    \"arriving_temperature_2m\",\n",
    "    # \"arriving_precipitation\",\n",
    "    \"arriving_cloud_cover\",\n",
    "    \"arriving_wind_speed_10m\",\n",
    "    \"arriving_wind_direction_10m\",\n",
    "    \"arriving_wind_gusts_10m\",\n",
    "]\n",
    "categorical_features = [\n",
    "    \"Departing\",\n",
    "    \"Arriving\",\n",
    "    \"ClassName\",\n",
    "    \"PropulsionInfo\",\n",
    "    \"departing_weather_code\",\n",
    "    \"arriving_weather_code\",\n",
    "]\n",
    "\n",
    "\n",
    "preprocessor = ColumnTransformer(\n",
    "    [\n",
    "        (\"num\", \"passthrough\", numeric_features),\n",
    "        (\"cat\", OneHotEncoder(), categorical_features),\n",
    "    ]\n",
    ")"
   ]
  },
  {
   "cell_type": "markdown",
   "metadata": {},
   "source": [
    "Here we define our random forest model."
   ]
  },
  {
   "cell_type": "code",
   "execution_count": 28,
   "metadata": {},
   "outputs": [],
   "source": [
    "from sklearn.ensemble import RandomForestRegressor\n",
    "\n",
    "rf = RandomForestRegressor(verbose=2, random_state=2, n_jobs=-1)"
   ]
  },
  {
   "cell_type": "markdown",
   "metadata": {},
   "source": [
    "Now our preprocessor and random forest model are joined together into a single pipeline. This makes using the model easier as we won't have to feed in pre-processed data - the pipeline will take of that step for us during inference."
   ]
  },
  {
   "cell_type": "code",
   "execution_count": 29,
   "metadata": {},
   "outputs": [],
   "source": [
    "from sklearn.pipeline import Pipeline\n",
    "\n",
    "model = Pipeline([(\"preprocess\", preprocessor), (\"random-forest\", rf)])"
   ]
  },
  {
   "cell_type": "markdown",
   "metadata": {},
   "source": [
    "Now we're filtering the data, keeping only the data from the past year, and then splitting into a train and test set."
   ]
  },
  {
   "cell_type": "code",
   "execution_count": 30,
   "metadata": {},
   "outputs": [
    {
     "name": "stdout",
     "output_type": "stream",
     "text": [
      "Nrows training data: 46485\n",
      "Nrows testing data:  11622\n"
     ]
    }
   ],
   "source": [
    "import datetime\n",
    "\n",
    "\n",
    "from sklearn.model_selection import train_test_split\n",
    "\n",
    "ferry_trips_filtered = ferry_trips.drop_nulls().filter(\n",
    "    pl.col(\"Date\").dt.date() >= (datetime.date.today() - datetime.timedelta(weeks=53))\n",
    ")\n",
    "\n",
    "X = ferry_trips_filtered.drop(\"Vessel\", \"Date\", \"Year\", \"LogDelay\")\n",
    "\n",
    "# TODO: review issues with prototype data\n",
    "X = X.drop(\n",
    "    \"PassengerOnly\",\n",
    "    \"FastFerry\",\n",
    "    \"arriving_precipitation\",\n",
    "    \"departing_precipitation\",\n",
    ")\n",
    "y = ferry_trips_filtered[\"LogDelay\"]\n",
    "\n",
    "X_train, X_test, y_train, y_test = train_test_split(X, y, test_size=0.2, random_state=2)\n",
    "print(f\"Nrows training data: {X_train.shape[0]}\")\n",
    "print(f\"Nrows testing data:  {X_test.shape[0]}\")"
   ]
  },
  {
   "cell_type": "markdown",
   "metadata": {},
   "source": [
    "In order to use the test later for our model card (to be discussed) the test data will be saved to the database."
   ]
  },
  {
   "cell_type": "code",
   "execution_count": 31,
   "metadata": {},
   "outputs": [
    {
     "data": {
      "text/plain": [
       "11622"
      ]
     },
     "execution_count": 31,
     "metadata": {},
     "output_type": "execute_result"
    }
   ],
   "source": [
    "X_test.with_columns(y_test).write_database(\n",
    "    table_name=\"test_data\", connection=db_uri, engine=\"adbc\", if_table_exists=\"replace\"\n",
    ")"
   ]
  },
  {
   "cell_type": "markdown",
   "metadata": {},
   "source": [
    "Finally, we train the model and compute the r-squared using the test data set."
   ]
  },
  {
   "cell_type": "code",
   "execution_count": 32,
   "metadata": {},
   "outputs": [
    {
     "name": "stderr",
     "output_type": "stream",
     "text": [
      "[Parallel(n_jobs=-1)]: Using backend ThreadingBackend with 4 concurrent workers.\n"
     ]
    },
    {
     "name": "stdout",
     "output_type": "stream",
     "text": [
      "building tree 1 of 100\n",
      "building tree 2 of 100\n",
      "building tree 3 of 100\n",
      "building tree 4 of 100\n",
      "building tree 5 of 100\n",
      "building tree 6 of 100\n",
      "building tree 7 of 100\n",
      "building tree 8 of 100\n",
      "building tree 9 of 100\n",
      "building tree 10 of 100\n",
      "building tree 11 of 100\n",
      "building tree 12 of 100\n",
      "building tree 13 of 100\n",
      "building tree 14 of 100\n",
      "building tree 15 of 100\n",
      "building tree 16 of 100\n",
      "building tree 17 of 100\n",
      "building tree 18 of 100\n",
      "building tree 19 of 100\n",
      "building tree 20 of 100\n",
      "building tree 21 of 100\n",
      "building tree 22 of 100\n",
      "building tree 23 of 100\n",
      "building tree 24 of 100\n",
      "building tree 25 of 100\n",
      "building tree 26 of 100\n",
      "building tree 27 of 100\n",
      "building tree 28 of 100\n",
      "building tree 29 of 100\n",
      "building tree 30 of 100\n",
      "building tree 31 of 100\n",
      "building tree 32 of 100\n",
      "building tree 33 of 100\n",
      "building tree 34 of 100\n",
      "building tree 35 of 100\n",
      "building tree 36 of 100\n",
      "building tree 37 of 100\n"
     ]
    },
    {
     "name": "stderr",
     "output_type": "stream",
     "text": [
      "[Parallel(n_jobs=-1)]: Done  33 tasks      | elapsed:  3.0min\n"
     ]
    },
    {
     "name": "stdout",
     "output_type": "stream",
     "text": [
      "building tree 38 of 100\n",
      "building tree 39 of 100\n",
      "building tree 40 of 100\n",
      "building tree 41 of 100\n",
      "building tree 42 of 100\n",
      "building tree 43 of 100\n",
      "building tree 44 of 100\n",
      "building tree 45 of 100\n",
      "building tree 46 of 100\n",
      "building tree 47 of 100\n",
      "building tree 48 of 100\n",
      "building tree 49 of 100\n",
      "building tree 50 of 100\n",
      "building tree 51 of 100\n",
      "building tree 52 of 100\n",
      "building tree 53 of 100\n",
      "building tree 54 of 100\n",
      "building tree 55 of 100\n",
      "building tree 56 of 100\n",
      "building tree 57 of 100\n",
      "building tree 58 of 100\n",
      "building tree 59 of 100\n",
      "building tree 60 of 100\n",
      "building tree 61 of 100\n",
      "building tree 62 of 100\n",
      "building tree 63 of 100\n",
      "building tree 64 of 100\n",
      "building tree 65 of 100\n",
      "building tree 66 of 100\n",
      "building tree 67 of 100\n",
      "building tree 68 of 100\n",
      "building tree 69 of 100\n",
      "building tree 70 of 100\n",
      "building tree 71 of 100\n",
      "building tree 72 of 100\n",
      "building tree 73 of 100\n",
      "building tree 74 of 100\n",
      "building tree 75 of 100\n",
      "building tree 76 of 100\n",
      "building tree 77 of 100\n",
      "building tree 78 of 100\n",
      "building tree 79 of 100\n",
      "building tree 80 of 100\n",
      "building tree 81 of 100\n",
      "building tree 82 of 100\n",
      "building tree 83 of 100\n",
      "building tree 84 of 100\n",
      "building tree 85 of 100\n",
      "building tree 86 of 100\n",
      "building tree 87 of 100\n",
      "building tree 88 of 100\n",
      "building tree 89 of 100\n",
      "building tree 90 of 100\n",
      "building tree 91 of 100\n",
      "building tree 92 of 100\n",
      "building tree 93 of 100\n",
      "building tree 94 of 100\n",
      "building tree 95 of 100\n",
      "building tree 96 of 100\n",
      "building tree 97 of 100\n",
      "building tree 98 of 100\n",
      "building tree 99 of 100\n",
      "building tree 100 of 100\n"
     ]
    },
    {
     "name": "stderr",
     "output_type": "stream",
     "text": [
      "[Parallel(n_jobs=-1)]: Done 100 out of 100 | elapsed:  8.6min finished\n",
      "[Parallel(n_jobs=4)]: Using backend ThreadingBackend with 4 concurrent workers.\n",
      "[Parallel(n_jobs=4)]: Done  33 tasks      | elapsed:    0.1s\n"
     ]
    },
    {
     "name": "stdout",
     "output_type": "stream",
     "text": [
      "CPU times: user 29min 18s, sys: 19.7 s, total: 29min 37s\n",
      "Wall time: 8min 38s\n"
     ]
    },
    {
     "name": "stderr",
     "output_type": "stream",
     "text": [
      "[Parallel(n_jobs=4)]: Done 100 out of 100 | elapsed:    0.3s finished\n"
     ]
    },
    {
     "data": {
      "text/plain": [
       "0.32387919683985134"
      ]
     },
     "execution_count": 32,
     "metadata": {},
     "output_type": "execute_result"
    }
   ],
   "source": [
    "%%time\n",
    "model.fit(X_train.to_pandas(), y_train)\n",
    "model.score(X_test, y_test)"
   ]
  },
  {
   "cell_type": "markdown",
   "metadata": {},
   "source": [
    "## Task 3 - Deploying\n",
    "\n",
    "### 🔄 Task\n",
    "\n",
    "- Deploy the model using `vetiver` and `pins` onto Posit Connect\n",
    "- Deploy an API around the model onto Posit\n",
    "\n",
    "### 🧑‍💻 Code"
   ]
  },
  {
   "cell_type": "code",
   "execution_count": 33,
   "metadata": {},
   "outputs": [],
   "source": [
    "from vetiver import VetiverModel\n",
    "\n",
    "v = VetiverModel(\n",
    "    model, model_name=f\"{username}/ferry_delay\", prototype_data=X.to_pandas()\n",
    ")"
   ]
  },
  {
   "cell_type": "code",
   "execution_count": 34,
   "metadata": {},
   "outputs": [
    {
     "name": "stderr",
     "output_type": "stream",
     "text": [
      "Model Cards provide a framework for transparent, responsible reporting. \n",
      " Use the vetiver `.qmd` Quarto template as a place to start, \n",
      " with vetiver.model_card()\n",
      "Writing pin:\n",
      "Name: 'brooklynbagel/ferry_delay'\n",
      "Version: 20240731T160515Z-24e71\n"
     ]
    }
   ],
   "source": [
    "import pins\n",
    "import vetiver\n",
    "\n",
    "model_board = pins.board_connect(\n",
    "    server_url=connect_url, api_key=connect_api_key, allow_pickle_read=True\n",
    ")\n",
    "vetiver.vetiver_pin_write(model_board, model=v)"
   ]
  },
  {
   "cell_type": "code",
   "execution_count": 35,
   "metadata": {},
   "outputs": [
    {
     "name": "stdout",
     "output_type": "stream",
     "text": [
      "\u001b[33m    Warning: Capturing the environment using 'pip freeze'.\n",
      "             Consider creating a requirements.txt file instead.\u001b[0m\n"
     ]
    },
    {
     "name": "stderr",
     "output_type": "stream",
     "text": [
      "/home/brooklynbagel/ds-workflows-python/materials/03-model-training/.venv/lib/python3.12/site-packages/vetiver/write_fastapi.py:21: UserWarning: Pinned vetiver model has no active version and no datetime on versions,\n",
      "              Do you need to check your pinned model?\n",
      "              Using version 121\n",
      "  warnings.warn(\n",
      "\u001b[0mValidating server...\u001b[0m\u001b[32;20m \t[OK]\n",
      "\u001b[0m\u001b[0mValidating app mode...\u001b[0m\u001b[32;20m \t[OK]\n",
      "\u001b[0m\u001b[0mMaking bundle ...\u001b[0m\u001b[32;20m \t[OK]\n",
      "\u001b[0m\u001b[0mDeploying bundle ...\u001b[0m\u001b[32;20m \t[OK]\n",
      "\u001b[0m\u001b[0mSaving deployed information...\u001b[0m\u001b[32;20m \t[OK]\n",
      "\u001b[0m\u001b[0mBuilding FastAPI application...\u001b[0m\n",
      "\u001b[0mBundle created with Python version 3.12.4 is compatible with environment Kubernetes::docker.io/brooklynbagel/conf2024-ds-workflows:r4.4.0-py3.12.3-quarto1.4.557-ubuntu22.04 with Python version 3.12.3 from /opt/python/3.12.3/bin/python \u001b[0m\n",
      "\u001b[0mBundle requested Python version 3.12.4; using /opt/python/3.12.3/bin/python from Kubernetes::docker.io/brooklynbagel/conf2024-ds-workflows:r4.4.0-py3.12.3-quarto1.4.557-ubuntu22.04 which has version 3.12.3\u001b[0m\n",
      "\u001b[0mDetermining session server location ...\u001b[0m\n",
      "\u001b[0m2024/07/31 16:07:31.719927892 [rsc-session] Content GUID: 47789420-d8fe-4495-b494-39d0fbf57ad2\u001b[0m\n",
      "\u001b[0m2024/07/31 16:07:31.719984541 [rsc-session] Content ID: 43\u001b[0m\n",
      "\u001b[0m2024/07/31 16:07:31.719991878 [rsc-session] Bundle ID: 122\u001b[0m\n",
      "\u001b[0m2024/07/31 16:07:31.719997496 [rsc-session] Job Key: qD7sxL2W3aweCjE3\u001b[0m\n",
      "\u001b[0mConnecting to session server http://service-6d67338d-2e44-4f8f-b9da-91942e6a9106.posit-team:50734 ...\u001b[0m\n",
      "\u001b[0mConnected to session server http://service-6d67338d-2e44-4f8f-b9da-91942e6a9106.posit-team:50734\u001b[0m\n",
      "\u001b[0m2024/07/31 16:07:31.929423914 Running on host: python-environment-restore-hndlw-9bcdm\u001b[0m\n",
      "\u001b[0m2024/07/31 16:07:31.939457015 Linux distribution: Ubuntu 22.04.4 LTS (jammy)\u001b[0m\n",
      "\u001b[0m2024/07/31 16:07:31.942062994 Running as user: uid=999 gid=999 groups=999\u001b[0m\n",
      "\u001b[0m2024/07/31 16:07:31.942081421 Connect version: 2024.07.0-dev+44-g9ec39e3fb4\n",
      "2024/07/31 16:07:31.942138976 LANG: en_US.UTF-8\u001b[0m\n",
      "\u001b[0m2024/07/31 16:07:31.942143564 Working directory: /opt/rstudio-connect/mnt/app\u001b[0m\n",
      "\u001b[0m2024/07/31 16:07:31.942153361 Building environment using Python 3.12.3 (main, May  1 2024, 21:22:54) [GCC 11.4.0] at /opt/python/3.12.3/bin/python\u001b[0m\n",
      "\u001b[0m2024/07/31 16:07:31.956495974 Skipped packages: setuptools==70.0.0\u001b[0m\n",
      "\u001b[0m2024/07/31 16:07:31.956511254 Using cached environment: r5fyp6VpsHTFrcmGNUAqVA\u001b[0m\n",
      "\u001b[0m2024/07/31 16:07:33.790678741 Packages in the environment: adbc-driver-manager==1.1.0, adbc-driver-postgresql==1.1.0, aiofiles==24.1.0, annotated-types==0.7.0, anyio==4.4.0, appdirs==1.4.4, argon2-cffi==23.1.0, argon2-cffi-bindings==21.2.0, arrow==1.3.0, asttokens==2.4.1, async-lru==2.0.4, atpublic==4.1.0, attrs==23.2.0, Babel==2.15.0, beautifulsoup4==4.12.3, bidict==0.23.1, bleach==6.1.0, bokeh==3.4.1, build==1.2.1, certifi==2024.6.2, cffi==1.16.0, charset-normalizer==3.3.2, click==8.1.7, colorcet==3.1.0, comm==0.2.2, contourpy==1.2.1, debugpy==1.8.1, decorator==5.1.1, defusedxml==0.7.1, dnspython==2.6.1, email_validator==2.1.1, executing==2.0.1, fastapi==0.111.0, fastapi-cli==0.0.4, fastjsonschema==2.19.1, fqdn==1.5.1, fsspec==2024.6.0, h11==0.14.0, holoviews==1.18.3, httpcore==1.0.5, httptools==0.6.1, httpx==0.27.0, humanize==4.9.0, hvplot==0.10.0, ibis-framework==9.1.0, idna==3.7, importlib_metadata==7.1.0, importlib_resources==6.4.0, ipykernel==6.29.4, ipython==8.25.0, ipywidgets==8.1.3, isoduration==20.11.0, jedi==0.19.1, Jinja2==3.1.4, joblib==1.4.2, json5==0.9.25, jsonpointer==2.4, jsonschema==4.22.0, jsonschema-specifications==2023.12.1, jupyter==1.0.0, jupyter-console==6.6.3, jupyter-events==0.10.0, jupyter-lsp==2.2.5, jupyter_client==8.6.2, jupyter_core==5.7.2, jupyter_server==2.14.1, jupyter_server_terminals==0.5.3, jupyterlab==4.2.1, jupyterlab_pygments==0.3.0, jupyterlab_server==2.27.2, jupyterlab_widgets==3.0.11, linkify-it-py==2.0.3, Markdown==3.6, markdown-it-py==3.0.0, MarkupSafe==2.1.5, matplotlib-inline==0.1.7, mdit-py-plugins==0.4.1, mdurl==0.1.2, mistune==3.0.2, nbclient==0.10.0, nbconvert==7.16.4, nbformat==5.10.4, nest-asyncio==1.6.0, notebook==7.2.1, notebook_shim==0.2.4, numpy==1.26.4, orjson==3.10.3, overrides==7.7.0, packaging==24.0, pandas==2.2.2, pandocfilters==1.5.1, panel==1.4.4, param==2.1.0, parso==0.8.4, parsy==2.1, pexpect==4.9.0, pillow==10.3.0, pins==0.8.6, pip-tools==7.4.1, platformdirs==4.2.2, plotly==5.22.0, polars==0.20.31, posit-sdk==0.2.2, prometheus_client==0.20.0, prompt_toolkit==3.0.46, psutil==5.9.8, psycopg2==2.9.9, ptyprocess==0.7.0, pure-eval==0.2.2, pyarrow==16.1.0, pyarrow-hotfix==0.6, pycparser==2.22, pydantic==2.7.3, pydantic_core==2.18.4, Pygments==2.18.0, PyJWT==2.8.0, pyproject_hooks==1.1.0, python-dateutil==2.9.0.post0, python-dotenv==1.0.1, python-json-logger==2.0.7, python-multipart==0.0.9, pytz==2024.1, pyviz_comms==3.0.2, PyYAML==6.0.1, pyzmq==26.0.3, qtconsole==5.5.2, QtPy==2.4.1, referencing==0.35.1, requests==2.32.3, rfc3339-validator==0.1.4, rfc3986-validator==0.1.1, rich==13.7.1, rpds-py==0.18.1, rsconnect_python==1.24.0, scikit-learn==1.5.0, scipy==1.13.1, semver==2.13.0, Send2Trash==1.8.3, setuptools==70.3.0, shellingham==1.5.4, six==1.16.0, sniffio==1.3.1, soupsieve==2.5, sqlglot==25.1.0, stack-data==0.6.3, starlette==0.37.2, tenacity==8.3.0, terminado==0.18.1, threadpoolctl==3.5.0, tinycss2==1.3.0, toolz==0.12.1, tornado==6.4.1, tqdm==4.66.4, traitlets==5.14.3, typer==0.12.3, types-python-dateutil==2.9.0.20240316, typing_extensions==4.12.2, tzdata==2024.1, uc-micro-py==1.0.3, ujson==5.10.0, uri-template==1.3.0, urllib3==2.2.1, uvicorn==0.30.1, uvloop==0.19.0, vetiver==0.2.5, watchfiles==0.22.0, wcwidth==0.2.13, webcolors==24.6.0, webencodings==0.5.1, websocket-client==1.8.0, websockets==12.0, wheel==0.43.0, widgetsnbextension==4.0.11, wsproto==1.2.0, xxhash==3.4.1, xyzservices==2024.6.0, zipp==3.19.2, \u001b[0m\n",
      "\u001b[0m2024/07/31 16:07:33.792919894 Creating lockfile: python/requirements.txt.lock\u001b[0m\n",
      "\u001b[0mCompleted Python build using Kubernetes::docker.io/brooklynbagel/conf2024-ds-workflows:r4.4.0-py3.12.3-quarto1.4.557-ubuntu22.04 against Python version: '3.12.3'\u001b[0m\n",
      "\u001b[0mStopped session pings to http://service-6d67338d-2e44-4f8f-b9da-91942e6a9106.posit-team:50734\u001b[0m\n",
      "\u001b[0mLaunching FastAPI application...\u001b[0m\n",
      "\u001b[0mDeployment completed successfully.\u001b[0m\n",
      "\u001b[0m\t Dashboard content URL: https://pub.ferryland.posit.team/connect/#/apps/47789420-d8fe-4495-b494-39d0fbf57ad2/access\u001b[0m\n",
      "\u001b[0m\t Direct content URL: https://pub.ferryland.posit.team/content/47789420-d8fe-4495-b494-39d0fbf57ad2/\u001b[0m\n"
     ]
    },
    {
     "name": "stdout",
     "output_type": "stream",
     "text": [
      "CPU times: user 167 ms, sys: 29.3 ms, total: 196 ms\n",
      "Wall time: 17.9 s\n"
     ]
    }
   ],
   "source": [
    "%%time\n",
    "from rsconnect.api import RSConnectServer\n",
    "\n",
    "connect_server = RSConnectServer(url=connect_url, api_key=connect_api_key)\n",
    "vetiver.deploy_rsconnect(\n",
    "    connect_server=connect_server,\n",
    "    board=model_board,\n",
    "    pin_name=f\"{username}/ferry_delay\",\n",
    ")"
   ]
  },
  {
   "cell_type": "markdown",
   "metadata": {},
   "source": [
    "## Task 4 - Model Card\n",
    "\n",
    "### 🔄 Task\n",
    "\n",
    "- Use a model card to describe various metrics for how the model performs\n",
    "- Deploy the card to Connect\n",
    "\n",
    "### 🧑‍💻 Code"
   ]
  },
  {
   "cell_type": "code",
   "execution_count": null,
   "metadata": {},
   "outputs": [],
   "source": [
    "# vetiver.templates.model_card()"
   ]
  }
 ],
 "metadata": {
  "kernelspec": {
   "display_name": ".venv",
   "language": "python",
   "name": "python3"
  },
  "language_info": {
   "codemirror_mode": {
    "name": "ipython",
    "version": 3
   },
   "file_extension": ".py",
   "mimetype": "text/x-python",
   "name": "python",
   "nbconvert_exporter": "python",
   "pygments_lexer": "ipython3",
   "version": "3.12.4"
  }
 },
 "nbformat": 4,
 "nbformat_minor": 2
}

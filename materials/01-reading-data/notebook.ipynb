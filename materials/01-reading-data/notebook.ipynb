{
 "cells": [
  {
   "cell_type": "markdown",
   "metadata": {},
   "source": [
    "# Reading data\n",
    "\n",
    "In this exercise we will cover how to use polars to read data from external data sources.\n",
    "\n",
    "There are two primary data sources we will use:\n",
    "\n",
    "1. Ferry data: https://wsdot.wa.gov/\n",
    "2. Weather data: https://open-meteo.com/\n",
    "\n",
    "Specifically, there are 4 data sets we will focus on:\n",
    "\n",
    "Vessel History: <https://www.wsdot.wa.gov/ferries/api/vessels/rest/help/operations/GetAllVessels>\n",
    "\n",
    "```\n",
    "https://www.wsdot.wa.gov/Ferries/API/Vessels/rest/vesselhistory?apiaccesscode={APIACCESSCODE}\n",
    "```\n",
    "\n",
    "Terminal Locations: <https://www.wsdot.wa.gov/Ferries/API/terminals/rest/help/operations/GetAllTerminalLocations>\n",
    "\n",
    "```\n",
    "https://www.wsdot.wa.gov/Ferries/API/Terminals/rest/terminallocations?apiaccesscode={APIACCESSCODE}\n",
    "```\n",
    "\n",
    "Vessel Verbose: <https://www.wsdot.wa.gov/ferries/api/vessels/rest/help/operations/GetAllVesselVerboseDetails>\n",
    "\n",
    "```\n",
    "https://www.wsdot.wa.gov/Ferries/API/Vessels/rest/vesselverbose?apiaccesscode={APIACCESSCODE}\n",
    "```\n",
    "\n",
    "Weather data: <https://open-meteo.com/en/docs/historical-weather-api#start_date=2022-12-01&end_date=2022-12-31&hourly=temperature_2m,precipitation,weather_code,wind_speed_10m,wind_direction_10m,wind_gusts_10m&timezone=America%2FLos_Angeles>\n",
    "\n",
    "```\n",
    "https://archive-api.open-meteo.com/v1/archive?latitude=47.623651&longitude=122.360291&start_date=2022-12-01&end_date=2022-12-31&hourly=temperature_2m,precipitation,weather_code,wind_speed_10m,wind_direction_10m,wind_gusts_10m&timezone=America%2FLos_Angeles\n",
    "```"
   ]
  },
  {
   "cell_type": "markdown",
   "metadata": {},
   "source": [
    "## Task 1 - read data"
   ]
  },
  {
   "cell_type": "markdown",
   "metadata": {},
   "source": [
    "### 🔄 Task"
   ]
  },
  {
   "cell_type": "markdown",
   "metadata": {},
   "source": [
    "- Download the **Vessel Verbose** data\n",
    "- Convert the data into a polars dataframe"
   ]
  },
  {
   "cell_type": "markdown",
   "metadata": {},
   "source": [
    "### 🧑‍💻 Code"
   ]
  },
  {
   "cell_type": "markdown",
   "metadata": {},
   "source": [
    "The State of Washington data portal uses makes data available over an API. The API has lots of features, you can read more about how to use it here: <https://wsdot.wa.gov/traffic/api/>.\n",
    "\n",
    "To download the data, many persons first instinct is to download via:\n",
    "\n",
    "- Clicking through your web browser.\n",
    "- Via the curl command in the terminal.\n",
    "\n",
    "```bash\n",
    "WSDOT_ACCESS_CODE='xxxx-xxxx-xxxx-xxxx-xxxx'\n",
    "curl \"https://www.wsdot.wa.gov/Ferries/API/Vessels/rest/vesselverbose?apiaccesscode=${WSDOT_ACCESS_CODE}\"\n",
    "```\n",
    "\n",
    "There is a better way though! Using httpx we can download the data as JSON and then convert it into a Python dictionary. Then we use polars to create a DataFrame directly from the dictionary. First, lets download the data using httpx."
   ]
  },
  {
   "cell_type": "code",
   "execution_count": null,
   "metadata": {
    "tags": []
   },
   "outputs": [],
   "source": [
    "import os\n",
    "from pathlib import Path\n",
    "\n",
    "import httpx\n",
    "from dotenv import load_dotenv"
   ]
  },
  {
   "cell_type": "code",
   "execution_count": null,
   "metadata": {
    "tags": []
   },
   "outputs": [],
   "source": [
    "base_url = \"https://www.wsdot.wa.gov/Ferries/API/Vessels/rest\"\n",
    "path = \"vesselverbose\""
   ]
  },
  {
   "cell_type": "code",
   "execution_count": null,
   "metadata": {
    "tags": []
   },
   "outputs": [],
   "source": [
    "# Get the API key from an environment variable.\n",
    "if Path(\".env\").exists():\n",
    "    load_dotenv()\n",
    "\n",
    "ws_dot_access_code = os.environ[\"WSDOT_ACCESS_CODE\"]"
   ]
  },
  {
   "cell_type": "code",
   "execution_count": null,
   "metadata": {
    "tags": []
   },
   "outputs": [],
   "source": [
    "# Define our params in a dictionary.\n",
    "params = {\"apiaccesscode\": ws_dot_access_code}\n",
    "\n",
    "with httpx.Client(base_url=base_url, params=params) as client:\n",
    "    response = client.get(path)\n",
    "\n",
    "response"
   ]
  },
  {
   "cell_type": "markdown",
   "metadata": {},
   "source": [
    "The `Response` object from httpx has several methods and attributes we can use to get more info about the request, and the response."
   ]
  },
  {
   "cell_type": "code",
   "execution_count": null,
   "metadata": {
    "tags": []
   },
   "outputs": [],
   "source": [
    "# The URL that was used to make the request.\n",
    "response.url"
   ]
  },
  {
   "cell_type": "code",
   "execution_count": null,
   "metadata": {
    "tags": []
   },
   "outputs": [],
   "source": [
    "# The status of the response\n",
    "response.status_code"
   ]
  },
  {
   "cell_type": "code",
   "execution_count": null,
   "metadata": {
    "tags": []
   },
   "outputs": [],
   "source": [
    "# Convert the response from JSON to a dictionary.\n",
    "response.json()"
   ]
  },
  {
   "cell_type": "code",
   "execution_count": null,
   "metadata": {
    "tags": []
   },
   "outputs": [],
   "source": [
    "# Check how many records are in the response.\n",
    "len(response.json())"
   ]
  },
  {
   "cell_type": "code",
   "execution_count": null,
   "metadata": {
    "tags": []
   },
   "outputs": [],
   "source": [
    "# Use the pprint function from rich for nicer formatting of the dictionary data.\n",
    "from rich.pretty import pprint"
   ]
  },
  {
   "cell_type": "code",
   "execution_count": null,
   "metadata": {
    "tags": []
   },
   "outputs": [],
   "source": [
    "pprint(response.json()[0])"
   ]
  },
  {
   "cell_type": "markdown",
   "metadata": {},
   "source": [
    "Lastly, we can use polars to convert the dictionary into a DataFrame.\n"
   ]
  },
  {
   "cell_type": "code",
   "execution_count": null,
   "metadata": {},
   "outputs": [],
   "source": [
    "import polars as pl"
   ]
  },
  {
   "cell_type": "code",
   "execution_count": null,
   "metadata": {},
   "outputs": [],
   "source": [
    "vessel_verbose_raw = pl.DataFrame(response.json())\n",
    "vessel_verbose_raw"
   ]
  },
  {
   "cell_type": "markdown",
   "metadata": {},
   "source": [
    "## Task 2 - write data to database"
   ]
  },
  {
   "cell_type": "markdown",
   "metadata": {},
   "source": [
    "### 🔄 Task"
   ]
  },
  {
   "cell_type": "markdown",
   "metadata": {},
   "source": [
    "- Save `vessel_verbose_raw` to our database.\n",
    "- Ideally we want to do most of our data tidying in \"Step 2\", but this dataset has a struct that won't save to the database. So we will need to do some tidying at this phase.\n",
    "- This way, we do not need to hit the API every time we need to interact with the raw data."
   ]
  },
  {
   "cell_type": "markdown",
   "metadata": {},
   "source": [
    "### 🧑‍💻 Code"
   ]
  },
  {
   "cell_type": "markdown",
   "metadata": {},
   "source": [
    "The column `Class` is a struct. Each row contains a dictionary object of key value pairs."
   ]
  },
  {
   "cell_type": "code",
   "execution_count": null,
   "metadata": {},
   "outputs": [],
   "source": [
    "vessel_verbose_raw.get_column(\"Class\")"
   ]
  },
  {
   "cell_type": "code",
   "execution_count": null,
   "metadata": {},
   "outputs": [],
   "source": [
    "vessel_verbose_raw.get_column(\"Class\").to_list()[0]"
   ]
  },
  {
   "cell_type": "markdown",
   "metadata": {},
   "source": [
    "This data would be easier to work with if it was in a tabular format, and not a nested dictionary. To do this, unnest the `Class` struct so that each data point is in its own column."
   ]
  },
  {
   "cell_type": "code",
   "execution_count": null,
   "metadata": {
    "tags": []
   },
   "outputs": [],
   "source": [
    "vessel_verbose_raw = vessel_verbose_raw.unnest(\"Class\")"
   ]
  },
  {
   "cell_type": "code",
   "execution_count": null,
   "metadata": {
    "tags": []
   },
   "outputs": [],
   "source": [
    "vessel_verbose_raw.head(2)"
   ]
  },
  {
   "cell_type": "markdown",
   "metadata": {
    "tags": []
   },
   "source": [
    "VesselDrawingImg only as null values, so we should drop it."
   ]
  },
  {
   "cell_type": "code",
   "execution_count": null,
   "metadata": {
    "tags": []
   },
   "outputs": [],
   "source": [
    "vessel_verbose_raw.get_column(\"VesselDrawingImg\").value_counts()"
   ]
  },
  {
   "cell_type": "code",
   "execution_count": null,
   "metadata": {
    "tags": []
   },
   "outputs": [],
   "source": [
    "vessel_verbose_raw = vessel_verbose_raw.drop(\"VesselDrawingImg\")"
   ]
  },
  {
   "cell_type": "markdown",
   "metadata": {},
   "source": [
    "Now we can write the data to the database."
   ]
  },
  {
   "cell_type": "code",
   "execution_count": null,
   "metadata": {
    "tags": []
   },
   "outputs": [],
   "source": [
    "uri = os.environ[\"DATABASE_URI_PYTHON\"]"
   ]
  },
  {
   "cell_type": "code",
   "execution_count": null,
   "metadata": {
    "tags": []
   },
   "outputs": [],
   "source": [
    "# Write to the database\n",
    "vessel_verbose_raw.write_database(\n",
    "    table_name=\"vessel_verbose_raw\",\n",
    "    connection=uri,\n",
    "    engine=\"adbc\",\n",
    "    if_table_exists='replace'\n",
    ")"
   ]
  },
  {
   "cell_type": "markdown",
   "metadata": {},
   "source": [
    "To reuse this data in future code we can use `pl.read_database_uri`."
   ]
  },
  {
   "cell_type": "code",
   "execution_count": null,
   "metadata": {
    "tags": []
   },
   "outputs": [],
   "source": [
    "# Test that you can read the data\n",
    "pl.read_database_uri(\n",
    "    query=\"SELECT * FROM vessel_verbose_raw LIMIT 5;\",\n",
    "    uri=uri,\n",
    "    engine=\"adbc\"\n",
    ")"
   ]
  },
  {
   "cell_type": "markdown",
   "metadata": {},
   "source": [
    "## Task 3 - Get Other Data Sets"
   ]
  },
  {
   "cell_type": "markdown",
   "metadata": {},
   "source": [
    "### 🔄 Task"
   ]
  },
  {
   "cell_type": "markdown",
   "metadata": {},
   "source": [
    "Get the following additional data sets:\n",
    "\n",
    "- **Vessel History**: the `https://www.wsdot.wa.gov/Ferries/API/Vessels/rest/vesselhistory` endpoint contains historical data about sailings.\n",
    "- **Terminal locations**: the `https://www.wsdot.wa.gov/Ferries/API/terminals/rest/terminallocations` endpoint contains information about ferry terminals locations.\n",
    "- **Weather data**:"
   ]
  },
  {
   "cell_type": "markdown",
   "metadata": {},
   "source": [
    "### 🧑‍💻 Code"
   ]
  },
  {
   "cell_type": "markdown",
   "metadata": {},
   "source": [
    "#### Vessel History"
   ]
  },
  {
   "cell_type": "code",
   "execution_count": null,
   "metadata": {
    "tags": []
   },
   "outputs": [],
   "source": [
    "# Get all of the vessel names\n",
    "base_url = \"https://www.wsdot.wa.gov/Ferries/API/Vessels/rest\"\n",
    "params = {\"apiaccesscode\": os.environ[\"WSDOT_ACCESS_CODE\"]}\n",
    "\n",
    "with httpx.Client(base_url=base_url, params=params) as client:\n",
    "    response = client.get(\"/vesselverbose\")\n",
    "\n",
    "vessel_names = [i[\"VesselName\"] for i in response.json()]\n",
    "vessel_names"
   ]
  },
  {
   "cell_type": "code",
   "execution_count": null,
   "metadata": {
    "tags": []
   },
   "outputs": [],
   "source": [
    "# For each vessel, get all of the history from the desired date range. Define\n",
    "# the start date and end date.\n",
    "import datetime"
   ]
  },
  {
   "cell_type": "code",
   "execution_count": null,
   "metadata": {
    "tags": []
   },
   "outputs": [],
   "source": [
    "# To speed things up, I recommend using a more recent date, for example\n",
    "# try using datetime.date(2024, 3, 1)\n",
    "start_date = datetime.date(2020, 1, 1)\n",
    "start_date"
   ]
  },
  {
   "cell_type": "code",
   "execution_count": null,
   "metadata": {
    "tags": []
   },
   "outputs": [],
   "source": [
    "# Subtract 1 week from today, the Weather API has a 5 day delay.\n",
    "end_date = datetime.date.today() - datetime.timedelta(weeks=1)\n",
    "end_date"
   ]
  },
  {
   "cell_type": "markdown",
   "metadata": {},
   "source": [
    "The vessel history data set is much larger. Instead of httpx, we will use hishel, which has built in easy caching. This is really useful when you are developing, and will prevent you from hitting the API too many times."
   ]
  },
  {
   "cell_type": "code",
   "execution_count": null,
   "metadata": {
    "tags": []
   },
   "outputs": [],
   "source": [
    "import hishel\n",
    "\n",
    "controller = hishel.Controller(allow_heuristics=True)\n",
    "cache_transport = hishel.CacheTransport(\n",
    "    transport=httpx.HTTPTransport(), controller=controller\n",
    ")"
   ]
  },
  {
   "cell_type": "code",
   "execution_count": null,
   "metadata": {
    "tags": []
   },
   "outputs": [],
   "source": [
    "%%time\n",
    "# Get the vessel history for each vessel.\n",
    "vessel_history_json = []\n",
    "\n",
    "for vessel_name in vessel_names:\n",
    "    print(f\"Getting vessel history for {vessel_name}...\")\n",
    "    with httpx.Client(\n",
    "        base_url=base_url, params=params, transport=cache_transport\n",
    "    ) as client:\n",
    "        response = client.get(\n",
    "            f\"/vesselhistory/{vessel_name}/{start_date}/{end_date}\", timeout=30\n",
    "        )\n",
    "        print(f\"\\t{len(response.json()):,} records retrieved for {vessel_name}.\")\n",
    "        print(f\"\\tCache used: {response.extensions['from_cache']}\")\n",
    "\n",
    "    vessel_history_json += response.json()"
   ]
  },
  {
   "cell_type": "code",
   "execution_count": null,
   "metadata": {
    "tags": []
   },
   "outputs": [],
   "source": [
    "# Check how many records were returned.\n",
    "f\"{len(vessel_history_json):,}\""
   ]
  },
  {
   "cell_type": "code",
   "execution_count": null,
   "metadata": {
    "tags": []
   },
   "outputs": [],
   "source": [
    "# Preview the first two records.\n",
    "vessel_history_json[0:2]"
   ]
  },
  {
   "cell_type": "code",
   "execution_count": null,
   "metadata": {
    "tags": []
   },
   "outputs": [],
   "source": [
    "# Convert the data from JSON to a polars DataFrame\n",
    "vessel_history_raw = pl.DataFrame(vessel_history_json)\n",
    "vessel_history_raw"
   ]
  },
  {
   "cell_type": "code",
   "execution_count": null,
   "metadata": {
    "tags": []
   },
   "outputs": [],
   "source": [
    "# Write to the database\n",
    "vessel_history_raw.write_database(\n",
    "    table_name=\"vessel_history_raw\",\n",
    "    connection=uri,\n",
    "    engine=\"adbc\",\n",
    "    if_table_exists='replace'\n",
    ")"
   ]
  },
  {
   "cell_type": "markdown",
   "metadata": {},
   "source": [
    "#### Terminal Locations"
   ]
  },
  {
   "cell_type": "code",
   "execution_count": null,
   "metadata": {
    "tags": []
   },
   "outputs": [],
   "source": [
    "# Get all of the terminal location data\n",
    "base_url = \"https://www.wsdot.wa.gov/Ferries/API/terminals/rest\"\n",
    "params = {\"apiaccesscode\": os.environ[\"WSDOT_ACCESS_CODE\"]}\n",
    "\n",
    "with httpx.Client(base_url=base_url, params=params) as client:\n",
    "    response = client.get(\"/terminallocations\")"
   ]
  },
  {
   "cell_type": "code",
   "execution_count": null,
   "metadata": {
    "tags": []
   },
   "outputs": [],
   "source": [
    "# Check how many records were returned.\n",
    "f\"{len(response.json()):,}\""
   ]
  },
  {
   "cell_type": "code",
   "execution_count": null,
   "metadata": {
    "tags": []
   },
   "outputs": [],
   "source": [
    "# Preview the first two records.\n",
    "response.json()[0:2]"
   ]
  },
  {
   "cell_type": "code",
   "execution_count": null,
   "metadata": {
    "tags": []
   },
   "outputs": [],
   "source": [
    "# List all of the terminal names\n",
    "{terminal[\"TerminalName\"]: terminal[\"TerminalAbbrev\"] for terminal in response.json()}"
   ]
  },
  {
   "cell_type": "code",
   "execution_count": null,
   "metadata": {
    "tags": []
   },
   "outputs": [],
   "source": [
    "terminal_locations_raw = pl.DataFrame(response.json())\n",
    "terminal_locations_raw"
   ]
  },
  {
   "cell_type": "markdown",
   "metadata": {},
   "source": [
    "Before saving to the database drop the DispGISZoomLoc which we will not need and is not in a format supported by the database."
   ]
  },
  {
   "cell_type": "code",
   "execution_count": null,
   "metadata": {
    "tags": []
   },
   "outputs": [],
   "source": [
    "# Write to the database\n",
    "terminal_locations_raw.drop(\"DispGISZoomLoc\").write_database(\n",
    "    table_name=\"terminal_locations_raw\",\n",
    "    connection=uri,\n",
    "    engine=\"adbc\",\n",
    "    if_table_exists='replace'\n",
    ")"
   ]
  },
  {
   "cell_type": "markdown",
   "metadata": {},
   "source": [
    "#### Terminal Weather\n",
    "\n",
    "Get the weather data from <https://open-meteo.com/en/docs>. Here is an example URL:\n",
    "\n",
    "`https://api.open-meteo.com/v1/forecast?latitude=52.52&longitude=13.41&hourly=temperature_2m,precipitation,cloud_cover,visibility,wind_speed_10m`"
   ]
  },
  {
   "cell_type": "code",
   "execution_count": null,
   "metadata": {
    "tags": []
   },
   "outputs": [],
   "source": [
    "# Get changes of of date ranges, starting from start_date.\n",
    "_start_date = start_date\n",
    "_end_date = _start_date + datetime.timedelta(weeks=4)\n",
    "date_ranges = [(start_date, _end_date)]\n",
    "\n",
    "while True:\n",
    "    _start_date = _end_date + datetime.timedelta(days=1)\n",
    "    _end_date = min(_start_date + datetime.timedelta(weeks=4), end_date)\n",
    "    date_ranges.append((_start_date, _end_date))\n",
    "\n",
    "    if _end_date == end_date:\n",
    "        break\n",
    "\n",
    "date_ranges"
   ]
  },
  {
   "cell_type": "code",
   "execution_count": null,
   "metadata": {
    "tags": []
   },
   "outputs": [],
   "source": [
    "%%time\n",
    "\n",
    "import time\n",
    "from typing import TypedDict\n",
    "\n",
    "base_url = \"https://archive-api.open-meteo.com/v1/\"\n",
    "\n",
    "\n",
    "class WeatherParams(TypedDict):\n",
    "    hourly: list[str]\n",
    "    latitude: float\n",
    "    longitude: float\n",
    "    start_date: datetime.date\n",
    "    end_date: datetime.date\n",
    "\n",
    "\n",
    "json_data = []\n",
    "\n",
    "with httpx.Client(base_url=base_url, transport=cache_transport) as client:\n",
    "    for i in (\n",
    "        terminal_locations_raw.select(\"Latitude\", \"Longitude\", \"TerminalName\")\n",
    "        .to_pandas()\n",
    "        .to_dict(orient=\"records\")\n",
    "    ):\n",
    "        for date_range in date_ranges:\n",
    "            params: WeatherParams = {\n",
    "                \"hourly\": [\n",
    "                    \"weather_code\",\n",
    "                    \"temperature_2m\",\n",
    "                    \"precipitation\",\n",
    "                    \"cloud_cover\",\n",
    "                    \"wind_speed_10m\",\n",
    "                    \"wind_direction_10m\",\n",
    "                    \"wind_gusts_10m\",\n",
    "                ],\n",
    "                \"start_date\": date_range[0],\n",
    "                \"end_date\": date_range[1],\n",
    "                \"latitude\": round(i[\"Latitude\"], 2),\n",
    "                \"longitude\": round(i[\"Longitude\"], 2),\n",
    "            }\n",
    "\n",
    "            print(\n",
    "                f'Getting records for: {i[\"TerminalName\"]} <> {params[\"latitude\"]}, {params[\"longitude\"]} <> {params[\"start_date\"]} to {params[\"end_date\"]}...'\n",
    "            )\n",
    "\n",
    "            response = client.get(\"/archive\", params=params)\n",
    "\n",
    "            try:\n",
    "                print(f\"\\t{response}\")\n",
    "                print(f\"\\tFrom cache: {response.extensions['from_cache']}\")\n",
    "                response.raise_for_status()\n",
    "                _json_data = response.json()\n",
    "                _json_data[\"terminal_name\"] = i[\"TerminalName\"]\n",
    "                json_data.append(_json_data)\n",
    "\n",
    "            except httpx.HTTPStatusError as exc:\n",
    "                if response.status_code == 429:\n",
    "                    print(\"\\tRate limit exceeded. Waiting 60 seconds...\")\n",
    "                    time.sleep(60)\n",
    "                    response = client.get(\"/forecast\", params=params)\n",
    "                    print(f\"\\t{response}\")\n",
    "                    print(f\"\\tFrom cache: {response.extensions['from_cache']}\")\n",
    "                    response.raise_for_status()\n",
    "                    _json_data = response.json()\n",
    "                    _json_data[\"terminal_name\"] = i[\"TerminalName\"]\n",
    "                    json_data.append(_json_data)\n",
    "                else:\n",
    "                    raise exc"
   ]
  },
  {
   "cell_type": "code",
   "execution_count": null,
   "metadata": {
    "tags": []
   },
   "outputs": [],
   "source": [
    "terminal_weather = (\n",
    "    pl.DataFrame(json_data)\n",
    "    .unnest(\"hourly\")\n",
    "    .explode(\n",
    "        \"time\",\n",
    "        \"weather_code\",\n",
    "        \"temperature_2m\",\n",
    "        \"precipitation\",\n",
    "        \"cloud_cover\",\n",
    "        \"wind_speed_10m\",\n",
    "        \"wind_direction_10m\",\n",
    "        \"wind_gusts_10m\",\n",
    "    )\n",
    ")\n",
    "\n",
    "terminal_weather"
   ]
  },
  {
   "cell_type": "markdown",
   "metadata": {},
   "source": [
    "Drop the hourly_units field, they may not write to the database correctly and we do not need it."
   ]
  },
  {
   "cell_type": "code",
   "execution_count": null,
   "metadata": {
    "tags": []
   },
   "outputs": [],
   "source": [
    "terminal_weather = terminal_weather.select(\n",
    "    pl.col(\"*\").exclude(\"hourly_units\")\n",
    ")\n",
    "\n",
    "terminal_weather.head()"
   ]
  },
  {
   "cell_type": "code",
   "execution_count": null,
   "metadata": {
    "tags": []
   },
   "outputs": [],
   "source": [
    "# Write to the database\n",
    "terminal_weather.write_database(\n",
    "    table_name=\"terminal_weather_raw\",\n",
    "    connection=uri,\n",
    "    engine=\"adbc\",\n",
    "    if_table_exists='replace'\n",
    ")"
   ]
  },
  {
   "cell_type": "markdown",
   "metadata": {},
   "source": [
    "## Task 4 - Publish the solution notebook to Connect"
   ]
  },
  {
   "cell_type": "markdown",
   "metadata": {},
   "source": [
    "### 🔄 Task"
   ]
  },
  {
   "cell_type": "markdown",
   "metadata": {},
   "source": [
    "- Publish the solution notebook to Posit Connect.\n",
    "- Share the notebook with the rest of the workshop.\n",
    "- Schedule the notebook to run once every week."
   ]
  },
  {
   "cell_type": "markdown",
   "metadata": {},
   "source": [
    "### 🧑‍💻 Code"
   ]
  },
  {
   "cell_type": "markdown",
   "metadata": {},
   "source": [
    "Run the following to deploy the notebook to Connect:\n",
    "\n",
    "```bash\n",
    "# Check that you have the required environment variables set\n",
    "echo $DATABASE_URI_PYTHON\n",
    "echo $WSDOT_ACCESS_CODE\n",
    "\n",
    "# Publish the notebook\n",
    "rsconnect deploy notebook --title \"Seattle Ferries #1 - Raw data\" -E DATABASE_URI_PYTHON -E WSDOT_ACCESS_CODE notebook.ipynb\n",
    "```\n",
    "\n",
    "After the deployment is successful:\n",
    "\n",
    "- Share the notebook with the person beside you.\n",
    "- Schedule the notebook to run once every week."
   ]
  },
  {
   "cell_type": "code",
   "execution_count": null,
   "metadata": {},
   "outputs": [],
   "source": [
    "print(\"Notebook complete ✅\")"
   ]
  }
 ],
 "metadata": {
  "kernelspec": {
   "display_name": "01-reading-data",
   "language": "python",
   "name": "01-reading-data"
  },
  "language_info": {
   "codemirror_mode": {
    "name": "ipython",
    "version": 3
   },
   "file_extension": ".py",
   "mimetype": "text/x-python",
   "name": "python",
   "nbconvert_exporter": "python",
   "pygments_lexer": "ipython3",
   "version": "3.11.9"
  }
 },
 "nbformat": 4,
 "nbformat_minor": 4
}

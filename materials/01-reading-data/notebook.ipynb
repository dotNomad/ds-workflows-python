{
 "cells": [
  {
   "cell_type": "markdown",
   "metadata": {},
   "source": [
    "# Reading data\n",
    "\n",
    "In this exercise we will cover how to use polars to read data from external data sources. To perform our analysis, we will need several different data sets:\n",
    "\n",
    "1. Vessel Verbose (`/vesselverbose`): <https://www.wsdot.wa.gov/ferries/api/vessels/rest/help>\n",
    "2. Vessel History (`/vesselhistory/{VesselName}/{DateStart}/{DateEnd}`): <https://www.wsdot.wa.gov/ferries/api/vessels/rest/help>\n",
    "\n",
    "All data sets are hosted on <https://wsdot.wa.gov/traffic/api/>."
   ]
  },
  {
   "cell_type": "markdown",
   "metadata": {},
   "source": [
    "## Task 1 - read data"
   ]
  },
  {
   "cell_type": "markdown",
   "metadata": {},
   "source": [
    "### 🔄 Task"
   ]
  },
  {
   "cell_type": "markdown",
   "metadata": {},
   "source": [
    "- Download the **Vessel Verbose** data\n",
    "- Convert the data into a polars dataframe"
   ]
  },
  {
   "cell_type": "markdown",
   "metadata": {},
   "source": [
    "### 🧑‍💻 Code"
   ]
  },
  {
   "cell_type": "markdown",
   "metadata": {},
   "source": [
    "The State of Washington data portal uses makes data available over an API. The API has lots of features, you can read more about how to use it here: <https://wsdot.wa.gov/traffic/api/>.\n",
    "\n",
    "To download the data, many persons first instinct is to download via:\n",
    "\n",
    "- Clicking through your web browser.\n",
    "- Via the curl command in the terminal.\n",
    "\n",
    "```bash\n",
    "WSDOT_ACCESS_CODE='xxxx-xxxx-xxxx-xxxx-xxxx'\n",
    "curl \"https://www.wsdot.wa.gov/Ferries/API/Vessels/rest/vesselverbose?apiaccesscode=${WSDOT_ACCESS_CODE}\"\n",
    "```\n",
    "\n",
    "There is a better way though! Using httpx we can download the data as JSON and then convert it into a Python dictionary. Then we use polars to create a DataFrame directly from the dictionary. First, lets download the data using httpx."
   ]
  },
  {
   "cell_type": "code",
   "execution_count": null,
   "metadata": {},
   "outputs": [],
   "source": [
    "import os\n",
    "from pathlib import Path\n",
    "\n",
    "import httpx\n",
    "from dotenv import load_dotenv\n",
    "\n",
    "base_url = \"https://www.wsdot.wa.gov/Ferries/API/Vessels/rest\"\n",
    "path = \"vesselverbose\"\n",
    "\n",
    "# Get the API key from an environment variable.\n",
    "if Path(\".env\").exists():\n",
    "    load_dotenv()\n",
    "\n",
    "# Define our params in a dictionary.\n",
    "params = {\"apiaccesscode\": os.environ[\"WSDOT_ACCESS_CODE\"]}\n",
    "\n",
    "with httpx.Client(base_url=base_url, params=params) as client:\n",
    "    response = client.get(path)\n",
    "\n",
    "response"
   ]
  },
  {
   "cell_type": "markdown",
   "metadata": {},
   "source": [
    "The `Response` object from httpx has several methods and attributes we can use to get more info about the request, and the response."
   ]
  },
  {
   "cell_type": "code",
   "execution_count": null,
   "metadata": {},
   "outputs": [],
   "source": [
    "# The URL that was used to make the request.\n",
    "response.url"
   ]
  },
  {
   "cell_type": "code",
   "execution_count": null,
   "metadata": {},
   "outputs": [],
   "source": [
    "# The status of the response\n",
    "response.status_code"
   ]
  },
  {
   "cell_type": "code",
   "execution_count": null,
   "metadata": {},
   "outputs": [],
   "source": [
    "# Use the pprint function from rich for nicer formatting of the dictionary data.\n",
    "from rich.pretty import pprint\n",
    "\n",
    "# The JSON data converted into a Python dictionary\n",
    "print(f\"{len(response.json())=}\")\n",
    "pprint(response.json()[0])"
   ]
  },
  {
   "cell_type": "markdown",
   "metadata": {},
   "source": [
    "Lastly, we can use polars to convert the dictionary into a DataFrame.\n"
   ]
  },
  {
   "cell_type": "code",
   "execution_count": null,
   "metadata": {},
   "outputs": [],
   "source": [
    "import polars as pl\n",
    "\n",
    "vessel_verbose_raw = pl.DataFrame(response.json())\n",
    "vessel_verbose_raw"
   ]
  },
  {
   "cell_type": "markdown",
   "metadata": {},
   "source": [
    "## Task 2 - write data to pin"
   ]
  },
  {
   "cell_type": "markdown",
   "metadata": {},
   "source": [
    "### 🔄 Task"
   ]
  },
  {
   "cell_type": "markdown",
   "metadata": {},
   "source": [
    "- Save `vessel_verbose_raw` to a Pin on Posit Connect.\n",
    "- This way, we do not need to hit the API every time we need to interact with the raw data."
   ]
  },
  {
   "cell_type": "markdown",
   "metadata": {},
   "source": [
    "### 🧑‍💻 Code"
   ]
  },
  {
   "cell_type": "code",
   "execution_count": null,
   "metadata": {},
   "outputs": [],
   "source": [
    "import pins\n",
    "\n",
    "# Get the API key and server URL from an environment variable.\n",
    "if Path(\".env\").exists():\n",
    "    load_dotenv()\n",
    "\n",
    "connect_server = os.environ[\"CONNECT_SERVER_\"]\n",
    "connect_api_key = os.environ[\"CONNECT_API_KEY\"]\n",
    "\n",
    "board = pins.board_connect(\n",
    "    server_url=connect_server,\n",
    "    api_key=connect_api_key\n",
    ")\n",
    "\n",
    "board\n"
   ]
  },
  {
   "cell_type": "code",
   "execution_count": null,
   "metadata": {},
   "outputs": [],
   "source": [
    "# Update the username with your Posit Connect username.\n",
    "username = \"sam.edwardes\"\n",
    "\n",
    "# Upload the data to Connect. At this time Pins only has support for Pandas, so\n",
    "# we need to convert the Polars DataFrame to a Pandas DataFrame.\n",
    "board.pin_write(\n",
    "    vessel_verbose_raw.to_pandas(),\n",
    "    f\"{username}/vessel_verbose_raw\",\n",
    "    type=\"parquet\"\n",
    ")"
   ]
  },
  {
   "cell_type": "markdown",
   "metadata": {},
   "source": [
    "To reuse this data in future code we can use `board.pin_download` or `board.pin_read`."
   ]
  },
  {
   "cell_type": "code",
   "execution_count": null,
   "metadata": {},
   "outputs": [],
   "source": [
    "paths = board.pin_download(f\"{username}/vessel_verbose_raw\")\n",
    "paths"
   ]
  },
  {
   "cell_type": "code",
   "execution_count": null,
   "metadata": {},
   "outputs": [],
   "source": [
    "pl.read_parquet(paths)"
   ]
  },
  {
   "cell_type": "markdown",
   "metadata": {},
   "source": [
    "## Task 3 - Get Other Data Sets"
   ]
  },
  {
   "cell_type": "markdown",
   "metadata": {},
   "source": [
    "### 🔄 Task"
   ]
  },
  {
   "cell_type": "markdown",
   "metadata": {},
   "source": [
    "- Get the other required datasets."
   ]
  },
  {
   "cell_type": "markdown",
   "metadata": {},
   "source": [
    "### 🧑‍💻 Code"
   ]
  },
  {
   "cell_type": "code",
   "execution_count": null,
   "metadata": {},
   "outputs": [],
   "source": [
    "import datetime\n",
    "\n",
    "base_url = \"https://www.wsdot.wa.gov/Ferries/API/Vessels/rest\"\n",
    "params = {\"apiaccesscode\": os.environ[\"WSDOT_ACCESS_CODE\"]}\n",
    "\n",
    "# Get all of the vessel names\n",
    "with httpx.Client(base_url=base_url, params=params) as client:\n",
    "    response = client.get(\"vesselverbose\")\n",
    "\n",
    "vessel_names = [i['VesselName'] for i in response.json()]\n",
    "\n",
    "# For each vessel, get all of the history from the desired date range\n",
    "start_date = datetime.date(2024, 5, 1)\n",
    "end_date = datetime.date.today()\n",
    "\n",
    "vessel_history_json = []\n",
    "for vessel_name in vessel_names:\n",
    "    print(f\"Getting vessel history for {vessel_name}...\")\n",
    "    with httpx.Client(base_url=base_url, params=params) as client:\n",
    "        response = client.get(f\"vesselhistory/{vessel_name}/{start_date}/{end_date}\")\n",
    "    print(f\"\\t{len(response.json())} records retrieved for {vessel_name}.\")\n",
    "    vessel_history_json += response.json()"
   ]
  },
  {
   "cell_type": "code",
   "execution_count": null,
   "metadata": {},
   "outputs": [],
   "source": [
    "vessel_history_raw = pl.DataFrame(vessel_history_json)\n",
    "vessel_history_raw"
   ]
  },
  {
   "cell_type": "code",
   "execution_count": null,
   "metadata": {},
   "outputs": [],
   "source": [
    "board.pin_write(\n",
    "    vessel_history_raw.to_pandas(),\n",
    "    f\"{username}/vessel_history_raw\",\n",
    "    type=\"parquet\"\n",
    ")"
   ]
  },
  {
   "cell_type": "markdown",
   "metadata": {},
   "source": [
    "## Task 4 - Publish the solution notebook to Connect"
   ]
  },
  {
   "cell_type": "markdown",
   "metadata": {},
   "source": [
    "### 🔄 Task"
   ]
  },
  {
   "cell_type": "markdown",
   "metadata": {},
   "source": [
    "- Publish the solution notebook to Posit Connect.\n",
    "- Share the notebook with the rest of the workshop.\n",
    "- Schedule the notebook to run once every week."
   ]
  },
  {
   "cell_type": "markdown",
   "metadata": {},
   "source": [
    "### 🧑‍💻 Code"
   ]
  },
  {
   "cell_type": "markdown",
   "metadata": {},
   "source": []
  }
 ],
 "metadata": {
  "kernelspec": {
   "display_name": ".venv",
   "language": "python",
   "name": "python3"
  },
  "language_info": {
   "codemirror_mode": {
    "name": "ipython",
    "version": 3
   },
   "file_extension": ".py",
   "mimetype": "text/x-python",
   "name": "python",
   "nbconvert_exporter": "python",
   "pygments_lexer": "ipython3",
   "version": "3.12.2"
  }
 },
 "nbformat": 4,
 "nbformat_minor": 2
}

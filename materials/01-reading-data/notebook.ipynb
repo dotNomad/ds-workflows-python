{
 "cells": [
  {
   "cell_type": "markdown",
   "metadata": {},
   "source": [
    "# Reading data\n",
    "\n",
    "In this exercise we will cover how to use polars to read data from external data sources. To perform our analysis, we will need several different data sets:\n",
    "\n",
    "1. Vessel Verbose (`/Ferries/API/Vessels/rest/vesselverbose`): <https://www.wsdot.wa.gov/ferries/api/vessels/rest/help>\n",
    "2. Vessel History (`/Ferries/API/Vessels/rest/vesselhistory/{VesselName}/{DateStart}/{DateEnd}`): <https://www.wsdot.wa.gov/ferries/api/vessels/rest/help>\n",
    "3. Terminal Location (`/Ferries/API/terminals/rest/terminallocations`) <https://www.wsdot.wa.gov/Ferries/API/terminals/rest/help>\n",
    "4. Weather\n",
    "\n",
    "All data sets are hosted on <https://wsdot.wa.gov/traffic/api/>."
   ]
  },
  {
   "cell_type": "markdown",
   "metadata": {},
   "source": [
    "## Task 1 - read data"
   ]
  },
  {
   "cell_type": "markdown",
   "metadata": {},
   "source": [
    "### 🔄 Task"
   ]
  },
  {
   "cell_type": "markdown",
   "metadata": {},
   "source": [
    "- Download the **Vessel Verbose** data\n",
    "- Convert the data into a polars dataframe"
   ]
  },
  {
   "cell_type": "markdown",
   "metadata": {},
   "source": [
    "### 🧑‍💻 Code"
   ]
  },
  {
   "cell_type": "markdown",
   "metadata": {},
   "source": [
    "The State of Washington data portal uses makes data available over an API. The API has lots of features, you can read more about how to use it here: <https://wsdot.wa.gov/traffic/api/>.\n",
    "\n",
    "To download the data, many persons first instinct is to download via:\n",
    "\n",
    "- Clicking through your web browser.\n",
    "- Via the curl command in the terminal.\n",
    "\n",
    "```bash\n",
    "WSDOT_ACCESS_CODE='xxxx-xxxx-xxxx-xxxx-xxxx'\n",
    "curl \"https://www.wsdot.wa.gov/Ferries/API/Vessels/rest/vesselverbose?apiaccesscode=${WSDOT_ACCESS_CODE}\"\n",
    "```\n",
    "\n",
    "There is a better way though! Using httpx we can download the data as JSON and then convert it into a Python dictionary. Then we use polars to create a DataFrame directly from the dictionary. First, lets download the data using httpx."
   ]
  },
  {
   "cell_type": "code",
   "execution_count": null,
   "metadata": {},
   "outputs": [],
   "source": [
    "import os\n",
    "from pathlib import Path\n",
    "\n",
    "import httpx\n",
    "from dotenv import load_dotenv"
   ]
  },
  {
   "cell_type": "code",
   "execution_count": null,
   "metadata": {},
   "outputs": [],
   "source": [
    "base_url = \"https://www.wsdot.wa.gov/Ferries/API/Vessels/rest\"\n",
    "path = \"vesselverbose\""
   ]
  },
  {
   "cell_type": "code",
   "execution_count": null,
   "metadata": {},
   "outputs": [],
   "source": [
    "# Get the API key from an environment variable.\n",
    "if Path(\".env\").exists():\n",
    "    load_dotenv()\n",
    "\n",
    "ws_dot_access_code = os.environ[\"WSDOT_ACCESS_CODE\"]"
   ]
  },
  {
   "cell_type": "code",
   "execution_count": null,
   "metadata": {},
   "outputs": [],
   "source": [
    "# Define our params in a dictionary.\n",
    "params = {\"apiaccesscode\": ws_dot_access_code}\n",
    "\n",
    "with httpx.Client(base_url=base_url, params=params) as client:\n",
    "    response = client.get(path)\n",
    "\n",
    "response"
   ]
  },
  {
   "cell_type": "markdown",
   "metadata": {},
   "source": [
    "The `Response` object from httpx has several methods and attributes we can use to get more info about the request, and the response."
   ]
  },
  {
   "cell_type": "code",
   "execution_count": null,
   "metadata": {},
   "outputs": [],
   "source": [
    "# The URL that was used to make the request.\n",
    "response.url"
   ]
  },
  {
   "cell_type": "code",
   "execution_count": null,
   "metadata": {},
   "outputs": [],
   "source": [
    "# The status of the response\n",
    "response.status_code"
   ]
  },
  {
   "cell_type": "code",
   "execution_count": null,
   "metadata": {},
   "outputs": [],
   "source": [
    "# Convert the response from JSON to a dictionary.\n",
    "response.json()"
   ]
  },
  {
   "cell_type": "code",
   "execution_count": null,
   "metadata": {},
   "outputs": [],
   "source": [
    "# Check how many records are in the response.\n",
    "len(response.json())"
   ]
  },
  {
   "cell_type": "code",
   "execution_count": null,
   "metadata": {},
   "outputs": [],
   "source": [
    "# Use the pprint function from rich for nicer formatting of the dictionary data.\n",
    "from rich.pretty import pprint"
   ]
  },
  {
   "cell_type": "code",
   "execution_count": null,
   "metadata": {},
   "outputs": [],
   "source": [
    "pprint(response.json()[0])"
   ]
  },
  {
   "cell_type": "markdown",
   "metadata": {},
   "source": [
    "Lastly, we can use polars to convert the dictionary into a DataFrame.\n"
   ]
  },
  {
   "cell_type": "code",
   "execution_count": null,
   "metadata": {},
   "outputs": [],
   "source": [
    "import polars as pl"
   ]
  },
  {
   "cell_type": "code",
   "execution_count": null,
   "metadata": {},
   "outputs": [],
   "source": [
    "vessel_verbose_raw = pl.DataFrame(response.json())\n",
    "vessel_verbose_raw"
   ]
  },
  {
   "cell_type": "markdown",
   "metadata": {},
   "source": [
    "## Task 2 - write data to pin"
   ]
  },
  {
   "cell_type": "markdown",
   "metadata": {},
   "source": [
    "### 🔄 Task"
   ]
  },
  {
   "cell_type": "markdown",
   "metadata": {},
   "source": [
    "- Save `vessel_verbose_raw` to a Pin on Posit Connect.\n",
    "- This way, we do not need to hit the API every time we need to interact with the raw data."
   ]
  },
  {
   "cell_type": "markdown",
   "metadata": {},
   "source": [
    "### 🧑‍💻 Code"
   ]
  },
  {
   "cell_type": "code",
   "execution_count": null,
   "metadata": {},
   "outputs": [],
   "source": [
    "import pins"
   ]
  },
  {
   "cell_type": "code",
   "execution_count": null,
   "metadata": {},
   "outputs": [],
   "source": [
    "# Get the API key and server URL from an environment variable.\n",
    "if Path(\".env\").exists():\n",
    "    load_dotenv()\n",
    "\n",
    "connect_server = os.environ[\"CONNECT_SERVER\"]\n",
    "connect_api_key = os.environ[\"CONNECT_API_KEY\"]"
   ]
  },
  {
   "cell_type": "code",
   "execution_count": null,
   "metadata": {},
   "outputs": [],
   "source": [
    "# Set up a pins board.\n",
    "board = pins.board_connect(server_url=connect_server, api_key=connect_api_key)\n",
    "board"
   ]
  },
  {
   "cell_type": "code",
   "execution_count": null,
   "metadata": {},
   "outputs": [],
   "source": [
    "# Update the username with your Posit Connect username.\n",
    "username = \"sam.edwardes\""
   ]
  },
  {
   "cell_type": "markdown",
   "metadata": {},
   "source": [
    "To reuse this data in future code we can use `board.pin_download` or `board.pin_read`."
   ]
  },
  {
   "cell_type": "code",
   "execution_count": null,
   "metadata": {},
   "outputs": [],
   "source": [
    "pl.DataFrame(board.pin_read(f\"{username}/vessel_verbose_raw\"))"
   ]
  },
  {
   "cell_type": "markdown",
   "metadata": {},
   "source": [
    "## Task 3 - Get Other Data Sets"
   ]
  },
  {
   "cell_type": "markdown",
   "metadata": {},
   "source": [
    "### 🔄 Task"
   ]
  },
  {
   "cell_type": "markdown",
   "metadata": {},
   "source": [
    "Get the following additional data sets:\n",
    "\n",
    "- **Vessel History**: the `https://www.wsdot.wa.gov/Ferries/API/Vessels/rest/vesselhistory` endpoint contains historical data about sailings.\n",
    "- **Terminal locations**: the `https://www.wsdot.wa.gov/Ferries/API/terminals/rest/terminallocations` endpoint contains information about ferry terminals locations.\n",
    "- **Weather data**:"
   ]
  },
  {
   "cell_type": "markdown",
   "metadata": {},
   "source": [
    "### 🧑‍💻 Code"
   ]
  },
  {
   "cell_type": "markdown",
   "metadata": {},
   "source": [
    "#### Vessel History"
   ]
  },
  {
   "cell_type": "code",
   "execution_count": null,
   "metadata": {},
   "outputs": [],
   "source": [
    "# Get all of the vessel names\n",
    "base_url = \"https://www.wsdot.wa.gov/Ferries/API/Vessels/rest\"\n",
    "params = {\"apiaccesscode\": os.environ[\"WSDOT_ACCESS_CODE\"]}\n",
    "\n",
    "with httpx.Client(base_url=base_url, params=params) as client:\n",
    "    response = client.get(\"/vesselverbose\")\n",
    "\n",
    "vessel_names = [i[\"VesselName\"] for i in response.json()]\n",
    "vessel_names"
   ]
  },
  {
   "cell_type": "code",
   "execution_count": null,
   "metadata": {},
   "outputs": [],
   "source": [
    "# For each vessel, get all of the history from the desired date range. Define\n",
    "# the start date and end date.\n",
    "import datetime"
   ]
  },
  {
   "cell_type": "code",
   "execution_count": null,
   "metadata": {},
   "outputs": [],
   "source": [
    "# To speed things up, I recommend using a more recent date, for example\n",
    "# try using datetime.date(2024, 3, 1)\n",
    "start_date = datetime.date(2020, 1, 1)\n",
    "start_date"
   ]
  },
  {
   "cell_type": "code",
   "execution_count": null,
   "metadata": {},
   "outputs": [],
   "source": [
    "# Subtract 1 week from today, the Weather API has a 5 day delay.\n",
    "end_date = datetime.date.today() - datetime.timedelta(weeks=1)\n",
    "end_date"
   ]
  },
  {
   "cell_type": "markdown",
   "metadata": {},
   "source": [
    "The vessel history data set is much larger. Instead of httpx, we will use hishel, which has built in easy caching. This is really useful when you are developing, and will prevent you from hitting the API too many times."
   ]
  },
  {
   "cell_type": "code",
   "execution_count": null,
   "metadata": {},
   "outputs": [],
   "source": [
    "import hishel\n",
    "\n",
    "controller = hishel.Controller(allow_heuristics=True)\n",
    "cache_transport = hishel.CacheTransport(\n",
    "    transport=httpx.HTTPTransport(), controller=controller\n",
    ")"
   ]
  },
  {
   "cell_type": "code",
   "execution_count": null,
   "metadata": {},
   "outputs": [],
   "source": [
    "%%time\n",
    "# Get the vessel history for each vessel.\n",
    "vessel_history_json = []\n",
    "\n",
    "for vessel_name in vessel_names:\n",
    "    print(f\"Getting vessel history for {vessel_name}...\")\n",
    "    with httpx.Client(\n",
    "        base_url=base_url, params=params, transport=cache_transport\n",
    "    ) as client:\n",
    "        response = client.get(\n",
    "            f\"/vesselhistory/{vessel_name}/{start_date}/{end_date}\", timeout=30\n",
    "        )\n",
    "        print(f\"\\t{len(response.json()):,} records retrieved for {vessel_name}.\")\n",
    "        print(f\"\\tCache used: {response.extensions['from_cache']}\")\n",
    "\n",
    "    vessel_history_json += response.json()"
   ]
  },
  {
   "cell_type": "code",
   "execution_count": null,
   "metadata": {},
   "outputs": [],
   "source": [
    "# Check how many records were returned.\n",
    "f\"{len(vessel_history_json):,}\""
   ]
  },
  {
   "cell_type": "code",
   "execution_count": null,
   "metadata": {},
   "outputs": [],
   "source": [
    "# Preview the first two records.\n",
    "vessel_history_json[0:2]"
   ]
  },
  {
   "cell_type": "code",
   "execution_count": null,
   "metadata": {},
   "outputs": [],
   "source": [
    "# Convert the data from JSON to a polars DataFrame\n",
    "vessel_history_raw = pl.DataFrame(vessel_history_json)\n",
    "vessel_history_raw"
   ]
  },
  {
   "cell_type": "code",
   "execution_count": null,
   "metadata": {},
   "outputs": [],
   "source": [
    "# Save the data to Connect as a pin.\n",
    "board.pin_write(\n",
    "    vessel_history_raw.to_pandas(), f\"{username}/vessel_history_raw\", type=\"parquet\"\n",
    ")"
   ]
  },
  {
   "cell_type": "markdown",
   "metadata": {},
   "source": [
    "#### Terminal Locations"
   ]
  },
  {
   "cell_type": "code",
   "execution_count": null,
   "metadata": {},
   "outputs": [],
   "source": [
    "# Get all of the terminal location data\n",
    "base_url = \"https://www.wsdot.wa.gov/Ferries/API/terminals/rest\"\n",
    "params = {\"apiaccesscode\": os.environ[\"WSDOT_ACCESS_CODE\"]}\n",
    "\n",
    "with httpx.Client(base_url=base_url, params=params) as client:\n",
    "    response = client.get(\"/terminallocations\")"
   ]
  },
  {
   "cell_type": "code",
   "execution_count": null,
   "metadata": {},
   "outputs": [],
   "source": [
    "# Check how many records were returned.\n",
    "f\"{len(response.json()):,}\""
   ]
  },
  {
   "cell_type": "code",
   "execution_count": null,
   "metadata": {},
   "outputs": [],
   "source": [
    "# Preview the first two records.\n",
    "response.json()[0:2]"
   ]
  },
  {
   "cell_type": "code",
   "execution_count": null,
   "metadata": {},
   "outputs": [],
   "source": [
    "# List all of the terminal names\n",
    "{terminal[\"TerminalName\"]: terminal[\"TerminalAbbrev\"] for terminal in response.json()}"
   ]
  },
  {
   "cell_type": "code",
   "execution_count": null,
   "metadata": {},
   "outputs": [],
   "source": [
    "terminal_locations_raw = pl.DataFrame(response.json())\n",
    "terminal_locations_raw"
   ]
  },
  {
   "cell_type": "code",
   "execution_count": null,
   "metadata": {},
   "outputs": [],
   "source": [
    "# Save the data to Connect as a pin.\n",
    "board.pin_write(\n",
    "    terminal_locations_raw.to_pandas(),\n",
    "    f\"{username}/terminal_locations_raw\",\n",
    "    type=\"parquet\",\n",
    ")"
   ]
  },
  {
   "cell_type": "markdown",
   "metadata": {},
   "source": [
    "#### Terminal Weather\n",
    "\n",
    "Get the weather data from <https://open-meteo.com/en/docs>. Here is an example URL:\n",
    "\n",
    "`https://api.open-meteo.com/v1/forecast?latitude=52.52&longitude=13.41&hourly=temperature_2m,precipitation,cloud_cover,visibility,wind_speed_10m`"
   ]
  },
  {
   "cell_type": "code",
   "execution_count": null,
   "metadata": {},
   "outputs": [],
   "source": [
    "# Get changes of of date ranges, starting from start_date.\n",
    "_start_date = start_date\n",
    "_end_date = _start_date + datetime.timedelta(weeks=4)\n",
    "date_ranges = [(start_date, _end_date)]\n",
    "\n",
    "while True:\n",
    "    _start_date = _end_date + datetime.timedelta(days=1)\n",
    "    _end_date = min(_start_date + datetime.timedelta(weeks=4), end_date)\n",
    "    date_ranges.append((_start_date, _end_date))\n",
    "\n",
    "    if _end_date == end_date:\n",
    "        break\n",
    "\n",
    "date_ranges"
   ]
  },
  {
   "cell_type": "code",
   "execution_count": null,
   "metadata": {},
   "outputs": [],
   "source": [
    "%%time\n",
    "\n",
    "import time\n",
    "from typing import TypedDict\n",
    "\n",
    "base_url = \"https://archive-api.open-meteo.com/v1/\"\n",
    "\n",
    "\n",
    "class WeatherParams(TypedDict):\n",
    "    hourly: list[str]\n",
    "    latitude: float\n",
    "    longitude: float\n",
    "    start_date: datetime.date\n",
    "    end_date: datetime.date\n",
    "\n",
    "\n",
    "json_data = []\n",
    "\n",
    "with httpx.Client(base_url=base_url, transport=cache_transport) as client:\n",
    "    for i in (\n",
    "        terminal_locations_raw.select(\"Latitude\", \"Longitude\", \"TerminalName\")\n",
    "        .to_pandas()\n",
    "        .to_dict(orient=\"records\")\n",
    "    ):\n",
    "        for date_range in date_ranges:\n",
    "            params: WeatherParams = {\n",
    "                \"hourly\": [\n",
    "                    \"weather_code\",\n",
    "                    \"temperature_2m\",\n",
    "                    \"precipitation\",\n",
    "                    \"cloud_cover\",\n",
    "                    \"wind_speed_10m\",\n",
    "                    \"wind_direction_10m\",\n",
    "                    \"wind_gusts_10m\",\n",
    "                ],\n",
    "                \"start_date\": date_range[0],\n",
    "                \"end_date\": date_range[1],\n",
    "                \"latitude\": round(i[\"Latitude\"], 2),\n",
    "                \"longitude\": round(i[\"Longitude\"], 2),\n",
    "            }\n",
    "\n",
    "            print(\n",
    "                f'Getting records for: {i[\"TerminalName\"]} <> {params[\"latitude\"]}, {params[\"longitude\"]} <> {params[\"start_date\"]} to {params[\"end_date\"]}...'\n",
    "            )\n",
    "\n",
    "            response = client.get(\"/archive\", params=params)\n",
    "\n",
    "            try:\n",
    "                print(f\"\\t{response}\")\n",
    "                print(f\"\\tFrom cache: {response.extensions['from_cache']}\")\n",
    "                response.raise_for_status()\n",
    "                _json_data = response.json()\n",
    "                _json_data[\"terminal_name\"] = i[\"TerminalName\"]\n",
    "                json_data.append(_json_data)\n",
    "\n",
    "            except httpx.HTTPStatusError as exc:\n",
    "                if response.status_code == 429:\n",
    "                    print(\"\\tRate limit exceeded. Waiting 60 seconds...\")\n",
    "                    time.sleep(60)\n",
    "                    response = client.get(\"/forecast\", params=params)\n",
    "                    print(f\"\\t{response}\")\n",
    "                    print(f\"\\tFrom cache: {response.extensions['from_cache']}\")\n",
    "                    response.raise_for_status()\n",
    "                    _json_data = response.json()\n",
    "                    _json_data[\"terminal_name\"] = i[\"TerminalName\"]\n",
    "                    json_data.append(_json_data)\n",
    "                else:\n",
    "                    raise exc"
   ]
  },
  {
   "cell_type": "code",
   "execution_count": null,
   "metadata": {},
   "outputs": [],
   "source": [
    "terminal_weather = (\n",
    "    pl.DataFrame(json_data)\n",
    "    .unnest(\"hourly\")\n",
    "    .explode(\n",
    "        \"time\",\n",
    "        \"weather_code\",\n",
    "        \"temperature_2m\",\n",
    "        \"precipitation\",\n",
    "        \"cloud_cover\",\n",
    "        \"wind_speed_10m\",\n",
    "        \"wind_direction_10m\",\n",
    "        \"wind_gusts_10m\",\n",
    "    )\n",
    ")\n",
    "\n",
    "terminal_weather"
   ]
  },
  {
   "cell_type": "code",
   "execution_count": null,
   "metadata": {},
   "outputs": [],
   "source": [
    "# Save the data to Connect as a pin.\n",
    "board.pin_write(\n",
    "    terminal_weather.to_pandas(),\n",
    "    f\"{username}/terminal_weather_raw\",\n",
    "    type=\"parquet\",\n",
    ")"
   ]
  },
  {
   "cell_type": "markdown",
   "metadata": {},
   "source": [
    "## Task 4 - Publish the solution notebook to Connect"
   ]
  },
  {
   "cell_type": "markdown",
   "metadata": {},
   "source": [
    "### 🔄 Task"
   ]
  },
  {
   "cell_type": "markdown",
   "metadata": {},
   "source": [
    "- Publish the solution notebook to Posit Connect.\n",
    "- Share the notebook with the rest of the workshop.\n",
    "- Schedule the notebook to run once every week."
   ]
  },
  {
   "cell_type": "markdown",
   "metadata": {},
   "source": [
    "### 🧑‍💻 Code"
   ]
  },
  {
   "cell_type": "markdown",
   "metadata": {},
   "source": [
    "Run the following to deploy the notebook to Connect:\n",
    "\n",
    "```bash\n",
    "# Check that you have the required environment variables set\n",
    "echo $CONNECT_SERVER\n",
    "echo $CONNECT_API_KEY\n",
    "\n",
    "# Publish the notebook\n",
    "rsconnect deploy notebook --title \"Seattle Ferries - Raw data\" notebook.ipynb\n",
    "```\n",
    "\n",
    "After the deployment is successful:\n",
    "\n",
    "- Share the notebook with the person beside you.\n",
    "- Schedule the notebook to run once every week."
   ]
  },
  {
   "cell_type": "code",
   "execution_count": null,
   "metadata": {},
   "outputs": [],
   "source": [
    "print(\"Notebook complete ✅\")"
   ]
  }
 ],
 "metadata": {
  "kernelspec": {
   "display_name": ".venv",
   "language": "python",
   "name": "python3"
  },
  "language_info": {
   "codemirror_mode": {
    "name": "ipython",
    "version": 3
   },
   "file_extension": ".py",
   "mimetype": "text/x-python",
   "name": "python",
   "nbconvert_exporter": "python",
   "pygments_lexer": "ipython3",
   "version": "3.12.2"
  }
 },
 "nbformat": 4,
 "nbformat_minor": 2
}

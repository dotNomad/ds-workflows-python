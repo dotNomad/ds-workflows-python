{
 "cells": [
  {
   "cell_type": "code",
   "execution_count": 1,
   "metadata": {},
   "outputs": [],
   "source": [
    "from pathlib import Path\n",
    "from dotenv import load_dotenv\n",
    "\n",
    "if Path(\".env\").exists():\n",
    "    load_dotenv()\n"
   ]
  },
  {
   "cell_type": "code",
   "execution_count": 3,
   "metadata": {},
   "outputs": [
    {
     "name": "stdout",
     "output_type": "stream",
     "text": [
      "CONNECT_SERVER=https://connect.posit.it\n",
      "CONNECT_API_KEY=****************************STKG\n"
     ]
    }
   ],
   "source": [
    "import os\n",
    "\n",
    "connect_url = os.environ[\"CONNECT_SERVER\"]\n",
    "connect_api_key = os.environ[\"CONNECT_API_KEY\"]\n",
    "\n",
    "print(f\"CONNECT_SERVER={connect_url}\")\n",
    "print(f\"CONNECT_API_KEY={len(connect_api_key[:-4]) * \"*\" + connect_api_key[-4:]}\")\n"
   ]
  },
  {
   "cell_type": "code",
   "execution_count": 4,
   "metadata": {},
   "outputs": [
    {
     "name": "stdout",
     "output_type": "stream",
     "text": [
      "michael.beigelmacher\n"
     ]
    }
   ],
   "source": [
    "from posit.connect import Client\n",
    "\n",
    "with Client(url=connect_url, api_key=connect_api_key) as client:\n",
    "    username = client.me.username\n",
    "print(username)\n"
   ]
  }
 ],
 "metadata": {
  "kernelspec": {
   "display_name": ".venv",
   "language": "python",
   "name": "python3"
  },
  "language_info": {
   "codemirror_mode": {
    "name": "ipython",
    "version": 3
   },
   "file_extension": ".py",
   "mimetype": "text/x-python",
   "name": "python",
   "nbconvert_exporter": "python",
   "pygments_lexer": "ipython3",
   "version": "3.12.3"
  }
 },
 "nbformat": 4,
 "nbformat_minor": 2
}
